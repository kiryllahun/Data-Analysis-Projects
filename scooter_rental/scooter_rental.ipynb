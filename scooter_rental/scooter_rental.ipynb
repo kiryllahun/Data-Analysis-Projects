{
 "cells": [
  {
   "cell_type": "markdown",
   "id": "0576eafd",
   "metadata": {},
   "source": [
    "# Проект: Статистический анализ данных\n",
    "\n",
    "Чтобы совершать поездки по городу, пользователи сервиса GoFast пользуются мобильным приложением. Сервисом можно пользоваться:\n",
    "* без подписки\n",
    "абонентская плата отсутствует;\n",
    "стоимость одной минуты поездки — 8 рублей;\n",
    "стоимость старта (начала поездки) — 50 рублей;\n",
    "\n",
    "* с подпиской Ultra\n",
    "абонентская плата — 199 рублей в месяц;\n",
    "стоимость одной минуты поездки — 6 рублей;\n",
    "стоимость старта — бесплатно.\n",
    "\n",
    "Описание данных\n",
    "В основных данных есть информация о пользователях, их поездках и подписках.\n",
    "Пользователи — users_go.csv\n",
    "Поездки — rides_go.csv\n",
    "Подписки — subscriptions_go.csv\n",
    "\n",
    "План работы:\n",
    "* 1.Загрузка данных\n",
    "* 2.Предобработка данных\n",
    "* 3.Исследовательский анализ данных\n",
    "* 4.Объединение данных\n",
    "* 5.Подсчёт выручки\n",
    "* 6.Проверка гипотез\n",
    "* 7.Распределения"
   ]
  },
  {
   "cell_type": "code",
   "execution_count": 1,
   "id": "72576667",
   "metadata": {},
   "outputs": [],
   "source": [
    "import pandas as pd"
   ]
  },
  {
   "cell_type": "markdown",
   "id": "c42cbe00",
   "metadata": {},
   "source": [
    "#### Шаг 1. Загрузка данных"
   ]
  },
  {
   "cell_type": "code",
   "execution_count": 2,
   "id": "eff9f206",
   "metadata": {},
   "outputs": [
    {
     "name": "stdout",
     "output_type": "stream",
     "text": [
      "   user_id        name  age            city subscription_type\n",
      "0        1        Кира   22          Тюмень             ultra\n",
      "1        2   Станислав   31            Омск             ultra\n",
      "2        3     Алексей   20          Москва             ultra\n",
      "3        4  Константин   26  Ростов-на-Дону             ultra\n",
      "4        5       Адель   28            Омск             ultra\n",
      "   user_id     distance   duration        date\n",
      "0        1  4409.919140  25.599769  2021-01-01\n",
      "1        1  2617.592153  15.816871  2021-01-18\n",
      "2        1   754.159807   6.232113  2021-04-20\n",
      "3        1  2694.783254  18.511000  2021-08-11\n",
      "4        1  4028.687306  26.265803  2021-08-28\n",
      "  subscription_type  minute_price  start_ride_price  subscription_fee\n",
      "0              free             8                50                 0\n",
      "1             ultra             6                 0               199\n"
     ]
    }
   ],
   "source": [
    "users = pd.read_csv('/datasets/users_go.csv')\n",
    "rides = pd.read_csv('/datasets/rides_go.csv')\n",
    "subscriptions = pd.read_csv('/datasets/subscriptions_go.csv')\n",
    "print(users.head())\n",
    "print(rides.head())\n",
    "print(subscriptions.head())"
   ]
  },
  {
   "cell_type": "code",
   "execution_count": 3,
   "id": "bbf2ca2a",
   "metadata": {},
   "outputs": [
    {
     "name": "stdout",
     "output_type": "stream",
     "text": [
      "<class 'pandas.core.frame.DataFrame'>\n",
      "RangeIndex: 1565 entries, 0 to 1564\n",
      "Data columns (total 5 columns):\n",
      " #   Column             Non-Null Count  Dtype \n",
      "---  ------             --------------  ----- \n",
      " 0   user_id            1565 non-null   int64 \n",
      " 1   name               1565 non-null   object\n",
      " 2   age                1565 non-null   int64 \n",
      " 3   city               1565 non-null   object\n",
      " 4   subscription_type  1565 non-null   object\n",
      "dtypes: int64(2), object(3)\n",
      "memory usage: 61.3+ KB\n"
     ]
    }
   ],
   "source": [
    "users.info()"
   ]
  },
  {
   "cell_type": "code",
   "execution_count": 4,
   "id": "d6ba172d",
   "metadata": {},
   "outputs": [
    {
     "name": "stdout",
     "output_type": "stream",
     "text": [
      "<class 'pandas.core.frame.DataFrame'>\n",
      "RangeIndex: 18068 entries, 0 to 18067\n",
      "Data columns (total 4 columns):\n",
      " #   Column    Non-Null Count  Dtype  \n",
      "---  ------    --------------  -----  \n",
      " 0   user_id   18068 non-null  int64  \n",
      " 1   distance  18068 non-null  float64\n",
      " 2   duration  18068 non-null  float64\n",
      " 3   date      18068 non-null  object \n",
      "dtypes: float64(2), int64(1), object(1)\n",
      "memory usage: 564.8+ KB\n"
     ]
    }
   ],
   "source": [
    "rides.info()"
   ]
  },
  {
   "cell_type": "code",
   "execution_count": 5,
   "id": "11085420",
   "metadata": {},
   "outputs": [
    {
     "name": "stdout",
     "output_type": "stream",
     "text": [
      "<class 'pandas.core.frame.DataFrame'>\n",
      "RangeIndex: 2 entries, 0 to 1\n",
      "Data columns (total 4 columns):\n",
      " #   Column             Non-Null Count  Dtype \n",
      "---  ------             --------------  ----- \n",
      " 0   subscription_type  2 non-null      object\n",
      " 1   minute_price       2 non-null      int64 \n",
      " 2   start_ride_price   2 non-null      int64 \n",
      " 3   subscription_fee   2 non-null      int64 \n",
      "dtypes: int64(3), object(1)\n",
      "memory usage: 192.0+ bytes\n"
     ]
    }
   ],
   "source": [
    "subscriptions.info()"
   ]
  },
  {
   "cell_type": "markdown",
   "id": "72c70ac2",
   "metadata": {},
   "source": [
    "# Вывод 1\n",
    "Данные загружены и проверены типы данных. Столбец датафрейма поездки \"дата\" требует перевода из типа object в тип date,для последующей работы."
   ]
  },
  {
   "cell_type": "markdown",
   "id": "e95ebca7",
   "metadata": {},
   "source": [
    "#### Шаг 2. Предобработка данных"
   ]
  },
  {
   "cell_type": "code",
   "execution_count": 6,
   "id": "af6d202c",
   "metadata": {},
   "outputs": [],
   "source": [
    "rides['date'] = pd.to_datetime(rides['date'], format='%Y-%m-%d')"
   ]
  },
  {
   "cell_type": "code",
   "execution_count": 7,
   "id": "044fcba8",
   "metadata": {},
   "outputs": [],
   "source": [
    "rides['month'] = pd.DatetimeIndex(rides['date']).month"
   ]
  },
  {
   "cell_type": "code",
   "execution_count": 8,
   "id": "d1593f3e",
   "metadata": {},
   "outputs": [
    {
     "data": {
      "text/plain": [
       "31"
      ]
     },
     "execution_count": 8,
     "metadata": {},
     "output_type": "execute_result"
    }
   ],
   "source": [
    "users.duplicated().sum()"
   ]
  },
  {
   "cell_type": "code",
   "execution_count": 9,
   "id": "1256aedd",
   "metadata": {},
   "outputs": [
    {
     "name": "stdout",
     "output_type": "stream",
     "text": [
      "user_id  name       age  city            subscription_type\n",
      "209      Андрей     23   Омск            ultra                2\n",
      "807      Александр  28   Екатеринбург    free                 2\n",
      "611      Владимир   28   Омск            ultra                2\n",
      "43       Стефания   22   Омск            ultra                2\n",
      "737      Мелания    27   Ростов-на-Дону  free                 2\n",
      "                                                             ..\n",
      "520      Анжелика   30   Екатеринбург    ultra                1\n",
      "519      Даниэль    22   Ростов-на-Дону  ultra                1\n",
      "518      Алиса      22   Ростов-на-Дону  ultra                1\n",
      "517      Олег       25   Краснодар       ultra                1\n",
      "1534     Альберт    25   Краснодар       free                 1\n",
      "Length: 1534, dtype: int64\n"
     ]
    }
   ],
   "source": [
    "print(users.value_counts())"
   ]
  },
  {
   "cell_type": "code",
   "execution_count": 10,
   "id": "6f4e82bc",
   "metadata": {},
   "outputs": [],
   "source": [
    "users = users.drop_duplicates(subset=['user_id'], keep='first')"
   ]
  },
  {
   "cell_type": "code",
   "execution_count": 11,
   "id": "f0f4bf27",
   "metadata": {},
   "outputs": [
    {
     "data": {
      "text/plain": [
       "0"
      ]
     },
     "execution_count": 11,
     "metadata": {},
     "output_type": "execute_result"
    }
   ],
   "source": [
    "users.duplicated().sum()"
   ]
  },
  {
   "cell_type": "code",
   "execution_count": 12,
   "id": "fd40bf56",
   "metadata": {},
   "outputs": [
    {
     "data": {
      "text/plain": [
       "0"
      ]
     },
     "execution_count": 12,
     "metadata": {},
     "output_type": "execute_result"
    }
   ],
   "source": [
    "rides.duplicated().sum()"
   ]
  },
  {
   "cell_type": "code",
   "execution_count": 13,
   "id": "41eb2d08",
   "metadata": {},
   "outputs": [
    {
     "data": {
      "text/plain": [
       "0"
      ]
     },
     "execution_count": 13,
     "metadata": {},
     "output_type": "execute_result"
    }
   ],
   "source": [
    "subscriptions.duplicated().sum()"
   ]
  },
  {
   "cell_type": "code",
   "execution_count": 14,
   "id": "bae77dd0",
   "metadata": {},
   "outputs": [
    {
     "data": {
      "text/plain": [
       "user_id              0\n",
       "name                 0\n",
       "age                  0\n",
       "city                 0\n",
       "subscription_type    0\n",
       "dtype: int64"
      ]
     },
     "execution_count": 14,
     "metadata": {},
     "output_type": "execute_result"
    }
   ],
   "source": [
    "users.isnull().sum().sort_values()"
   ]
  },
  {
   "cell_type": "code",
   "execution_count": 15,
   "id": "376c59ea",
   "metadata": {},
   "outputs": [
    {
     "data": {
      "text/plain": [
       "user_id     0\n",
       "distance    0\n",
       "duration    0\n",
       "date        0\n",
       "month       0\n",
       "dtype: int64"
      ]
     },
     "execution_count": 15,
     "metadata": {},
     "output_type": "execute_result"
    }
   ],
   "source": [
    "rides.isnull().sum().sort_values()"
   ]
  },
  {
   "cell_type": "code",
   "execution_count": 16,
   "id": "cd3bac2f",
   "metadata": {},
   "outputs": [
    {
     "data": {
      "text/plain": [
       "subscription_type    0\n",
       "minute_price         0\n",
       "start_ride_price     0\n",
       "subscription_fee     0\n",
       "dtype: int64"
      ]
     },
     "execution_count": 16,
     "metadata": {},
     "output_type": "execute_result"
    }
   ],
   "source": [
    "subscriptions.isnull().sum().sort_values()"
   ]
  },
  {
   "cell_type": "markdown",
   "id": "123ff631",
   "metadata": {},
   "source": [
    "# Вывод 2\n",
    "* Пропущенных значений в данных нет.\n",
    "* Явные дубликаты в датафрейме пользователей удалены."
   ]
  },
  {
   "cell_type": "markdown",
   "id": "212593c7",
   "metadata": {},
   "source": [
    "#### Шаг 3. Исследовательский анализ данных"
   ]
  },
  {
   "cell_type": "code",
   "execution_count": 17,
   "id": "c24024c6",
   "metadata": {},
   "outputs": [],
   "source": [
    "import matplotlib.pyplot as plt"
   ]
  },
  {
   "cell_type": "code",
   "execution_count": 54,
   "id": "4154c911",
   "metadata": {},
   "outputs": [
    {
     "name": "stdout",
     "output_type": "stream",
     "text": [
      "count          1534\n",
      "unique            8\n",
      "top       Пятигорск\n",
      "freq            219\n",
      "Name: city, dtype: object\n"
     ]
    },
    {
     "data": {
      "text/plain": [
       "Пятигорск         219\n",
       "Екатеринбург      204\n",
       "Ростов-на-Дону    198\n",
       "Краснодар         193\n",
       "Сочи              189\n",
       "Омск              183\n",
       "Тюмень            180\n",
       "Москва            168\n",
       "Name: city, dtype: int64"
      ]
     },
     "execution_count": 54,
     "metadata": {},
     "output_type": "execute_result"
    },
    {
     "data": {
      "image/png": "[encoded data removed]",
      "text/plain": [
       "<Figure size 576x576 with 1 Axes>"
      ]
     },
     "metadata": {},
     "output_type": "display_data"
    }
   ],
   "source": [
    "print(users['city'].describe())\n",
    "cities = users['city']\n",
    "users['city'].value_counts().plot(kind = 'pie', \n",
    "                                  y = cities,\n",
    "                                  autopct = '%1.0f%%',\n",
    "                                  figsize=(8,8), \n",
    "                                  title = 'Процент пользователей по городам')\n",
    "users['city'].value_counts()"
   ]
  },
  {
   "cell_type": "code",
   "execution_count": 61,
   "id": "d84cca10",
   "metadata": {},
   "outputs": [
    {
     "name": "stdout",
     "output_type": "stream",
     "text": [
      "count     1534\n",
      "unique       2\n",
      "top       free\n",
      "freq       835\n",
      "Name: subscription_type, dtype: object\n"
     ]
    },
    {
     "data": {
      "text/plain": [
       "Text(0.5, 0.98, 'Тип подписки')"
      ]
     },
     "execution_count": 61,
     "metadata": {},
     "output_type": "execute_result"
    },
    {
     "data": {
      "image/png": "[encoded data removed]",
      "text/plain": [
       "<Figure size 432x288 with 1 Axes>"
      ]
     },
     "metadata": {
      "needs_background": "light"
     },
     "output_type": "display_data"
    }
   ],
   "source": [
    "print(users['subscription_type'].describe())\n",
    "users['subscription_type'].hist(bins=2)\n",
    "plt.suptitle('Тип подписки')"
   ]
  },
  {
   "cell_type": "code",
   "execution_count": 63,
   "id": "bde21303",
   "metadata": {},
   "outputs": [
    {
     "name": "stdout",
     "output_type": "stream",
     "text": [
      "count    1534.000000\n",
      "mean       24.903520\n",
      "std         4.572367\n",
      "min        12.000000\n",
      "25%        22.000000\n",
      "50%        25.000000\n",
      "75%        28.000000\n",
      "max        43.000000\n",
      "Name: age, dtype: float64\n"
     ]
    },
    {
     "data": {
      "text/plain": [
       "Text(0.5, 0.98, 'Распределение по возрасту')"
      ]
     },
     "execution_count": 63,
     "metadata": {},
     "output_type": "execute_result"
    },
    {
     "data": {
      "image/png": "[encoded data removed]",
      "text/plain": [
       "<Figure size 432x288 with 1 Axes>"
      ]
     },
     "metadata": {
      "needs_background": "light"
     },
     "output_type": "display_data"
    }
   ],
   "source": [
    "print(users['age'].describe())\n",
    "users['age'].hist()\n",
    "plt.suptitle('Распределение по возрасту')"
   ]
  },
  {
   "cell_type": "code",
   "execution_count": 64,
   "id": "9ac73410",
   "metadata": {},
   "outputs": [
    {
     "name": "stdout",
     "output_type": "stream",
     "text": [
      "count    18068.000000\n",
      "mean      3070.659976\n",
      "std       1116.831209\n",
      "min          0.855683\n",
      "25%       2543.226360\n",
      "50%       3133.609994\n",
      "75%       3776.222735\n",
      "max       7211.007745\n",
      "Name: distance, dtype: float64\n"
     ]
    },
    {
     "data": {
      "text/plain": [
       "Text(0.5, 0.98, 'Дистанция поездки')"
      ]
     },
     "execution_count": 64,
     "metadata": {},
     "output_type": "execute_result"
    },
    {
     "data": {
      "image/png": "[encoded data removed]",
      "text/plain": [
       "<Figure size 432x288 with 1 Axes>"
      ]
     },
     "metadata": {
      "needs_background": "light"
     },
     "output_type": "display_data"
    }
   ],
   "source": [
    "print(rides['distance'].describe())\n",
    "rides['distance'].hist(bins=20)\n",
    "plt.suptitle('Дистанция поездки')"
   ]
  },
  {
   "cell_type": "code",
   "execution_count": 65,
   "id": "59d014b0",
   "metadata": {},
   "outputs": [
    {
     "name": "stdout",
     "output_type": "stream",
     "text": [
      "count    18068.000000\n",
      "mean        17.805011\n",
      "std          6.091051\n",
      "min          0.500000\n",
      "25%         13.597563\n",
      "50%         17.678395\n",
      "75%         21.724800\n",
      "max         40.823963\n",
      "Name: duration, dtype: float64\n"
     ]
    },
    {
     "data": {
      "text/plain": [
       "Text(0.5, 0.98, 'Длительность поездок')"
      ]
     },
     "execution_count": 65,
     "metadata": {},
     "output_type": "execute_result"
    },
    {
     "data": {
      "image/png": "[encoded data removed]",
      "text/plain": [
       "<Figure size 432x288 with 1 Axes>"
      ]
     },
     "metadata": {
      "needs_background": "light"
     },
     "output_type": "display_data"
    }
   ],
   "source": [
    "print(rides['duration'].describe())\n",
    "rides['duration'].hist(bins=30)\n",
    "plt.suptitle('Длительность поездок')"
   ]
  },
  {
   "cell_type": "markdown",
   "id": "69d38156",
   "metadata": {},
   "source": [
    "# Вывод 3\n",
    "* Количество пользователей по городам распределно расвномерно с наибольшим количеством в Пятигорске.\n",
    "* Количество пользоватлей без подписки больше пользователей с, и состовляет 835 пользователей ( с подпиской 699).\n",
    "* Основной массив пользоватлей от 20 до 30 лет.\n",
    "* В основном пользователи проезжают 2200-4300 метров.\n",
    "* В основном продолжительность поездки от 8 до 24 минут (преимущественно 13-21). Поездки до минуты могли быть связаны с неисправностью самоката или недостатком средств на карте."
   ]
  },
  {
   "cell_type": "markdown",
   "id": "4ef51331",
   "metadata": {},
   "source": [
    "#### Шаг 4. Объединение данных"
   ]
  },
  {
   "cell_type": "code",
   "execution_count": 23,
   "id": "6bf288b5",
   "metadata": {},
   "outputs": [],
   "source": [
    "users_merge_1 = users.merge(rides, on='user_id', how='left')"
   ]
  },
  {
   "cell_type": "code",
   "execution_count": 58,
   "id": "34f07b2c",
   "metadata": {},
   "outputs": [
    {
     "data": {
      "text/plain": [
       "user_id              0\n",
       "name                 0\n",
       "age                  0\n",
       "city                 0\n",
       "subscription_type    0\n",
       "distance             0\n",
       "duration             0\n",
       "date                 0\n",
       "month                0\n",
       "dtype: int64"
      ]
     },
     "execution_count": 58,
     "metadata": {},
     "output_type": "execute_result"
    }
   ],
   "source": [
    "users_merge_1.isnull().sum().sort_values()"
   ]
  },
  {
   "cell_type": "code",
   "execution_count": 24,
   "id": "dbbf952b",
   "metadata": {},
   "outputs": [],
   "source": [
    "users_merge_2 = users_merge_1.merge(subscriptions, on='subscription_type')"
   ]
  },
  {
   "cell_type": "code",
   "execution_count": 59,
   "id": "a647961c",
   "metadata": {},
   "outputs": [
    {
     "data": {
      "text/plain": [
       "user_id              0\n",
       "name                 0\n",
       "age                  0\n",
       "city                 0\n",
       "subscription_type    0\n",
       "distance             0\n",
       "duration             0\n",
       "date                 0\n",
       "month                0\n",
       "minute_price         0\n",
       "start_ride_price     0\n",
       "subscription_fee     0\n",
       "dtype: int64"
      ]
     },
     "execution_count": 59,
     "metadata": {},
     "output_type": "execute_result"
    }
   ],
   "source": [
    "users_merge_2.isnull().sum().sort_values()"
   ]
  },
  {
   "cell_type": "code",
   "execution_count": 60,
   "id": "9e0e5c4d",
   "metadata": {},
   "outputs": [],
   "source": [
    "users_merge_2['duration'] = np.ceil(users_merge_2['duration'])"
   ]
  },
  {
   "cell_type": "code",
   "execution_count": 25,
   "id": "75285622",
   "metadata": {},
   "outputs": [],
   "source": [
    "users_with_sbs = users_merge_2.loc[users_merge_2['subscription_type'] == 'ultra']"
   ]
  },
  {
   "cell_type": "code",
   "execution_count": 26,
   "id": "0f73e3da",
   "metadata": {},
   "outputs": [],
   "source": [
    "users_without_sbs = users_merge_2.loc[users_merge_2['subscription_type'] == 'free']"
   ]
  },
  {
   "cell_type": "code",
   "execution_count": 66,
   "id": "4223a823",
   "metadata": {},
   "outputs": [
    {
     "name": "stdout",
     "output_type": "stream",
     "text": [
      "count    6500.000000\n",
      "mean       18.541985\n",
      "std         5.572048\n",
      "min         3.760353\n",
      "25%        14.524654\n",
      "50%        18.178153\n",
      "75%        21.884129\n",
      "max        40.823963\n",
      "Name: duration, dtype: float64\n"
     ]
    },
    {
     "data": {
      "text/plain": [
       "Text(0.5, 0, 'Длительность в минутах')"
      ]
     },
     "execution_count": 66,
     "metadata": {},
     "output_type": "execute_result"
    },
    {
     "data": {
      "image/png": "[encoded data removed]",
      "text/plain": [
       "<Figure size 432x288 with 1 Axes>"
      ]
     },
     "metadata": {
      "needs_background": "light"
     },
     "output_type": "display_data"
    }
   ],
   "source": [
    "print(users_with_sbs['duration'].describe())\n",
    "users_with_sbs['duration'].hist(bins=25)\n",
    "plt.suptitle('Пользователи с подпиской-длительность поездок')\n",
    "plt.xlabel('Длительность в минутах')"
   ]
  },
  {
   "cell_type": "code",
   "execution_count": 67,
   "id": "4b2ba855",
   "metadata": {},
   "outputs": [
    {
     "name": "stdout",
     "output_type": "stream",
     "text": [
      "count    11568.000000\n",
      "mean        17.390909\n",
      "std          6.326803\n",
      "min          0.500000\n",
      "25%         12.958437\n",
      "50%         17.326890\n",
      "75%         21.594071\n",
      "max         34.948498\n",
      "Name: duration, dtype: float64\n"
     ]
    },
    {
     "data": {
      "text/plain": [
       "Text(0.5, 0, 'Длительность в минутах')"
      ]
     },
     "execution_count": 67,
     "metadata": {},
     "output_type": "execute_result"
    },
    {
     "data": {
      "image/png": "[encoded data removed]",
      "text/plain": [
       "<Figure size 432x288 with 1 Axes>"
      ]
     },
     "metadata": {
      "needs_background": "light"
     },
     "output_type": "display_data"
    }
   ],
   "source": [
    "print(users_without_sbs['duration'].describe())\n",
    "users_without_sbs['duration'].hist(bins=25)\n",
    "plt.suptitle('Пользователи без подписки-длительность поездок')\n",
    "plt.xlabel('Длительность в минутах')"
   ]
  },
  {
   "cell_type": "code",
   "execution_count": 68,
   "id": "b803f600",
   "metadata": {},
   "outputs": [
    {
     "name": "stdout",
     "output_type": "stream",
     "text": [
      "count    6500.000000\n",
      "mean     3115.445388\n",
      "std       836.895330\n",
      "min       244.210438\n",
      "25%      2785.444017\n",
      "50%      3148.637229\n",
      "75%      3560.574425\n",
      "max      5699.769662\n",
      "Name: distance, dtype: float64\n"
     ]
    },
    {
     "data": {
      "text/plain": [
       "Text(0.5, 0, 'Расстояние в метрах')"
      ]
     },
     "execution_count": 68,
     "metadata": {},
     "output_type": "execute_result"
    },
    {
     "data": {
      "image/png": "[encoded data removed]",
      "text/plain": [
       "<Figure size 432x288 with 1 Axes>"
      ]
     },
     "metadata": {
      "needs_background": "light"
     },
     "output_type": "display_data"
    }
   ],
   "source": [
    "print(users_with_sbs['distance'].describe())\n",
    "users_with_sbs['distance'].hist(bins=25)\n",
    "plt.suptitle('Пользователи с подпиской-расстояние поездок')\n",
    "plt.xlabel('Расстояние в метрах')"
   ]
  },
  {
   "cell_type": "code",
   "execution_count": 69,
   "id": "637150f8",
   "metadata": {},
   "outputs": [
    {
     "name": "stdout",
     "output_type": "stream",
     "text": [
      "count    11568.000000\n",
      "mean      3045.495282\n",
      "std       1246.173806\n",
      "min          0.855683\n",
      "25%       2366.562689\n",
      "50%       3114.648465\n",
      "75%       3905.697894\n",
      "max       7211.007745\n",
      "Name: distance, dtype: float64\n"
     ]
    },
    {
     "data": {
      "text/plain": [
       "Text(0.5, 0, 'Расстояние в метрах')"
      ]
     },
     "execution_count": 69,
     "metadata": {},
     "output_type": "execute_result"
    },
    {
     "data": {
      "image/png": "[encoded data removed]",
      "text/plain": [
       "<Figure size 432x288 with 1 Axes>"
      ]
     },
     "metadata": {
      "needs_background": "light"
     },
     "output_type": "display_data"
    }
   ],
   "source": [
    "print(users_without_sbs['distance'].describe())\n",
    "users_without_sbs['distance'].hist(bins=25)\n",
    "plt.suptitle('Пользователи без подписки-расстояние поездок')\n",
    "plt.xlabel('Расстояние в метрах')"
   ]
  },
  {
   "cell_type": "markdown",
   "id": "c7f42857",
   "metadata": {},
   "source": [
    "# Вывод 4\n",
    "* Объединили три исходных датафрейма в один users_merge 2\n",
    "* Разделили данный датафрейм на два на основании наличия подписки - users_with_sbs, users_without_sbs\n",
    "* Пользователи с подпиской проезжают в среднем за 13-23 минуты и на расстояние 2500-3500 метров.\n",
    "* Пользователи без подписки проезжают в среднем от 10 до 25 минут и на расстояние от 2000  до 4500 метров.\n",
    "\n",
    "На основании этих данных можем сделать вывод,что разнообразие типов поездок у пользователей без подписки шире,чем более усрдненные показатели у пользователей с подпиской. В целом пользователи без подписки проезжают большие расстояния."
   ]
  },
  {
   "cell_type": "markdown",
   "id": "402d620f",
   "metadata": {},
   "source": [
    "#### Шаг 5. Подсчёт выручки"
   ]
  },
  {
   "cell_type": "code",
   "execution_count": 31,
   "id": "d4a31610",
   "metadata": {},
   "outputs": [],
   "source": [
    "import numpy as np"
   ]
  },
  {
   "cell_type": "code",
   "execution_count": 32,
   "id": "53049e0a",
   "metadata": {},
   "outputs": [],
   "source": [
    "data_aggregated_sbs = users_with_sbs.pivot_table(index=['month', 'user_id'],values = ['distance', 'duration', 'name'],aggfunc = {'distance': sum, 'duration' : sum, 'name' : len})\n",
    "data_aggregated_sbs.rename(columns = {'name' : 'count'}, inplace = True)"
   ]
  },
  {
   "cell_type": "code",
   "execution_count": 33,
   "id": "ccefe7f5",
   "metadata": {},
   "outputs": [],
   "source": [
    "data_aggregated_withoutsbs = users_without_sbs.pivot_table(index=['month', 'user_id'],values = ['distance', 'duration', 'name'],aggfunc = {'distance': sum, 'duration' : sum, 'name' : len})\n",
    "data_aggregated_withoutsbs.rename(columns = {'name' : 'count'}, inplace = True)"
   ]
  },
  {
   "cell_type": "code",
   "execution_count": 34,
   "id": "30ca87a2",
   "metadata": {},
   "outputs": [],
   "source": [
    "def subscription_on(row):\n",
    "        return 6 * row['duration'] + 199"
   ]
  },
  {
   "cell_type": "code",
   "execution_count": 35,
   "id": "3c1ab42e",
   "metadata": {},
   "outputs": [
    {
     "data": {
      "text/html": [
       "<div>\n",
       "<style scoped>\n",
       "    .dataframe tbody tr th:only-of-type {\n",
       "        vertical-align: middle;\n",
       "    }\n",
       "\n",
       "    .dataframe tbody tr th {\n",
       "        vertical-align: top;\n",
       "    }\n",
       "\n",
       "    .dataframe thead th {\n",
       "        text-align: right;\n",
       "    }\n",
       "</style>\n",
       "<table border=\"1\" class=\"dataframe\">\n",
       "  <thead>\n",
       "    <tr style=\"text-align: right;\">\n",
       "      <th></th>\n",
       "      <th></th>\n",
       "      <th>distance</th>\n",
       "      <th>duration</th>\n",
       "      <th>count</th>\n",
       "      <th>month_profit</th>\n",
       "    </tr>\n",
       "    <tr>\n",
       "      <th>month</th>\n",
       "      <th>user_id</th>\n",
       "      <th></th>\n",
       "      <th></th>\n",
       "      <th></th>\n",
       "      <th></th>\n",
       "    </tr>\n",
       "  </thead>\n",
       "  <tbody>\n",
       "    <tr>\n",
       "      <th rowspan=\"5\" valign=\"top\">1</th>\n",
       "      <th>1</th>\n",
       "      <td>7027.511294</td>\n",
       "      <td>42.0</td>\n",
       "      <td>2</td>\n",
       "      <td>451.0</td>\n",
       "    </tr>\n",
       "    <tr>\n",
       "      <th>3</th>\n",
       "      <td>3061.777147</td>\n",
       "      <td>13.0</td>\n",
       "      <td>1</td>\n",
       "      <td>277.0</td>\n",
       "    </tr>\n",
       "    <tr>\n",
       "      <th>5</th>\n",
       "      <td>3914.646990</td>\n",
       "      <td>13.0</td>\n",
       "      <td>1</td>\n",
       "      <td>277.0</td>\n",
       "    </tr>\n",
       "    <tr>\n",
       "      <th>7</th>\n",
       "      <td>6478.080979</td>\n",
       "      <td>28.0</td>\n",
       "      <td>2</td>\n",
       "      <td>367.0</td>\n",
       "    </tr>\n",
       "    <tr>\n",
       "      <th>12</th>\n",
       "      <td>3577.151148</td>\n",
       "      <td>33.0</td>\n",
       "      <td>1</td>\n",
       "      <td>397.0</td>\n",
       "    </tr>\n",
       "    <tr>\n",
       "      <th>...</th>\n",
       "      <th>...</th>\n",
       "      <td>...</td>\n",
       "      <td>...</td>\n",
       "      <td>...</td>\n",
       "      <td>...</td>\n",
       "    </tr>\n",
       "    <tr>\n",
       "      <th rowspan=\"5\" valign=\"top\">12</th>\n",
       "      <th>688</th>\n",
       "      <td>4004.404223</td>\n",
       "      <td>24.0</td>\n",
       "      <td>1</td>\n",
       "      <td>343.0</td>\n",
       "    </tr>\n",
       "    <tr>\n",
       "      <th>689</th>\n",
       "      <td>3387.343067</td>\n",
       "      <td>19.0</td>\n",
       "      <td>1</td>\n",
       "      <td>313.0</td>\n",
       "    </tr>\n",
       "    <tr>\n",
       "      <th>692</th>\n",
       "      <td>2947.000211</td>\n",
       "      <td>15.0</td>\n",
       "      <td>1</td>\n",
       "      <td>289.0</td>\n",
       "    </tr>\n",
       "    <tr>\n",
       "      <th>694</th>\n",
       "      <td>3591.099488</td>\n",
       "      <td>18.0</td>\n",
       "      <td>1</td>\n",
       "      <td>307.0</td>\n",
       "    </tr>\n",
       "    <tr>\n",
       "      <th>699</th>\n",
       "      <td>3202.890770</td>\n",
       "      <td>26.0</td>\n",
       "      <td>1</td>\n",
       "      <td>355.0</td>\n",
       "    </tr>\n",
       "  </tbody>\n",
       "</table>\n",
       "<p>4533 rows × 4 columns</p>\n",
       "</div>"
      ],
      "text/plain": [
       "                  distance  duration  count  month_profit\n",
       "month user_id                                            \n",
       "1     1        7027.511294      42.0      2         451.0\n",
       "      3        3061.777147      13.0      1         277.0\n",
       "      5        3914.646990      13.0      1         277.0\n",
       "      7        6478.080979      28.0      2         367.0\n",
       "      12       3577.151148      33.0      1         397.0\n",
       "...                    ...       ...    ...           ...\n",
       "12    688      4004.404223      24.0      1         343.0\n",
       "      689      3387.343067      19.0      1         313.0\n",
       "      692      2947.000211      15.0      1         289.0\n",
       "      694      3591.099488      18.0      1         307.0\n",
       "      699      3202.890770      26.0      1         355.0\n",
       "\n",
       "[4533 rows x 4 columns]"
      ]
     },
     "execution_count": 35,
     "metadata": {},
     "output_type": "execute_result"
    }
   ],
   "source": [
    "data_aggregated_sbs['month_profit'] = data_aggregated_sbs.apply(subscription_on, axis=1)\n",
    "data_aggregated_sbs"
   ]
  },
  {
   "cell_type": "code",
   "execution_count": 36,
   "id": "a1ad446e",
   "metadata": {},
   "outputs": [],
   "source": [
    "def subscription_off(row):\n",
    "        return 8 * row['duration'] + 50 * row['count']"
   ]
  },
  {
   "cell_type": "code",
   "execution_count": 37,
   "id": "062ae7ad",
   "metadata": {},
   "outputs": [
    {
     "data": {
      "text/html": [
       "<div>\n",
       "<style scoped>\n",
       "    .dataframe tbody tr th:only-of-type {\n",
       "        vertical-align: middle;\n",
       "    }\n",
       "\n",
       "    .dataframe tbody tr th {\n",
       "        vertical-align: top;\n",
       "    }\n",
       "\n",
       "    .dataframe thead th {\n",
       "        text-align: right;\n",
       "    }\n",
       "</style>\n",
       "<table border=\"1\" class=\"dataframe\">\n",
       "  <thead>\n",
       "    <tr style=\"text-align: right;\">\n",
       "      <th></th>\n",
       "      <th></th>\n",
       "      <th>distance</th>\n",
       "      <th>duration</th>\n",
       "      <th>count</th>\n",
       "      <th>month_profit</th>\n",
       "    </tr>\n",
       "    <tr>\n",
       "      <th>month</th>\n",
       "      <th>user_id</th>\n",
       "      <th></th>\n",
       "      <th></th>\n",
       "      <th></th>\n",
       "      <th></th>\n",
       "    </tr>\n",
       "  </thead>\n",
       "  <tbody>\n",
       "    <tr>\n",
       "      <th rowspan=\"5\" valign=\"top\">1</th>\n",
       "      <th>700</th>\n",
       "      <td>2515.690719</td>\n",
       "      <td>15.0</td>\n",
       "      <td>1</td>\n",
       "      <td>170.0</td>\n",
       "    </tr>\n",
       "    <tr>\n",
       "      <th>701</th>\n",
       "      <td>2676.472894</td>\n",
       "      <td>18.0</td>\n",
       "      <td>1</td>\n",
       "      <td>194.0</td>\n",
       "    </tr>\n",
       "    <tr>\n",
       "      <th>702</th>\n",
       "      <td>903.861985</td>\n",
       "      <td>16.0</td>\n",
       "      <td>1</td>\n",
       "      <td>178.0</td>\n",
       "    </tr>\n",
       "    <tr>\n",
       "      <th>703</th>\n",
       "      <td>3406.580225</td>\n",
       "      <td>24.0</td>\n",
       "      <td>1</td>\n",
       "      <td>242.0</td>\n",
       "    </tr>\n",
       "    <tr>\n",
       "      <th>704</th>\n",
       "      <td>3197.139639</td>\n",
       "      <td>18.0</td>\n",
       "      <td>1</td>\n",
       "      <td>194.0</td>\n",
       "    </tr>\n",
       "    <tr>\n",
       "      <th>...</th>\n",
       "      <th>...</th>\n",
       "      <td>...</td>\n",
       "      <td>...</td>\n",
       "      <td>...</td>\n",
       "      <td>...</td>\n",
       "    </tr>\n",
       "    <tr>\n",
       "      <th rowspan=\"5\" valign=\"top\">12</th>\n",
       "      <th>1525</th>\n",
       "      <td>4597.854350</td>\n",
       "      <td>34.0</td>\n",
       "      <td>1</td>\n",
       "      <td>322.0</td>\n",
       "    </tr>\n",
       "    <tr>\n",
       "      <th>1526</th>\n",
       "      <td>3644.121544</td>\n",
       "      <td>23.0</td>\n",
       "      <td>1</td>\n",
       "      <td>234.0</td>\n",
       "    </tr>\n",
       "    <tr>\n",
       "      <th>1528</th>\n",
       "      <td>3998.569324</td>\n",
       "      <td>11.0</td>\n",
       "      <td>1</td>\n",
       "      <td>138.0</td>\n",
       "    </tr>\n",
       "    <tr>\n",
       "      <th>1532</th>\n",
       "      <td>6111.889853</td>\n",
       "      <td>41.0</td>\n",
       "      <td>2</td>\n",
       "      <td>428.0</td>\n",
       "    </tr>\n",
       "    <tr>\n",
       "      <th>1534</th>\n",
       "      <td>2371.711192</td>\n",
       "      <td>16.0</td>\n",
       "      <td>1</td>\n",
       "      <td>178.0</td>\n",
       "    </tr>\n",
       "  </tbody>\n",
       "</table>\n",
       "<p>6798 rows × 4 columns</p>\n",
       "</div>"
      ],
      "text/plain": [
       "                  distance  duration  count  month_profit\n",
       "month user_id                                            \n",
       "1     700      2515.690719      15.0      1         170.0\n",
       "      701      2676.472894      18.0      1         194.0\n",
       "      702       903.861985      16.0      1         178.0\n",
       "      703      3406.580225      24.0      1         242.0\n",
       "      704      3197.139639      18.0      1         194.0\n",
       "...                    ...       ...    ...           ...\n",
       "12    1525     4597.854350      34.0      1         322.0\n",
       "      1526     3644.121544      23.0      1         234.0\n",
       "      1528     3998.569324      11.0      1         138.0\n",
       "      1532     6111.889853      41.0      2         428.0\n",
       "      1534     2371.711192      16.0      1         178.0\n",
       "\n",
       "[6798 rows x 4 columns]"
      ]
     },
     "execution_count": 37,
     "metadata": {},
     "output_type": "execute_result"
    }
   ],
   "source": [
    "data_aggregated_withoutsbs['month_profit'] = data_aggregated_withoutsbs.apply(subscription_off, axis=1)\n",
    "data_aggregated_withoutsbs"
   ]
  },
  {
   "cell_type": "markdown",
   "id": "e9592a2b",
   "metadata": {},
   "source": [
    "# Вывод 5\n",
    "Создали два агрегированных датафрейма для пользователей с подпиской и без(data_aggregated_sbs и data_aggregated_withoutsbs,соответсвенно), с помесячным подсчётом для каждой пользователя:\n",
    "* Количества поездок\n",
    "* Общей продолжительности поездок\n",
    "* Общего расстояния\n",
    "* Выручки (месячной)"
   ]
  },
  {
   "cell_type": "markdown",
   "id": "41545ac0",
   "metadata": {},
   "source": [
    "#### Шаг 6. Проверка гипотез"
   ]
  },
  {
   "cell_type": "markdown",
   "id": "4e1c35fb",
   "metadata": {},
   "source": [
    "# Гипотеза 6.1\n",
    "\n",
    "Тратят ли пользователи с подпиской больше времени на поездки? Если да, то пользователи с подпиской могут быть «выгоднее» для компании. Проверим гипотезу."
   ]
  },
  {
   "cell_type": "code",
   "execution_count": 38,
   "id": "87839cdc",
   "metadata": {},
   "outputs": [],
   "source": [
    " from scipy import stats as st"
   ]
  },
  {
   "cell_type": "code",
   "execution_count": 39,
   "id": "23ea867b",
   "metadata": {},
   "outputs": [
    {
     "name": "stdout",
     "output_type": "stream",
     "text": [
      "p-значение: 1.2804098316645618e-34\n",
      "Отвергаем нулевую гипотезу:пользователи с подпиской тратят одинаковое время на поездки, чем пользователи без\n"
     ]
    }
   ],
   "source": [
    "sbs = users_with_sbs['duration'] \n",
    "without_sbs = users_without_sbs['duration']\n",
    "results = st.ttest_ind(sbs, without_sbs,alternative = 'greater')\n",
    "alpha = 0.05\n",
    "print('p-значение:',results.pvalue)\n",
    "if results.pvalue < alpha:\n",
    "    print('Отвергаем нулевую гипотезу:пользователи с подпиской тратят одинаковое время на поездки, чем пользователи без')\n",
    "else:\n",
    "    print('Не отвергаем нулевую гипотезу:пользователи с подпиской тратят одинаковое времени на поездки, чем пользователи без')"
   ]
  },
  {
   "cell_type": "markdown",
   "id": "f83ca1df",
   "metadata": {},
   "source": [
    "# Вывод 6.1\n",
    "Нулевая гипотеза,что пользователи с подпиской ультра и без неё тратят одинаковое время на поездки не подтвердилась. Альтернативную гипотезу,что время поездки у обладателей подписки больше не отвергаем."
   ]
  },
  {
   "cell_type": "markdown",
   "id": "b41ac927",
   "metadata": {},
   "source": [
    "# Гипотеза 6.2\n",
    "\n",
    "Расстояние одной поездки в 3130 метров — оптимальное с точки зрения износа самоката. Можно ли сказать, что среднее расстояние, которое проезжают пользователи с подпиской за одну поездку, не превышает 3130 метров? Проверим гипотезу и сделаем выводы."
   ]
  },
  {
   "cell_type": "code",
   "execution_count": 70,
   "id": "001cd43e",
   "metadata": {},
   "outputs": [
    {
     "name": "stdout",
     "output_type": "stream",
     "text": [
      "p-значение: 0.9195368847849785\n",
      "Не получилось отвергнуть нулевую гипотезу\n"
     ]
    }
   ],
   "source": [
    "sbs_dist = users_with_sbs['distance']\n",
    "value = 3130.0\n",
    "alpha = 0.05\n",
    "results_2 = st.ttest_1samp(sbs_dist,value,alternative='greater')\n",
    "print('p-значение:',results_2.pvalue)\n",
    "if (results_2.pvalue < alpha):\n",
    "    print('Отвергаем нулевую гипотезу')\n",
    "else:\n",
    "    print('Не получилось отвергнуть нулевую гипотезу')"
   ]
  },
  {
   "cell_type": "markdown",
   "id": "bc30a5b8",
   "metadata": {},
   "source": [
    "# Вывод 6.2\n",
    "Не получилось отвергнуть гипотезу,что пользователи с подпиской за одну поездку проезжают 3130 метров,поэтому мы не можем утверждать,что они не проехали больше данного расстояния."
   ]
  },
  {
   "cell_type": "markdown",
   "id": "ac386785",
   "metadata": {},
   "source": [
    "# Гипотеза 6.3\n",
    "Будет ли помесячная выручка от пользователей с подпиской по месяцам выше, чем выручка от пользователей без подписки. "
   ]
  },
  {
   "cell_type": "code",
   "execution_count": 41,
   "id": "9cb6570f",
   "metadata": {},
   "outputs": [
    {
     "name": "stdout",
     "output_type": "stream",
     "text": [
      "p-значение: 2.8130926188487286e-35\n",
      "Отвергаем нулевую гипотезу\n"
     ]
    }
   ],
   "source": [
    "sbs_month = data_aggregated_sbs['month_profit']\n",
    "without_sbs_month = data_aggregated_withoutsbs['month_profit']\n",
    "results_3 = st.ttest_ind(sbs_month, without_sbs_month,alternative = 'greater')\n",
    "alpha = 0.05\n",
    "print('p-значение:',results_3.pvalue)\n",
    "if (results_3.pvalue < alpha):\n",
    "    print('Отвергаем нулевую гипотезу')\n",
    "else:\n",
    "    print('Не получилось отвергнуть нулевую гипотезу')"
   ]
  },
  {
   "cell_type": "markdown",
   "id": "d790b142",
   "metadata": {},
   "source": [
    "# Вывод 6.3\n",
    "Отвергнув нулевую гипотезу и подтвердив альтернативную 'greater', мы можем сделать вывод ,что среднемесячная выручка с пользователей с подпиской выше чем без."
   ]
  },
  {
   "cell_type": "markdown",
   "id": "5a61873a",
   "metadata": {},
   "source": [
    "# Гипотеза 6.4\n",
    "Представьте такую ситуацию: техническая команда сервиса обновила сервера, с которыми взаимодействует мобильное приложение. Она надеется, что из-за этого количество обращений в техподдержку значимо снизилось. Некоторый файл содержит для каждого пользователя данные о количестве обращений до обновления и после него. Какой тест вам понадобился бы для проверки этой гипотезы?"
   ]
  },
  {
   "cell_type": "markdown",
   "id": "f5064e5e",
   "metadata": {},
   "source": [
    "Метод, который нужно использовать для проверки гипотезы: scipy.stats.ttest_rel() ,так как проверяется гипотеза о равенстве среднего значения генеральной совокупности до и после изменения. Альтернативная гипотеза будет двусторонней,так как нас интересует \"не равенство\"."
   ]
  },
  {
   "cell_type": "markdown",
   "id": "61213c5e",
   "metadata": {},
   "source": [
    "#### Шаг 7. Распределения"
   ]
  },
  {
   "cell_type": "markdown",
   "id": "6f8d1ac8",
   "metadata": {},
   "source": [
    "# 7.1 \n",
    "Отделу маркетинга GoFast поставили задачу: нужно провести акцию с раздачей промокодов на один бесплатный месяц подписки, в рамках которой как минимум 100 существующих клиентов должны продлить эту подписку. То есть по завершении периода действия подписки пользователь может либо отказаться от неё, либо продлить, совершив соответствующий платёж. \n",
    "Эта акция уже проводилась ранее и по итогу выяснилось, что после бесплатного пробного периода подписку продлевают \n",
    "10 % пользователей. Выясните, какое минимальное количество промокодов нужно разослать, чтобы вероятность не выполнить план была примерно 5 %. Подберите параметры распределения, описывающего эту ситуацию, постройте график распределения и сформулируйте ответ на вопрос о количестве промокодов."
   ]
  },
  {
   "cell_type": "code",
   "execution_count": 42,
   "id": "95cd1d51",
   "metadata": {},
   "outputs": [
    {
     "name": "stdout",
     "output_type": "stream",
     "text": [
      "0.04971489312694162\n"
     ]
    },
    {
     "name": "stderr",
     "output_type": "stream",
     "text": [
      "/opt/conda/lib/python3.9/site-packages/scipy/stats/_discrete_distns.py:78: RuntimeWarning: divide by zero encountered in _binom_pdf\n",
      "  return _boost._binom_pdf(x, n, p)\n"
     ]
    },
    {
     "data": {
      "text/plain": [
       "<BarContainer object of 1170 artists>"
      ]
     },
     "execution_count": 42,
     "metadata": {},
     "output_type": "execute_result"
    },
    {
     "data": {
      "image/png": "[encoded data removed]",
      "text/plain": [
       "<Figure size 432x288 with 1 Axes>"
      ]
     },
     "metadata": {
      "needs_background": "light"
     },
     "output_type": "display_data"
    }
   ],
   "source": [
    "from math import sqrt\n",
    "from scipy import stats as st\n",
    "from matplotlib import pyplot as plt\n",
    "from scipy.stats import binom\n",
    "\n",
    "n = 1169\n",
    "p = 0.1\n",
    "\n",
    "mu = n * p\n",
    "sigma = sqrt(n * p * (1 - p))\n",
    "distr = st.norm(mu, sigma) \n",
    "\n",
    "result = distr.cdf(100)\n",
    "print(result)\n",
    "distr1 = []\n",
    "\n",
    "for k in range(0, n + 1):\n",
    "    current_value = binom.pmf(k, n, p)\n",
    "    distr1.append(current_value)\n",
    "    \n",
    "plt.bar(range(0, n + 1), distr1)\n"
   ]
  },
  {
   "cell_type": "markdown",
   "id": "a5ff2af2",
   "metadata": {},
   "source": [
    "# Вывод 7.1\n",
    "Для того чтобы выполнить план по привлчению новых клиентов с вероятностью 95%,требуется разослать рассылку 1169 пользователям."
   ]
  },
  {
   "cell_type": "markdown",
   "id": "0229e143",
   "metadata": {},
   "source": [
    "# 7.2\n",
    "Отдел маркетинга рассылает клиентам push-уведомления в мобильном приложении. Клиенты могут открыть его или не открывать. Известно, что уведомления открывают около40 % получивших клиентов. Отдел планирует разослать 1 млн уведомлений. С помощью аппроксимации постройте примерный график распределения и оцените вероятность того, что уведомление откроют не более 399,5 тыс. пользователей."
   ]
  },
  {
   "cell_type": "code",
   "execution_count": 44,
   "id": "00490dd7",
   "metadata": {},
   "outputs": [
    {
     "name": "stdout",
     "output_type": "stream",
     "text": [
      "0.8462829170363023\n"
     ]
    }
   ],
   "source": [
    "n2 = 1000000\n",
    "p2 = 0.4\n",
    "\n",
    "mu2 = n2 * p2\n",
    "sigma2 = sqrt(n2 * p2 * (1 - p2))\n",
    "distr2 = st.norm(mu2, sigma2) \n",
    "\n",
    "result2 =distr2.cdf(399500)\n",
    "print(result2)\n"
   ]
  },
  {
   "cell_type": "markdown",
   "id": "3923d0c7",
   "metadata": {},
   "source": [
    "# Вывод 7.2\n",
    "Вероятность того что уведомление откроют меньше 399.5 тысяч пользователей составляет 85%."
   ]
  },
  {
   "cell_type": "markdown",
   "id": "c6b0c182",
   "metadata": {},
   "source": [
    "# ОБЩИЙ ВЫВОД\n",
    "\n"
   ]
  },
  {
   "cell_type": "markdown",
   "id": "9255de1d",
   "metadata": {},
   "source": [
    "Загрузили 3 датафрейма: \n",
    "* Пользователи — users_go.csv\n",
    "* Поездки — rides_go.csv\n",
    "* Подписки — subscriptions_go.csv\n",
    "\n",
    "\n",
    "Данные проверены:\n",
    "* Пропущенных значений в данных нет.\n",
    "* Явные дубликаты в датафрейме пользователей удалены.\n",
    "\n",
    "\n",
    "Проведён исследовательский анализ данных:\n",
    "* Количество пользователей по городам распределно расвномерно с наибольшим количеством в Пятигорске.\n",
    "* Количество пользоватлей без подписки больше пользователей с, и состовляет 835 пользователей ( с подпиской 699).\n",
    "* Основной массив пользоватлей от 20 до 30 лет.\n",
    "* В основном пользователи проезжают 2200-4300 метров.\n",
    "* В основном продолжительность поездки от 8 до 24 минут (преимущественно 13-21).\n",
    "\n",
    "Проведено объединение трёх исходных датафреймов и анализ полученных данных:\n",
    "* Объединили три исходных датафрейма в один users_merge 2\n",
    "* Разделили данный датафрейм на два на основании наличия подписки - users_with_sbs, users_without_sbs\n",
    "* Пользователи с подпиской проезжают в среднем за 13-23 минуты и на расстояние 2500-3500 метров.\n",
    "* Пользователи без подписки проезжают в среднем от 10 до 25 минут и на расстояние от 2000  до 4500 метров.\n",
    "\n",
    "Создали два агрегированных датафрейма для пользователей с подпиской и без(data_aggregated_sbs и data_aggregated_withoutsbs,соответсвенно), с помесячным подсчётом для каждой пользователя:\n",
    "* Количества поездок\n",
    "* Общей продолжительности поездок\n",
    "* Общего расстояния\n",
    "* Выручки (месячной)\n",
    "\n",
    "Проверили гипотезы:\n",
    "* Нулевая гипотеза,что пользователи с подпиской ультра и без неё тратят одинаковое время на поездки не подтвердилась. Альтернативную гипотезу,что время поездки у обладателей подписки больше не отвергаем.\n",
    "* Не получилось отвергнуть гипотезу,что пользователи с подпиской за одну поездку проезжают 3130 метров,поэтому мы не можем утверждать,что они не проехали больше данного расстояния.\n",
    "* Отвергнув нулевую гипотезу и подтвердив альтернативную 'greater', мы можем сделать вывод ,что среднемесячная выручка с пользователей с подпиской выше чем без.\n",
    "\n",
    "Оценили и дали ответы на вопросы про распредениям."
   ]
  }
 ],
 "metadata": {
  "ExecuteTimeLog": [
   {
    "duration": 433,
    "start_time": "2024-02-15T14:29:16.668Z"
   },
   {
    "duration": 190,
    "start_time": "2024-02-15T14:33:42.786Z"
   },
   {
    "duration": 11,
    "start_time": "2024-02-15T14:34:46.123Z"
   },
   {
    "duration": 12,
    "start_time": "2024-02-15T14:35:03.337Z"
   },
   {
    "duration": 10,
    "start_time": "2024-02-15T14:35:17.064Z"
   },
   {
    "duration": 6,
    "start_time": "2024-02-15T14:40:58.247Z"
   },
   {
    "duration": 5,
    "start_time": "2024-02-15T14:42:00.253Z"
   },
   {
    "duration": 14,
    "start_time": "2024-02-15T14:42:24.359Z"
   },
   {
    "duration": 7,
    "start_time": "2024-02-15T14:42:31.471Z"
   },
   {
    "duration": 5,
    "start_time": "2024-02-15T14:42:45.205Z"
   },
   {
    "duration": 7,
    "start_time": "2024-02-15T14:42:52.508Z"
   },
   {
    "duration": 5,
    "start_time": "2024-02-15T14:43:04.299Z"
   },
   {
    "duration": 6,
    "start_time": "2024-02-15T14:43:12.284Z"
   },
   {
    "duration": 6,
    "start_time": "2024-02-15T14:43:18.661Z"
   },
   {
    "duration": 7,
    "start_time": "2024-02-15T14:44:09.681Z"
   },
   {
    "duration": 8,
    "start_time": "2024-02-15T14:44:24.149Z"
   },
   {
    "duration": 5,
    "start_time": "2024-02-15T14:44:31.499Z"
   },
   {
    "duration": 6,
    "start_time": "2024-02-15T14:44:40.300Z"
   },
   {
    "duration": 9,
    "start_time": "2024-02-15T14:47:37.632Z"
   },
   {
    "duration": 11,
    "start_time": "2024-02-15T14:48:06.995Z"
   },
   {
    "duration": 8,
    "start_time": "2024-02-15T14:48:43.175Z"
   },
   {
    "duration": 5,
    "start_time": "2024-02-15T14:49:34.735Z"
   },
   {
    "duration": 7,
    "start_time": "2024-02-15T14:49:36.975Z"
   },
   {
    "duration": 5,
    "start_time": "2024-02-15T14:49:52.408Z"
   },
   {
    "duration": 400,
    "start_time": "2024-02-15T14:49:59.689Z"
   },
   {
    "duration": 73,
    "start_time": "2024-02-15T14:50:00.091Z"
   },
   {
    "duration": 10,
    "start_time": "2024-02-15T14:50:00.166Z"
   },
   {
    "duration": 31,
    "start_time": "2024-02-15T14:50:00.179Z"
   },
   {
    "duration": 21,
    "start_time": "2024-02-15T14:50:00.212Z"
   },
   {
    "duration": 67,
    "start_time": "2024-02-15T14:50:00.234Z"
   },
   {
    "duration": 41,
    "start_time": "2024-02-15T14:50:00.303Z"
   },
   {
    "duration": 51,
    "start_time": "2024-02-15T14:50:00.346Z"
   },
   {
    "duration": 39,
    "start_time": "2024-02-15T14:50:00.399Z"
   },
   {
    "duration": 45,
    "start_time": "2024-02-15T14:50:00.440Z"
   },
   {
    "duration": 26,
    "start_time": "2024-02-15T14:50:00.487Z"
   },
   {
    "duration": 35,
    "start_time": "2024-02-15T14:50:00.514Z"
   },
   {
    "duration": 7,
    "start_time": "2024-02-15T14:50:35.674Z"
   },
   {
    "duration": 8,
    "start_time": "2024-02-15T14:50:46.269Z"
   },
   {
    "duration": 59,
    "start_time": "2024-02-15T14:51:26.516Z"
   },
   {
    "duration": 6,
    "start_time": "2024-02-15T14:51:29.140Z"
   },
   {
    "duration": 6,
    "start_time": "2024-02-15T14:51:34.307Z"
   },
   {
    "duration": 12,
    "start_time": "2024-02-15T14:51:53.738Z"
   },
   {
    "duration": 6,
    "start_time": "2024-02-15T14:53:40.131Z"
   },
   {
    "duration": 7,
    "start_time": "2024-02-15T14:53:56.196Z"
   },
   {
    "duration": 664,
    "start_time": "2024-02-15T14:54:28.650Z"
   },
   {
    "duration": 119,
    "start_time": "2024-02-15T14:54:36.455Z"
   },
   {
    "duration": 123,
    "start_time": "2024-02-15T14:55:37.444Z"
   },
   {
    "duration": 2,
    "start_time": "2024-02-15T14:57:04.331Z"
   },
   {
    "duration": 181,
    "start_time": "2024-02-15T14:57:06.394Z"
   },
   {
    "duration": 15,
    "start_time": "2024-02-15T14:58:02.752Z"
   },
   {
    "duration": 134,
    "start_time": "2024-02-15T14:58:40.708Z"
   },
   {
    "duration": 114,
    "start_time": "2024-02-15T15:00:56.372Z"
   },
   {
    "duration": 129,
    "start_time": "2024-02-15T15:01:27.119Z"
   },
   {
    "duration": 103,
    "start_time": "2024-02-15T15:01:43.576Z"
   },
   {
    "duration": 119,
    "start_time": "2024-02-15T15:02:25.354Z"
   },
   {
    "duration": 124,
    "start_time": "2024-02-15T15:03:46.845Z"
   },
   {
    "duration": 145,
    "start_time": "2024-02-15T15:04:27.111Z"
   },
   {
    "duration": 129,
    "start_time": "2024-02-15T15:04:31.735Z"
   },
   {
    "duration": 127,
    "start_time": "2024-02-15T15:04:57.924Z"
   },
   {
    "duration": 134,
    "start_time": "2024-02-15T15:05:08.907Z"
   },
   {
    "duration": 25,
    "start_time": "2024-02-15T15:14:34.151Z"
   },
   {
    "duration": 7,
    "start_time": "2024-02-15T15:14:40.496Z"
   },
   {
    "duration": 15,
    "start_time": "2024-02-15T15:14:58.158Z"
   },
   {
    "duration": 10,
    "start_time": "2024-02-15T15:15:21.021Z"
   },
   {
    "duration": 82,
    "start_time": "2024-02-15T15:15:27.453Z"
   },
   {
    "duration": 9,
    "start_time": "2024-02-15T15:15:43.880Z"
   },
   {
    "duration": 415,
    "start_time": "2024-02-15T15:17:10.297Z"
   },
   {
    "duration": 73,
    "start_time": "2024-02-15T15:17:10.713Z"
   },
   {
    "duration": 11,
    "start_time": "2024-02-15T15:17:10.788Z"
   },
   {
    "duration": 11,
    "start_time": "2024-02-15T15:17:10.801Z"
   },
   {
    "duration": 10,
    "start_time": "2024-02-15T15:17:10.814Z"
   },
   {
    "duration": 8,
    "start_time": "2024-02-15T15:17:10.826Z"
   },
   {
    "duration": 23,
    "start_time": "2024-02-15T15:17:10.836Z"
   },
   {
    "duration": 35,
    "start_time": "2024-02-15T15:17:10.861Z"
   },
   {
    "duration": 5,
    "start_time": "2024-02-15T15:17:10.898Z"
   },
   {
    "duration": 16,
    "start_time": "2024-02-15T15:17:10.905Z"
   },
   {
    "duration": 10,
    "start_time": "2024-02-15T15:17:10.922Z"
   },
   {
    "duration": 4,
    "start_time": "2024-02-15T15:17:10.933Z"
   },
   {
    "duration": 9,
    "start_time": "2024-02-15T15:17:10.939Z"
   },
   {
    "duration": 11,
    "start_time": "2024-02-15T15:17:10.950Z"
   },
   {
    "duration": 13,
    "start_time": "2024-02-15T15:17:10.962Z"
   },
   {
    "duration": 242,
    "start_time": "2024-02-15T15:17:10.976Z"
   },
   {
    "duration": 137,
    "start_time": "2024-02-15T15:17:11.219Z"
   },
   {
    "duration": 103,
    "start_time": "2024-02-15T15:17:11.358Z"
   },
   {
    "duration": 135,
    "start_time": "2024-02-15T15:17:11.463Z"
   },
   {
    "duration": 140,
    "start_time": "2024-02-15T15:17:11.600Z"
   },
   {
    "duration": 187,
    "start_time": "2024-02-15T15:17:11.741Z"
   },
   {
    "duration": 10,
    "start_time": "2024-02-15T15:17:11.930Z"
   },
   {
    "duration": 10,
    "start_time": "2024-02-15T15:17:11.942Z"
   },
   {
    "duration": 19,
    "start_time": "2024-02-15T15:17:30.955Z"
   },
   {
    "duration": 7,
    "start_time": "2024-02-15T15:19:20.153Z"
   },
   {
    "duration": 5,
    "start_time": "2024-02-15T15:19:33.635Z"
   },
   {
    "duration": 133,
    "start_time": "2024-02-15T15:20:15.279Z"
   },
   {
    "duration": 132,
    "start_time": "2024-02-15T15:20:45.298Z"
   },
   {
    "duration": 117,
    "start_time": "2024-02-15T15:20:58.432Z"
   },
   {
    "duration": 149,
    "start_time": "2024-02-15T15:21:02.670Z"
   },
   {
    "duration": 132,
    "start_time": "2024-02-15T15:21:40.180Z"
   },
   {
    "duration": 124,
    "start_time": "2024-02-15T15:21:50.177Z"
   },
   {
    "duration": 136,
    "start_time": "2024-02-15T15:23:06.037Z"
   },
   {
    "duration": 129,
    "start_time": "2024-02-15T15:23:09.090Z"
   },
   {
    "duration": 117,
    "start_time": "2024-02-15T15:23:09.795Z"
   },
   {
    "duration": 135,
    "start_time": "2024-02-15T15:23:10.427Z"
   },
   {
    "duration": 10,
    "start_time": "2024-02-15T16:14:35.819Z"
   },
   {
    "duration": 14,
    "start_time": "2024-02-15T16:14:41.059Z"
   },
   {
    "duration": 8,
    "start_time": "2024-02-15T16:16:00.197Z"
   },
   {
    "duration": 406,
    "start_time": "2024-02-15T16:16:24.595Z"
   },
   {
    "duration": 74,
    "start_time": "2024-02-15T16:16:25.003Z"
   },
   {
    "duration": 10,
    "start_time": "2024-02-15T16:16:25.079Z"
   },
   {
    "duration": 12,
    "start_time": "2024-02-15T16:16:25.090Z"
   },
   {
    "duration": 9,
    "start_time": "2024-02-15T16:16:25.104Z"
   },
   {
    "duration": 6,
    "start_time": "2024-02-15T16:16:25.115Z"
   },
   {
    "duration": 5,
    "start_time": "2024-02-15T16:16:25.123Z"
   },
   {
    "duration": 10,
    "start_time": "2024-02-15T16:16:25.129Z"
   },
   {
    "duration": 4,
    "start_time": "2024-02-15T16:16:25.141Z"
   },
   {
    "duration": 13,
    "start_time": "2024-02-15T16:16:25.147Z"
   },
   {
    "duration": 21,
    "start_time": "2024-02-15T16:16:25.161Z"
   },
   {
    "duration": 35,
    "start_time": "2024-02-15T16:16:25.183Z"
   },
   {
    "duration": 12,
    "start_time": "2024-02-15T16:16:25.219Z"
   },
   {
    "duration": 44,
    "start_time": "2024-02-15T16:16:25.232Z"
   },
   {
    "duration": 6,
    "start_time": "2024-02-15T16:16:25.278Z"
   },
   {
    "duration": 228,
    "start_time": "2024-02-15T16:16:25.285Z"
   },
   {
    "duration": 141,
    "start_time": "2024-02-15T16:16:25.514Z"
   },
   {
    "duration": 111,
    "start_time": "2024-02-15T16:16:25.657Z"
   },
   {
    "duration": 142,
    "start_time": "2024-02-15T16:16:25.770Z"
   },
   {
    "duration": 135,
    "start_time": "2024-02-15T16:16:25.918Z"
   },
   {
    "duration": 173,
    "start_time": "2024-02-15T16:16:26.054Z"
   },
   {
    "duration": 10,
    "start_time": "2024-02-15T16:16:26.228Z"
   },
   {
    "duration": 8,
    "start_time": "2024-02-15T16:16:26.239Z"
   },
   {
    "duration": 6,
    "start_time": "2024-02-15T16:16:26.249Z"
   },
   {
    "duration": 5,
    "start_time": "2024-02-15T16:16:26.257Z"
   },
   {
    "duration": 165,
    "start_time": "2024-02-15T16:16:26.263Z"
   },
   {
    "duration": 140,
    "start_time": "2024-02-15T16:16:26.430Z"
   },
   {
    "duration": 145,
    "start_time": "2024-02-15T16:16:26.573Z"
   },
   {
    "duration": 136,
    "start_time": "2024-02-15T16:16:26.719Z"
   },
   {
    "duration": 69,
    "start_time": "2024-02-15T16:16:26.856Z"
   },
   {
    "duration": 0,
    "start_time": "2024-02-15T16:16:26.927Z"
   },
   {
    "duration": 0,
    "start_time": "2024-02-15T16:16:26.928Z"
   },
   {
    "duration": 19,
    "start_time": "2024-02-15T16:16:48.680Z"
   },
   {
    "duration": 1248,
    "start_time": "2024-02-15T16:16:50.575Z"
   },
   {
    "duration": 9,
    "start_time": "2024-02-15T16:17:02.491Z"
   },
   {
    "duration": 12,
    "start_time": "2024-02-15T16:17:38.335Z"
   },
   {
    "duration": 18,
    "start_time": "2024-02-15T16:18:16.143Z"
   },
   {
    "duration": 35,
    "start_time": "2024-02-15T16:18:22.082Z"
   },
   {
    "duration": 25,
    "start_time": "2024-02-15T16:19:07.278Z"
   },
   {
    "duration": 24,
    "start_time": "2024-02-15T16:20:26.866Z"
   },
   {
    "duration": 78,
    "start_time": "2024-02-15T16:20:49.906Z"
   },
   {
    "duration": 94,
    "start_time": "2024-02-15T16:21:05.241Z"
   },
   {
    "duration": 28,
    "start_time": "2024-02-15T16:21:16.553Z"
   },
   {
    "duration": 8,
    "start_time": "2024-02-15T16:22:07.903Z"
   },
   {
    "duration": 24,
    "start_time": "2024-02-15T16:22:16.941Z"
   },
   {
    "duration": 2,
    "start_time": "2024-02-15T16:23:06.232Z"
   },
   {
    "duration": 18,
    "start_time": "2024-02-15T16:25:01.034Z"
   },
   {
    "duration": 4,
    "start_time": "2024-02-15T16:28:02.568Z"
   },
   {
    "duration": 11,
    "start_time": "2024-02-15T16:28:15.852Z"
   },
   {
    "duration": 47,
    "start_time": "2024-02-15T16:32:41.652Z"
   },
   {
    "duration": 57,
    "start_time": "2024-02-15T16:33:04.710Z"
   },
   {
    "duration": 39,
    "start_time": "2024-02-15T16:33:44.061Z"
   },
   {
    "duration": 941,
    "start_time": "2024-02-15T16:34:19.583Z"
   },
   {
    "duration": 13,
    "start_time": "2024-02-15T16:34:55.935Z"
   },
   {
    "duration": 28,
    "start_time": "2024-02-15T16:35:02.116Z"
   },
   {
    "duration": 33,
    "start_time": "2024-02-15T16:36:35.915Z"
   },
   {
    "duration": 22,
    "start_time": "2024-02-15T16:36:49.404Z"
   },
   {
    "duration": 31,
    "start_time": "2024-02-15T16:36:58.325Z"
   },
   {
    "duration": 51,
    "start_time": "2024-02-15T16:37:13.307Z"
   },
   {
    "duration": 45,
    "start_time": "2024-02-15T16:37:31.446Z"
   },
   {
    "duration": 32,
    "start_time": "2024-02-15T16:38:28.671Z"
   },
   {
    "duration": 35,
    "start_time": "2024-02-15T16:38:37.636Z"
   },
   {
    "duration": 903,
    "start_time": "2024-02-15T16:40:16.580Z"
   },
   {
    "duration": 38,
    "start_time": "2024-02-15T16:40:41.574Z"
   },
   {
    "duration": 23,
    "start_time": "2024-02-15T16:41:34.580Z"
   },
   {
    "duration": 43,
    "start_time": "2024-02-15T16:41:41.423Z"
   },
   {
    "duration": 46,
    "start_time": "2024-02-15T16:42:14.965Z"
   },
   {
    "duration": 54,
    "start_time": "2024-02-15T16:43:12.170Z"
   },
   {
    "duration": 54,
    "start_time": "2024-02-15T16:43:48.049Z"
   },
   {
    "duration": 53,
    "start_time": "2024-02-15T16:44:43.280Z"
   },
   {
    "duration": 57,
    "start_time": "2024-02-15T16:46:24.985Z"
   },
   {
    "duration": 54,
    "start_time": "2024-02-15T16:46:37.062Z"
   },
   {
    "duration": 42,
    "start_time": "2024-02-15T16:46:52.343Z"
   },
   {
    "duration": 41,
    "start_time": "2024-02-15T16:47:06.234Z"
   },
   {
    "duration": 2,
    "start_time": "2024-02-15T16:47:39.346Z"
   },
   {
    "duration": 863,
    "start_time": "2024-02-15T16:47:40.105Z"
   },
   {
    "duration": 0,
    "start_time": "2024-02-15T16:47:40.970Z"
   },
   {
    "duration": 62,
    "start_time": "2024-02-15T16:51:04.145Z"
   },
   {
    "duration": 19,
    "start_time": "2024-02-15T16:52:20.253Z"
   },
   {
    "duration": 15,
    "start_time": "2024-02-15T16:56:14.761Z"
   },
   {
    "duration": 14,
    "start_time": "2024-02-15T16:56:43.954Z"
   },
   {
    "duration": 10,
    "start_time": "2024-02-15T16:57:31.294Z"
   },
   {
    "duration": 5,
    "start_time": "2024-02-15T16:58:06.448Z"
   },
   {
    "duration": 9,
    "start_time": "2024-02-15T16:58:37.354Z"
   },
   {
    "duration": 11,
    "start_time": "2024-02-15T16:58:39.552Z"
   },
   {
    "duration": 9,
    "start_time": "2024-02-15T16:59:05.428Z"
   },
   {
    "duration": 8,
    "start_time": "2024-02-15T16:59:33.764Z"
   },
   {
    "duration": 44,
    "start_time": "2024-02-15T17:15:34.397Z"
   },
   {
    "duration": 9,
    "start_time": "2024-02-15T17:26:37.753Z"
   },
   {
    "duration": 411,
    "start_time": "2024-02-15T17:26:44.888Z"
   },
   {
    "duration": 73,
    "start_time": "2024-02-15T17:26:45.300Z"
   },
   {
    "duration": 10,
    "start_time": "2024-02-15T17:26:45.374Z"
   },
   {
    "duration": 11,
    "start_time": "2024-02-15T17:26:45.386Z"
   },
   {
    "duration": 10,
    "start_time": "2024-02-15T17:26:45.398Z"
   },
   {
    "duration": 9,
    "start_time": "2024-02-15T17:26:45.409Z"
   },
   {
    "duration": 5,
    "start_time": "2024-02-15T17:26:45.419Z"
   },
   {
    "duration": 11,
    "start_time": "2024-02-15T17:26:45.425Z"
   },
   {
    "duration": 6,
    "start_time": "2024-02-15T17:26:45.437Z"
   },
   {
    "duration": 79,
    "start_time": "2024-02-15T17:26:45.445Z"
   },
   {
    "duration": 0,
    "start_time": "2024-02-15T17:26:45.527Z"
   },
   {
    "duration": 0,
    "start_time": "2024-02-15T17:26:45.530Z"
   },
   {
    "duration": 0,
    "start_time": "2024-02-15T17:26:45.531Z"
   },
   {
    "duration": 0,
    "start_time": "2024-02-15T17:26:45.532Z"
   },
   {
    "duration": 0,
    "start_time": "2024-02-15T17:26:45.534Z"
   },
   {
    "duration": 0,
    "start_time": "2024-02-15T17:26:45.535Z"
   },
   {
    "duration": 0,
    "start_time": "2024-02-15T17:26:45.536Z"
   },
   {
    "duration": 0,
    "start_time": "2024-02-15T17:26:45.537Z"
   },
   {
    "duration": 0,
    "start_time": "2024-02-15T17:26:45.538Z"
   },
   {
    "duration": 0,
    "start_time": "2024-02-15T17:26:45.539Z"
   },
   {
    "duration": 0,
    "start_time": "2024-02-15T17:26:45.540Z"
   },
   {
    "duration": 0,
    "start_time": "2024-02-15T17:26:45.541Z"
   },
   {
    "duration": 0,
    "start_time": "2024-02-15T17:26:45.542Z"
   },
   {
    "duration": 0,
    "start_time": "2024-02-15T17:26:45.543Z"
   },
   {
    "duration": 0,
    "start_time": "2024-02-15T17:26:45.544Z"
   },
   {
    "duration": 0,
    "start_time": "2024-02-15T17:26:45.545Z"
   },
   {
    "duration": 0,
    "start_time": "2024-02-15T17:26:45.546Z"
   },
   {
    "duration": 0,
    "start_time": "2024-02-15T17:26:45.547Z"
   },
   {
    "duration": 0,
    "start_time": "2024-02-15T17:26:45.549Z"
   },
   {
    "duration": 0,
    "start_time": "2024-02-15T17:26:45.550Z"
   },
   {
    "duration": 0,
    "start_time": "2024-02-15T17:26:45.551Z"
   },
   {
    "duration": 0,
    "start_time": "2024-02-15T17:26:45.552Z"
   },
   {
    "duration": 0,
    "start_time": "2024-02-15T17:26:45.553Z"
   },
   {
    "duration": 0,
    "start_time": "2024-02-15T17:26:45.554Z"
   },
   {
    "duration": 0,
    "start_time": "2024-02-15T17:26:45.555Z"
   },
   {
    "duration": 0,
    "start_time": "2024-02-15T17:26:45.556Z"
   },
   {
    "duration": 7,
    "start_time": "2024-02-15T17:27:28.951Z"
   },
   {
    "duration": 6,
    "start_time": "2024-02-15T17:28:21.587Z"
   },
   {
    "duration": 382,
    "start_time": "2024-02-15T17:28:28.143Z"
   },
   {
    "duration": 75,
    "start_time": "2024-02-15T17:28:28.527Z"
   },
   {
    "duration": 9,
    "start_time": "2024-02-15T17:28:28.604Z"
   },
   {
    "duration": 19,
    "start_time": "2024-02-15T17:28:28.615Z"
   },
   {
    "duration": 8,
    "start_time": "2024-02-15T17:28:28.635Z"
   },
   {
    "duration": 9,
    "start_time": "2024-02-15T17:28:28.644Z"
   },
   {
    "duration": 14,
    "start_time": "2024-02-15T17:28:28.654Z"
   },
   {
    "duration": 11,
    "start_time": "2024-02-15T17:28:28.669Z"
   },
   {
    "duration": 4,
    "start_time": "2024-02-15T17:28:28.681Z"
   },
   {
    "duration": 65,
    "start_time": "2024-02-15T17:28:28.687Z"
   },
   {
    "duration": 0,
    "start_time": "2024-02-15T17:28:28.754Z"
   },
   {
    "duration": 0,
    "start_time": "2024-02-15T17:28:28.756Z"
   },
   {
    "duration": 0,
    "start_time": "2024-02-15T17:28:28.757Z"
   },
   {
    "duration": 0,
    "start_time": "2024-02-15T17:28:28.758Z"
   },
   {
    "duration": 0,
    "start_time": "2024-02-15T17:28:28.759Z"
   },
   {
    "duration": 0,
    "start_time": "2024-02-15T17:28:28.760Z"
   },
   {
    "duration": 0,
    "start_time": "2024-02-15T17:28:28.761Z"
   },
   {
    "duration": 0,
    "start_time": "2024-02-15T17:28:28.763Z"
   },
   {
    "duration": 0,
    "start_time": "2024-02-15T17:28:28.763Z"
   },
   {
    "duration": 0,
    "start_time": "2024-02-15T17:28:28.765Z"
   },
   {
    "duration": 0,
    "start_time": "2024-02-15T17:28:28.765Z"
   },
   {
    "duration": 1,
    "start_time": "2024-02-15T17:28:28.766Z"
   },
   {
    "duration": 0,
    "start_time": "2024-02-15T17:28:28.768Z"
   },
   {
    "duration": 0,
    "start_time": "2024-02-15T17:28:28.768Z"
   },
   {
    "duration": 1,
    "start_time": "2024-02-15T17:28:28.769Z"
   },
   {
    "duration": 0,
    "start_time": "2024-02-15T17:28:28.771Z"
   },
   {
    "duration": 0,
    "start_time": "2024-02-15T17:28:28.772Z"
   },
   {
    "duration": 0,
    "start_time": "2024-02-15T17:28:28.773Z"
   },
   {
    "duration": 0,
    "start_time": "2024-02-15T17:28:28.774Z"
   },
   {
    "duration": 0,
    "start_time": "2024-02-15T17:28:28.775Z"
   },
   {
    "duration": 0,
    "start_time": "2024-02-15T17:28:28.776Z"
   },
   {
    "duration": 0,
    "start_time": "2024-02-15T17:28:28.818Z"
   },
   {
    "duration": 0,
    "start_time": "2024-02-15T17:28:28.819Z"
   },
   {
    "duration": 0,
    "start_time": "2024-02-15T17:28:28.820Z"
   },
   {
    "duration": 0,
    "start_time": "2024-02-15T17:28:28.821Z"
   },
   {
    "duration": 0,
    "start_time": "2024-02-15T17:28:28.822Z"
   },
   {
    "duration": 6,
    "start_time": "2024-02-15T17:29:16.168Z"
   },
   {
    "duration": 344,
    "start_time": "2024-02-15T17:29:45.266Z"
   },
   {
    "duration": 71,
    "start_time": "2024-02-15T17:29:45.612Z"
   },
   {
    "duration": 12,
    "start_time": "2024-02-15T17:29:45.684Z"
   },
   {
    "duration": 11,
    "start_time": "2024-02-15T17:29:45.698Z"
   },
   {
    "duration": 10,
    "start_time": "2024-02-15T17:29:45.710Z"
   },
   {
    "duration": 7,
    "start_time": "2024-02-15T17:29:45.722Z"
   },
   {
    "duration": 5,
    "start_time": "2024-02-15T17:29:45.731Z"
   },
   {
    "duration": 10,
    "start_time": "2024-02-15T17:29:45.737Z"
   },
   {
    "duration": 11,
    "start_time": "2024-02-15T17:29:45.749Z"
   },
   {
    "duration": 4,
    "start_time": "2024-02-15T17:29:45.763Z"
   },
   {
    "duration": 8,
    "start_time": "2024-02-15T17:29:45.769Z"
   },
   {
    "duration": 8,
    "start_time": "2024-02-15T17:29:45.818Z"
   },
   {
    "duration": 5,
    "start_time": "2024-02-15T17:29:45.827Z"
   },
   {
    "duration": 10,
    "start_time": "2024-02-15T17:29:45.833Z"
   },
   {
    "duration": 10,
    "start_time": "2024-02-15T17:29:45.845Z"
   },
   {
    "duration": 19,
    "start_time": "2024-02-15T17:29:45.857Z"
   },
   {
    "duration": 219,
    "start_time": "2024-02-15T17:29:45.878Z"
   },
   {
    "duration": 145,
    "start_time": "2024-02-15T17:29:46.098Z"
   },
   {
    "duration": 100,
    "start_time": "2024-02-15T17:29:46.244Z"
   },
   {
    "duration": 135,
    "start_time": "2024-02-15T17:29:46.345Z"
   },
   {
    "duration": 130,
    "start_time": "2024-02-15T17:29:46.481Z"
   },
   {
    "duration": 180,
    "start_time": "2024-02-15T17:29:46.618Z"
   },
   {
    "duration": 11,
    "start_time": "2024-02-15T17:29:46.799Z"
   },
   {
    "duration": 9,
    "start_time": "2024-02-15T17:29:46.818Z"
   },
   {
    "duration": 7,
    "start_time": "2024-02-15T17:29:46.828Z"
   },
   {
    "duration": 5,
    "start_time": "2024-02-15T17:29:46.836Z"
   },
   {
    "duration": 157,
    "start_time": "2024-02-15T17:29:46.843Z"
   },
   {
    "duration": 152,
    "start_time": "2024-02-15T17:29:47.003Z"
   },
   {
    "duration": 116,
    "start_time": "2024-02-15T17:29:47.157Z"
   },
   {
    "duration": 129,
    "start_time": "2024-02-15T17:29:47.274Z"
   },
   {
    "duration": 21,
    "start_time": "2024-02-15T17:29:47.404Z"
   },
   {
    "duration": 15,
    "start_time": "2024-02-15T17:29:47.426Z"
   },
   {
    "duration": 80,
    "start_time": "2024-02-15T17:29:47.443Z"
   },
   {
    "duration": 43,
    "start_time": "2024-02-15T17:29:47.525Z"
   },
   {
    "duration": 3,
    "start_time": "2024-02-15T17:29:47.569Z"
   },
   {
    "duration": 71,
    "start_time": "2024-02-15T17:29:47.573Z"
   },
   {
    "duration": 0,
    "start_time": "2024-02-15T17:29:47.645Z"
   },
   {
    "duration": 123,
    "start_time": "2024-02-15T17:32:24.045Z"
   },
   {
    "duration": 163,
    "start_time": "2024-02-15T17:32:32.156Z"
   },
   {
    "duration": 143,
    "start_time": "2024-02-15T17:32:36.411Z"
   },
   {
    "duration": 172,
    "start_time": "2024-02-15T17:32:40.164Z"
   },
   {
    "duration": 172,
    "start_time": "2024-02-15T17:32:44.465Z"
   },
   {
    "duration": 180,
    "start_time": "2024-02-15T17:32:50.474Z"
   },
   {
    "duration": 214,
    "start_time": "2024-02-15T17:32:54.276Z"
   },
   {
    "duration": 368,
    "start_time": "2024-02-15T17:34:02.262Z"
   },
   {
    "duration": 336,
    "start_time": "2024-02-15T17:34:11.671Z"
   },
   {
    "duration": 55,
    "start_time": "2024-02-15T17:34:31.942Z"
   },
   {
    "duration": 50,
    "start_time": "2024-02-15T17:35:04.592Z"
   },
   {
    "duration": 86,
    "start_time": "2024-02-15T17:35:49.817Z"
   },
   {
    "duration": 51,
    "start_time": "2024-02-15T17:36:05.445Z"
   },
   {
    "duration": 7,
    "start_time": "2024-02-15T17:36:13.531Z"
   },
   {
    "duration": 48,
    "start_time": "2024-02-15T17:36:29.190Z"
   },
   {
    "duration": 41,
    "start_time": "2024-02-15T17:37:31.075Z"
   },
   {
    "duration": 38,
    "start_time": "2024-02-15T17:37:58.135Z"
   },
   {
    "duration": 55,
    "start_time": "2024-02-15T17:38:39.858Z"
   },
   {
    "duration": 3,
    "start_time": "2024-02-15T17:40:32.776Z"
   },
   {
    "duration": 34,
    "start_time": "2024-02-15T17:41:15.025Z"
   },
   {
    "duration": 14,
    "start_time": "2024-02-15T17:41:27.810Z"
   },
   {
    "duration": 2,
    "start_time": "2024-02-15T17:42:02.012Z"
   },
   {
    "duration": 47,
    "start_time": "2024-02-15T17:42:19.427Z"
   },
   {
    "duration": 45,
    "start_time": "2024-02-15T17:50:01.688Z"
   },
   {
    "duration": 68,
    "start_time": "2024-02-15T17:50:12.272Z"
   },
   {
    "duration": 407,
    "start_time": "2024-02-15T18:24:12.610Z"
   },
   {
    "duration": 82,
    "start_time": "2024-02-15T18:24:13.019Z"
   },
   {
    "duration": 10,
    "start_time": "2024-02-15T18:24:13.103Z"
   },
   {
    "duration": 16,
    "start_time": "2024-02-15T18:24:13.115Z"
   },
   {
    "duration": 15,
    "start_time": "2024-02-15T18:24:13.133Z"
   },
   {
    "duration": 27,
    "start_time": "2024-02-15T18:24:13.150Z"
   },
   {
    "duration": 4,
    "start_time": "2024-02-15T18:24:13.179Z"
   },
   {
    "duration": 19,
    "start_time": "2024-02-15T18:24:13.185Z"
   },
   {
    "duration": 10,
    "start_time": "2024-02-15T18:24:13.206Z"
   },
   {
    "duration": 5,
    "start_time": "2024-02-15T18:24:13.218Z"
   },
   {
    "duration": 10,
    "start_time": "2024-02-15T18:24:13.224Z"
   },
   {
    "duration": 11,
    "start_time": "2024-02-15T18:24:13.236Z"
   },
   {
    "duration": 4,
    "start_time": "2024-02-15T18:24:13.248Z"
   },
   {
    "duration": 6,
    "start_time": "2024-02-15T18:24:13.253Z"
   },
   {
    "duration": 5,
    "start_time": "2024-02-15T18:24:13.260Z"
   },
   {
    "duration": 5,
    "start_time": "2024-02-15T18:24:13.267Z"
   },
   {
    "duration": 239,
    "start_time": "2024-02-15T18:24:13.273Z"
   },
   {
    "duration": 149,
    "start_time": "2024-02-15T18:24:13.514Z"
   },
   {
    "duration": 97,
    "start_time": "2024-02-15T18:24:13.665Z"
   },
   {
    "duration": 140,
    "start_time": "2024-02-15T18:24:13.763Z"
   },
   {
    "duration": 134,
    "start_time": "2024-02-15T18:24:13.904Z"
   },
   {
    "duration": 170,
    "start_time": "2024-02-15T18:24:14.039Z"
   },
   {
    "duration": 10,
    "start_time": "2024-02-15T18:24:14.218Z"
   },
   {
    "duration": 10,
    "start_time": "2024-02-15T18:24:14.230Z"
   },
   {
    "duration": 7,
    "start_time": "2024-02-15T18:24:14.241Z"
   },
   {
    "duration": 6,
    "start_time": "2024-02-15T18:24:14.249Z"
   },
   {
    "duration": 212,
    "start_time": "2024-02-15T18:24:14.256Z"
   },
   {
    "duration": 178,
    "start_time": "2024-02-15T18:24:14.471Z"
   },
   {
    "duration": 169,
    "start_time": "2024-02-15T18:24:14.650Z"
   },
   {
    "duration": 188,
    "start_time": "2024-02-15T18:24:14.821Z"
   },
   {
    "duration": 109,
    "start_time": "2024-02-15T18:24:15.018Z"
   },
   {
    "duration": 0,
    "start_time": "2024-02-15T18:24:15.128Z"
   },
   {
    "duration": 0,
    "start_time": "2024-02-15T18:24:15.129Z"
   },
   {
    "duration": 1,
    "start_time": "2024-02-15T18:24:15.130Z"
   },
   {
    "duration": 0,
    "start_time": "2024-02-15T18:24:15.132Z"
   },
   {
    "duration": 0,
    "start_time": "2024-02-15T18:24:15.133Z"
   },
   {
    "duration": 47,
    "start_time": "2024-02-15T18:46:51.876Z"
   },
   {
    "duration": 2,
    "start_time": "2024-02-15T18:46:58.261Z"
   },
   {
    "duration": 41,
    "start_time": "2024-02-15T18:46:58.929Z"
   },
   {
    "duration": 54,
    "start_time": "2024-02-15T18:46:59.469Z"
   },
   {
    "duration": 3,
    "start_time": "2024-02-15T18:47:00.067Z"
   },
   {
    "duration": 35,
    "start_time": "2024-02-15T18:47:00.441Z"
   },
   {
    "duration": 3,
    "start_time": "2024-02-15T18:47:00.793Z"
   },
   {
    "duration": 52,
    "start_time": "2024-02-15T18:47:01.173Z"
   },
   {
    "duration": 17,
    "start_time": "2024-02-15T18:56:04.065Z"
   },
   {
    "duration": 34,
    "start_time": "2024-02-15T18:56:17.981Z"
   },
   {
    "duration": 17,
    "start_time": "2024-02-15T18:56:19.892Z"
   },
   {
    "duration": 48,
    "start_time": "2024-02-15T18:56:28.190Z"
   },
   {
    "duration": 365,
    "start_time": "2024-02-15T19:50:44.041Z"
   },
   {
    "duration": 71,
    "start_time": "2024-02-15T19:50:44.408Z"
   },
   {
    "duration": 10,
    "start_time": "2024-02-15T19:50:44.480Z"
   },
   {
    "duration": 10,
    "start_time": "2024-02-15T19:50:44.492Z"
   },
   {
    "duration": 8,
    "start_time": "2024-02-15T19:50:44.503Z"
   },
   {
    "duration": 9,
    "start_time": "2024-02-15T19:50:44.512Z"
   },
   {
    "duration": 4,
    "start_time": "2024-02-15T19:50:44.523Z"
   },
   {
    "duration": 9,
    "start_time": "2024-02-15T19:50:44.528Z"
   },
   {
    "duration": 9,
    "start_time": "2024-02-15T19:50:44.538Z"
   },
   {
    "duration": 4,
    "start_time": "2024-02-15T19:50:44.549Z"
   },
   {
    "duration": 6,
    "start_time": "2024-02-15T19:50:44.554Z"
   },
   {
    "duration": 7,
    "start_time": "2024-02-15T19:50:44.561Z"
   },
   {
    "duration": 5,
    "start_time": "2024-02-15T19:50:44.570Z"
   },
   {
    "duration": 45,
    "start_time": "2024-02-15T19:50:44.576Z"
   },
   {
    "duration": 6,
    "start_time": "2024-02-15T19:50:44.622Z"
   },
   {
    "duration": 16,
    "start_time": "2024-02-15T19:50:44.629Z"
   },
   {
    "duration": 261,
    "start_time": "2024-02-15T19:50:44.646Z"
   },
   {
    "duration": 141,
    "start_time": "2024-02-15T19:50:44.908Z"
   },
   {
    "duration": 99,
    "start_time": "2024-02-15T19:50:45.051Z"
   },
   {
    "duration": 138,
    "start_time": "2024-02-15T19:50:45.152Z"
   },
   {
    "duration": 139,
    "start_time": "2024-02-15T19:50:45.292Z"
   },
   {
    "duration": 194,
    "start_time": "2024-02-15T19:50:45.433Z"
   },
   {
    "duration": 11,
    "start_time": "2024-02-15T19:50:45.628Z"
   },
   {
    "duration": 8,
    "start_time": "2024-02-15T19:50:45.640Z"
   },
   {
    "duration": 6,
    "start_time": "2024-02-15T19:50:45.650Z"
   },
   {
    "duration": 5,
    "start_time": "2024-02-15T19:50:45.657Z"
   },
   {
    "duration": 195,
    "start_time": "2024-02-15T19:50:45.664Z"
   },
   {
    "duration": 170,
    "start_time": "2024-02-15T19:50:45.862Z"
   },
   {
    "duration": 163,
    "start_time": "2024-02-15T19:50:46.033Z"
   },
   {
    "duration": 174,
    "start_time": "2024-02-15T19:50:46.198Z"
   },
   {
    "duration": 2,
    "start_time": "2024-02-15T19:50:46.374Z"
   },
   {
    "duration": 69,
    "start_time": "2024-02-15T19:50:46.377Z"
   },
   {
    "duration": 50,
    "start_time": "2024-02-15T19:50:46.448Z"
   },
   {
    "duration": 3,
    "start_time": "2024-02-15T19:50:46.499Z"
   },
   {
    "duration": 41,
    "start_time": "2024-02-15T19:50:46.503Z"
   },
   {
    "duration": 3,
    "start_time": "2024-02-15T19:50:46.545Z"
   },
   {
    "duration": 46,
    "start_time": "2024-02-15T19:50:46.549Z"
   },
   {
    "duration": 77,
    "start_time": "2024-02-15T19:50:46.597Z"
   },
   {
    "duration": 9,
    "start_time": "2024-02-15T19:51:53.954Z"
   },
   {
    "duration": 457,
    "start_time": "2024-02-15T19:52:03.328Z"
   },
   {
    "duration": 5,
    "start_time": "2024-02-15T19:52:04.526Z"
   },
   {
    "duration": 42,
    "start_time": "2024-02-15T19:54:12.298Z"
   },
   {
    "duration": 45,
    "start_time": "2024-02-15T19:54:19.391Z"
   },
   {
    "duration": 60,
    "start_time": "2024-02-15T19:54:21.933Z"
   },
   {
    "duration": 5,
    "start_time": "2024-02-15T19:56:21.400Z"
   },
   {
    "duration": 5,
    "start_time": "2024-02-15T19:59:06.784Z"
   },
   {
    "duration": 6,
    "start_time": "2024-02-15T20:01:53.357Z"
   },
   {
    "duration": 34,
    "start_time": "2024-02-15T20:09:49.412Z"
   },
   {
    "duration": 6,
    "start_time": "2024-02-15T20:09:58.100Z"
   },
   {
    "duration": 4,
    "start_time": "2024-02-15T20:11:37.751Z"
   },
   {
    "duration": 5,
    "start_time": "2024-02-15T20:11:46.242Z"
   },
   {
    "duration": 6,
    "start_time": "2024-02-15T20:16:13.464Z"
   },
   {
    "duration": 5,
    "start_time": "2024-02-15T20:16:27.391Z"
   },
   {
    "duration": 6,
    "start_time": "2024-02-15T20:26:15.113Z"
   },
   {
    "duration": 391,
    "start_time": "2024-02-15T20:28:24.917Z"
   },
   {
    "duration": 72,
    "start_time": "2024-02-15T20:28:25.310Z"
   },
   {
    "duration": 10,
    "start_time": "2024-02-15T20:28:25.383Z"
   },
   {
    "duration": 11,
    "start_time": "2024-02-15T20:28:25.395Z"
   },
   {
    "duration": 10,
    "start_time": "2024-02-15T20:28:25.407Z"
   },
   {
    "duration": 20,
    "start_time": "2024-02-15T20:28:25.419Z"
   },
   {
    "duration": 5,
    "start_time": "2024-02-15T20:28:25.440Z"
   },
   {
    "duration": 9,
    "start_time": "2024-02-15T20:28:25.446Z"
   },
   {
    "duration": 8,
    "start_time": "2024-02-15T20:28:25.457Z"
   },
   {
    "duration": 5,
    "start_time": "2024-02-15T20:28:25.468Z"
   },
   {
    "duration": 6,
    "start_time": "2024-02-15T20:28:25.474Z"
   },
   {
    "duration": 8,
    "start_time": "2024-02-15T20:28:25.481Z"
   },
   {
    "duration": 29,
    "start_time": "2024-02-15T20:28:25.490Z"
   },
   {
    "duration": 6,
    "start_time": "2024-02-15T20:28:25.520Z"
   },
   {
    "duration": 6,
    "start_time": "2024-02-15T20:28:25.527Z"
   },
   {
    "duration": 5,
    "start_time": "2024-02-15T20:28:25.534Z"
   },
   {
    "duration": 233,
    "start_time": "2024-02-15T20:28:25.540Z"
   },
   {
    "duration": 136,
    "start_time": "2024-02-15T20:28:25.775Z"
   },
   {
    "duration": 106,
    "start_time": "2024-02-15T20:28:25.918Z"
   },
   {
    "duration": 137,
    "start_time": "2024-02-15T20:28:26.026Z"
   },
   {
    "duration": 134,
    "start_time": "2024-02-15T20:28:26.164Z"
   },
   {
    "duration": 167,
    "start_time": "2024-02-15T20:28:26.300Z"
   },
   {
    "duration": 10,
    "start_time": "2024-02-15T20:28:26.468Z"
   },
   {
    "duration": 9,
    "start_time": "2024-02-15T20:28:26.479Z"
   },
   {
    "duration": 6,
    "start_time": "2024-02-15T20:28:26.489Z"
   },
   {
    "duration": 23,
    "start_time": "2024-02-15T20:28:26.497Z"
   },
   {
    "duration": 183,
    "start_time": "2024-02-15T20:28:26.521Z"
   },
   {
    "duration": 195,
    "start_time": "2024-02-15T20:28:26.707Z"
   },
   {
    "duration": 180,
    "start_time": "2024-02-15T20:28:26.904Z"
   },
   {
    "duration": 186,
    "start_time": "2024-02-15T20:28:27.086Z"
   },
   {
    "duration": 2,
    "start_time": "2024-02-15T20:28:27.273Z"
   },
   {
    "duration": 52,
    "start_time": "2024-02-15T20:28:27.276Z"
   },
   {
    "duration": 53,
    "start_time": "2024-02-15T20:28:27.329Z"
   },
   {
    "duration": 2,
    "start_time": "2024-02-15T20:28:27.384Z"
   },
   {
    "duration": 57,
    "start_time": "2024-02-15T20:28:27.387Z"
   },
   {
    "duration": 2,
    "start_time": "2024-02-15T20:28:27.446Z"
   },
   {
    "duration": 69,
    "start_time": "2024-02-15T20:28:27.449Z"
   },
   {
    "duration": 454,
    "start_time": "2024-02-15T20:28:27.520Z"
   },
   {
    "duration": 6,
    "start_time": "2024-02-15T20:28:27.975Z"
   },
   {
    "duration": 6,
    "start_time": "2024-02-15T20:28:27.982Z"
   },
   {
    "duration": 6,
    "start_time": "2024-02-15T20:28:27.989Z"
   },
   {
    "duration": 107,
    "start_time": "2024-02-15T20:29:37.980Z"
   },
   {
    "duration": 1139,
    "start_time": "2024-02-15T20:30:01.489Z"
   },
   {
    "duration": 5,
    "start_time": "2024-02-15T20:30:23.897Z"
   },
   {
    "duration": 6,
    "start_time": "2024-02-15T20:31:59.351Z"
   },
   {
    "duration": 6,
    "start_time": "2024-02-15T20:35:57.954Z"
   },
   {
    "duration": 6,
    "start_time": "2024-02-15T20:37:17.037Z"
   },
   {
    "duration": 379,
    "start_time": "2024-02-15T20:37:23.534Z"
   },
   {
    "duration": 72,
    "start_time": "2024-02-15T20:37:23.915Z"
   },
   {
    "duration": 9,
    "start_time": "2024-02-15T20:37:23.989Z"
   },
   {
    "duration": 12,
    "start_time": "2024-02-15T20:37:24.000Z"
   },
   {
    "duration": 9,
    "start_time": "2024-02-15T20:37:24.014Z"
   },
   {
    "duration": 16,
    "start_time": "2024-02-15T20:37:24.024Z"
   },
   {
    "duration": 5,
    "start_time": "2024-02-15T20:37:24.041Z"
   },
   {
    "duration": 11,
    "start_time": "2024-02-15T20:37:24.047Z"
   },
   {
    "duration": 15,
    "start_time": "2024-02-15T20:37:24.059Z"
   },
   {
    "duration": 7,
    "start_time": "2024-02-15T20:37:24.076Z"
   },
   {
    "duration": 5,
    "start_time": "2024-02-15T20:37:24.084Z"
   },
   {
    "duration": 7,
    "start_time": "2024-02-15T20:37:24.091Z"
   },
   {
    "duration": 19,
    "start_time": "2024-02-15T20:37:24.099Z"
   },
   {
    "duration": 5,
    "start_time": "2024-02-15T20:37:24.120Z"
   },
   {
    "duration": 6,
    "start_time": "2024-02-15T20:37:24.126Z"
   },
   {
    "duration": 4,
    "start_time": "2024-02-15T20:37:24.134Z"
   },
   {
    "duration": 288,
    "start_time": "2024-02-15T20:37:24.139Z"
   },
   {
    "duration": 140,
    "start_time": "2024-02-15T20:37:24.429Z"
   },
   {
    "duration": 109,
    "start_time": "2024-02-15T20:37:24.571Z"
   },
   {
    "duration": 152,
    "start_time": "2024-02-15T20:37:24.681Z"
   },
   {
    "duration": 136,
    "start_time": "2024-02-15T20:37:24.835Z"
   },
   {
    "duration": 176,
    "start_time": "2024-02-15T20:37:24.973Z"
   },
   {
    "duration": 9,
    "start_time": "2024-02-15T20:37:25.150Z"
   },
   {
    "duration": 11,
    "start_time": "2024-02-15T20:37:25.162Z"
   },
   {
    "duration": 15,
    "start_time": "2024-02-15T20:37:25.174Z"
   },
   {
    "duration": 7,
    "start_time": "2024-02-15T20:37:25.191Z"
   },
   {
    "duration": 186,
    "start_time": "2024-02-15T20:37:25.199Z"
   },
   {
    "duration": 192,
    "start_time": "2024-02-15T20:37:25.388Z"
   },
   {
    "duration": 186,
    "start_time": "2024-02-15T20:37:25.582Z"
   },
   {
    "duration": 199,
    "start_time": "2024-02-15T20:37:25.769Z"
   },
   {
    "duration": 3,
    "start_time": "2024-02-15T20:37:25.969Z"
   },
   {
    "duration": 51,
    "start_time": "2024-02-15T20:37:25.973Z"
   },
   {
    "duration": 55,
    "start_time": "2024-02-15T20:37:26.026Z"
   },
   {
    "duration": 3,
    "start_time": "2024-02-15T20:37:26.082Z"
   },
   {
    "duration": 61,
    "start_time": "2024-02-15T20:37:26.086Z"
   },
   {
    "duration": 3,
    "start_time": "2024-02-15T20:37:26.148Z"
   },
   {
    "duration": 74,
    "start_time": "2024-02-15T20:37:26.152Z"
   },
   {
    "duration": 441,
    "start_time": "2024-02-15T20:37:26.227Z"
   },
   {
    "duration": 5,
    "start_time": "2024-02-15T20:37:26.670Z"
   },
   {
    "duration": 6,
    "start_time": "2024-02-15T20:37:26.676Z"
   },
   {
    "duration": 5,
    "start_time": "2024-02-15T20:37:26.684Z"
   },
   {
    "duration": 8,
    "start_time": "2024-02-15T20:38:11.733Z"
   },
   {
    "duration": 6,
    "start_time": "2024-02-15T20:38:24.134Z"
   },
   {
    "duration": 99,
    "start_time": "2024-02-15T20:39:53.963Z"
   },
   {
    "duration": 16,
    "start_time": "2024-02-15T20:42:02.545Z"
   },
   {
    "duration": 7,
    "start_time": "2024-02-15T20:42:19.802Z"
   },
   {
    "duration": 3,
    "start_time": "2024-02-15T20:42:55.827Z"
   },
   {
    "duration": 1250,
    "start_time": "2024-02-15T20:44:09.066Z"
   },
   {
    "duration": 110,
    "start_time": "2024-02-15T20:45:36.589Z"
   },
   {
    "duration": 13,
    "start_time": "2024-02-15T20:47:20.915Z"
   },
   {
    "duration": 18,
    "start_time": "2024-02-15T20:48:43.120Z"
   },
   {
    "duration": 10,
    "start_time": "2024-02-15T20:49:05.012Z"
   },
   {
    "duration": 21,
    "start_time": "2024-02-15T20:49:16.495Z"
   },
   {
    "duration": 374,
    "start_time": "2024-02-15T20:49:23.137Z"
   },
   {
    "duration": 72,
    "start_time": "2024-02-15T20:49:23.513Z"
   },
   {
    "duration": 10,
    "start_time": "2024-02-15T20:49:23.586Z"
   },
   {
    "duration": 10,
    "start_time": "2024-02-15T20:49:23.598Z"
   },
   {
    "duration": 8,
    "start_time": "2024-02-15T20:49:23.610Z"
   },
   {
    "duration": 8,
    "start_time": "2024-02-15T20:49:23.619Z"
   },
   {
    "duration": 4,
    "start_time": "2024-02-15T20:49:23.628Z"
   },
   {
    "duration": 9,
    "start_time": "2024-02-15T20:49:23.634Z"
   },
   {
    "duration": 9,
    "start_time": "2024-02-15T20:49:23.644Z"
   },
   {
    "duration": 5,
    "start_time": "2024-02-15T20:49:23.656Z"
   },
   {
    "duration": 7,
    "start_time": "2024-02-15T20:49:23.662Z"
   },
   {
    "duration": 8,
    "start_time": "2024-02-15T20:49:23.671Z"
   },
   {
    "duration": 5,
    "start_time": "2024-02-15T20:49:23.718Z"
   },
   {
    "duration": 6,
    "start_time": "2024-02-15T20:49:23.724Z"
   },
   {
    "duration": 6,
    "start_time": "2024-02-15T20:49:23.732Z"
   },
   {
    "duration": 5,
    "start_time": "2024-02-15T20:49:23.739Z"
   },
   {
    "duration": 212,
    "start_time": "2024-02-15T20:49:23.745Z"
   },
   {
    "duration": 140,
    "start_time": "2024-02-15T20:49:23.959Z"
   },
   {
    "duration": 94,
    "start_time": "2024-02-15T20:49:24.100Z"
   },
   {
    "duration": 142,
    "start_time": "2024-02-15T20:49:24.196Z"
   },
   {
    "duration": 133,
    "start_time": "2024-02-15T20:49:24.339Z"
   },
   {
    "duration": 179,
    "start_time": "2024-02-15T20:49:24.474Z"
   },
   {
    "duration": 10,
    "start_time": "2024-02-15T20:49:24.654Z"
   },
   {
    "duration": 8,
    "start_time": "2024-02-15T20:49:24.665Z"
   },
   {
    "duration": 6,
    "start_time": "2024-02-15T20:49:24.675Z"
   },
   {
    "duration": 4,
    "start_time": "2024-02-15T20:49:24.682Z"
   },
   {
    "duration": 197,
    "start_time": "2024-02-15T20:49:24.688Z"
   },
   {
    "duration": 166,
    "start_time": "2024-02-15T20:49:24.889Z"
   },
   {
    "duration": 166,
    "start_time": "2024-02-15T20:49:25.056Z"
   },
   {
    "duration": 178,
    "start_time": "2024-02-15T20:49:25.223Z"
   },
   {
    "duration": 3,
    "start_time": "2024-02-15T20:49:25.402Z"
   },
   {
    "duration": 48,
    "start_time": "2024-02-15T20:49:25.406Z"
   },
   {
    "duration": 67,
    "start_time": "2024-02-15T20:49:25.455Z"
   },
   {
    "duration": 2,
    "start_time": "2024-02-15T20:49:25.524Z"
   },
   {
    "duration": 45,
    "start_time": "2024-02-15T20:49:25.528Z"
   },
   {
    "duration": 3,
    "start_time": "2024-02-15T20:49:25.574Z"
   },
   {
    "duration": 84,
    "start_time": "2024-02-15T20:49:25.578Z"
   },
   {
    "duration": 473,
    "start_time": "2024-02-15T20:49:25.663Z"
   },
   {
    "duration": 5,
    "start_time": "2024-02-15T20:49:26.138Z"
   },
   {
    "duration": 6,
    "start_time": "2024-02-15T20:49:26.145Z"
   },
   {
    "duration": 5,
    "start_time": "2024-02-15T20:49:26.152Z"
   },
   {
    "duration": 8,
    "start_time": "2024-02-15T20:49:26.159Z"
   },
   {
    "duration": 17,
    "start_time": "2024-02-15T20:49:26.168Z"
   },
   {
    "duration": 2028,
    "start_time": "2024-02-15T20:49:26.186Z"
   },
   {
    "duration": 1001,
    "start_time": "2024-02-15T20:49:53.683Z"
   },
   {
    "duration": 10,
    "start_time": "2024-02-15T20:51:29.899Z"
   },
   {
    "duration": 7,
    "start_time": "2024-02-15T20:51:36.282Z"
   },
   {
    "duration": 5,
    "start_time": "2024-02-15T20:53:24.821Z"
   },
   {
    "duration": 7,
    "start_time": "2024-02-15T20:54:30.434Z"
   },
   {
    "duration": 5,
    "start_time": "2024-02-15T20:54:32.711Z"
   },
   {
    "duration": 5,
    "start_time": "2024-02-15T20:54:35.341Z"
   },
   {
    "duration": 6,
    "start_time": "2024-02-15T20:54:53.030Z"
   },
   {
    "duration": 903,
    "start_time": "2024-02-15T21:01:03.482Z"
   },
   {
    "duration": 5,
    "start_time": "2024-02-15T21:01:24.540Z"
   },
   {
    "duration": 7,
    "start_time": "2024-02-15T21:03:59.585Z"
   },
   {
    "duration": 892,
    "start_time": "2024-02-15T21:05:20.296Z"
   },
   {
    "duration": 5,
    "start_time": "2024-02-15T21:06:04.269Z"
   },
   {
    "duration": 353,
    "start_time": "2024-02-15T21:07:22.458Z"
   },
   {
    "duration": 71,
    "start_time": "2024-02-15T21:07:22.813Z"
   },
   {
    "duration": 11,
    "start_time": "2024-02-15T21:07:22.885Z"
   },
   {
    "duration": 20,
    "start_time": "2024-02-15T21:07:22.898Z"
   },
   {
    "duration": 20,
    "start_time": "2024-02-15T21:07:22.920Z"
   },
   {
    "duration": 13,
    "start_time": "2024-02-15T21:07:22.941Z"
   },
   {
    "duration": 6,
    "start_time": "2024-02-15T21:07:22.956Z"
   },
   {
    "duration": 20,
    "start_time": "2024-02-15T21:07:22.963Z"
   },
   {
    "duration": 15,
    "start_time": "2024-02-15T21:07:22.984Z"
   },
   {
    "duration": 18,
    "start_time": "2024-02-15T21:07:23.001Z"
   },
   {
    "duration": 9,
    "start_time": "2024-02-15T21:07:23.020Z"
   },
   {
    "duration": 23,
    "start_time": "2024-02-15T21:07:23.030Z"
   },
   {
    "duration": 4,
    "start_time": "2024-02-15T21:07:23.055Z"
   },
   {
    "duration": 7,
    "start_time": "2024-02-15T21:07:23.061Z"
   },
   {
    "duration": 18,
    "start_time": "2024-02-15T21:07:23.069Z"
   },
   {
    "duration": 13,
    "start_time": "2024-02-15T21:07:23.088Z"
   },
   {
    "duration": 221,
    "start_time": "2024-02-15T21:07:23.103Z"
   },
   {
    "duration": 144,
    "start_time": "2024-02-15T21:07:23.326Z"
   },
   {
    "duration": 109,
    "start_time": "2024-02-15T21:07:23.472Z"
   },
   {
    "duration": 150,
    "start_time": "2024-02-15T21:07:23.583Z"
   },
   {
    "duration": 157,
    "start_time": "2024-02-15T21:07:23.735Z"
   },
   {
    "duration": 173,
    "start_time": "2024-02-15T21:07:23.893Z"
   },
   {
    "duration": 9,
    "start_time": "2024-02-15T21:07:24.068Z"
   },
   {
    "duration": 22,
    "start_time": "2024-02-15T21:07:24.078Z"
   },
   {
    "duration": 24,
    "start_time": "2024-02-15T21:07:24.101Z"
   },
   {
    "duration": 7,
    "start_time": "2024-02-15T21:07:24.127Z"
   },
   {
    "duration": 189,
    "start_time": "2024-02-15T21:07:24.135Z"
   },
   {
    "duration": 169,
    "start_time": "2024-02-15T21:07:24.328Z"
   },
   {
    "duration": 165,
    "start_time": "2024-02-15T21:07:24.499Z"
   },
   {
    "duration": 179,
    "start_time": "2024-02-15T21:07:24.665Z"
   },
   {
    "duration": 2,
    "start_time": "2024-02-15T21:07:24.846Z"
   },
   {
    "duration": 69,
    "start_time": "2024-02-15T21:07:24.849Z"
   },
   {
    "duration": 55,
    "start_time": "2024-02-15T21:07:24.919Z"
   },
   {
    "duration": 3,
    "start_time": "2024-02-15T21:07:24.975Z"
   },
   {
    "duration": 57,
    "start_time": "2024-02-15T21:07:24.979Z"
   },
   {
    "duration": 2,
    "start_time": "2024-02-15T21:07:25.038Z"
   },
   {
    "duration": 1235,
    "start_time": "2024-02-15T21:07:25.041Z"
   },
   {
    "duration": 0,
    "start_time": "2024-02-15T21:07:26.278Z"
   },
   {
    "duration": 0,
    "start_time": "2024-02-15T21:07:26.279Z"
   },
   {
    "duration": 0,
    "start_time": "2024-02-15T21:07:26.280Z"
   },
   {
    "duration": 0,
    "start_time": "2024-02-15T21:07:26.281Z"
   },
   {
    "duration": 389,
    "start_time": "2024-02-15T21:08:17.620Z"
   },
   {
    "duration": 72,
    "start_time": "2024-02-15T21:08:18.010Z"
   },
   {
    "duration": 10,
    "start_time": "2024-02-15T21:08:18.084Z"
   },
   {
    "duration": 10,
    "start_time": "2024-02-15T21:08:18.096Z"
   },
   {
    "duration": 9,
    "start_time": "2024-02-15T21:08:18.108Z"
   },
   {
    "duration": 7,
    "start_time": "2024-02-15T21:08:18.118Z"
   },
   {
    "duration": 13,
    "start_time": "2024-02-15T21:08:18.126Z"
   },
   {
    "duration": 26,
    "start_time": "2024-02-15T21:08:18.140Z"
   },
   {
    "duration": 10,
    "start_time": "2024-02-15T21:08:18.168Z"
   },
   {
    "duration": 6,
    "start_time": "2024-02-15T21:08:18.182Z"
   },
   {
    "duration": 8,
    "start_time": "2024-02-15T21:08:18.189Z"
   },
   {
    "duration": 22,
    "start_time": "2024-02-15T21:08:18.198Z"
   },
   {
    "duration": 5,
    "start_time": "2024-02-15T21:08:18.221Z"
   },
   {
    "duration": 8,
    "start_time": "2024-02-15T21:08:18.227Z"
   },
   {
    "duration": 10,
    "start_time": "2024-02-15T21:08:18.236Z"
   },
   {
    "duration": 12,
    "start_time": "2024-02-15T21:08:18.248Z"
   },
   {
    "duration": 252,
    "start_time": "2024-02-15T21:08:18.262Z"
   },
   {
    "duration": 154,
    "start_time": "2024-02-15T21:08:18.515Z"
   },
   {
    "duration": 106,
    "start_time": "2024-02-15T21:08:18.671Z"
   },
   {
    "duration": 144,
    "start_time": "2024-02-15T21:08:18.779Z"
   },
   {
    "duration": 142,
    "start_time": "2024-02-15T21:08:18.925Z"
   },
   {
    "duration": 178,
    "start_time": "2024-02-15T21:08:19.068Z"
   },
   {
    "duration": 11,
    "start_time": "2024-02-15T21:08:19.248Z"
   },
   {
    "duration": 9,
    "start_time": "2024-02-15T21:08:19.260Z"
   },
   {
    "duration": 6,
    "start_time": "2024-02-15T21:08:19.271Z"
   },
   {
    "duration": 5,
    "start_time": "2024-02-15T21:08:19.279Z"
   },
   {
    "duration": 208,
    "start_time": "2024-02-15T21:08:19.285Z"
   },
   {
    "duration": 191,
    "start_time": "2024-02-15T21:08:19.497Z"
   },
   {
    "duration": 179,
    "start_time": "2024-02-15T21:08:19.689Z"
   },
   {
    "duration": 178,
    "start_time": "2024-02-15T21:08:19.869Z"
   },
   {
    "duration": 3,
    "start_time": "2024-02-15T21:08:20.048Z"
   },
   {
    "duration": 46,
    "start_time": "2024-02-15T21:08:20.052Z"
   },
   {
    "duration": 63,
    "start_time": "2024-02-15T21:08:20.099Z"
   },
   {
    "duration": 3,
    "start_time": "2024-02-15T21:08:20.163Z"
   },
   {
    "duration": 51,
    "start_time": "2024-02-15T21:08:20.167Z"
   },
   {
    "duration": 2,
    "start_time": "2024-02-15T21:08:20.220Z"
   },
   {
    "duration": 85,
    "start_time": "2024-02-15T21:08:20.223Z"
   },
   {
    "duration": 474,
    "start_time": "2024-02-15T21:08:20.310Z"
   },
   {
    "duration": 6,
    "start_time": "2024-02-15T21:08:20.785Z"
   },
   {
    "duration": 16,
    "start_time": "2024-02-15T21:08:20.792Z"
   },
   {
    "duration": 19,
    "start_time": "2024-02-15T21:08:20.810Z"
   },
   {
    "duration": 400,
    "start_time": "2024-02-15T21:09:28.218Z"
   },
   {
    "duration": 71,
    "start_time": "2024-02-15T21:09:28.619Z"
   },
   {
    "duration": 9,
    "start_time": "2024-02-15T21:09:28.691Z"
   },
   {
    "duration": 11,
    "start_time": "2024-02-15T21:09:28.703Z"
   },
   {
    "duration": 8,
    "start_time": "2024-02-15T21:09:28.716Z"
   },
   {
    "duration": 7,
    "start_time": "2024-02-15T21:09:28.726Z"
   },
   {
    "duration": 4,
    "start_time": "2024-02-15T21:09:28.735Z"
   },
   {
    "duration": 10,
    "start_time": "2024-02-15T21:09:28.740Z"
   },
   {
    "duration": 9,
    "start_time": "2024-02-15T21:09:28.751Z"
   },
   {
    "duration": 4,
    "start_time": "2024-02-15T21:09:28.762Z"
   },
   {
    "duration": 6,
    "start_time": "2024-02-15T21:09:28.767Z"
   },
   {
    "duration": 9,
    "start_time": "2024-02-15T21:09:28.774Z"
   },
   {
    "duration": 5,
    "start_time": "2024-02-15T21:09:28.817Z"
   },
   {
    "duration": 7,
    "start_time": "2024-02-15T21:09:28.823Z"
   },
   {
    "duration": 5,
    "start_time": "2024-02-15T21:09:28.832Z"
   },
   {
    "duration": 5,
    "start_time": "2024-02-15T21:09:28.839Z"
   },
   {
    "duration": 223,
    "start_time": "2024-02-15T21:09:28.845Z"
   },
   {
    "duration": 173,
    "start_time": "2024-02-15T21:09:29.071Z"
   },
   {
    "duration": 99,
    "start_time": "2024-02-15T21:09:29.245Z"
   },
   {
    "duration": 136,
    "start_time": "2024-02-15T21:09:29.346Z"
   },
   {
    "duration": 136,
    "start_time": "2024-02-15T21:09:29.484Z"
   },
   {
    "duration": 197,
    "start_time": "2024-02-15T21:09:29.622Z"
   },
   {
    "duration": 10,
    "start_time": "2024-02-15T21:09:29.820Z"
   },
   {
    "duration": 8,
    "start_time": "2024-02-15T21:09:29.832Z"
   },
   {
    "duration": 7,
    "start_time": "2024-02-15T21:09:29.842Z"
   },
   {
    "duration": 6,
    "start_time": "2024-02-15T21:09:29.850Z"
   },
   {
    "duration": 208,
    "start_time": "2024-02-15T21:09:29.857Z"
   },
   {
    "duration": 192,
    "start_time": "2024-02-15T21:09:30.069Z"
   },
   {
    "duration": 185,
    "start_time": "2024-02-15T21:09:30.263Z"
   },
   {
    "duration": 196,
    "start_time": "2024-02-15T21:09:30.449Z"
   },
   {
    "duration": 3,
    "start_time": "2024-02-15T21:09:30.646Z"
   },
   {
    "duration": 65,
    "start_time": "2024-02-15T21:09:30.650Z"
   },
   {
    "duration": 64,
    "start_time": "2024-02-15T21:09:30.716Z"
   },
   {
    "duration": 2,
    "start_time": "2024-02-15T21:09:30.782Z"
   },
   {
    "duration": 62,
    "start_time": "2024-02-15T21:09:30.785Z"
   },
   {
    "duration": 2,
    "start_time": "2024-02-15T21:09:30.849Z"
   },
   {
    "duration": 105,
    "start_time": "2024-02-15T21:09:30.853Z"
   },
   {
    "duration": 459,
    "start_time": "2024-02-15T21:09:30.960Z"
   },
   {
    "duration": 6,
    "start_time": "2024-02-15T21:09:31.420Z"
   },
   {
    "duration": 16,
    "start_time": "2024-02-15T21:09:31.428Z"
   },
   {
    "duration": 82,
    "start_time": "2024-02-15T21:09:31.446Z"
   },
   {
    "duration": 609,
    "start_time": "2024-02-16T09:10:48.530Z"
   },
   {
    "duration": 445,
    "start_time": "2024-02-16T09:10:54.667Z"
   },
   {
    "duration": 207,
    "start_time": "2024-02-16T09:10:55.113Z"
   },
   {
    "duration": 10,
    "start_time": "2024-02-16T09:10:55.322Z"
   },
   {
    "duration": 27,
    "start_time": "2024-02-16T09:10:55.334Z"
   },
   {
    "duration": 17,
    "start_time": "2024-02-16T09:10:55.362Z"
   },
   {
    "duration": 14,
    "start_time": "2024-02-16T09:10:55.381Z"
   },
   {
    "duration": 16,
    "start_time": "2024-02-16T09:10:55.396Z"
   },
   {
    "duration": 18,
    "start_time": "2024-02-16T09:10:55.413Z"
   },
   {
    "duration": 12,
    "start_time": "2024-02-16T09:10:55.432Z"
   },
   {
    "duration": 7,
    "start_time": "2024-02-16T09:10:55.447Z"
   },
   {
    "duration": 10,
    "start_time": "2024-02-16T09:10:55.455Z"
   },
   {
    "duration": 9,
    "start_time": "2024-02-16T09:10:55.467Z"
   },
   {
    "duration": 5,
    "start_time": "2024-02-16T09:10:55.477Z"
   },
   {
    "duration": 20,
    "start_time": "2024-02-16T09:10:55.484Z"
   },
   {
    "duration": 23,
    "start_time": "2024-02-16T09:10:55.506Z"
   },
   {
    "duration": 8,
    "start_time": "2024-02-16T09:10:55.530Z"
   },
   {
    "duration": 269,
    "start_time": "2024-02-16T09:10:55.540Z"
   },
   {
    "duration": 175,
    "start_time": "2024-02-16T09:10:55.811Z"
   },
   {
    "duration": 111,
    "start_time": "2024-02-16T09:10:55.988Z"
   },
   {
    "duration": 144,
    "start_time": "2024-02-16T09:10:56.100Z"
   },
   {
    "duration": 137,
    "start_time": "2024-02-16T09:10:56.245Z"
   },
   {
    "duration": 182,
    "start_time": "2024-02-16T09:10:56.383Z"
   },
   {
    "duration": 10,
    "start_time": "2024-02-16T09:10:56.567Z"
   },
   {
    "duration": 31,
    "start_time": "2024-02-16T09:10:56.578Z"
   },
   {
    "duration": 16,
    "start_time": "2024-02-16T09:10:56.610Z"
   },
   {
    "duration": 15,
    "start_time": "2024-02-16T09:10:56.629Z"
   },
   {
    "duration": 198,
    "start_time": "2024-02-16T09:10:56.646Z"
   },
   {
    "duration": 179,
    "start_time": "2024-02-16T09:10:56.847Z"
   },
   {
    "duration": 180,
    "start_time": "2024-02-16T09:10:57.028Z"
   },
   {
    "duration": 194,
    "start_time": "2024-02-16T09:10:57.212Z"
   },
   {
    "duration": 3,
    "start_time": "2024-02-16T09:10:57.407Z"
   },
   {
    "duration": 58,
    "start_time": "2024-02-16T09:10:57.411Z"
   },
   {
    "duration": 54,
    "start_time": "2024-02-16T09:10:57.470Z"
   },
   {
    "duration": 3,
    "start_time": "2024-02-16T09:10:57.526Z"
   },
   {
    "duration": 60,
    "start_time": "2024-02-16T09:10:57.530Z"
   },
   {
    "duration": 3,
    "start_time": "2024-02-16T09:10:57.591Z"
   },
   {
    "duration": 102,
    "start_time": "2024-02-16T09:10:57.595Z"
   },
   {
    "duration": 436,
    "start_time": "2024-02-16T09:10:57.698Z"
   },
   {
    "duration": 6,
    "start_time": "2024-02-16T09:10:58.135Z"
   },
   {
    "duration": 26,
    "start_time": "2024-02-16T09:10:58.142Z"
   },
   {
    "duration": 31,
    "start_time": "2024-02-16T09:10:58.170Z"
   },
   {
    "duration": 81,
    "start_time": "2024-02-16T09:12:55.405Z"
   },
   {
    "duration": 101,
    "start_time": "2024-02-16T09:13:11.104Z"
   },
   {
    "duration": 169,
    "start_time": "2024-02-16T09:19:18.198Z"
   },
   {
    "duration": 132,
    "start_time": "2024-02-16T09:20:17.652Z"
   },
   {
    "duration": 147,
    "start_time": "2024-02-16T09:21:12.828Z"
   },
   {
    "duration": 162,
    "start_time": "2024-02-16T09:21:43.330Z"
   },
   {
    "duration": 427,
    "start_time": "2024-02-16T10:44:33.576Z"
   },
   {
    "duration": 79,
    "start_time": "2024-02-16T10:44:34.006Z"
   },
   {
    "duration": 11,
    "start_time": "2024-02-16T10:44:34.086Z"
   },
   {
    "duration": 15,
    "start_time": "2024-02-16T10:44:34.099Z"
   },
   {
    "duration": 10,
    "start_time": "2024-02-16T10:44:34.115Z"
   },
   {
    "duration": 16,
    "start_time": "2024-02-16T10:44:34.127Z"
   },
   {
    "duration": 13,
    "start_time": "2024-02-16T10:44:34.145Z"
   },
   {
    "duration": 20,
    "start_time": "2024-02-16T10:44:34.159Z"
   },
   {
    "duration": 16,
    "start_time": "2024-02-16T10:44:34.181Z"
   },
   {
    "duration": 10,
    "start_time": "2024-02-16T10:44:34.200Z"
   },
   {
    "duration": 10,
    "start_time": "2024-02-16T10:44:34.211Z"
   },
   {
    "duration": 16,
    "start_time": "2024-02-16T10:44:34.223Z"
   },
   {
    "duration": 19,
    "start_time": "2024-02-16T10:44:34.240Z"
   },
   {
    "duration": 24,
    "start_time": "2024-02-16T10:44:34.261Z"
   },
   {
    "duration": 11,
    "start_time": "2024-02-16T10:44:34.287Z"
   },
   {
    "duration": 12,
    "start_time": "2024-02-16T10:44:34.299Z"
   },
   {
    "duration": 267,
    "start_time": "2024-02-16T10:44:34.312Z"
   },
   {
    "duration": 179,
    "start_time": "2024-02-16T10:44:34.581Z"
   },
   {
    "duration": 151,
    "start_time": "2024-02-16T10:44:34.762Z"
   },
   {
    "duration": 170,
    "start_time": "2024-02-16T10:44:34.915Z"
   },
   {
    "duration": 154,
    "start_time": "2024-02-16T10:44:35.087Z"
   },
   {
    "duration": 196,
    "start_time": "2024-02-16T10:44:35.243Z"
   },
   {
    "duration": 11,
    "start_time": "2024-02-16T10:44:35.441Z"
   },
   {
    "duration": 25,
    "start_time": "2024-02-16T10:44:35.453Z"
   },
   {
    "duration": 14,
    "start_time": "2024-02-16T10:44:35.480Z"
   },
   {
    "duration": 12,
    "start_time": "2024-02-16T10:44:35.496Z"
   },
   {
    "duration": 187,
    "start_time": "2024-02-16T10:44:35.509Z"
   },
   {
    "duration": 190,
    "start_time": "2024-02-16T10:44:35.699Z"
   },
   {
    "duration": 190,
    "start_time": "2024-02-16T10:44:35.892Z"
   },
   {
    "duration": 186,
    "start_time": "2024-02-16T10:44:36.086Z"
   },
   {
    "duration": 3,
    "start_time": "2024-02-16T10:44:36.274Z"
   },
   {
    "duration": 69,
    "start_time": "2024-02-16T10:44:36.278Z"
   },
   {
    "duration": 67,
    "start_time": "2024-02-16T10:44:36.348Z"
   },
   {
    "duration": 3,
    "start_time": "2024-02-16T10:44:36.417Z"
   },
   {
    "duration": 70,
    "start_time": "2024-02-16T10:44:36.422Z"
   },
   {
    "duration": 3,
    "start_time": "2024-02-16T10:44:36.493Z"
   },
   {
    "duration": 98,
    "start_time": "2024-02-16T10:44:36.497Z"
   },
   {
    "duration": 497,
    "start_time": "2024-02-16T10:44:36.597Z"
   },
   {
    "duration": 6,
    "start_time": "2024-02-16T10:44:37.096Z"
   },
   {
    "duration": 9,
    "start_time": "2024-02-16T10:44:37.104Z"
   },
   {
    "duration": 9,
    "start_time": "2024-02-16T10:44:37.114Z"
   },
   {
    "duration": 863,
    "start_time": "2024-02-16T10:44:37.124Z"
   },
   {
    "duration": 378,
    "start_time": "2024-02-16T10:47:51.011Z"
   },
   {
    "duration": 116,
    "start_time": "2024-02-16T10:51:32.164Z"
   },
   {
    "duration": 916,
    "start_time": "2024-02-16T10:52:00.931Z"
   },
   {
    "duration": 1018,
    "start_time": "2024-02-16T10:52:36.076Z"
   },
   {
    "duration": 1656,
    "start_time": "2024-02-16T10:53:00.889Z"
   },
   {
    "duration": 15,
    "start_time": "2024-02-16T10:56:32.965Z"
   },
   {
    "duration": 7,
    "start_time": "2024-02-16T10:57:13.002Z"
   },
   {
    "duration": 5,
    "start_time": "2024-02-16T10:57:24.959Z"
   },
   {
    "duration": 4,
    "start_time": "2024-02-16T10:57:29.651Z"
   },
   {
    "duration": 6,
    "start_time": "2024-02-16T10:57:34.762Z"
   },
   {
    "duration": 7,
    "start_time": "2024-02-16T10:57:38.972Z"
   },
   {
    "duration": 8,
    "start_time": "2024-02-16T10:57:43.262Z"
   },
   {
    "duration": 5,
    "start_time": "2024-02-16T10:57:47.546Z"
   },
   {
    "duration": 6,
    "start_time": "2024-02-16T10:57:50.891Z"
   },
   {
    "duration": 6,
    "start_time": "2024-02-16T10:57:53.557Z"
   },
   {
    "duration": 7,
    "start_time": "2024-02-16T10:57:56.175Z"
   },
   {
    "duration": 6,
    "start_time": "2024-02-16T10:57:59.875Z"
   },
   {
    "duration": 5,
    "start_time": "2024-02-16T10:58:05.596Z"
   },
   {
    "duration": 4,
    "start_time": "2024-02-16T10:58:11.282Z"
   },
   {
    "duration": 5,
    "start_time": "2024-02-16T10:58:19.030Z"
   },
   {
    "duration": 14,
    "start_time": "2024-02-16T10:58:22.163Z"
   },
   {
    "duration": 6,
    "start_time": "2024-02-16T10:58:25.732Z"
   },
   {
    "duration": 5,
    "start_time": "2024-02-16T10:58:28.349Z"
   },
   {
    "duration": 5,
    "start_time": "2024-02-16T10:58:31.525Z"
   },
   {
    "duration": 5,
    "start_time": "2024-02-16T10:58:33.926Z"
   },
   {
    "duration": 5,
    "start_time": "2024-02-16T10:58:37.149Z"
   },
   {
    "duration": 1993,
    "start_time": "2024-02-16T11:00:42.246Z"
   },
   {
    "duration": 2001,
    "start_time": "2024-02-16T11:23:48.881Z"
   },
   {
    "duration": 387,
    "start_time": "2024-02-16T11:26:32.701Z"
   },
   {
    "duration": 77,
    "start_time": "2024-02-16T11:26:33.090Z"
   },
   {
    "duration": 10,
    "start_time": "2024-02-16T11:26:33.168Z"
   },
   {
    "duration": 34,
    "start_time": "2024-02-16T11:26:33.180Z"
   },
   {
    "duration": 21,
    "start_time": "2024-02-16T11:26:33.216Z"
   },
   {
    "duration": 24,
    "start_time": "2024-02-16T11:26:33.239Z"
   },
   {
    "duration": 31,
    "start_time": "2024-02-16T11:26:33.264Z"
   },
   {
    "duration": 24,
    "start_time": "2024-02-16T11:26:33.296Z"
   },
   {
    "duration": 13,
    "start_time": "2024-02-16T11:26:33.322Z"
   },
   {
    "duration": 21,
    "start_time": "2024-02-16T11:26:33.338Z"
   },
   {
    "duration": 27,
    "start_time": "2024-02-16T11:26:33.361Z"
   },
   {
    "duration": 53,
    "start_time": "2024-02-16T11:26:33.390Z"
   },
   {
    "duration": 11,
    "start_time": "2024-02-16T11:26:33.445Z"
   },
   {
    "duration": 18,
    "start_time": "2024-02-16T11:26:33.458Z"
   },
   {
    "duration": 28,
    "start_time": "2024-02-16T11:26:33.478Z"
   },
   {
    "duration": 16,
    "start_time": "2024-02-16T11:26:33.508Z"
   },
   {
    "duration": 274,
    "start_time": "2024-02-16T11:26:33.526Z"
   },
   {
    "duration": 169,
    "start_time": "2024-02-16T11:26:33.802Z"
   },
   {
    "duration": 128,
    "start_time": "2024-02-16T11:26:33.973Z"
   },
   {
    "duration": 172,
    "start_time": "2024-02-16T11:26:34.102Z"
   },
   {
    "duration": 143,
    "start_time": "2024-02-16T11:26:34.275Z"
   },
   {
    "duration": 194,
    "start_time": "2024-02-16T11:26:34.420Z"
   },
   {
    "duration": 10,
    "start_time": "2024-02-16T11:26:34.616Z"
   },
   {
    "duration": 44,
    "start_time": "2024-02-16T11:26:34.627Z"
   },
   {
    "duration": 23,
    "start_time": "2024-02-16T11:26:34.673Z"
   },
   {
    "duration": 34,
    "start_time": "2024-02-16T11:26:34.698Z"
   },
   {
    "duration": 174,
    "start_time": "2024-02-16T11:26:34.733Z"
   },
   {
    "duration": 160,
    "start_time": "2024-02-16T11:26:34.911Z"
   },
   {
    "duration": 171,
    "start_time": "2024-02-16T11:26:35.072Z"
   },
   {
    "duration": 165,
    "start_time": "2024-02-16T11:26:35.245Z"
   },
   {
    "duration": 3,
    "start_time": "2024-02-16T11:26:35.412Z"
   },
   {
    "duration": 58,
    "start_time": "2024-02-16T11:26:35.417Z"
   },
   {
    "duration": 66,
    "start_time": "2024-02-16T11:26:35.476Z"
   },
   {
    "duration": 4,
    "start_time": "2024-02-16T11:26:35.543Z"
   },
   {
    "duration": 57,
    "start_time": "2024-02-16T11:26:35.549Z"
   },
   {
    "duration": 33,
    "start_time": "2024-02-16T11:26:35.608Z"
   },
   {
    "duration": 114,
    "start_time": "2024-02-16T11:26:35.643Z"
   },
   {
    "duration": 495,
    "start_time": "2024-02-16T11:26:35.759Z"
   },
   {
    "duration": 9,
    "start_time": "2024-02-16T11:26:36.256Z"
   },
   {
    "duration": 10,
    "start_time": "2024-02-16T11:26:36.267Z"
   },
   {
    "duration": 31,
    "start_time": "2024-02-16T11:26:36.279Z"
   },
   {
    "duration": 1817,
    "start_time": "2024-02-16T11:26:36.312Z"
   },
   {
    "duration": 0,
    "start_time": "2024-02-16T11:33:27.166Z"
   },
   {
    "duration": 6,
    "start_time": "2024-02-16T11:33:33.785Z"
   },
   {
    "duration": 6,
    "start_time": "2024-02-16T11:33:58.683Z"
   },
   {
    "duration": 5,
    "start_time": "2024-02-16T11:34:08.122Z"
   },
   {
    "duration": 1671,
    "start_time": "2024-02-16T11:37:27.499Z"
   },
   {
    "duration": 5,
    "start_time": "2024-02-16T11:38:50.531Z"
   },
   {
    "duration": 4,
    "start_time": "2024-02-16T11:38:59.034Z"
   },
   {
    "duration": 4,
    "start_time": "2024-02-16T11:39:13.546Z"
   },
   {
    "duration": 428,
    "start_time": "2024-02-16T11:40:38.479Z"
   },
   {
    "duration": 81,
    "start_time": "2024-02-16T11:40:38.909Z"
   },
   {
    "duration": 11,
    "start_time": "2024-02-16T11:40:38.991Z"
   },
   {
    "duration": 18,
    "start_time": "2024-02-16T11:40:39.004Z"
   },
   {
    "duration": 11,
    "start_time": "2024-02-16T11:40:39.023Z"
   },
   {
    "duration": 45,
    "start_time": "2024-02-16T11:40:39.036Z"
   },
   {
    "duration": 10,
    "start_time": "2024-02-16T11:40:39.083Z"
   },
   {
    "duration": 29,
    "start_time": "2024-02-16T11:40:39.094Z"
   },
   {
    "duration": 20,
    "start_time": "2024-02-16T11:40:39.125Z"
   },
   {
    "duration": 6,
    "start_time": "2024-02-16T11:40:39.148Z"
   },
   {
    "duration": 11,
    "start_time": "2024-02-16T11:40:39.156Z"
   },
   {
    "duration": 17,
    "start_time": "2024-02-16T11:40:39.168Z"
   },
   {
    "duration": 5,
    "start_time": "2024-02-16T11:40:39.187Z"
   },
   {
    "duration": 13,
    "start_time": "2024-02-16T11:40:39.194Z"
   },
   {
    "duration": 25,
    "start_time": "2024-02-16T11:40:39.209Z"
   },
   {
    "duration": 14,
    "start_time": "2024-02-16T11:40:39.236Z"
   },
   {
    "duration": 285,
    "start_time": "2024-02-16T11:40:39.251Z"
   },
   {
    "duration": 187,
    "start_time": "2024-02-16T11:40:39.538Z"
   },
   {
    "duration": 151,
    "start_time": "2024-02-16T11:40:39.726Z"
   },
   {
    "duration": 169,
    "start_time": "2024-02-16T11:40:39.879Z"
   },
   {
    "duration": 168,
    "start_time": "2024-02-16T11:40:40.050Z"
   },
   {
    "duration": 231,
    "start_time": "2024-02-16T11:40:40.219Z"
   },
   {
    "duration": 22,
    "start_time": "2024-02-16T11:40:40.452Z"
   },
   {
    "duration": 11,
    "start_time": "2024-02-16T11:40:40.476Z"
   },
   {
    "duration": 8,
    "start_time": "2024-02-16T11:40:40.489Z"
   },
   {
    "duration": 7,
    "start_time": "2024-02-16T11:40:40.499Z"
   },
   {
    "duration": 226,
    "start_time": "2024-02-16T11:40:40.508Z"
   },
   {
    "duration": 204,
    "start_time": "2024-02-16T11:40:40.738Z"
   },
   {
    "duration": 177,
    "start_time": "2024-02-16T11:40:40.944Z"
   },
   {
    "duration": 192,
    "start_time": "2024-02-16T11:40:41.123Z"
   },
   {
    "duration": 3,
    "start_time": "2024-02-16T11:40:41.317Z"
   },
   {
    "duration": 69,
    "start_time": "2024-02-16T11:40:41.321Z"
   },
   {
    "duration": 63,
    "start_time": "2024-02-16T11:40:41.391Z"
   },
   {
    "duration": 4,
    "start_time": "2024-02-16T11:40:41.467Z"
   },
   {
    "duration": 76,
    "start_time": "2024-02-16T11:40:41.473Z"
   },
   {
    "duration": 3,
    "start_time": "2024-02-16T11:40:41.551Z"
   },
   {
    "duration": 96,
    "start_time": "2024-02-16T11:40:41.555Z"
   },
   {
    "duration": 532,
    "start_time": "2024-02-16T11:40:41.653Z"
   },
   {
    "duration": 6,
    "start_time": "2024-02-16T11:40:42.187Z"
   },
   {
    "duration": 15,
    "start_time": "2024-02-16T11:40:42.194Z"
   },
   {
    "duration": 10,
    "start_time": "2024-02-16T11:40:42.211Z"
   },
   {
    "duration": 2256,
    "start_time": "2024-02-16T11:40:42.223Z"
   },
   {
    "duration": 432,
    "start_time": "2024-02-16T11:42:53.257Z"
   },
   {
    "duration": 77,
    "start_time": "2024-02-16T11:42:53.691Z"
   },
   {
    "duration": 16,
    "start_time": "2024-02-16T11:42:53.770Z"
   },
   {
    "duration": 17,
    "start_time": "2024-02-16T11:42:53.787Z"
   },
   {
    "duration": 11,
    "start_time": "2024-02-16T11:42:53.806Z"
   },
   {
    "duration": 9,
    "start_time": "2024-02-16T11:42:53.819Z"
   },
   {
    "duration": 11,
    "start_time": "2024-02-16T11:42:53.829Z"
   },
   {
    "duration": 20,
    "start_time": "2024-02-16T11:42:53.841Z"
   },
   {
    "duration": 15,
    "start_time": "2024-02-16T11:42:53.866Z"
   },
   {
    "duration": 9,
    "start_time": "2024-02-16T11:42:53.883Z"
   },
   {
    "duration": 15,
    "start_time": "2024-02-16T11:42:53.894Z"
   },
   {
    "duration": 26,
    "start_time": "2024-02-16T11:42:53.910Z"
   },
   {
    "duration": 8,
    "start_time": "2024-02-16T11:42:53.938Z"
   },
   {
    "duration": 13,
    "start_time": "2024-02-16T11:42:53.947Z"
   },
   {
    "duration": 10,
    "start_time": "2024-02-16T11:42:53.961Z"
   },
   {
    "duration": 13,
    "start_time": "2024-02-16T11:42:53.973Z"
   },
   {
    "duration": 251,
    "start_time": "2024-02-16T11:42:53.988Z"
   },
   {
    "duration": 162,
    "start_time": "2024-02-16T11:42:54.241Z"
   },
   {
    "duration": 121,
    "start_time": "2024-02-16T11:42:54.405Z"
   },
   {
    "duration": 168,
    "start_time": "2024-02-16T11:42:54.528Z"
   },
   {
    "duration": 149,
    "start_time": "2024-02-16T11:42:54.698Z"
   },
   {
    "duration": 198,
    "start_time": "2024-02-16T11:42:54.849Z"
   },
   {
    "duration": 18,
    "start_time": "2024-02-16T11:42:55.048Z"
   },
   {
    "duration": 14,
    "start_time": "2024-02-16T11:42:55.068Z"
   },
   {
    "duration": 9,
    "start_time": "2024-02-16T11:42:55.084Z"
   },
   {
    "duration": 9,
    "start_time": "2024-02-16T11:42:55.094Z"
   },
   {
    "duration": 183,
    "start_time": "2024-02-16T11:42:55.105Z"
   },
   {
    "duration": 164,
    "start_time": "2024-02-16T11:42:55.292Z"
   },
   {
    "duration": 169,
    "start_time": "2024-02-16T11:42:55.458Z"
   },
   {
    "duration": 182,
    "start_time": "2024-02-16T11:42:55.628Z"
   },
   {
    "duration": 3,
    "start_time": "2024-02-16T11:42:55.812Z"
   },
   {
    "duration": 71,
    "start_time": "2024-02-16T11:42:55.817Z"
   },
   {
    "duration": 94,
    "start_time": "2024-02-16T11:42:55.890Z"
   },
   {
    "duration": 3,
    "start_time": "2024-02-16T11:42:55.987Z"
   },
   {
    "duration": 54,
    "start_time": "2024-02-16T11:42:55.992Z"
   },
   {
    "duration": 3,
    "start_time": "2024-02-16T11:42:56.048Z"
   },
   {
    "duration": 113,
    "start_time": "2024-02-16T11:42:56.052Z"
   },
   {
    "duration": 495,
    "start_time": "2024-02-16T11:42:56.167Z"
   },
   {
    "duration": 6,
    "start_time": "2024-02-16T11:42:56.663Z"
   },
   {
    "duration": 57,
    "start_time": "2024-02-16T11:42:56.670Z"
   },
   {
    "duration": 98,
    "start_time": "2024-02-16T11:42:56.729Z"
   },
   {
    "duration": 1865,
    "start_time": "2024-02-16T11:42:56.829Z"
   },
   {
    "duration": 7,
    "start_time": "2024-02-16T11:42:58.696Z"
   },
   {
    "duration": 50,
    "start_time": "2024-02-16T12:53:44.267Z"
   },
   {
    "duration": 434,
    "start_time": "2024-02-16T12:54:04.303Z"
   },
   {
    "duration": 202,
    "start_time": "2024-02-16T12:54:04.739Z"
   },
   {
    "duration": 10,
    "start_time": "2024-02-16T12:54:04.943Z"
   },
   {
    "duration": 10,
    "start_time": "2024-02-16T12:54:04.955Z"
   },
   {
    "duration": 9,
    "start_time": "2024-02-16T12:54:04.966Z"
   },
   {
    "duration": 6,
    "start_time": "2024-02-16T12:54:04.977Z"
   },
   {
    "duration": 6,
    "start_time": "2024-02-16T12:54:04.984Z"
   },
   {
    "duration": 26,
    "start_time": "2024-02-16T12:54:04.991Z"
   },
   {
    "duration": 13,
    "start_time": "2024-02-16T12:54:05.019Z"
   },
   {
    "duration": 6,
    "start_time": "2024-02-16T12:54:05.034Z"
   },
   {
    "duration": 7,
    "start_time": "2024-02-16T12:54:05.041Z"
   },
   {
    "duration": 8,
    "start_time": "2024-02-16T12:54:05.050Z"
   },
   {
    "duration": 5,
    "start_time": "2024-02-16T12:54:05.059Z"
   },
   {
    "duration": 7,
    "start_time": "2024-02-16T12:54:05.065Z"
   },
   {
    "duration": 42,
    "start_time": "2024-02-16T12:54:05.074Z"
   },
   {
    "duration": 6,
    "start_time": "2024-02-16T12:54:05.117Z"
   },
   {
    "duration": 379,
    "start_time": "2024-02-16T12:54:05.124Z"
   },
   {
    "duration": 145,
    "start_time": "2024-02-16T12:54:05.505Z"
   },
   {
    "duration": 113,
    "start_time": "2024-02-16T12:54:05.651Z"
   },
   {
    "duration": 150,
    "start_time": "2024-02-16T12:54:05.766Z"
   },
   {
    "duration": 186,
    "start_time": "2024-02-16T12:54:05.918Z"
   },
   {
    "duration": 151,
    "start_time": "2024-02-16T12:54:06.105Z"
   },
   {
    "duration": 9,
    "start_time": "2024-02-16T12:54:06.258Z"
   },
   {
    "duration": 15,
    "start_time": "2024-02-16T12:54:06.269Z"
   },
   {
    "duration": 9,
    "start_time": "2024-02-16T12:54:06.286Z"
   },
   {
    "duration": 10,
    "start_time": "2024-02-16T12:54:06.296Z"
   },
   {
    "duration": 163,
    "start_time": "2024-02-16T12:54:06.307Z"
   },
   {
    "duration": 153,
    "start_time": "2024-02-16T12:54:06.474Z"
   },
   {
    "duration": 145,
    "start_time": "2024-02-16T12:54:06.629Z"
   },
   {
    "duration": 155,
    "start_time": "2024-02-16T12:54:06.775Z"
   },
   {
    "duration": 3,
    "start_time": "2024-02-16T12:54:06.931Z"
   },
   {
    "duration": 51,
    "start_time": "2024-02-16T12:54:06.935Z"
   },
   {
    "duration": 59,
    "start_time": "2024-02-16T12:54:06.987Z"
   },
   {
    "duration": 3,
    "start_time": "2024-02-16T12:54:07.047Z"
   },
   {
    "duration": 56,
    "start_time": "2024-02-16T12:54:07.051Z"
   },
   {
    "duration": 2,
    "start_time": "2024-02-16T12:54:07.109Z"
   },
   {
    "duration": 102,
    "start_time": "2024-02-16T12:54:07.115Z"
   },
   {
    "duration": 455,
    "start_time": "2024-02-16T12:54:07.218Z"
   },
   {
    "duration": 5,
    "start_time": "2024-02-16T12:54:07.675Z"
   },
   {
    "duration": 18,
    "start_time": "2024-02-16T12:54:07.681Z"
   },
   {
    "duration": 23,
    "start_time": "2024-02-16T12:54:07.701Z"
   },
   {
    "duration": 1717,
    "start_time": "2024-02-16T12:54:07.726Z"
   },
   {
    "duration": 4,
    "start_time": "2024-02-16T12:54:09.445Z"
   },
   {
    "duration": 22,
    "start_time": "2024-02-16T12:54:09.451Z"
   },
   {
    "duration": 158,
    "start_time": "2024-02-16T12:58:05.004Z"
   },
   {
    "duration": 157,
    "start_time": "2024-02-16T12:58:30.318Z"
   },
   {
    "duration": 245,
    "start_time": "2024-02-16T12:58:50.477Z"
   },
   {
    "duration": 153,
    "start_time": "2024-02-16T12:59:02.315Z"
   },
   {
    "duration": 145,
    "start_time": "2024-02-16T12:59:42.646Z"
   },
   {
    "duration": 152,
    "start_time": "2024-02-16T13:00:28.561Z"
   },
   {
    "duration": 254,
    "start_time": "2024-02-16T13:00:55.939Z"
   },
   {
    "duration": 393,
    "start_time": "2024-02-16T13:01:01.901Z"
   },
   {
    "duration": 148,
    "start_time": "2024-02-16T13:01:07.374Z"
   },
   {
    "duration": 169,
    "start_time": "2024-02-16T13:01:24.760Z"
   },
   {
    "duration": 21,
    "start_time": "2024-02-16T13:02:05.154Z"
   },
   {
    "duration": 147,
    "start_time": "2024-02-16T13:02:13.910Z"
   },
   {
    "duration": 175,
    "start_time": "2024-02-16T13:02:38.548Z"
   },
   {
    "duration": 9,
    "start_time": "2024-02-16T13:04:02.432Z"
   },
   {
    "duration": 9,
    "start_time": "2024-02-16T13:04:18.806Z"
   },
   {
    "duration": 4,
    "start_time": "2024-02-16T13:05:06.632Z"
   },
   {
    "duration": 105,
    "start_time": "2024-02-16T13:43:34.623Z"
   },
   {
    "duration": 145,
    "start_time": "2024-02-16T13:43:40.757Z"
   },
   {
    "duration": 143,
    "start_time": "2024-02-16T13:43:55.346Z"
   },
   {
    "duration": 162,
    "start_time": "2024-02-16T13:44:20.720Z"
   },
   {
    "duration": 169,
    "start_time": "2024-02-16T13:44:39.249Z"
   },
   {
    "duration": 165,
    "start_time": "2024-02-16T13:45:39.743Z"
   },
   {
    "duration": 160,
    "start_time": "2024-02-16T13:45:56.528Z"
   },
   {
    "duration": 172,
    "start_time": "2024-02-16T13:46:21.715Z"
   },
   {
    "duration": 157,
    "start_time": "2024-02-16T13:46:31.959Z"
   },
   {
    "duration": 6,
    "start_time": "2024-02-16T13:47:06.184Z"
   },
   {
    "duration": 48,
    "start_time": "2024-06-18T16:20:01.225Z"
   }
  ],
  "kernelspec": {
   "display_name": "Python 3 (ipykernel)",
   "language": "python",
   "name": "python3"
  },
  "language_info": {
   "codemirror_mode": {
    "name": "ipython",
    "version": 3
   },
   "file_extension": ".py",
   "mimetype": "text/x-python",
   "name": "python",
   "nbconvert_exporter": "python",
   "pygments_lexer": "ipython3",
   "version": "3.9.5"
  },
  "toc": {
   "base_numbering": 1,
   "nav_menu": {},
   "number_sections": true,
   "sideBar": true,
   "skip_h1_title": true,
   "title_cell": "Table of Contents",
   "title_sidebar": "Contents",
   "toc_cell": false,
   "toc_position": {},
   "toc_section_display": true,
   "toc_window_display": false
  }
 },
 "nbformat": 4,
 "nbformat_minor": 5
}
