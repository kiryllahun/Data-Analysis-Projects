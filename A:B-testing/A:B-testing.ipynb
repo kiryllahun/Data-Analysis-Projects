{
 "cells": [
  {
   "cell_type": "markdown",
   "metadata": {},
   "source": [
    "# Проект: Принятие решений в бизнесе\n",
    "Как аналитик крупного интернет-магазина вместе с отделом маркетинга подготовил список гипотез для увеличения выручки.\n",
    "Цуль проекта приоритизировать гипотезы, запустить A/B-тест и проанализировать результаты. \n",
    "\n",
    "## План работы\n",
    "### Загрузить данные из CSV-файлов в переменные.\n",
    "* Изучить данные и выполнить предобработку. Определить есть ли в данных пропуски и дубликаты? Убедиться, что типы данных во всех колонках соответствуют сохранённым в них значениям. В файле /datasets/hypothesis.csv 9 гипотез по увеличению выручки интернет-магазина с указанными параметрами Reach, Impact, Confidence, Effort.\n",
    "\n",
    "### Часть 1. Приоритизация гипотез.\n",
    "* Примените фреймворк ICE для приоритизации гипотез. Отсортируйте их по убыванию приоритета.\n",
    "* Примените фреймворк RICE для приоритизации гипотез. Отсортируйте их по убыванию приоритета.\n",
    "* Укажите, как изменилась приоритизация гипотез при применении RICE вместо ICE. Объясните, почему так произошло.\n",
    "\n",
    "### Часть 2. Анализ A/B-теста\n",
    "* Вы провели A/B-тест и получили результаты, которые описаны в файлах /datasets/orders.csv и /datasets/visitors.csv.\n",
    "*Задача*\n",
    "* Проанализируйте A/B-тест:\n",
    "* Постройте график кумулятивной выручки по группам. Сделайте выводы и предположения.\n",
    "* Постройте график кумулятивного среднего чека по группам. Сделайте выводы и предположения.\n",
    "* Постройте график относительного изменения кумулятивного среднего чека группы B к группе A. Сделайте выводы и предположения.\n",
    "* Постройте график кумулятивного среднего количества заказов на посетителя по группам. Сделайте выводы и предположения.\n",
    "* Постройте график относительного изменения кумулятивного среднего количества заказов на посетителя группы B к группе A. Сделайте выводы и предположения.\n",
    "* Постройте точечный график количества заказов по пользователям. Сделайте выводы и предположения.\n",
    "* Посчитайте 95-й и 99-й перцентили количества заказов на пользователя. Выберите границу для определения аномальных пользователей.\n",
    "* Постройте точечный график стоимостей заказов. Сделайте выводы и предположения.\n",
    "* Посчитайте 95-й и 99-й перцентили стоимости заказов. Выберите границу для определения аномальных заказов.\n",
    "* Посчитайте статистическую значимость различий в среднем количестве заказов на посетителя между группами по «сырым» данным. Сделайте выводы и предположения.\n",
    "* Посчитайте статистическую значимость различий в среднем чеке заказа между группами по «сырым» данным. Сделайте выводы и предположения.\n",
    "* Посчитайте статистическую значимость различий в среднем количестве заказов на посетителя между группами по «очищенным» данным. Сделайте выводы и предположения.\n",
    "* Посчитайте статистическую значимость различий в среднем чеке заказа между группами по «очищенным» данным. Сделайте выводы и предположения.\n",
    "* Примите решение по результатам теста и объясните его. "
   ]
  },
  {
   "cell_type": "markdown",
   "metadata": {},
   "source": [
    "## Загрузка и подготовка данных"
   ]
  },
  {
   "cell_type": "code",
   "execution_count": 1,
   "metadata": {},
   "outputs": [],
   "source": [
    "import pandas as pd\n",
    "import numpy as np\n",
    "import matplotlib.pyplot as plt\n",
    "from scipy import stats\n",
    "import datetime as dt"
   ]
  },
  {
   "cell_type": "code",
   "execution_count": 2,
   "metadata": {},
   "outputs": [],
   "source": [
    "def information(df):\n",
    "    duplicates=df.duplicated().sum()\n",
    "    isnull=df.isnull().sum()\n",
    "    return df.info(),df.head(), print('\\033[1m' + 'Количество дубликатов в таблице:' + '\\033[0m',duplicates),print('\\033[1m' + 'Количество пропущенных значений в таблице:' + '\\033[0m',isnull)"
   ]
  },
  {
   "cell_type": "code",
   "execution_count": 3,
   "metadata": {},
   "outputs": [],
   "source": [
    "hypothesis = pd.read_csv('/datasets/hypothesis.csv')"
   ]
  },
  {
   "cell_type": "code",
   "execution_count": 4,
   "metadata": {},
   "outputs": [
    {
     "name": "stdout",
     "output_type": "stream",
     "text": [
      "<class 'pandas.core.frame.DataFrame'>\n",
      "RangeIndex: 9 entries, 0 to 8\n",
      "Data columns (total 5 columns):\n",
      " #   Column      Non-Null Count  Dtype \n",
      "---  ------      --------------  ----- \n",
      " 0   Hypothesis  9 non-null      object\n",
      " 1   Reach       9 non-null      int64 \n",
      " 2   Impact      9 non-null      int64 \n",
      " 3   Confidence  9 non-null      int64 \n",
      " 4   Efforts     9 non-null      int64 \n",
      "dtypes: int64(4), object(1)\n",
      "memory usage: 488.0+ bytes\n",
      "\u001b[1mКоличество дубликатов в таблице:\u001b[0m 0\n",
      "\u001b[1mКоличество пропущенных значений в таблице:\u001b[0m Hypothesis    0\n",
      "Reach         0\n",
      "Impact        0\n",
      "Confidence    0\n",
      "Efforts       0\n",
      "dtype: int64\n"
     ]
    },
    {
     "data": {
      "text/plain": [
       "(None,\n",
       "                                           Hypothesis  Reach  Impact  \\\n",
       " 0  Добавить два новых канала привлечения трафика,...      3      10   \n",
       " 1  Запустить собственную службу доставки, что сок...      2       5   \n",
       " 2  Добавить блоки рекомендаций товаров на сайт ин...      8       3   \n",
       " 3  Изменить структура категорий, что увеличит кон...      8       3   \n",
       " 4  Изменить цвет фона главной страницы, чтобы уве...      3       1   \n",
       " \n",
       "    Confidence  Efforts  \n",
       " 0           8        6  \n",
       " 1           4       10  \n",
       " 2           7        3  \n",
       " 3           3        8  \n",
       " 4           1        1  ,\n",
       " None,\n",
       " None)"
      ]
     },
     "execution_count": 4,
     "metadata": {},
     "output_type": "execute_result"
    }
   ],
   "source": [
    "information(hypothesis)"
   ]
  },
  {
   "cell_type": "code",
   "execution_count": 5,
   "metadata": {},
   "outputs": [],
   "source": [
    "hypothesis.columns = [x.lower() for x in hypothesis.columns.values]"
   ]
  },
  {
   "cell_type": "code",
   "execution_count": 6,
   "metadata": {},
   "outputs": [],
   "source": [
    "orders = pd.read_csv('/datasets/orders.csv')"
   ]
  },
  {
   "cell_type": "code",
   "execution_count": 7,
   "metadata": {},
   "outputs": [
    {
     "name": "stdout",
     "output_type": "stream",
     "text": [
      "<class 'pandas.core.frame.DataFrame'>\n",
      "RangeIndex: 1197 entries, 0 to 1196\n",
      "Data columns (total 5 columns):\n",
      " #   Column         Non-Null Count  Dtype \n",
      "---  ------         --------------  ----- \n",
      " 0   transactionId  1197 non-null   int64 \n",
      " 1   visitorId      1197 non-null   int64 \n",
      " 2   date           1197 non-null   object\n",
      " 3   revenue        1197 non-null   int64 \n",
      " 4   group          1197 non-null   object\n",
      "dtypes: int64(3), object(2)\n",
      "memory usage: 46.9+ KB\n",
      "\u001b[1mКоличество дубликатов в таблице:\u001b[0m 0\n",
      "\u001b[1mКоличество пропущенных значений в таблице:\u001b[0m transactionId    0\n",
      "visitorId        0\n",
      "date             0\n",
      "revenue          0\n",
      "group            0\n",
      "dtype: int64\n"
     ]
    },
    {
     "data": {
      "text/plain": [
       "(None,\n",
       "    transactionId   visitorId        date  revenue group\n",
       " 0     3667963787  3312258926  2019-08-15     1650     B\n",
       " 1     2804400009  3642806036  2019-08-15      730     B\n",
       " 2     2961555356  4069496402  2019-08-15      400     A\n",
       " 3     3797467345  1196621759  2019-08-15     9759     B\n",
       " 4     2282983706  2322279887  2019-08-15     2308     B,\n",
       " None,\n",
       " None)"
      ]
     },
     "execution_count": 7,
     "metadata": {},
     "output_type": "execute_result"
    }
   ],
   "source": [
    "information(orders)"
   ]
  },
  {
   "cell_type": "code",
   "execution_count": 8,
   "metadata": {},
   "outputs": [],
   "source": [
    "orders['date'] = orders['date'].astype('datetime64')\n",
    "orders.columns = [x.lower().replace('id', '_id') for x in orders.columns.values]"
   ]
  },
  {
   "cell_type": "code",
   "execution_count": 9,
   "metadata": {},
   "outputs": [],
   "source": [
    "visitors = pd.read_csv('/datasets/visitors.csv')"
   ]
  },
  {
   "cell_type": "code",
   "execution_count": 10,
   "metadata": {},
   "outputs": [
    {
     "name": "stdout",
     "output_type": "stream",
     "text": [
      "<class 'pandas.core.frame.DataFrame'>\n",
      "RangeIndex: 62 entries, 0 to 61\n",
      "Data columns (total 3 columns):\n",
      " #   Column    Non-Null Count  Dtype \n",
      "---  ------    --------------  ----- \n",
      " 0   date      62 non-null     object\n",
      " 1   group     62 non-null     object\n",
      " 2   visitors  62 non-null     int64 \n",
      "dtypes: int64(1), object(2)\n",
      "memory usage: 1.6+ KB\n",
      "\u001b[1mКоличество дубликатов в таблице:\u001b[0m 0\n",
      "\u001b[1mКоличество пропущенных значений в таблице:\u001b[0m date        0\n",
      "group       0\n",
      "visitors    0\n",
      "dtype: int64\n"
     ]
    },
    {
     "data": {
      "text/plain": [
       "(None,\n",
       "          date group  visitors\n",
       " 0  2019-08-01     A       719\n",
       " 1  2019-08-02     A       619\n",
       " 2  2019-08-03     A       507\n",
       " 3  2019-08-04     A       717\n",
       " 4  2019-08-05     A       756,\n",
       " None,\n",
       " None)"
      ]
     },
     "execution_count": 10,
     "metadata": {},
     "output_type": "execute_result"
    }
   ],
   "source": [
    "information(visitors)"
   ]
  },
  {
   "cell_type": "code",
   "execution_count": 11,
   "metadata": {},
   "outputs": [],
   "source": [
    "visitors['date'] = visitors['date'].astype('datetime64')"
   ]
  },
  {
   "cell_type": "markdown",
   "metadata": {},
   "source": [
    " *Промежуточный вывод*\n",
    "* Типы данных даты во всех датафреймах привели к типу datetime64\n",
    "* Явных дубликатов и пропущенных знаечний ни в одном из датафреймов не обнаружено\n",
    "* Названия столбцов в каждом датафрейме приведены к общему стилю"
   ]
  },
  {
   "cell_type": "markdown",
   "metadata": {},
   "source": [
    "## Приоритезация гипотез"
   ]
  },
  {
   "cell_type": "code",
   "execution_count": 12,
   "metadata": {},
   "outputs": [
    {
     "data": {
      "text/html": [
       "<div>\n",
       "<style scoped>\n",
       "    .dataframe tbody tr th:only-of-type {\n",
       "        vertical-align: middle;\n",
       "    }\n",
       "\n",
       "    .dataframe tbody tr th {\n",
       "        vertical-align: top;\n",
       "    }\n",
       "\n",
       "    .dataframe thead th {\n",
       "        text-align: right;\n",
       "    }\n",
       "</style>\n",
       "<table border=\"1\" class=\"dataframe\">\n",
       "  <thead>\n",
       "    <tr style=\"text-align: right;\">\n",
       "      <th></th>\n",
       "      <th>hypothesis</th>\n",
       "      <th>reach</th>\n",
       "      <th>impact</th>\n",
       "      <th>confidence</th>\n",
       "      <th>efforts</th>\n",
       "      <th>ice</th>\n",
       "    </tr>\n",
       "  </thead>\n",
       "  <tbody>\n",
       "    <tr>\n",
       "      <th>8</th>\n",
       "      <td>Запустить акцию, дающую скидку на товар в день...</td>\n",
       "      <td>1</td>\n",
       "      <td>9</td>\n",
       "      <td>9</td>\n",
       "      <td>5</td>\n",
       "      <td>16.200000</td>\n",
       "    </tr>\n",
       "    <tr>\n",
       "      <th>0</th>\n",
       "      <td>Добавить два новых канала привлечения трафика,...</td>\n",
       "      <td>3</td>\n",
       "      <td>10</td>\n",
       "      <td>8</td>\n",
       "      <td>6</td>\n",
       "      <td>13.333333</td>\n",
       "    </tr>\n",
       "    <tr>\n",
       "      <th>7</th>\n",
       "      <td>Добавить форму подписки на все основные страни...</td>\n",
       "      <td>10</td>\n",
       "      <td>7</td>\n",
       "      <td>8</td>\n",
       "      <td>5</td>\n",
       "      <td>11.200000</td>\n",
       "    </tr>\n",
       "    <tr>\n",
       "      <th>6</th>\n",
       "      <td>Показать на главной странице баннеры с актуаль...</td>\n",
       "      <td>5</td>\n",
       "      <td>3</td>\n",
       "      <td>8</td>\n",
       "      <td>3</td>\n",
       "      <td>8.000000</td>\n",
       "    </tr>\n",
       "    <tr>\n",
       "      <th>2</th>\n",
       "      <td>Добавить блоки рекомендаций товаров на сайт ин...</td>\n",
       "      <td>8</td>\n",
       "      <td>3</td>\n",
       "      <td>7</td>\n",
       "      <td>3</td>\n",
       "      <td>7.000000</td>\n",
       "    </tr>\n",
       "    <tr>\n",
       "      <th>1</th>\n",
       "      <td>Запустить собственную службу доставки, что сок...</td>\n",
       "      <td>2</td>\n",
       "      <td>5</td>\n",
       "      <td>4</td>\n",
       "      <td>10</td>\n",
       "      <td>2.000000</td>\n",
       "    </tr>\n",
       "    <tr>\n",
       "      <th>5</th>\n",
       "      <td>Добавить страницу отзывов клиентов о магазине,...</td>\n",
       "      <td>3</td>\n",
       "      <td>2</td>\n",
       "      <td>2</td>\n",
       "      <td>3</td>\n",
       "      <td>1.333333</td>\n",
       "    </tr>\n",
       "    <tr>\n",
       "      <th>3</th>\n",
       "      <td>Изменить структура категорий, что увеличит кон...</td>\n",
       "      <td>8</td>\n",
       "      <td>3</td>\n",
       "      <td>3</td>\n",
       "      <td>8</td>\n",
       "      <td>1.125000</td>\n",
       "    </tr>\n",
       "    <tr>\n",
       "      <th>4</th>\n",
       "      <td>Изменить цвет фона главной страницы, чтобы уве...</td>\n",
       "      <td>3</td>\n",
       "      <td>1</td>\n",
       "      <td>1</td>\n",
       "      <td>1</td>\n",
       "      <td>1.000000</td>\n",
       "    </tr>\n",
       "  </tbody>\n",
       "</table>\n",
       "</div>"
      ],
      "text/plain": [
       "                                          hypothesis  reach  impact  \\\n",
       "8  Запустить акцию, дающую скидку на товар в день...      1       9   \n",
       "0  Добавить два новых канала привлечения трафика,...      3      10   \n",
       "7  Добавить форму подписки на все основные страни...     10       7   \n",
       "6  Показать на главной странице баннеры с актуаль...      5       3   \n",
       "2  Добавить блоки рекомендаций товаров на сайт ин...      8       3   \n",
       "1  Запустить собственную службу доставки, что сок...      2       5   \n",
       "5  Добавить страницу отзывов клиентов о магазине,...      3       2   \n",
       "3  Изменить структура категорий, что увеличит кон...      8       3   \n",
       "4  Изменить цвет фона главной страницы, чтобы уве...      3       1   \n",
       "\n",
       "   confidence  efforts        ice  \n",
       "8           9        5  16.200000  \n",
       "0           8        6  13.333333  \n",
       "7           8        5  11.200000  \n",
       "6           8        3   8.000000  \n",
       "2           7        3   7.000000  \n",
       "1           4       10   2.000000  \n",
       "5           2        3   1.333333  \n",
       "3           3        8   1.125000  \n",
       "4           1        1   1.000000  "
      ]
     },
     "execution_count": 12,
     "metadata": {},
     "output_type": "execute_result"
    }
   ],
   "source": [
    "hypothesis['ice'] = hypothesis['impact'] * hypothesis['confidence'] / hypothesis['efforts']\n",
    "hypothesis.sort_values(by='ice', ascending =False)"
   ]
  },
  {
   "cell_type": "code",
   "execution_count": 13,
   "metadata": {},
   "outputs": [
    {
     "data": {
      "text/html": [
       "<div>\n",
       "<style scoped>\n",
       "    .dataframe tbody tr th:only-of-type {\n",
       "        vertical-align: middle;\n",
       "    }\n",
       "\n",
       "    .dataframe tbody tr th {\n",
       "        vertical-align: top;\n",
       "    }\n",
       "\n",
       "    .dataframe thead th {\n",
       "        text-align: right;\n",
       "    }\n",
       "</style>\n",
       "<table border=\"1\" class=\"dataframe\">\n",
       "  <thead>\n",
       "    <tr style=\"text-align: right;\">\n",
       "      <th></th>\n",
       "      <th>hypothesis</th>\n",
       "      <th>reach</th>\n",
       "      <th>impact</th>\n",
       "      <th>confidence</th>\n",
       "      <th>efforts</th>\n",
       "      <th>ice</th>\n",
       "      <th>rice</th>\n",
       "    </tr>\n",
       "  </thead>\n",
       "  <tbody>\n",
       "    <tr>\n",
       "      <th>7</th>\n",
       "      <td>Добавить форму подписки на все основные страни...</td>\n",
       "      <td>10</td>\n",
       "      <td>7</td>\n",
       "      <td>8</td>\n",
       "      <td>5</td>\n",
       "      <td>11.200000</td>\n",
       "      <td>112.0</td>\n",
       "    </tr>\n",
       "    <tr>\n",
       "      <th>2</th>\n",
       "      <td>Добавить блоки рекомендаций товаров на сайт ин...</td>\n",
       "      <td>8</td>\n",
       "      <td>3</td>\n",
       "      <td>7</td>\n",
       "      <td>3</td>\n",
       "      <td>7.000000</td>\n",
       "      <td>56.0</td>\n",
       "    </tr>\n",
       "    <tr>\n",
       "      <th>0</th>\n",
       "      <td>Добавить два новых канала привлечения трафика,...</td>\n",
       "      <td>3</td>\n",
       "      <td>10</td>\n",
       "      <td>8</td>\n",
       "      <td>6</td>\n",
       "      <td>13.333333</td>\n",
       "      <td>40.0</td>\n",
       "    </tr>\n",
       "    <tr>\n",
       "      <th>6</th>\n",
       "      <td>Показать на главной странице баннеры с актуаль...</td>\n",
       "      <td>5</td>\n",
       "      <td>3</td>\n",
       "      <td>8</td>\n",
       "      <td>3</td>\n",
       "      <td>8.000000</td>\n",
       "      <td>40.0</td>\n",
       "    </tr>\n",
       "    <tr>\n",
       "      <th>8</th>\n",
       "      <td>Запустить акцию, дающую скидку на товар в день...</td>\n",
       "      <td>1</td>\n",
       "      <td>9</td>\n",
       "      <td>9</td>\n",
       "      <td>5</td>\n",
       "      <td>16.200000</td>\n",
       "      <td>16.2</td>\n",
       "    </tr>\n",
       "    <tr>\n",
       "      <th>3</th>\n",
       "      <td>Изменить структура категорий, что увеличит кон...</td>\n",
       "      <td>8</td>\n",
       "      <td>3</td>\n",
       "      <td>3</td>\n",
       "      <td>8</td>\n",
       "      <td>1.125000</td>\n",
       "      <td>9.0</td>\n",
       "    </tr>\n",
       "    <tr>\n",
       "      <th>1</th>\n",
       "      <td>Запустить собственную службу доставки, что сок...</td>\n",
       "      <td>2</td>\n",
       "      <td>5</td>\n",
       "      <td>4</td>\n",
       "      <td>10</td>\n",
       "      <td>2.000000</td>\n",
       "      <td>4.0</td>\n",
       "    </tr>\n",
       "    <tr>\n",
       "      <th>5</th>\n",
       "      <td>Добавить страницу отзывов клиентов о магазине,...</td>\n",
       "      <td>3</td>\n",
       "      <td>2</td>\n",
       "      <td>2</td>\n",
       "      <td>3</td>\n",
       "      <td>1.333333</td>\n",
       "      <td>4.0</td>\n",
       "    </tr>\n",
       "    <tr>\n",
       "      <th>4</th>\n",
       "      <td>Изменить цвет фона главной страницы, чтобы уве...</td>\n",
       "      <td>3</td>\n",
       "      <td>1</td>\n",
       "      <td>1</td>\n",
       "      <td>1</td>\n",
       "      <td>1.000000</td>\n",
       "      <td>3.0</td>\n",
       "    </tr>\n",
       "  </tbody>\n",
       "</table>\n",
       "</div>"
      ],
      "text/plain": [
       "                                          hypothesis  reach  impact  \\\n",
       "7  Добавить форму подписки на все основные страни...     10       7   \n",
       "2  Добавить блоки рекомендаций товаров на сайт ин...      8       3   \n",
       "0  Добавить два новых канала привлечения трафика,...      3      10   \n",
       "6  Показать на главной странице баннеры с актуаль...      5       3   \n",
       "8  Запустить акцию, дающую скидку на товар в день...      1       9   \n",
       "3  Изменить структура категорий, что увеличит кон...      8       3   \n",
       "1  Запустить собственную службу доставки, что сок...      2       5   \n",
       "5  Добавить страницу отзывов клиентов о магазине,...      3       2   \n",
       "4  Изменить цвет фона главной страницы, чтобы уве...      3       1   \n",
       "\n",
       "   confidence  efforts        ice   rice  \n",
       "7           8        5  11.200000  112.0  \n",
       "2           7        3   7.000000   56.0  \n",
       "0           8        6  13.333333   40.0  \n",
       "6           8        3   8.000000   40.0  \n",
       "8           9        5  16.200000   16.2  \n",
       "3           3        8   1.125000    9.0  \n",
       "1           4       10   2.000000    4.0  \n",
       "5           2        3   1.333333    4.0  \n",
       "4           1        1   1.000000    3.0  "
      ]
     },
     "execution_count": 13,
     "metadata": {},
     "output_type": "execute_result"
    }
   ],
   "source": [
    "hypothesis['rice'] = hypothesis['reach'] * hypothesis['impact'] * hypothesis['confidence'] / hypothesis['efforts']\n",
    "hypothesis.sort_values(by='rice', ascending =False)"
   ]
  },
  {
   "cell_type": "markdown",
   "metadata": {},
   "source": [
    "*Промежуточные выводы по оценке гипотез*\n",
    "\n",
    "По фреймворку ICE: наибольшую оценку имели гипотезы 8,0 и 7 - а RICE : 7,2 и 0. Это объясняется тем, что в случае фреймворка ICE в отличие от RICE мы не учитывали Reach — скольких пользователей затронет изменение, которое мы хотим внести.\n",
    "\n",
    "В нашем случае наиболее приоритетными гипотезами будут 7, 2, 0."
   ]
  },
  {
   "cell_type": "markdown",
   "metadata": {},
   "source": [
    "##  Анализ A/B-теста"
   ]
  },
  {
   "cell_type": "code",
   "execution_count": 14,
   "metadata": {},
   "outputs": [
    {
     "name": "stdout",
     "output_type": "stream",
     "text": [
      "<class 'pandas.core.frame.DataFrame'>\n",
      "Int64Index: 183 entries, 0 to 182\n",
      "Data columns (total 1 columns):\n",
      " #   Column      Non-Null Count  Dtype\n",
      "---  ------      --------------  -----\n",
      " 0   visitor_id  183 non-null    int64\n",
      "dtypes: int64(1)\n",
      "memory usage: 2.9 KB\n"
     ]
    }
   ],
   "source": [
    "orders_A = orders[orders['group'] == 'A'][['visitor_id']]\n",
    "orders_B = orders[orders['group'] == 'B'][['visitor_id']]\n",
    "orders_AB = orders_A.merge(orders_B, on='visitor_id')\n",
    "orders_AB.info()"
   ]
  },
  {
   "cell_type": "code",
   "execution_count": 15,
   "metadata": {},
   "outputs": [],
   "source": [
    "orders=orders.query(\"visitor_id not in @orders_AB['visitor_id']\")"
   ]
  },
  {
   "cell_type": "code",
   "execution_count": 16,
   "metadata": {},
   "outputs": [
    {
     "name": "stdout",
     "output_type": "stream",
     "text": [
      "<class 'pandas.core.frame.DataFrame'>\n",
      "Int64Index: 1016 entries, 0 to 1196\n",
      "Data columns (total 5 columns):\n",
      " #   Column          Non-Null Count  Dtype         \n",
      "---  ------          --------------  -----         \n",
      " 0   transaction_id  1016 non-null   int64         \n",
      " 1   visitor_id      1016 non-null   int64         \n",
      " 2   date            1016 non-null   datetime64[ns]\n",
      " 3   revenue         1016 non-null   int64         \n",
      " 4   group           1016 non-null   object        \n",
      "dtypes: datetime64[ns](1), int64(3), object(1)\n",
      "memory usage: 47.6+ KB\n",
      "\u001b[1mКоличество дубликатов в таблице:\u001b[0m 0\n",
      "\u001b[1mКоличество пропущенных значений в таблице:\u001b[0m transaction_id    0\n",
      "visitor_id        0\n",
      "date              0\n",
      "revenue           0\n",
      "group             0\n",
      "dtype: int64\n"
     ]
    },
    {
     "data": {
      "text/plain": [
       "(None,\n",
       "    transaction_id  visitor_id       date  revenue group\n",
       " 0      3667963787  3312258926 2019-08-15     1650     B\n",
       " 1      2804400009  3642806036 2019-08-15      730     B\n",
       " 3      3797467345  1196621759 2019-08-15     9759     B\n",
       " 4      2282983706  2322279887 2019-08-15     2308     B\n",
       " 5       182168103   935554773 2019-08-15     2210     B,\n",
       " None,\n",
       " None)"
      ]
     },
     "execution_count": 16,
     "metadata": {},
     "output_type": "execute_result"
    }
   ],
   "source": [
    "information(orders)"
   ]
  },
  {
   "cell_type": "code",
   "execution_count": 17,
   "metadata": {},
   "outputs": [
    {
     "name": "stdout",
     "output_type": "stream",
     "text": [
      "Количество посетителей в группе А: 18736\n",
      "Количество посетителей в группе B: 18916\n",
      "Суммарное количество посетителей: 37652\n",
      "Количество покупок в группе A: 468\n",
      "Количество покупок в группе B: 548\n"
     ]
    },
    {
     "data": {
      "image/png": "[encoded data removed]",
      "text/plain": [
       "<Figure size 432x288 with 1 Axes>"
      ]
     },
     "metadata": {
      "needs_background": "light"
     },
     "output_type": "display_data"
    },
    {
     "name": "stdout",
     "output_type": "stream",
     "text": [
      "P-value:0.7301376549390499\n",
      "Разница в количестве посетителей в группах A и B статистически не значима\n",
      "\n"
     ]
    }
   ],
   "source": [
    "print('Количество посетителей в группе А: {}'.format(visitors[visitors['group']=='A']['visitors'].sum()))\n",
    "print('Количество посетителей в группе B: {}'.format(visitors[visitors['group']=='B']['visitors'].sum()))\n",
    "print('Суммарное количество посетителей: {}'.format(visitors['visitors'].sum()))\n",
    "purchases_a = len(orders[orders['group']=='A'])\n",
    "purchases_b = len(orders[orders['group']=='B'])\n",
    "print('Количество покупок в группе A: {}'.format(purchases_a))\n",
    "print('Количество покупок в группе B: {}'.format(purchases_b))\n",
    "plt.hist(visitors[visitors['group']=='A']['visitors'], alpha = 0.8, label='A', bins = 30)\n",
    "plt.hist(visitors[visitors['group']=='B']['visitors'], alpha = 0.8, label='B', bins = 30)\n",
    "plt.legend()\n",
    "plt.title('Гистограммы количества посетителей в день по группам A и B')\n",
    "plt.show()\n",
    "\n",
    "results = stats.mannwhitneyu(visitors[visitors['group']=='A']['visitors'], visitors[visitors['group']=='B']['visitors'])\n",
    "alpha = 0.05\n",
    "print('P-value:{}'.format(results.pvalue))\n",
    "if results.pvalue < alpha:\n",
    "    print('Разница в количестве посетителей в группах A и B статистически значима\\n')\n",
    "else:\n",
    "    print('Разница в количестве посетителей в группах A и B статистически не значима\\n')"
   ]
  },
  {
   "cell_type": "code",
   "execution_count": 18,
   "metadata": {},
   "outputs": [
    {
     "name": "stdout",
     "output_type": "stream",
     "text": [
      "P-value:0.7301376549390499\n",
      "Разница в количестве посетителей в группах A и B статистически не значима\n",
      "\n",
      "Начальная конверсия: 0.025\n",
      "Полученная после изменений конверсия: 0.029\n",
      "Относительное изменение конверсии после изменений: 0.138\n"
     ]
    }
   ],
   "source": [
    "results = stats.mannwhitneyu(visitors[visitors['group']=='A']['visitors'], visitors[visitors['group']=='B']['visitors'])\n",
    "alpha = 0.05\n",
    "print('P-value:{}'.format(results.pvalue))\n",
    "if results.pvalue < alpha:\n",
    "    print('Разница в количестве посетителей в группах A и B статистически значима\\n')\n",
    "else:\n",
    "    print('Разница в количестве посетителей в группах A и B статистически не значима\\n')\n",
    "\n",
    "conversion_a = len(orders[orders['group']=='A']) / visitors[visitors['group']=='A']['visitors'].sum() \n",
    "conversion_b = len(orders[orders['group']=='B']) / visitors[visitors['group']=='B']['visitors'].sum()\n",
    "print('Начальная конверсия: {:.3f}'.format(conversion_a))\n",
    "print('Полученная после изменений конверсия: {:.3f}'.format(conversion_b))\n",
    "print('Относительное изменение конверсии после изменений: {:.3f}'.format(abs(1-(conversion_a/conversion_b))))"
   ]
  },
  {
   "cell_type": "markdown",
   "metadata": {},
   "source": [
    "При помощи калькулятора: https://www.evanmiller.org/ab-testing/sample-size.html\n",
    "Получаем необходимое количество выборки для корректного исследования, на основании начальной конверсии и относительного изменения конверсия - 35855.В нашем случае количество 37652 посещений\n",
    "Количество выборки для A/B тестирования корректно подобрано.\n",
    "Нулевая гипотеза ,что разница в количестве пользователей между группами статистически значима не подтвердилась."
   ]
  },
  {
   "cell_type": "code",
   "execution_count": 19,
   "metadata": {},
   "outputs": [
    {
     "data": {
      "text/html": [
       "<div>\n",
       "<style scoped>\n",
       "    .dataframe tbody tr th:only-of-type {\n",
       "        vertical-align: middle;\n",
       "    }\n",
       "\n",
       "    .dataframe tbody tr th {\n",
       "        vertical-align: top;\n",
       "    }\n",
       "\n",
       "    .dataframe thead th {\n",
       "        text-align: right;\n",
       "    }\n",
       "</style>\n",
       "<table border=\"1\" class=\"dataframe\">\n",
       "  <thead>\n",
       "    <tr style=\"text-align: right;\">\n",
       "      <th></th>\n",
       "      <th>date</th>\n",
       "      <th>group</th>\n",
       "      <th>transactions</th>\n",
       "      <th>payers</th>\n",
       "      <th>revenue</th>\n",
       "      <th>visitors</th>\n",
       "    </tr>\n",
       "  </thead>\n",
       "  <tbody>\n",
       "    <tr>\n",
       "      <th>0</th>\n",
       "      <td>2019-08-01</td>\n",
       "      <td>A</td>\n",
       "      <td>23</td>\n",
       "      <td>19</td>\n",
       "      <td>142779</td>\n",
       "      <td>719</td>\n",
       "    </tr>\n",
       "    <tr>\n",
       "      <th>1</th>\n",
       "      <td>2019-08-01</td>\n",
       "      <td>B</td>\n",
       "      <td>17</td>\n",
       "      <td>17</td>\n",
       "      <td>59758</td>\n",
       "      <td>713</td>\n",
       "    </tr>\n",
       "    <tr>\n",
       "      <th>2</th>\n",
       "      <td>2019-08-02</td>\n",
       "      <td>A</td>\n",
       "      <td>42</td>\n",
       "      <td>36</td>\n",
       "      <td>234381</td>\n",
       "      <td>1338</td>\n",
       "    </tr>\n",
       "    <tr>\n",
       "      <th>3</th>\n",
       "      <td>2019-08-02</td>\n",
       "      <td>B</td>\n",
       "      <td>40</td>\n",
       "      <td>39</td>\n",
       "      <td>221801</td>\n",
       "      <td>1294</td>\n",
       "    </tr>\n",
       "    <tr>\n",
       "      <th>4</th>\n",
       "      <td>2019-08-03</td>\n",
       "      <td>A</td>\n",
       "      <td>66</td>\n",
       "      <td>60</td>\n",
       "      <td>346854</td>\n",
       "      <td>1845</td>\n",
       "    </tr>\n",
       "  </tbody>\n",
       "</table>\n",
       "</div>"
      ],
      "text/plain": [
       "        date group  transactions  payers  revenue  visitors\n",
       "0 2019-08-01     A            23      19   142779       719\n",
       "1 2019-08-01     B            17      17    59758       713\n",
       "2 2019-08-02     A            42      36   234381      1338\n",
       "3 2019-08-02     B            40      39   221801      1294\n",
       "4 2019-08-03     A            66      60   346854      1845"
      ]
     },
     "execution_count": 19,
     "metadata": {},
     "output_type": "execute_result"
    }
   ],
   "source": [
    "orders_filt = orders[['date','group']].drop_duplicates().sort_values(by=['date', 'group'])\n",
    "\n",
    "orders_aggregated = orders_filt.apply(lambda x: orders[np.logical_and(x['date'] >= orders['date'], x['group']==orders['group'])]\\\n",
    ".agg({'date':'max', 'group':'max', 'transaction_id':'nunique', 'visitor_id':'nunique', 'revenue':'sum'}), axis = 1)\n",
    "orders_aggregated.columns = ['date', 'group', 'transactions', 'payers', 'revenue']\n",
    "\n",
    "visitors_aggregated = orders_filt.apply(lambda x: visitors[np.logical_and(x['date'] >= visitors['date'], x['group']==visitors['group'])]\\\n",
    ".agg({'date':'max', 'group':'max', 'visitors':'sum'}), axis = 1)\n",
    "cummulative_data = orders_aggregated.merge(visitors_aggregated, left_on=['date', 'group'], right_on=['date', 'group'])\n",
    "\n",
    "cummulative_data.head(5)"
   ]
  },
  {
   "cell_type": "markdown",
   "metadata": {},
   "source": [
    "### Построим график кумулятивной выручки по группам"
   ]
  },
  {
   "cell_type": "code",
   "execution_count": 20,
   "metadata": {},
   "outputs": [
    {
     "data": {
      "image/png": "[encoded data removed]",
      "text/plain": [
       "<Figure size 720x288 with 1 Axes>"
      ]
     },
     "metadata": {
      "needs_background": "light"
     },
     "output_type": "display_data"
    }
   ],
   "source": [
    "cummulative_data_a = cummulative_data[cummulative_data['group']=='A']\n",
    "cummulative_data_b = cummulative_data[cummulative_data['group']=='B']\n",
    "plt.figure(figsize=(10,4))\n",
    "plt.plot(cummulative_data_a['date'], cummulative_data_a['revenue'], label = 'A')\n",
    "plt.plot(cummulative_data_b['date'], cummulative_data_b['revenue'], label = 'B')\n",
    "plt.ylabel('Выручка')\n",
    "plt.xlabel('Дата')\n",
    "plt.title('Графики кумулятивной выручки по группам')\n",
    "plt.legend()\n",
    "plt.show()"
   ]
  },
  {
   "cell_type": "markdown",
   "metadata": {},
   "source": [
    "*Из графика следует,что кумулятивная вырочка в группе В на протяжении всего теста выше чем в группе А с резким скачком (без последующего снижения) после 18 августа(возможно это связано с выбросами).*"
   ]
  },
  {
   "cell_type": "markdown",
   "metadata": {},
   "source": [
    "### Построим график кумулятивного среднего чека по группам"
   ]
  },
  {
   "cell_type": "code",
   "execution_count": 21,
   "metadata": {},
   "outputs": [
    {
     "data": {
      "image/png": "[encoded data removed]",
      "text/plain": [
       "<Figure size 720x288 with 1 Axes>"
      ]
     },
     "metadata": {
      "needs_background": "light"
     },
     "output_type": "display_data"
    }
   ],
   "source": [
    "plt.figure(figsize=(10,4))\n",
    "plt.plot(cummulative_data_a['date'], cummulative_data_a['revenue']/cummulative_data_a['transactions'], label = 'A')\n",
    "plt.plot(cummulative_data_b['date'], cummulative_data_b['revenue']/cummulative_data_b['transactions'], label = 'B')\n",
    "plt.title('Графики кумулятивного среднего чека по группам')\n",
    "plt.ylabel('Средний чек')\n",
    "plt.xlabel('Дата')\n",
    "plt.legend()\n",
    "plt.show()"
   ]
  },
  {
   "cell_type": "markdown",
   "metadata": {},
   "source": [
    "*График о кумулятивном среднем чеке подвтерждает возможные опасения вызванные прошлым графиком о наличии выбросо в группе В после 18 августа,из-за резкого увеличения величины среднего чека*"
   ]
  },
  {
   "cell_type": "markdown",
   "metadata": {},
   "source": [
    "### Построим график относительного изменения кумулятивного среднего чека группы B к группе A"
   ]
  },
  {
   "cell_type": "code",
   "execution_count": 22,
   "metadata": {},
   "outputs": [
    {
     "data": {
      "image/png": "[encoded data removed]",
      "text/plain": [
       "<Figure size 720x288 with 1 Axes>"
      ]
     },
     "metadata": {
      "needs_background": "light"
     },
     "output_type": "display_data"
    }
   ],
   "source": [
    "merged_cummulative_data = cummulative_data_a.merge(cummulative_data_b, \n",
    "                                                   left_on='date', \n",
    "                                                   right_on='date',\n",
    "                                                   how='left',\n",
    "                                                   suffixes=['_a', '_b'])\n",
    "\n",
    "plt.figure(figsize=(10,4))\n",
    "plt.plot(merged_cummulative_data['date'], \n",
    "         ((merged_cummulative_data['revenue_b']/merged_cummulative_data['transactions_b'])/\n",
    "                                       (merged_cummulative_data['revenue_a']/merged_cummulative_data['transactions_a'])-1))\n",
    "plt.axhline(y=0, color='black', linestyle = '--')\n",
    "plt.title('График относительного изменения кумулятивного среднего чека группы B к группе A')\n",
    "plt.xlabel('Дата')\n",
    "plt.show()"
   ]
  },
  {
   "cell_type": "markdown",
   "metadata": {},
   "source": [
    "*Данный график так же подтверждает опасения о наличии аномальных значений,в связи с выраженными колебаниями*"
   ]
  },
  {
   "cell_type": "markdown",
   "metadata": {},
   "source": [
    "### Построим график кумулятивного среднего количества заказов на посетителя по группам. "
   ]
  },
  {
   "cell_type": "code",
   "execution_count": 23,
   "metadata": {},
   "outputs": [
    {
     "data": {
      "image/png": "[encoded data removed]",
      "text/plain": [
       "<Figure size 720x288 with 1 Axes>"
      ]
     },
     "metadata": {
      "needs_background": "light"
     },
     "output_type": "display_data"
    }
   ],
   "source": [
    "merged_cummulative_data['conversion_a'] =  merged_cummulative_data['transactions_a'] / merged_cummulative_data['visitors_a'] \n",
    "merged_cummulative_data['conversion_b'] =  merged_cummulative_data['transactions_b'] / merged_cummulative_data['visitors_b']\n",
    "plt.figure(figsize=(10,4))\n",
    "plt.plot(merged_cummulative_data['date'], merged_cummulative_data['conversion_a'], label='A')\n",
    "plt.plot(merged_cummulative_data['date'], merged_cummulative_data['conversion_b'], label='B')\n",
    "plt.title('График кумулятивного среднего количества заказов на посетителя по группам')\n",
    "plt.xlabel('Дата')\n",
    "plt.ylabel('Конверсия')\n",
    "plt.legend()\n",
    "plt.show()"
   ]
  },
  {
   "cell_type": "markdown",
   "metadata": {},
   "source": [
    "*Группа В уже с самого начала эксперимента(после 6-7 аавгуста) показывает большее количество средних заказов на посетителя(конверсия стабильно выше).*"
   ]
  },
  {
   "cell_type": "markdown",
   "metadata": {},
   "source": [
    "### Построим график относительного изменения кумулятивного среднего количества заказов на посетителя группы B к группе A. "
   ]
  },
  {
   "cell_type": "code",
   "execution_count": 24,
   "metadata": {},
   "outputs": [
    {
     "data": {
      "image/png": "[encoded data removed]",
      "text/plain": [
       "<Figure size 720x288 with 1 Axes>"
      ]
     },
     "metadata": {
      "needs_background": "light"
     },
     "output_type": "display_data"
    }
   ],
   "source": [
    "plt.figure(figsize=(10,4))\n",
    "plt.plot(merged_cummulative_data['date'], \n",
    "         ((merged_cummulative_data['conversion_b']/merged_cummulative_data['conversion_a'])-1))\n",
    "plt.title('График относительного изменения кумулятивного среднего количества заказов на посетителя группы B к группе A')\n",
    "plt.axhline(y=0, color='black', linestyle='--')\n",
    "plt.axhline(y=0.1, color='grey', linestyle='--')\n",
    "plt.xlabel('Дата')\n",
    "plt.show()"
   ]
  },
  {
   "cell_type": "markdown",
   "metadata": {},
   "source": [
    "*Кумулятивное среднее количества заказов для группы В с начала второй недели стабильно выше относительно группы А*"
   ]
  },
  {
   "cell_type": "markdown",
   "metadata": {},
   "source": [
    "### Построим точечный график количества заказов по пользователям"
   ]
  },
  {
   "cell_type": "code",
   "execution_count": 25,
   "metadata": {},
   "outputs": [
    {
     "data": {
      "image/png": "[encoded data removed]",
      "text/plain": [
       "<Figure size 720x288 with 1 Axes>"
      ]
     },
     "metadata": {
      "needs_background": "light"
     },
     "output_type": "display_data"
    }
   ],
   "source": [
    "transactions_by_users = (\n",
    "    orders.groupby('visitor_id', as_index=False)\n",
    "    .agg({'transaction_id': 'nunique'})\n",
    ")\n",
    "x_values = pd.Series(range(0,len(transactions_by_users)))\n",
    "plt.figure(figsize=(10,4))\n",
    "plt.scatter(x_values, transactions_by_users['transaction_id']) \n",
    "plt.title('Точечный график количества заказов по пользователям')\n",
    "plt.xlabel('Пользователи')\n",
    "plt.ylabel('Количество заказов')\n",
    "plt.show()"
   ]
  },
  {
   "cell_type": "markdown",
   "metadata": {},
   "source": [
    "*Исходя из графика большинство пользователей совершают от одного до 3 заказов*"
   ]
  },
  {
   "cell_type": "markdown",
   "metadata": {},
   "source": [
    "### Посчитаем 95-й и 99-й перцентили количества заказов на пользователя. Выберем границу для определения аномальных пользователей."
   ]
  },
  {
   "cell_type": "code",
   "execution_count": 26,
   "metadata": {},
   "outputs": [
    {
     "name": "stdout",
     "output_type": "stream",
     "text": [
      "[1. 1. 2.]\n"
     ]
    }
   ],
   "source": [
    "print(np.percentile(transactions_by_users['transaction_id'], [90, 95, 99]))"
   ]
  },
  {
   "cell_type": "markdown",
   "metadata": {},
   "source": [
    "*95% пользователей совершают не более 2 заказов.*"
   ]
  },
  {
   "cell_type": "markdown",
   "metadata": {},
   "source": [
    "### Построим точечный график стоимостей заказов."
   ]
  },
  {
   "cell_type": "code",
   "execution_count": 27,
   "metadata": {},
   "outputs": [
    {
     "data": {
      "image/png": "[encoded data removed]",
      "text/plain": [
       "<Figure size 720x288 with 1 Axes>"
      ]
     },
     "metadata": {
      "needs_background": "light"
     },
     "output_type": "display_data"
    }
   ],
   "source": [
    "x_values = pd.Series(range(0, len(orders)))\n",
    "plt.figure(figsize=(10,4))\n",
    "plt.scatter(x_values, orders['revenue'])\n",
    "plt.title('Точечный график стоимостей заказов')\n",
    "plt.axis([0, 1200, 0, 120000])\n",
    "plt.xlabel('Пользователи')\n",
    "plt.ylabel('Стоимость заказа')\n",
    "plt.show()"
   ]
  },
  {
   "cell_type": "markdown",
   "metadata": {},
   "source": [
    "*Основное количество заказов по пользователям не превышает по стоимости 20000.*"
   ]
  },
  {
   "cell_type": "markdown",
   "metadata": {},
   "source": [
    "### Посчитаем 95-й и 99-й перцентили стоимости заказов. Выберем границу для определения аномальных заказов."
   ]
  },
  {
   "cell_type": "code",
   "execution_count": 28,
   "metadata": {},
   "outputs": [
    {
     "name": "stdout",
     "output_type": "stream",
     "text": [
      "[17990. 26785. 53904.]\n"
     ]
    }
   ],
   "source": [
    "print(np.percentile(orders['revenue'], [90, 95, 99]))"
   ]
  },
  {
   "cell_type": "markdown",
   "metadata": {},
   "source": [
    "*95% сумм заказов на пользовталей дешевле 26785.*"
   ]
  },
  {
   "cell_type": "markdown",
   "metadata": {},
   "source": [
    "### Посчитаем статистическую значимость различий в среднем количестве заказов на посетителя между группами по «сырым» данным."
   ]
  },
  {
   "cell_type": "code",
   "execution_count": 29,
   "metadata": {},
   "outputs": [],
   "source": [
    "visitorsADaily = visitors[visitors['group'] == 'A'][['date', 'visitors']]\n",
    "visitorsADaily.columns = ['date', 'visitorsPerDateA']\n",
    "\n",
    "visitorsACummulative = visitorsADaily.apply(\n",
    "    lambda x: visitorsADaily[visitorsADaily['date'] <= x['date']].agg(\n",
    "        {'date': 'max', 'visitorsPerDateA': 'sum'}\n",
    "    ),\n",
    "    axis=1,\n",
    ")\n",
    "visitorsACummulative.columns = ['date', 'visitorsCummulativeA']\n",
    "\n",
    "visitorsBDaily = visitors[visitors['group'] == 'B'][['date', 'visitors']]\n",
    "visitorsBDaily.columns = ['date', 'visitorsPerDateB']\n",
    "\n",
    "visitorsBCummulative = visitorsBDaily.apply(\n",
    "    lambda x: visitorsBDaily[visitorsBDaily['date'] <= x['date']].agg(\n",
    "        {'date': 'max', 'visitorsPerDateB': 'sum'}\n",
    "    ),\n",
    "    axis=1,\n",
    ")\n",
    "visitorsBCummulative.columns = ['date', 'visitorsCummulativeB']\n",
    "\n",
    "ordersADaily = (\n",
    "    orders[orders['group'] == 'A'][['date', 'transaction_id', 'visitor_id', 'revenue']]\n",
    "    .groupby('date', as_index=False)\n",
    "    .agg({'transaction_id': pd.Series.nunique, 'revenue': 'sum'})\n",
    ")\n",
    "ordersADaily.columns = ['date', 'ordersPerDateA', 'revenuePerDateA']\n",
    "\n",
    "ordersACummulative = ordersADaily.apply(\n",
    "    lambda x: ordersADaily[ordersADaily['date'] <= x['date']].agg(\n",
    "        {'date': 'max', 'ordersPerDateA': 'sum', 'revenuePerDateA': 'sum'}\n",
    "    ),\n",
    "    axis=1,\n",
    ").sort_values(by=['date'])\n",
    "ordersACummulative.columns = [\n",
    "    'date',\n",
    "    'ordersCummulativeA',\n",
    "    'revenueCummulativeA',\n",
    "]\n",
    "\n",
    "ordersBDaily = (\n",
    "    orders[orders['group'] == 'B'][['date', 'transaction_id', 'visitor_id', 'revenue']]\n",
    "    .groupby('date', as_index=False)\n",
    "    .agg({'transaction_id': pd.Series.nunique, 'revenue': 'sum'})\n",
    ")\n",
    "ordersBDaily.columns = ['date', 'ordersPerDateB', 'revenuePerDateB']\n",
    "\n",
    "ordersBCummulative = ordersBDaily.apply(\n",
    "    lambda x: ordersBDaily[ordersBDaily['date'] <= x['date']].agg(\n",
    "        {'date': 'max', 'ordersPerDateB': 'sum', 'revenuePerDateB': 'sum'}\n",
    "    ),\n",
    "    axis=1,\n",
    ").sort_values(by=['date'])\n",
    "ordersBCummulative.columns = [\n",
    "    'date',\n",
    "    'ordersCummulativeB',\n",
    "    'revenueCummulativeB',\n",
    "]\n",
    "\n",
    "data = (\n",
    "    ordersADaily.merge(\n",
    "        ordersBDaily, left_on='date', right_on='date', how='left'\n",
    "    )\n",
    "    .merge(ordersACummulative, left_on='date', right_on='date', how='left')\n",
    "    .merge(ordersBCummulative, left_on='date', right_on='date', how='left')\n",
    "    .merge(visitorsADaily, left_on='date', right_on='date', how='left')\n",
    "    .merge(visitorsBDaily, left_on='date', right_on='date', how='left')\n",
    "    .merge(visitorsACummulative, left_on='date', right_on='date', how='left')\n",
    "    .merge(visitorsBCummulative, left_on='date', right_on='date', how='left')\n",
    ")"
   ]
  },
  {
   "cell_type": "code",
   "execution_count": 30,
   "metadata": {},
   "outputs": [],
   "source": [
    "orders_by_visitor_a = (\n",
    "    orders[orders['group'] == 'A']\n",
    "    .groupby('visitor_id', as_index=False)\n",
    "    .agg({'transaction_id': pd.Series.nunique})\n",
    ")\n",
    "\n",
    "orders_by_visitor_b = (\n",
    "    orders[orders['group'] == 'B']\n",
    "    .groupby('visitor_id', as_index=False)\n",
    "    .agg({'transaction_id': pd.Series.nunique})\n",
    ") "
   ]
  },
  {
   "cell_type": "code",
   "execution_count": 31,
   "metadata": {},
   "outputs": [
    {
     "name": "stdout",
     "output_type": "stream",
     "text": [
      "P-value: 0.011018084110014696\n",
      "Относительный прирост конверсии группы B по отношению к группе A по \"сырым\" данным:0.160\n"
     ]
    }
   ],
   "source": [
    "sample_a = pd.concat(\n",
    "    [\n",
    "        orders_by_visitor_a['transaction_id'],\n",
    "        pd.Series(\n",
    "            0,\n",
    "            index=np.arange(\n",
    "                data['visitorsPerDateA'].sum() - len(orders_by_visitor_a['transaction_id'])\n",
    "            ),\n",
    "            name='orders',\n",
    "        ),\n",
    "    ],\n",
    "    axis=0,\n",
    ")\n",
    "\n",
    "sample_b = pd.concat(\n",
    "    [\n",
    "        orders_by_visitor_b['transaction_id'],\n",
    "        pd.Series(\n",
    "            0,\n",
    "            index=np.arange(\n",
    "                data['visitorsPerDateB'].sum() - len(orders_by_visitor_b['transaction_id'])\n",
    "            ),\n",
    "            name='orders',\n",
    "        ),\n",
    "    ],\n",
    "    axis=0,\n",
    ")\n",
    "results = stats.mannwhitneyu(sample_a, sample_b)\n",
    "print('P-value: {}'.format(results.pvalue))\n",
    "print('Относительный прирост конверсии группы B по отношению к группе A по \"сырым\" данным:{0:.3f}'.format(sample_b.mean() / sample_a.mean() - 1))"
   ]
  },
  {
   "cell_type": "markdown",
   "metadata": {},
   "source": [
    "Н0- разница в среднем количестве заказов на посетителя между группами статистически значима.\n",
    "\n",
    "Н1- разница в среднем количестве заказов на посетителя между группами статистически НЕ значима\n",
    "\n",
    "По \"сырым\" данным учитывая ,что alpha=0.05 принимаем нулевую гипотезу."
   ]
  },
  {
   "cell_type": "code",
   "execution_count": 32,
   "metadata": {},
   "outputs": [
    {
     "name": "stdout",
     "output_type": "stream",
     "text": [
      "Разница среднего чека в группе B по отношению группы A по \"сырым\" данным: 0.287\n",
      "P-value: 0.8294908998149533\n"
     ]
    }
   ],
   "source": [
    "print('Разница среднего чека в группе B по отношению группы A по \"сырым\" данным: {:.3f}'.format(\n",
    "orders[orders['group']=='B']['revenue'].mean()/orders[orders['group']=='A']['revenue'].mean()-1))\n",
    "results_2 = stats.mannwhitneyu(orders[orders['group']=='A']['revenue'], orders[orders['group']=='B']['revenue'])\n",
    "print('P-value: {}'.format(results_2.pvalue))"
   ]
  },
  {
   "cell_type": "markdown",
   "metadata": {},
   "source": [
    "### Посчитаем статистическую значимость различий в среднем чеке заказа между группами по «сырым» данным."
   ]
  },
  {
   "cell_type": "markdown",
   "metadata": {},
   "source": [
    "Н0- разница среднего чека в группе B по отношению группы A статистически  значима.\n",
    "\n",
    "Н1- разница среднего чека в группе B по отношению группы A статистически НЕ значима\n",
    "\n",
    "По \"сырым\" данным учитывая ,что alpha=0.05 отвергаем нулевую гипотезу."
   ]
  },
  {
   "cell_type": "markdown",
   "metadata": {},
   "source": [
    "### Посчитаем статистическую значимость различий в среднем количестве заказов на посетителя между группами по «очищенным» данным. "
   ]
  },
  {
   "cell_type": "code",
   "execution_count": 33,
   "metadata": {},
   "outputs": [
    {
     "name": "stdout",
     "output_type": "stream",
     "text": [
      "568     113298937\n",
      "1099    148427295\n",
      "928     204675465\n",
      "33      249864742\n",
      "684     358944393\n",
      "Name: visitor_id, dtype: int64\n",
      "58\n"
     ]
    }
   ],
   "source": [
    "visitors_with_many_orders = pd.concat(\n",
    "    [\n",
    "        orders_by_visitor_a[orders_by_visitor_a['transaction_id'] > 2]['visitor_id'],\n",
    "        orders_by_visitor_b[orders_by_visitor_b['transaction_id'] > 2]['visitor_id'],\n",
    "    ],\n",
    "    axis=0,\n",
    ")\n",
    "visitors_with_expensive_orders = orders[orders['revenue'] > 26785]['visitor_id']\n",
    "abnormal_users = (\n",
    "    pd.concat([visitors_with_many_orders, visitors_with_expensive_orders], axis=0)\n",
    "    .drop_duplicates()\n",
    "    .sort_values()\n",
    ")\n",
    "print(abnormal_users.head(5))\n",
    "print(abnormal_users.shape[0]) "
   ]
  },
  {
   "cell_type": "code",
   "execution_count": 34,
   "metadata": {},
   "outputs": [],
   "source": [
    "sample_a_filtered = pd.concat(\n",
    "    [\n",
    "        orders_by_visitor_a[\n",
    "            np.logical_not(orders_by_visitor_a['visitor_id'].isin(abnormal_users))\n",
    "        ]['transaction_id'],\n",
    "        pd.Series(\n",
    "            0,\n",
    "            index=np.arange(\n",
    "                data['visitorsPerDateA'].sum() - len(orders_by_visitor_a['transaction_id'])\n",
    "            ),\n",
    "            name='orders',\n",
    "        ),\n",
    "    ],\n",
    "    axis=0,\n",
    ")\n",
    "\n",
    "sample_b_filtered = pd.concat(\n",
    "    [\n",
    "        orders_by_visitor_b[\n",
    "            np.logical_not(orders_by_visitor_b['visitor_id'].isin(abnormal_users))\n",
    "        ]['transaction_id'],\n",
    "        pd.Series(\n",
    "            0,\n",
    "            index=np.arange(\n",
    "                data['visitorsPerDateB'].sum() - len(orders_by_visitor_b['transaction_id'])\n",
    "            ),\n",
    "            name='orders',\n",
    "        ),\n",
    "    ],\n",
    "    axis=0,\n",
    ")"
   ]
  },
  {
   "cell_type": "code",
   "execution_count": 35,
   "metadata": {},
   "outputs": [
    {
     "name": "stdout",
     "output_type": "stream",
     "text": [
      "P-value:0.012\n",
      "Относительный прирост конверсии группы B по отношению к группе A по \"очищенным\" данным:0.182\n"
     ]
    }
   ],
   "source": [
    "print('P-value:{0:.3f}'.format(stats.mannwhitneyu(sample_a_filtered, sample_b_filtered)[1]))\n",
    "print('Относительный прирост конверсии группы B по отношению к группе A по \"очищенным\" данным:{0:.3f}'.format(sample_b_filtered.mean()/sample_a_filtered.mean()-1)) "
   ]
  },
  {
   "cell_type": "markdown",
   "metadata": {},
   "source": [
    "Н0- разница в среднем количестве заказов на посетителя между группами статистически значима.\n",
    "\n",
    "Н1- разница в среднем количестве заказов на посетителя между группами статистически НЕ значима\n",
    "\n",
    "По \"очищенным\" данным учитывая ,что alpha=0.05 принимаем нулевую гипотезу."
   ]
  },
  {
   "cell_type": "markdown",
   "metadata": {},
   "source": [
    "### Посчитаем статистическую значимость различий в среднем чеке заказа между группами по «очищенным» данным. "
   ]
  },
  {
   "cell_type": "code",
   "execution_count": 36,
   "metadata": {},
   "outputs": [
    {
     "name": "stdout",
     "output_type": "stream",
     "text": [
      "P-value:0.646\n",
      "Относительное изменение среднего чека в группе B по отношению группы A по \"очищенным\" данным:-0.048\n"
     ]
    }
   ],
   "source": [
    "print(\n",
    "    'P-value:{0:.3f}'.format(\n",
    "        stats.mannwhitneyu(\n",
    "            orders[\n",
    "                np.logical_and(\n",
    "                    orders['group'] == 'A',\n",
    "                    np.logical_not(orders['visitor_id'].isin(abnormal_users)),\n",
    "                )\n",
    "            ]['revenue'],\n",
    "            orders[\n",
    "                np.logical_and(\n",
    "                    orders['group'] == 'B',\n",
    "                    np.logical_not(orders['visitor_id'].isin(abnormal_users)),\n",
    "                )\n",
    "            ]['revenue'],\n",
    "        )[1]\n",
    "    )\n",
    ")\n",
    "\n",
    "print(\n",
    "    'Относительное изменение среднего чека в группе B по отношению группы A по \"очищенным\" данным:{0:.3f}'.format(\n",
    "        orders[\n",
    "            np.logical_and(\n",
    "                orders['group'] == 'B',\n",
    "                np.logical_not(orders['visitor_id'].isin(abnormal_users)),\n",
    "            )\n",
    "        ]['revenue'].mean()\n",
    "        / orders[\n",
    "            np.logical_and(\n",
    "                orders['group'] == 'A',\n",
    "                np.logical_not(orders['visitor_id'].isin(abnormal_users)),\n",
    "            )\n",
    "        ]['revenue'].mean()\n",
    "        - 1\n",
    "    )\n",
    ")"
   ]
  },
  {
   "cell_type": "markdown",
   "metadata": {},
   "source": [
    "Н0- разница среднего чека в группе B по отношению группы A статистически  значима.\n",
    "\n",
    "Н1- разница среднего чека в группе B по отношению группы A статистически НЕ значима\n",
    "\n",
    "По \"очищенным\" данным учитывая ,что alpha=0.05 отвергаем нулевую гипотезу."
   ]
  },
  {
   "cell_type": "markdown",
   "metadata": {},
   "source": [
    "#   Решение по результатам теста\n"
   ]
  },
  {
   "cell_type": "markdown",
   "metadata": {},
   "source": [
    "После очистки от аномальных пользователей( с суммой заказа больше 28000 и количеством заказов больше 2) разница между средними чеками стала минимальна.\n",
    "Статистически значимой разницы по среднему чеку нет (чек не увеличился, но и не уменьшился), при этом разница в количестве заказов статистически значима - значит мы заканчиваем анализ A/B-теста - он оказался успешным.\n",
    "\n",
    "* Кумулятивные метрики по выручке, среднему чеку и конверсии почти все время лидировали в группе B(начиная с конца первой недели). \n",
    "* До и после очистки данных, показатель конверсии в группе B больше показателя в группе A - сначала на 13.8% до и на 17.3% после очистки данных. Данная разница показателей конверсии между группами и до и после очистки данных является статистически значимой.\n",
    "\n",
    "Зафиксируем победу группы В."
   ]
  }
 ],
 "metadata": {
  "ExecuteTimeLog": [
   {
    "duration": 1311,
    "start_time": "2024-03-27T17:59:30.247Z"
   },
   {
    "duration": 79,
    "start_time": "2024-03-27T18:01:08.009Z"
   },
   {
    "duration": 25,
    "start_time": "2024-03-27T18:01:18.235Z"
   },
   {
    "duration": 5,
    "start_time": "2024-03-27T18:01:41.631Z"
   },
   {
    "duration": 26,
    "start_time": "2024-03-27T18:01:43.609Z"
   },
   {
    "duration": 20,
    "start_time": "2024-03-27T18:02:01.395Z"
   },
   {
    "duration": 89,
    "start_time": "2024-03-27T18:03:06.947Z"
   },
   {
    "duration": 93,
    "start_time": "2024-03-27T18:03:14.737Z"
   },
   {
    "duration": 15,
    "start_time": "2024-03-27T18:03:18.761Z"
   },
   {
    "duration": 12,
    "start_time": "2024-03-27T18:04:23.731Z"
   },
   {
    "duration": 16,
    "start_time": "2024-03-27T18:04:35.913Z"
   },
   {
    "duration": 68,
    "start_time": "2024-03-27T18:05:32.090Z"
   },
   {
    "duration": 15,
    "start_time": "2024-03-27T18:05:40.253Z"
   },
   {
    "duration": 4,
    "start_time": "2024-03-27T18:06:45.036Z"
   },
   {
    "duration": 16,
    "start_time": "2024-03-27T18:06:47.363Z"
   },
   {
    "duration": 5,
    "start_time": "2024-03-27T18:07:19.873Z"
   },
   {
    "duration": 16,
    "start_time": "2024-03-27T18:07:22.782Z"
   },
   {
    "duration": 3,
    "start_time": "2024-03-27T18:07:35.061Z"
   },
   {
    "duration": 10,
    "start_time": "2024-03-27T18:10:07.488Z"
   },
   {
    "duration": 4,
    "start_time": "2024-03-27T18:10:14.410Z"
   },
   {
    "duration": 15,
    "start_time": "2024-03-27T18:10:17.976Z"
   },
   {
    "duration": 3,
    "start_time": "2024-03-27T18:10:58.139Z"
   },
   {
    "duration": 15,
    "start_time": "2024-03-27T18:11:03.222Z"
   },
   {
    "duration": 89,
    "start_time": "2024-03-27T18:12:03.155Z"
   },
   {
    "duration": 3,
    "start_time": "2024-03-27T18:12:07.278Z"
   },
   {
    "duration": 15,
    "start_time": "2024-03-27T18:12:10.358Z"
   },
   {
    "duration": 3,
    "start_time": "2024-03-27T18:12:35.167Z"
   },
   {
    "duration": 16,
    "start_time": "2024-03-27T18:12:37.992Z"
   },
   {
    "duration": 1159,
    "start_time": "2024-03-27T18:12:47.469Z"
   },
   {
    "duration": 4,
    "start_time": "2024-03-27T18:12:48.630Z"
   },
   {
    "duration": 31,
    "start_time": "2024-03-27T18:12:48.635Z"
   },
   {
    "duration": 18,
    "start_time": "2024-03-27T18:12:48.668Z"
   },
   {
    "duration": 2,
    "start_time": "2024-03-27T18:12:48.688Z"
   },
   {
    "duration": 47,
    "start_time": "2024-03-27T18:12:48.692Z"
   },
   {
    "duration": 16,
    "start_time": "2024-03-27T18:12:48.740Z"
   },
   {
    "duration": 5,
    "start_time": "2024-03-27T18:12:48.757Z"
   },
   {
    "duration": 15,
    "start_time": "2024-03-27T18:12:48.764Z"
   },
   {
    "duration": 14,
    "start_time": "2024-03-27T18:12:48.782Z"
   },
   {
    "duration": 4,
    "start_time": "2024-03-27T18:12:48.797Z"
   },
   {
    "duration": 15,
    "start_time": "2024-03-27T18:12:54.567Z"
   },
   {
    "duration": 4,
    "start_time": "2024-03-27T18:13:00.875Z"
   },
   {
    "duration": 17,
    "start_time": "2024-03-27T18:13:03.334Z"
   },
   {
    "duration": 91,
    "start_time": "2024-03-27T18:14:28.173Z"
   },
   {
    "duration": 37,
    "start_time": "2024-03-27T18:14:50.448Z"
   },
   {
    "duration": 11,
    "start_time": "2024-03-27T18:15:35.703Z"
   },
   {
    "duration": 1138,
    "start_time": "2024-03-28T10:47:38.784Z"
   },
   {
    "duration": 3,
    "start_time": "2024-03-28T10:47:39.924Z"
   },
   {
    "duration": 74,
    "start_time": "2024-03-28T10:47:39.929Z"
   },
   {
    "duration": 21,
    "start_time": "2024-03-28T10:47:40.005Z"
   },
   {
    "duration": 10,
    "start_time": "2024-03-28T10:47:40.028Z"
   },
   {
    "duration": 106,
    "start_time": "2024-03-28T10:47:40.039Z"
   },
   {
    "duration": 17,
    "start_time": "2024-03-28T10:47:40.147Z"
   },
   {
    "duration": 6,
    "start_time": "2024-03-28T10:47:40.166Z"
   },
   {
    "duration": 73,
    "start_time": "2024-03-28T10:47:40.174Z"
   },
   {
    "duration": 13,
    "start_time": "2024-03-28T10:47:40.250Z"
   },
   {
    "duration": 3,
    "start_time": "2024-03-28T10:47:40.265Z"
   },
   {
    "duration": 15,
    "start_time": "2024-03-28T10:47:40.270Z"
   },
   {
    "duration": 13,
    "start_time": "2024-03-28T10:47:40.286Z"
   },
   {
    "duration": 250,
    "start_time": "2024-03-28T10:55:47.808Z"
   },
   {
    "duration": 227,
    "start_time": "2024-03-28T10:57:19.193Z"
   },
   {
    "duration": 228,
    "start_time": "2024-03-28T10:58:38.260Z"
   },
   {
    "duration": 233,
    "start_time": "2024-03-28T10:58:59.230Z"
   },
   {
    "duration": 165,
    "start_time": "2024-03-28T11:01:34.549Z"
   },
   {
    "duration": 281,
    "start_time": "2024-03-28T11:14:23.933Z"
   },
   {
    "duration": 246,
    "start_time": "2024-03-28T11:19:36.419Z"
   },
   {
    "duration": 210,
    "start_time": "2024-03-28T11:20:12.356Z"
   },
   {
    "duration": 85,
    "start_time": "2024-03-28T11:20:45.915Z"
   },
   {
    "duration": 195,
    "start_time": "2024-03-28T11:21:00.258Z"
   },
   {
    "duration": 211,
    "start_time": "2024-03-28T11:22:10.463Z"
   },
   {
    "duration": 9,
    "start_time": "2024-03-28T11:24:11.546Z"
   },
   {
    "duration": 253,
    "start_time": "2024-03-28T11:27:31.063Z"
   },
   {
    "duration": 283,
    "start_time": "2024-03-28T11:27:54.784Z"
   },
   {
    "duration": 98,
    "start_time": "2024-03-28T11:38:55.817Z"
   },
   {
    "duration": 3,
    "start_time": "2024-03-28T11:44:54.856Z"
   },
   {
    "duration": 120,
    "start_time": "2024-03-28T11:48:09.232Z"
   },
   {
    "duration": 106,
    "start_time": "2024-03-28T11:48:16.535Z"
   },
   {
    "duration": 115,
    "start_time": "2024-03-28T11:48:23.796Z"
   },
   {
    "duration": 114,
    "start_time": "2024-03-28T11:49:14.164Z"
   },
   {
    "duration": 109,
    "start_time": "2024-03-28T11:49:20.505Z"
   },
   {
    "duration": 113,
    "start_time": "2024-03-28T11:49:25.466Z"
   },
   {
    "duration": 115,
    "start_time": "2024-03-28T11:49:35.946Z"
   },
   {
    "duration": 157,
    "start_time": "2024-03-28T11:49:46.110Z"
   },
   {
    "duration": 107,
    "start_time": "2024-03-28T11:50:26.132Z"
   },
   {
    "duration": 107,
    "start_time": "2024-03-28T11:53:40.648Z"
   },
   {
    "duration": 114,
    "start_time": "2024-03-28T11:53:57.195Z"
   },
   {
    "duration": 3,
    "start_time": "2024-03-28T11:56:41.435Z"
   },
   {
    "duration": 109,
    "start_time": "2024-03-28T12:01:59.620Z"
   },
   {
    "duration": 8,
    "start_time": "2024-03-28T12:02:04.169Z"
   },
   {
    "duration": 84,
    "start_time": "2024-03-28T12:08:37.648Z"
   },
   {
    "duration": 130,
    "start_time": "2024-03-28T12:10:36.103Z"
   },
   {
    "duration": 186,
    "start_time": "2024-03-28T12:11:18.293Z"
   },
   {
    "duration": 132,
    "start_time": "2024-03-28T12:11:27.133Z"
   },
   {
    "duration": 8,
    "start_time": "2024-03-28T12:11:45.743Z"
   },
   {
    "duration": 6,
    "start_time": "2024-03-28T12:12:38.613Z"
   },
   {
    "duration": 10,
    "start_time": "2024-03-28T12:14:18.420Z"
   },
   {
    "duration": 9,
    "start_time": "2024-03-28T12:14:27.263Z"
   },
   {
    "duration": 48,
    "start_time": "2024-03-28T12:14:45.602Z"
   },
   {
    "duration": 9,
    "start_time": "2024-03-28T12:14:50.649Z"
   },
   {
    "duration": 10,
    "start_time": "2024-03-28T12:15:19.103Z"
   },
   {
    "duration": 900,
    "start_time": "2024-03-28T12:21:23.769Z"
   },
   {
    "duration": 7,
    "start_time": "2024-03-28T12:22:24.131Z"
   },
   {
    "duration": 950,
    "start_time": "2024-03-28T12:22:33.251Z"
   },
   {
    "duration": 6,
    "start_time": "2024-03-28T12:22:34.204Z"
   },
   {
    "duration": 30,
    "start_time": "2024-03-28T12:22:34.211Z"
   },
   {
    "duration": 17,
    "start_time": "2024-03-28T12:22:34.243Z"
   },
   {
    "duration": 5,
    "start_time": "2024-03-28T12:22:34.261Z"
   },
   {
    "duration": 43,
    "start_time": "2024-03-28T12:22:34.267Z"
   },
   {
    "duration": 17,
    "start_time": "2024-03-28T12:22:34.312Z"
   },
   {
    "duration": 5,
    "start_time": "2024-03-28T12:22:34.330Z"
   },
   {
    "duration": 20,
    "start_time": "2024-03-28T12:22:34.336Z"
   },
   {
    "duration": 15,
    "start_time": "2024-03-28T12:22:34.359Z"
   },
   {
    "duration": 4,
    "start_time": "2024-03-28T12:22:34.376Z"
   },
   {
    "duration": 26,
    "start_time": "2024-03-28T12:22:34.381Z"
   },
   {
    "duration": 13,
    "start_time": "2024-03-28T12:22:34.408Z"
   },
   {
    "duration": 259,
    "start_time": "2024-03-28T12:22:34.423Z"
   },
   {
    "duration": 269,
    "start_time": "2024-03-28T12:22:34.683Z"
   },
   {
    "duration": 915,
    "start_time": "2024-03-28T12:22:34.953Z"
   },
   {
    "duration": 0,
    "start_time": "2024-03-28T12:22:35.870Z"
   },
   {
    "duration": 0,
    "start_time": "2024-03-28T12:22:35.871Z"
   },
   {
    "duration": 0,
    "start_time": "2024-03-28T12:22:35.871Z"
   },
   {
    "duration": 0,
    "start_time": "2024-03-28T12:22:35.872Z"
   },
   {
    "duration": 0,
    "start_time": "2024-03-28T12:22:35.873Z"
   },
   {
    "duration": 0,
    "start_time": "2024-03-28T12:22:35.874Z"
   },
   {
    "duration": 0,
    "start_time": "2024-03-28T12:22:35.875Z"
   },
   {
    "duration": 0,
    "start_time": "2024-03-28T12:22:35.876Z"
   },
   {
    "duration": 0,
    "start_time": "2024-03-28T12:22:35.876Z"
   },
   {
    "duration": 0,
    "start_time": "2024-03-28T12:22:35.877Z"
   },
   {
    "duration": 154,
    "start_time": "2024-03-28T12:23:26.275Z"
   },
   {
    "duration": 1039,
    "start_time": "2024-03-28T12:23:33.378Z"
   },
   {
    "duration": 4,
    "start_time": "2024-03-28T12:23:34.419Z"
   },
   {
    "duration": 48,
    "start_time": "2024-03-28T12:23:34.424Z"
   },
   {
    "duration": 16,
    "start_time": "2024-03-28T12:23:34.473Z"
   },
   {
    "duration": 11,
    "start_time": "2024-03-28T12:23:34.490Z"
   },
   {
    "duration": 50,
    "start_time": "2024-03-28T12:23:34.502Z"
   },
   {
    "duration": 13,
    "start_time": "2024-03-28T12:23:34.553Z"
   },
   {
    "duration": 5,
    "start_time": "2024-03-28T12:23:34.567Z"
   },
   {
    "duration": 21,
    "start_time": "2024-03-28T12:23:34.573Z"
   },
   {
    "duration": 17,
    "start_time": "2024-03-28T12:23:34.596Z"
   },
   {
    "duration": 4,
    "start_time": "2024-03-28T12:23:34.614Z"
   },
   {
    "duration": 13,
    "start_time": "2024-03-28T12:23:34.620Z"
   },
   {
    "duration": 20,
    "start_time": "2024-03-28T12:23:34.634Z"
   },
   {
    "duration": 240,
    "start_time": "2024-03-28T12:23:34.655Z"
   },
   {
    "duration": 256,
    "start_time": "2024-03-28T12:23:34.896Z"
   },
   {
    "duration": 180,
    "start_time": "2024-03-28T12:23:35.153Z"
   },
   {
    "duration": 948,
    "start_time": "2024-03-28T12:23:35.334Z"
   },
   {
    "duration": 0,
    "start_time": "2024-03-28T12:23:36.283Z"
   },
   {
    "duration": 0,
    "start_time": "2024-03-28T12:23:36.284Z"
   },
   {
    "duration": 0,
    "start_time": "2024-03-28T12:23:36.285Z"
   },
   {
    "duration": 0,
    "start_time": "2024-03-28T12:23:36.286Z"
   },
   {
    "duration": 0,
    "start_time": "2024-03-28T12:23:36.286Z"
   },
   {
    "duration": 0,
    "start_time": "2024-03-28T12:23:36.288Z"
   },
   {
    "duration": 0,
    "start_time": "2024-03-28T12:23:36.288Z"
   },
   {
    "duration": 0,
    "start_time": "2024-03-28T12:23:36.289Z"
   },
   {
    "duration": 0,
    "start_time": "2024-03-28T12:23:36.290Z"
   },
   {
    "duration": 302,
    "start_time": "2024-03-28T12:24:04.703Z"
   },
   {
    "duration": 931,
    "start_time": "2024-03-28T12:24:32.358Z"
   },
   {
    "duration": 3,
    "start_time": "2024-03-28T12:24:33.291Z"
   },
   {
    "duration": 36,
    "start_time": "2024-03-28T12:24:33.295Z"
   },
   {
    "duration": 15,
    "start_time": "2024-03-28T12:24:33.332Z"
   },
   {
    "duration": 11,
    "start_time": "2024-03-28T12:24:33.349Z"
   },
   {
    "duration": 46,
    "start_time": "2024-03-28T12:24:33.361Z"
   },
   {
    "duration": 19,
    "start_time": "2024-03-28T12:24:33.409Z"
   },
   {
    "duration": 5,
    "start_time": "2024-03-28T12:24:33.429Z"
   },
   {
    "duration": 16,
    "start_time": "2024-03-28T12:24:33.435Z"
   },
   {
    "duration": 12,
    "start_time": "2024-03-28T12:24:33.453Z"
   },
   {
    "duration": 5,
    "start_time": "2024-03-28T12:24:33.466Z"
   },
   {
    "duration": 21,
    "start_time": "2024-03-28T12:24:33.472Z"
   },
   {
    "duration": 18,
    "start_time": "2024-03-28T12:24:33.494Z"
   },
   {
    "duration": 258,
    "start_time": "2024-03-28T12:24:33.515Z"
   },
   {
    "duration": 245,
    "start_time": "2024-03-28T12:24:33.774Z"
   },
   {
    "duration": 171,
    "start_time": "2024-03-28T12:24:34.020Z"
   },
   {
    "duration": 300,
    "start_time": "2024-03-28T12:24:34.192Z"
   },
   {
    "duration": 200,
    "start_time": "2024-03-28T12:24:34.493Z"
   },
   {
    "duration": 293,
    "start_time": "2024-03-28T12:24:34.694Z"
   },
   {
    "duration": 125,
    "start_time": "2024-03-28T12:24:34.989Z"
   },
   {
    "duration": 4,
    "start_time": "2024-03-28T12:24:35.116Z"
   },
   {
    "duration": 138,
    "start_time": "2024-03-28T12:24:35.122Z"
   },
   {
    "duration": 4,
    "start_time": "2024-03-28T12:24:35.262Z"
   },
   {
    "duration": 185,
    "start_time": "2024-03-28T12:24:35.267Z"
   },
   {
    "duration": 123,
    "start_time": "2024-03-28T12:24:35.454Z"
   },
   {
    "duration": 5,
    "start_time": "2024-03-28T12:24:35.578Z"
   },
   {
    "duration": 24,
    "start_time": "2024-03-28T12:24:56.998Z"
   },
   {
    "duration": 29,
    "start_time": "2024-03-28T12:26:01.693Z"
   },
   {
    "duration": 22,
    "start_time": "2024-03-28T12:27:02.667Z"
   },
   {
    "duration": 27,
    "start_time": "2024-03-28T12:27:20.407Z"
   },
   {
    "duration": 129,
    "start_time": "2024-03-28T12:28:16.024Z"
   },
   {
    "duration": 21,
    "start_time": "2024-03-28T12:28:46.465Z"
   },
   {
    "duration": 9,
    "start_time": "2024-03-28T12:38:12.809Z"
   },
   {
    "duration": 9,
    "start_time": "2024-03-28T12:38:45.886Z"
   },
   {
    "duration": 12,
    "start_time": "2024-03-28T12:44:41.590Z"
   },
   {
    "duration": 11,
    "start_time": "2024-03-28T12:45:57.595Z"
   },
   {
    "duration": 7,
    "start_time": "2024-03-28T12:46:08.271Z"
   },
   {
    "duration": 8,
    "start_time": "2024-03-28T12:46:32.397Z"
   },
   {
    "duration": 7,
    "start_time": "2024-03-28T12:46:52.951Z"
   },
   {
    "duration": 6,
    "start_time": "2024-03-28T12:49:53.065Z"
   },
   {
    "duration": 17,
    "start_time": "2024-03-28T12:50:31.614Z"
   },
   {
    "duration": 19,
    "start_time": "2024-03-28T12:51:20.189Z"
   },
   {
    "duration": 17,
    "start_time": "2024-03-28T12:51:25.637Z"
   },
   {
    "duration": 17,
    "start_time": "2024-03-28T12:51:33.475Z"
   },
   {
    "duration": 59,
    "start_time": "2024-03-28T12:52:08.920Z"
   },
   {
    "duration": 20,
    "start_time": "2024-03-28T12:52:23.840Z"
   },
   {
    "duration": 18,
    "start_time": "2024-03-28T12:52:47.104Z"
   },
   {
    "duration": 11,
    "start_time": "2024-03-28T12:55:45.829Z"
   },
   {
    "duration": 11,
    "start_time": "2024-03-28T12:58:19.874Z"
   },
   {
    "duration": 967,
    "start_time": "2024-03-28T13:05:55.634Z"
   },
   {
    "duration": 4,
    "start_time": "2024-03-28T13:05:56.603Z"
   },
   {
    "duration": 33,
    "start_time": "2024-03-28T13:05:56.608Z"
   },
   {
    "duration": 19,
    "start_time": "2024-03-28T13:05:56.643Z"
   },
   {
    "duration": 9,
    "start_time": "2024-03-28T13:05:56.663Z"
   },
   {
    "duration": 52,
    "start_time": "2024-03-28T13:05:56.673Z"
   },
   {
    "duration": 14,
    "start_time": "2024-03-28T13:05:56.726Z"
   },
   {
    "duration": 4,
    "start_time": "2024-03-28T13:05:56.741Z"
   },
   {
    "duration": 38,
    "start_time": "2024-03-28T13:05:56.746Z"
   },
   {
    "duration": 12,
    "start_time": "2024-03-28T13:05:56.786Z"
   },
   {
    "duration": 6,
    "start_time": "2024-03-28T13:05:56.799Z"
   },
   {
    "duration": 26,
    "start_time": "2024-03-28T13:05:56.806Z"
   },
   {
    "duration": 14,
    "start_time": "2024-03-28T13:05:56.833Z"
   },
   {
    "duration": 221,
    "start_time": "2024-03-28T13:05:56.848Z"
   },
   {
    "duration": 233,
    "start_time": "2024-03-28T13:05:57.070Z"
   },
   {
    "duration": 159,
    "start_time": "2024-03-28T13:05:57.304Z"
   },
   {
    "duration": 263,
    "start_time": "2024-03-28T13:05:57.464Z"
   },
   {
    "duration": 180,
    "start_time": "2024-03-28T13:05:57.728Z"
   },
   {
    "duration": 273,
    "start_time": "2024-03-28T13:05:57.909Z"
   },
   {
    "duration": 120,
    "start_time": "2024-03-28T13:05:58.183Z"
   },
   {
    "duration": 4,
    "start_time": "2024-03-28T13:05:58.304Z"
   },
   {
    "duration": 129,
    "start_time": "2024-03-28T13:05:58.309Z"
   },
   {
    "duration": 4,
    "start_time": "2024-03-28T13:05:58.439Z"
   },
   {
    "duration": 188,
    "start_time": "2024-03-28T13:05:58.444Z"
   },
   {
    "duration": 117,
    "start_time": "2024-03-28T13:05:58.634Z"
   },
   {
    "duration": 22,
    "start_time": "2024-03-28T13:05:58.753Z"
   },
   {
    "duration": 8,
    "start_time": "2024-03-28T13:05:58.776Z"
   },
   {
    "duration": 8,
    "start_time": "2024-03-28T13:05:58.802Z"
   },
   {
    "duration": 24,
    "start_time": "2024-03-28T13:05:58.811Z"
   },
   {
    "duration": 19,
    "start_time": "2024-03-28T13:05:58.836Z"
   },
   {
    "duration": 14,
    "start_time": "2024-03-28T13:05:58.856Z"
   },
   {
    "duration": 1242,
    "start_time": "2024-03-28T13:22:24.040Z"
   },
   {
    "duration": 4,
    "start_time": "2024-03-28T13:22:25.285Z"
   },
   {
    "duration": 41,
    "start_time": "2024-03-28T13:22:25.291Z"
   },
   {
    "duration": 21,
    "start_time": "2024-03-28T13:22:25.334Z"
   },
   {
    "duration": 4,
    "start_time": "2024-03-28T13:22:25.356Z"
   },
   {
    "duration": 57,
    "start_time": "2024-03-28T13:22:25.362Z"
   },
   {
    "duration": 16,
    "start_time": "2024-03-28T13:22:25.421Z"
   },
   {
    "duration": 8,
    "start_time": "2024-03-28T13:22:25.439Z"
   },
   {
    "duration": 41,
    "start_time": "2024-03-28T13:22:25.449Z"
   },
   {
    "duration": 24,
    "start_time": "2024-03-28T13:22:25.492Z"
   },
   {
    "duration": 4,
    "start_time": "2024-03-28T13:22:25.518Z"
   },
   {
    "duration": 21,
    "start_time": "2024-03-28T13:22:25.523Z"
   },
   {
    "duration": 12,
    "start_time": "2024-03-28T13:22:25.546Z"
   },
   {
    "duration": 284,
    "start_time": "2024-03-28T13:22:25.560Z"
   },
   {
    "duration": 274,
    "start_time": "2024-03-28T13:22:25.845Z"
   },
   {
    "duration": 197,
    "start_time": "2024-03-28T13:22:26.121Z"
   },
   {
    "duration": 304,
    "start_time": "2024-03-28T13:22:26.320Z"
   },
   {
    "duration": 219,
    "start_time": "2024-03-28T13:22:26.626Z"
   },
   {
    "duration": 290,
    "start_time": "2024-03-28T13:22:26.847Z"
   },
   {
    "duration": 146,
    "start_time": "2024-03-28T13:22:27.139Z"
   },
   {
    "duration": 4,
    "start_time": "2024-03-28T13:22:27.287Z"
   },
   {
    "duration": 167,
    "start_time": "2024-03-28T13:22:27.292Z"
   },
   {
    "duration": 4,
    "start_time": "2024-03-28T13:22:27.460Z"
   },
   {
    "duration": 222,
    "start_time": "2024-03-28T13:22:27.465Z"
   },
   {
    "duration": 157,
    "start_time": "2024-03-28T13:22:27.689Z"
   },
   {
    "duration": 29,
    "start_time": "2024-03-28T13:22:27.848Z"
   },
   {
    "duration": 15,
    "start_time": "2024-03-28T13:22:27.879Z"
   },
   {
    "duration": 25,
    "start_time": "2024-03-28T13:22:27.897Z"
   },
   {
    "duration": 23,
    "start_time": "2024-03-28T13:22:27.923Z"
   },
   {
    "duration": 56,
    "start_time": "2024-03-28T13:22:27.948Z"
   },
   {
    "duration": 25,
    "start_time": "2024-03-28T13:22:28.006Z"
   },
   {
    "duration": 93,
    "start_time": "2024-03-28T13:31:23.071Z"
   },
   {
    "duration": 237,
    "start_time": "2024-03-28T13:57:11.012Z"
   },
   {
    "duration": 10,
    "start_time": "2024-03-28T13:59:10.279Z"
   },
   {
    "duration": 223,
    "start_time": "2024-03-28T14:01:51.506Z"
   },
   {
    "duration": 179,
    "start_time": "2024-03-28T14:03:06.432Z"
   },
   {
    "duration": 202,
    "start_time": "2024-03-28T14:05:46.105Z"
   },
   {
    "duration": 4,
    "start_time": "2024-03-28T14:15:27.212Z"
   },
   {
    "duration": 82,
    "start_time": "2024-03-28T14:15:33.652Z"
   },
   {
    "duration": 7,
    "start_time": "2024-03-28T14:15:46.923Z"
   },
   {
    "duration": 957,
    "start_time": "2024-03-28T14:15:58.940Z"
   },
   {
    "duration": 3,
    "start_time": "2024-03-28T14:15:59.899Z"
   },
   {
    "duration": 32,
    "start_time": "2024-03-28T14:15:59.904Z"
   },
   {
    "duration": 16,
    "start_time": "2024-03-28T14:15:59.938Z"
   },
   {
    "duration": 8,
    "start_time": "2024-03-28T14:15:59.955Z"
   },
   {
    "duration": 42,
    "start_time": "2024-03-28T14:15:59.964Z"
   },
   {
    "duration": 14,
    "start_time": "2024-03-28T14:16:00.007Z"
   },
   {
    "duration": 40,
    "start_time": "2024-03-28T14:16:00.022Z"
   },
   {
    "duration": 56,
    "start_time": "2024-03-28T14:16:00.063Z"
   },
   {
    "duration": 27,
    "start_time": "2024-03-28T14:16:00.122Z"
   },
   {
    "duration": 62,
    "start_time": "2024-03-28T14:16:00.150Z"
   },
   {
    "duration": 86,
    "start_time": "2024-03-28T14:16:00.213Z"
   },
   {
    "duration": 72,
    "start_time": "2024-03-28T14:16:00.300Z"
   },
   {
    "duration": 1018,
    "start_time": "2024-03-28T14:16:00.374Z"
   },
   {
    "duration": 0,
    "start_time": "2024-03-28T14:16:01.393Z"
   },
   {
    "duration": 0,
    "start_time": "2024-03-28T14:16:01.395Z"
   },
   {
    "duration": 0,
    "start_time": "2024-03-28T14:16:01.395Z"
   },
   {
    "duration": 0,
    "start_time": "2024-03-28T14:16:01.396Z"
   },
   {
    "duration": 0,
    "start_time": "2024-03-28T14:16:01.397Z"
   },
   {
    "duration": 0,
    "start_time": "2024-03-28T14:16:01.398Z"
   },
   {
    "duration": 0,
    "start_time": "2024-03-28T14:16:01.398Z"
   },
   {
    "duration": 0,
    "start_time": "2024-03-28T14:16:01.399Z"
   },
   {
    "duration": 0,
    "start_time": "2024-03-28T14:16:01.400Z"
   },
   {
    "duration": 0,
    "start_time": "2024-03-28T14:16:01.401Z"
   },
   {
    "duration": 0,
    "start_time": "2024-03-28T14:16:01.402Z"
   },
   {
    "duration": 0,
    "start_time": "2024-03-28T14:16:01.403Z"
   },
   {
    "duration": 0,
    "start_time": "2024-03-28T14:16:01.403Z"
   },
   {
    "duration": 0,
    "start_time": "2024-03-28T14:16:01.404Z"
   },
   {
    "duration": 0,
    "start_time": "2024-03-28T14:16:01.405Z"
   },
   {
    "duration": 0,
    "start_time": "2024-03-28T14:16:01.406Z"
   },
   {
    "duration": 0,
    "start_time": "2024-03-28T14:16:01.407Z"
   },
   {
    "duration": 0,
    "start_time": "2024-03-28T14:16:01.408Z"
   },
   {
    "duration": 0,
    "start_time": "2024-03-28T14:16:01.408Z"
   },
   {
    "duration": 0,
    "start_time": "2024-03-28T14:16:01.409Z"
   },
   {
    "duration": 4,
    "start_time": "2024-03-28T14:16:41.945Z"
   },
   {
    "duration": 5,
    "start_time": "2024-03-28T14:17:53.492Z"
   },
   {
    "duration": 5,
    "start_time": "2024-03-28T14:18:02.107Z"
   },
   {
    "duration": 4,
    "start_time": "2024-03-28T14:18:17.955Z"
   },
   {
    "duration": 825,
    "start_time": "2024-03-28T14:18:57.107Z"
   },
   {
    "duration": 883,
    "start_time": "2024-03-28T14:19:05.707Z"
   },
   {
    "duration": 6,
    "start_time": "2024-03-28T14:21:53.385Z"
   },
   {
    "duration": 7,
    "start_time": "2024-03-28T14:22:33.055Z"
   },
   {
    "duration": 49,
    "start_time": "2024-03-28T14:24:19.003Z"
   },
   {
    "duration": 12,
    "start_time": "2024-03-28T14:24:45.485Z"
   },
   {
    "duration": 11,
    "start_time": "2024-03-28T14:27:56.420Z"
   },
   {
    "duration": 10,
    "start_time": "2024-03-28T14:30:13.770Z"
   },
   {
    "duration": 10,
    "start_time": "2024-03-28T14:30:24.807Z"
   },
   {
    "duration": 10,
    "start_time": "2024-03-28T14:30:33.557Z"
   },
   {
    "duration": 11,
    "start_time": "2024-03-28T14:31:14.378Z"
   },
   {
    "duration": 12,
    "start_time": "2024-03-28T14:32:48.307Z"
   },
   {
    "duration": 13,
    "start_time": "2024-03-28T14:32:57.650Z"
   },
   {
    "duration": 7,
    "start_time": "2024-03-28T14:38:07.219Z"
   },
   {
    "duration": 13,
    "start_time": "2024-03-28T14:38:34.830Z"
   },
   {
    "duration": 3,
    "start_time": "2024-03-28T14:39:35.550Z"
   },
   {
    "duration": 14,
    "start_time": "2024-03-28T14:39:38.816Z"
   },
   {
    "duration": 999,
    "start_time": "2024-03-28T14:39:49.997Z"
   },
   {
    "duration": 5,
    "start_time": "2024-03-28T14:39:50.998Z"
   },
   {
    "duration": 61,
    "start_time": "2024-03-28T14:39:51.004Z"
   },
   {
    "duration": 15,
    "start_time": "2024-03-28T14:39:51.067Z"
   },
   {
    "duration": 8,
    "start_time": "2024-03-28T14:39:51.083Z"
   },
   {
    "duration": 51,
    "start_time": "2024-03-28T14:39:51.092Z"
   },
   {
    "duration": 12,
    "start_time": "2024-03-28T14:39:51.144Z"
   },
   {
    "duration": 5,
    "start_time": "2024-03-28T14:39:51.158Z"
   },
   {
    "duration": 33,
    "start_time": "2024-03-28T14:39:51.164Z"
   },
   {
    "duration": 27,
    "start_time": "2024-03-28T14:39:51.199Z"
   },
   {
    "duration": 4,
    "start_time": "2024-03-28T14:39:51.227Z"
   },
   {
    "duration": 21,
    "start_time": "2024-03-28T14:39:51.232Z"
   },
   {
    "duration": 9,
    "start_time": "2024-03-28T14:39:51.254Z"
   },
   {
    "duration": 15,
    "start_time": "2024-03-28T14:39:51.264Z"
   },
   {
    "duration": 13,
    "start_time": "2024-03-28T14:39:51.280Z"
   },
   {
    "duration": 21,
    "start_time": "2024-03-28T14:39:51.295Z"
   },
   {
    "duration": 217,
    "start_time": "2024-03-28T14:39:51.317Z"
   },
   {
    "duration": 10,
    "start_time": "2024-03-28T14:39:51.536Z"
   },
   {
    "duration": 240,
    "start_time": "2024-03-28T14:39:51.548Z"
   },
   {
    "duration": 236,
    "start_time": "2024-03-28T14:39:51.789Z"
   },
   {
    "duration": 158,
    "start_time": "2024-03-28T14:39:52.027Z"
   },
   {
    "duration": 278,
    "start_time": "2024-03-28T14:39:52.187Z"
   },
   {
    "duration": 184,
    "start_time": "2024-03-28T14:39:52.466Z"
   },
   {
    "duration": 238,
    "start_time": "2024-03-28T14:39:52.651Z"
   },
   {
    "duration": 126,
    "start_time": "2024-03-28T14:39:52.890Z"
   },
   {
    "duration": 4,
    "start_time": "2024-03-28T14:39:53.017Z"
   },
   {
    "duration": 129,
    "start_time": "2024-03-28T14:39:53.023Z"
   },
   {
    "duration": 3,
    "start_time": "2024-03-28T14:39:53.155Z"
   },
   {
    "duration": 234,
    "start_time": "2024-03-28T14:39:53.160Z"
   },
   {
    "duration": 117,
    "start_time": "2024-03-28T14:39:53.395Z"
   },
   {
    "duration": 21,
    "start_time": "2024-03-28T14:39:53.513Z"
   },
   {
    "duration": 29,
    "start_time": "2024-03-28T14:39:53.536Z"
   },
   {
    "duration": 16,
    "start_time": "2024-03-28T14:39:53.566Z"
   },
   {
    "duration": 27,
    "start_time": "2024-03-28T14:39:53.583Z"
   },
   {
    "duration": 66,
    "start_time": "2024-03-28T14:39:53.611Z"
   },
   {
    "duration": 27,
    "start_time": "2024-03-28T14:39:53.679Z"
   },
   {
    "duration": 5,
    "start_time": "2024-03-28T14:41:35.305Z"
   },
   {
    "duration": 13,
    "start_time": "2024-03-28T14:41:38.174Z"
   },
   {
    "duration": 955,
    "start_time": "2024-03-28T14:43:11.191Z"
   },
   {
    "duration": 3,
    "start_time": "2024-03-28T14:43:12.147Z"
   },
   {
    "duration": 35,
    "start_time": "2024-03-28T14:43:12.151Z"
   },
   {
    "duration": 16,
    "start_time": "2024-03-28T14:43:12.188Z"
   },
   {
    "duration": 3,
    "start_time": "2024-03-28T14:43:12.206Z"
   },
   {
    "duration": 41,
    "start_time": "2024-03-28T14:43:12.210Z"
   },
   {
    "duration": 14,
    "start_time": "2024-03-28T14:43:12.252Z"
   },
   {
    "duration": 4,
    "start_time": "2024-03-28T14:43:12.267Z"
   },
   {
    "duration": 24,
    "start_time": "2024-03-28T14:43:12.273Z"
   },
   {
    "duration": 12,
    "start_time": "2024-03-28T14:43:12.299Z"
   },
   {
    "duration": 3,
    "start_time": "2024-03-28T14:43:12.312Z"
   },
   {
    "duration": 26,
    "start_time": "2024-03-28T14:43:12.317Z"
   },
   {
    "duration": 14,
    "start_time": "2024-03-28T14:43:12.345Z"
   },
   {
    "duration": 15,
    "start_time": "2024-03-28T14:43:12.360Z"
   },
   {
    "duration": 15,
    "start_time": "2024-03-28T14:43:12.376Z"
   },
   {
    "duration": 21,
    "start_time": "2024-03-28T14:43:12.392Z"
   },
   {
    "duration": 215,
    "start_time": "2024-03-28T14:43:12.415Z"
   },
   {
    "duration": 9,
    "start_time": "2024-03-28T14:43:12.631Z"
   },
   {
    "duration": 244,
    "start_time": "2024-03-28T14:43:12.641Z"
   },
   {
    "duration": 218,
    "start_time": "2024-03-28T14:43:12.886Z"
   },
   {
    "duration": 162,
    "start_time": "2024-03-28T14:43:13.105Z"
   },
   {
    "duration": 267,
    "start_time": "2024-03-28T14:43:13.268Z"
   },
   {
    "duration": 190,
    "start_time": "2024-03-28T14:43:13.536Z"
   },
   {
    "duration": 250,
    "start_time": "2024-03-28T14:43:13.728Z"
   },
   {
    "duration": 122,
    "start_time": "2024-03-28T14:43:13.980Z"
   },
   {
    "duration": 3,
    "start_time": "2024-03-28T14:43:14.103Z"
   },
   {
    "duration": 126,
    "start_time": "2024-03-28T14:43:14.107Z"
   },
   {
    "duration": 3,
    "start_time": "2024-03-28T14:43:14.236Z"
   },
   {
    "duration": 229,
    "start_time": "2024-03-28T14:43:14.240Z"
   },
   {
    "duration": 116,
    "start_time": "2024-03-28T14:43:14.470Z"
   },
   {
    "duration": 27,
    "start_time": "2024-03-28T14:43:14.588Z"
   },
   {
    "duration": 8,
    "start_time": "2024-03-28T14:43:14.617Z"
   },
   {
    "duration": 14,
    "start_time": "2024-03-28T14:43:14.627Z"
   },
   {
    "duration": 17,
    "start_time": "2024-03-28T14:43:14.642Z"
   },
   {
    "duration": 46,
    "start_time": "2024-03-28T14:43:14.660Z"
   },
   {
    "duration": 11,
    "start_time": "2024-03-28T14:43:14.707Z"
   },
   {
    "duration": 1098,
    "start_time": "2024-03-29T05:55:27.444Z"
   },
   {
    "duration": 4,
    "start_time": "2024-03-29T05:55:28.543Z"
   },
   {
    "duration": 33,
    "start_time": "2024-03-29T05:55:28.549Z"
   },
   {
    "duration": 19,
    "start_time": "2024-03-29T05:55:28.584Z"
   },
   {
    "duration": 3,
    "start_time": "2024-03-29T05:55:28.604Z"
   },
   {
    "duration": 41,
    "start_time": "2024-03-29T05:55:28.608Z"
   },
   {
    "duration": 16,
    "start_time": "2024-03-29T05:55:28.650Z"
   },
   {
    "duration": 5,
    "start_time": "2024-03-29T05:55:28.667Z"
   },
   {
    "duration": 16,
    "start_time": "2024-03-29T05:55:28.674Z"
   },
   {
    "duration": 14,
    "start_time": "2024-03-29T05:55:28.692Z"
   },
   {
    "duration": 4,
    "start_time": "2024-03-29T05:55:28.708Z"
   },
   {
    "duration": 14,
    "start_time": "2024-03-29T05:55:28.713Z"
   },
   {
    "duration": 12,
    "start_time": "2024-03-29T05:55:28.728Z"
   },
   {
    "duration": 20,
    "start_time": "2024-03-29T05:55:28.741Z"
   },
   {
    "duration": 22,
    "start_time": "2024-03-29T05:55:28.762Z"
   },
   {
    "duration": 24,
    "start_time": "2024-03-29T05:55:28.785Z"
   },
   {
    "duration": 277,
    "start_time": "2024-03-29T05:55:28.810Z"
   },
   {
    "duration": 22,
    "start_time": "2024-03-29T05:55:29.089Z"
   },
   {
    "duration": 293,
    "start_time": "2024-03-29T05:55:29.113Z"
   },
   {
    "duration": 269,
    "start_time": "2024-03-29T05:55:29.408Z"
   },
   {
    "duration": 197,
    "start_time": "2024-03-29T05:55:29.681Z"
   },
   {
    "duration": 319,
    "start_time": "2024-03-29T05:55:29.881Z"
   },
   {
    "duration": 222,
    "start_time": "2024-03-29T05:55:30.201Z"
   },
   {
    "duration": 369,
    "start_time": "2024-03-29T05:55:30.424Z"
   },
   {
    "duration": 294,
    "start_time": "2024-03-29T05:55:30.795Z"
   },
   {
    "duration": 4,
    "start_time": "2024-03-29T05:55:31.091Z"
   },
   {
    "duration": 318,
    "start_time": "2024-03-29T05:55:31.097Z"
   },
   {
    "duration": 5,
    "start_time": "2024-03-29T05:55:31.418Z"
   },
   {
    "duration": 588,
    "start_time": "2024-03-29T05:55:31.424Z"
   },
   {
    "duration": 193,
    "start_time": "2024-03-29T05:55:32.014Z"
   },
   {
    "duration": 28,
    "start_time": "2024-03-29T05:55:32.209Z"
   },
   {
    "duration": 10,
    "start_time": "2024-03-29T05:55:32.239Z"
   },
   {
    "duration": 8,
    "start_time": "2024-03-29T05:55:32.251Z"
   },
   {
    "duration": 8,
    "start_time": "2024-03-29T05:55:32.282Z"
   },
   {
    "duration": 30,
    "start_time": "2024-03-29T05:55:32.291Z"
   },
   {
    "duration": 14,
    "start_time": "2024-03-29T05:55:32.323Z"
   },
   {
    "duration": 1120,
    "start_time": "2024-03-29T06:02:43.718Z"
   },
   {
    "duration": 3,
    "start_time": "2024-03-29T06:02:44.841Z"
   },
   {
    "duration": 30,
    "start_time": "2024-03-29T06:02:44.847Z"
   },
   {
    "duration": 18,
    "start_time": "2024-03-29T06:02:44.879Z"
   },
   {
    "duration": 2,
    "start_time": "2024-03-29T06:02:44.899Z"
   },
   {
    "duration": 38,
    "start_time": "2024-03-29T06:02:44.903Z"
   },
   {
    "duration": 15,
    "start_time": "2024-03-29T06:02:44.943Z"
   },
   {
    "duration": 5,
    "start_time": "2024-03-29T06:02:44.959Z"
   },
   {
    "duration": 15,
    "start_time": "2024-03-29T06:02:44.966Z"
   },
   {
    "duration": 14,
    "start_time": "2024-03-29T06:02:44.983Z"
   },
   {
    "duration": 23,
    "start_time": "2024-03-29T06:02:44.998Z"
   },
   {
    "duration": 34,
    "start_time": "2024-03-29T06:02:45.022Z"
   },
   {
    "duration": 17,
    "start_time": "2024-03-29T06:02:45.059Z"
   },
   {
    "duration": 25,
    "start_time": "2024-03-29T06:02:45.077Z"
   },
   {
    "duration": 9,
    "start_time": "2024-03-29T06:02:45.104Z"
   },
   {
    "duration": 35,
    "start_time": "2024-03-29T06:02:45.114Z"
   },
   {
    "duration": 270,
    "start_time": "2024-03-29T06:02:45.151Z"
   },
   {
    "duration": 65,
    "start_time": "2024-03-29T06:02:45.423Z"
   },
   {
    "duration": 642,
    "start_time": "2024-03-29T06:02:45.489Z"
   },
   {
    "duration": 568,
    "start_time": "2024-03-29T06:02:46.132Z"
   },
   {
    "duration": 202,
    "start_time": "2024-03-29T06:02:46.701Z"
   },
   {
    "duration": 288,
    "start_time": "2024-03-29T06:02:46.904Z"
   },
   {
    "duration": 233,
    "start_time": "2024-03-29T06:02:47.193Z"
   },
   {
    "duration": 270,
    "start_time": "2024-03-29T06:02:47.427Z"
   },
   {
    "duration": 144,
    "start_time": "2024-03-29T06:02:47.698Z"
   },
   {
    "duration": 4,
    "start_time": "2024-03-29T06:02:47.844Z"
   },
   {
    "duration": 154,
    "start_time": "2024-03-29T06:02:47.849Z"
   },
   {
    "duration": 4,
    "start_time": "2024-03-29T06:02:48.005Z"
   },
   {
    "duration": 288,
    "start_time": "2024-03-29T06:02:48.010Z"
   },
   {
    "duration": 135,
    "start_time": "2024-03-29T06:02:48.300Z"
   },
   {
    "duration": 28,
    "start_time": "2024-03-29T06:02:48.436Z"
   },
   {
    "duration": 24,
    "start_time": "2024-03-29T06:02:48.466Z"
   },
   {
    "duration": 21,
    "start_time": "2024-03-29T06:02:48.491Z"
   },
   {
    "duration": 7,
    "start_time": "2024-03-29T06:02:48.514Z"
   },
   {
    "duration": 26,
    "start_time": "2024-03-29T06:02:48.523Z"
   },
   {
    "duration": 13,
    "start_time": "2024-03-29T06:02:48.550Z"
   },
   {
    "duration": 1233,
    "start_time": "2024-03-29T08:04:31.889Z"
   },
   {
    "duration": 3,
    "start_time": "2024-03-29T08:04:33.124Z"
   },
   {
    "duration": 76,
    "start_time": "2024-03-29T08:04:33.129Z"
   },
   {
    "duration": 19,
    "start_time": "2024-03-29T08:04:33.207Z"
   },
   {
    "duration": 8,
    "start_time": "2024-03-29T08:04:33.228Z"
   },
   {
    "duration": 89,
    "start_time": "2024-03-29T08:04:33.238Z"
   },
   {
    "duration": 15,
    "start_time": "2024-03-29T08:04:33.329Z"
   },
   {
    "duration": 5,
    "start_time": "2024-03-29T08:04:33.346Z"
   },
   {
    "duration": 73,
    "start_time": "2024-03-29T08:04:33.353Z"
   },
   {
    "duration": 14,
    "start_time": "2024-03-29T08:04:33.428Z"
   },
   {
    "duration": 4,
    "start_time": "2024-03-29T08:04:33.444Z"
   },
   {
    "duration": 19,
    "start_time": "2024-03-29T08:04:33.449Z"
   },
   {
    "duration": 12,
    "start_time": "2024-03-29T08:04:33.469Z"
   },
   {
    "duration": 26,
    "start_time": "2024-03-29T08:04:33.482Z"
   },
   {
    "duration": 5,
    "start_time": "2024-03-29T08:04:33.509Z"
   },
   {
    "duration": 16,
    "start_time": "2024-03-29T08:04:33.516Z"
   },
   {
    "duration": 281,
    "start_time": "2024-03-29T08:04:33.534Z"
   },
   {
    "duration": 12,
    "start_time": "2024-03-29T08:04:33.817Z"
   },
   {
    "duration": 281,
    "start_time": "2024-03-29T08:04:33.831Z"
   },
   {
    "duration": 257,
    "start_time": "2024-03-29T08:04:34.113Z"
   },
   {
    "duration": 186,
    "start_time": "2024-03-29T08:04:34.372Z"
   },
   {
    "duration": 338,
    "start_time": "2024-03-29T08:04:34.560Z"
   },
   {
    "duration": 204,
    "start_time": "2024-03-29T08:04:34.900Z"
   },
   {
    "duration": 268,
    "start_time": "2024-03-29T08:04:35.106Z"
   },
   {
    "duration": 131,
    "start_time": "2024-03-29T08:04:35.376Z"
   },
   {
    "duration": 5,
    "start_time": "2024-03-29T08:04:35.509Z"
   },
   {
    "duration": 148,
    "start_time": "2024-03-29T08:04:35.515Z"
   },
   {
    "duration": 4,
    "start_time": "2024-03-29T08:04:35.667Z"
   },
   {
    "duration": 288,
    "start_time": "2024-03-29T08:04:35.673Z"
   },
   {
    "duration": 153,
    "start_time": "2024-03-29T08:04:35.964Z"
   },
   {
    "duration": 28,
    "start_time": "2024-03-29T08:04:36.119Z"
   },
   {
    "duration": 23,
    "start_time": "2024-03-29T08:04:36.149Z"
   },
   {
    "duration": 18,
    "start_time": "2024-03-29T08:04:36.174Z"
   },
   {
    "duration": 24,
    "start_time": "2024-03-29T08:04:36.193Z"
   },
   {
    "duration": 24,
    "start_time": "2024-03-29T08:04:36.219Z"
   },
   {
    "duration": 20,
    "start_time": "2024-03-29T08:04:36.245Z"
   },
   {
    "duration": 117,
    "start_time": "2024-03-29T08:07:58.888Z"
   },
   {
    "duration": 16,
    "start_time": "2024-03-29T08:08:02.346Z"
   },
   {
    "duration": 1156,
    "start_time": "2024-03-29T08:08:34.971Z"
   },
   {
    "duration": 3,
    "start_time": "2024-03-29T08:08:36.129Z"
   },
   {
    "duration": 52,
    "start_time": "2024-03-29T08:08:36.133Z"
   },
   {
    "duration": 21,
    "start_time": "2024-03-29T08:08:36.187Z"
   },
   {
    "duration": 12,
    "start_time": "2024-03-29T08:08:36.210Z"
   },
   {
    "duration": 41,
    "start_time": "2024-03-29T08:08:36.224Z"
   },
   {
    "duration": 15,
    "start_time": "2024-03-29T08:08:36.266Z"
   },
   {
    "duration": 7,
    "start_time": "2024-03-29T08:08:36.283Z"
   },
   {
    "duration": 39,
    "start_time": "2024-03-29T08:08:36.291Z"
   },
   {
    "duration": 15,
    "start_time": "2024-03-29T08:08:36.332Z"
   },
   {
    "duration": 4,
    "start_time": "2024-03-29T08:08:36.348Z"
   },
   {
    "duration": 14,
    "start_time": "2024-03-29T08:08:36.353Z"
   },
   {
    "duration": 11,
    "start_time": "2024-03-29T08:08:36.368Z"
   },
   {
    "duration": 22,
    "start_time": "2024-03-29T08:08:36.380Z"
   },
   {
    "duration": 102,
    "start_time": "2024-03-29T08:08:36.403Z"
   },
   {
    "duration": 16,
    "start_time": "2024-03-29T08:08:36.506Z"
   },
   {
    "duration": 261,
    "start_time": "2024-03-29T08:08:36.524Z"
   },
   {
    "duration": 12,
    "start_time": "2024-03-29T08:08:36.786Z"
   },
   {
    "duration": 289,
    "start_time": "2024-03-29T08:08:36.799Z"
   },
   {
    "duration": 269,
    "start_time": "2024-03-29T08:08:37.090Z"
   },
   {
    "duration": 202,
    "start_time": "2024-03-29T08:08:37.360Z"
   },
   {
    "duration": 296,
    "start_time": "2024-03-29T08:08:37.564Z"
   },
   {
    "duration": 199,
    "start_time": "2024-03-29T08:08:37.865Z"
   },
   {
    "duration": 284,
    "start_time": "2024-03-29T08:08:38.066Z"
   },
   {
    "duration": 151,
    "start_time": "2024-03-29T08:08:38.352Z"
   },
   {
    "duration": 4,
    "start_time": "2024-03-29T08:08:38.505Z"
   },
   {
    "duration": 158,
    "start_time": "2024-03-29T08:08:38.510Z"
   },
   {
    "duration": 4,
    "start_time": "2024-03-29T08:08:38.671Z"
   },
   {
    "duration": 315,
    "start_time": "2024-03-29T08:08:38.677Z"
   },
   {
    "duration": 174,
    "start_time": "2024-03-29T08:08:38.994Z"
   },
   {
    "duration": 27,
    "start_time": "2024-03-29T08:08:39.169Z"
   },
   {
    "duration": 10,
    "start_time": "2024-03-29T08:08:39.197Z"
   },
   {
    "duration": 8,
    "start_time": "2024-03-29T08:08:39.208Z"
   },
   {
    "duration": 7,
    "start_time": "2024-03-29T08:08:39.217Z"
   },
   {
    "duration": 52,
    "start_time": "2024-03-29T08:08:39.225Z"
   },
   {
    "duration": 14,
    "start_time": "2024-03-29T08:08:39.278Z"
   },
   {
    "duration": 9,
    "start_time": "2024-03-29T08:12:22.791Z"
   },
   {
    "duration": 8,
    "start_time": "2024-03-29T08:12:26.011Z"
   },
   {
    "duration": 24,
    "start_time": "2024-03-29T08:12:28.142Z"
   },
   {
    "duration": 15,
    "start_time": "2024-03-29T08:12:40.397Z"
   },
   {
    "duration": 1191,
    "start_time": "2024-03-29T12:32:22.371Z"
   },
   {
    "duration": 4,
    "start_time": "2024-03-29T12:32:23.564Z"
   },
   {
    "duration": 67,
    "start_time": "2024-03-29T12:32:23.570Z"
   },
   {
    "duration": 26,
    "start_time": "2024-03-29T12:32:23.640Z"
   },
   {
    "duration": 3,
    "start_time": "2024-03-29T12:32:23.668Z"
   },
   {
    "duration": 40,
    "start_time": "2024-03-29T12:32:23.673Z"
   },
   {
    "duration": 27,
    "start_time": "2024-03-29T12:32:23.716Z"
   },
   {
    "duration": 5,
    "start_time": "2024-03-29T12:32:23.745Z"
   },
   {
    "duration": 23,
    "start_time": "2024-03-29T12:32:23.752Z"
   },
   {
    "duration": 15,
    "start_time": "2024-03-29T12:32:23.778Z"
   },
   {
    "duration": 33,
    "start_time": "2024-03-29T12:32:23.795Z"
   },
   {
    "duration": 17,
    "start_time": "2024-03-29T12:32:23.830Z"
   },
   {
    "duration": 14,
    "start_time": "2024-03-29T12:32:23.849Z"
   },
   {
    "duration": 28,
    "start_time": "2024-03-29T12:32:23.865Z"
   },
   {
    "duration": 116,
    "start_time": "2024-03-29T12:32:23.895Z"
   },
   {
    "duration": 26,
    "start_time": "2024-03-29T12:32:24.013Z"
   },
   {
    "duration": 335,
    "start_time": "2024-03-29T12:32:24.041Z"
   },
   {
    "duration": 52,
    "start_time": "2024-03-29T12:32:24.378Z"
   },
   {
    "duration": 708,
    "start_time": "2024-03-29T12:32:24.432Z"
   },
   {
    "duration": 779,
    "start_time": "2024-03-29T12:32:25.141Z"
   },
   {
    "duration": 443,
    "start_time": "2024-03-29T12:32:25.923Z"
   },
   {
    "duration": 306,
    "start_time": "2024-03-29T12:32:26.368Z"
   },
   {
    "duration": 257,
    "start_time": "2024-03-29T12:32:26.676Z"
   },
   {
    "duration": 317,
    "start_time": "2024-03-29T12:32:26.936Z"
   },
   {
    "duration": 180,
    "start_time": "2024-03-29T12:32:27.254Z"
   },
   {
    "duration": 5,
    "start_time": "2024-03-29T12:32:27.436Z"
   },
   {
    "duration": 184,
    "start_time": "2024-03-29T12:32:27.443Z"
   },
   {
    "duration": 4,
    "start_time": "2024-03-29T12:32:27.632Z"
   },
   {
    "duration": 328,
    "start_time": "2024-03-29T12:32:27.638Z"
   },
   {
    "duration": 142,
    "start_time": "2024-03-29T12:32:27.968Z"
   },
   {
    "duration": 37,
    "start_time": "2024-03-29T12:32:28.119Z"
   },
   {
    "duration": 14,
    "start_time": "2024-03-29T12:32:28.158Z"
   },
   {
    "duration": 14,
    "start_time": "2024-03-29T12:32:28.175Z"
   },
   {
    "duration": 12,
    "start_time": "2024-03-29T12:32:28.217Z"
   },
   {
    "duration": 28,
    "start_time": "2024-03-29T12:32:28.232Z"
   },
   {
    "duration": 15,
    "start_time": "2024-03-29T12:32:28.262Z"
   }
  ],
  "kernelspec": {
   "display_name": "Python 3 (ipykernel)",
   "language": "python",
   "name": "python3"
  },
  "language_info": {
   "codemirror_mode": {
    "name": "ipython",
    "version": 3
   },
   "file_extension": ".py",
   "mimetype": "text/x-python",
   "name": "python",
   "nbconvert_exporter": "python",
   "pygments_lexer": "ipython3",
   "version": "3.9.5"
  },
  "toc": {
   "base_numbering": 1,
   "nav_menu": {},
   "number_sections": true,
   "sideBar": true,
   "skip_h1_title": true,
   "title_cell": "Table of Contents",
   "title_sidebar": "Contents",
   "toc_cell": false,
   "toc_position": {},
   "toc_section_display": true,
   "toc_window_display": true
  }
 },
 "nbformat": 4,
 "nbformat_minor": 2
}
