{
 "cells": [
  {
   "cell_type": "markdown",
   "metadata": {},
   "source": [
    "# Описание проекта\n",
    "Вы работаете в интернет-магазине «Стримчик», который продаёт по всему миру компьютерные игры. Из открытых источников доступны исторические данные о продажах игр, оценки пользователей и экспертов, жанры и платформы (например, Xbox или PlayStation). Вам нужно выявить определяющие успешность игры закономерности. Это позволит сделать ставку на потенциально популярный продукт и спланировать рекламные кампании.\n",
    "Перед вами данные до 2016 года. Представим, что сейчас декабрь 2016 г., и вы планируете кампанию на 2017-й. Нужно отработать принцип работы с данными. Неважно, прогнозируете ли вы продажи на 2017 год по данным 2016-го или же 2027-й — по данным 2026 года.\n",
    "В наборе данных попадается аббревиатура ESRB (Entertainment Software Rating Board) — это ассоциация, определяющая возрастной рейтинг компьютерных игр. ESRB оценивает игровой контент и присваивает ему подходящую возрастную категорию, например, «Для взрослых», «Для детей младшего возраста» или «Для подростков».\n",
    "\n",
    "Описание данных\n",
    "- Name — название игры\n",
    "- Platform — платформа\n",
    "- Year_of_Release — год выпуска\n",
    "- Genre — жанр игры\n",
    "- NA_sales — продажи в Северной Америке (миллионы проданных копий)\n",
    "- EU_sales — продажи в Европе (миллионы проданных копий)\n",
    "- JP_sales — продажи в Японии (миллионы проданных копий)\n",
    "- Other_sales — продажи в других странах (миллионы проданных копий)\n",
    "- Critic_Score — оценка критиков (максимум 100)\n",
    "- User_Score — оценка пользователей (максимум 10)\n",
    "- Rating — рейтинг от организации ESRB (англ. Entertainment Software Rating Board). Эта ассоциация определяет рейтинг компьютерных игр и присваивает им подходящую возрастную категорию.\n",
    "\n",
    "# План\n",
    " *Открыть файл с данными и изучить общую информацию*\n",
    " \n",
    " *Подготовить данные*\n",
    " \n",
    "* Заменить названия столбцов (привести к нижнему регистру);\n",
    "* Преобразовать данные в нужные типы. Описать, в каких столбцах заменили тип данных и почему;\n",
    "* Обработать пропуски при необходимости\n",
    "* Посчитать суммарные продажи во всех регионах и записать их в отдельный столбец\n",
    "\n",
    "*Провести исследовательский анализ данных*\n",
    "\n",
    "* Посмотреть, сколько игр выпускалось в разные годы. Важны ли данные за все периоды?\n",
    "* Посмотреть, как менялись продажи по платформам. Выбрать платформы с наибольшими суммарными продажами и построить распределение по годам. За какой характерный срок появляются новые и исчезают старые платформы?\n",
    "* Взять данные за соответствующий актуальный период. Актуальный период определить самостоятельно в результате исследования предыдущих вопросов. Основной фактор — эти данные помогут построить прогноз на 2017 год.\n",
    "* Не учитывать в работе данные за предыдущие годы.\n",
    "* Какие платформы лидируют по продажам, растут или падают? Выбрать несколько потенциально прибыльных платформ.\n",
    "* Посмотреть, как влияют на продажи внутри одной популярной платформы отзывы пользователей и критиков. Построить диаграмму рассеяния и посчитать корреляцию между отзывами и продажами. Сформулировать выводы.\n",
    "* Соотнесьти выводы с продажами игр на других платформах.\n",
    "* Посмотреть на общее распределение игр по жанрам. Что можно сказать о самых прибыльных жанрах? Выделяются ли жанры с высокими и низкими продажами?\n",
    "\n",
    "*Составить портрет пользователя каждого региона:*\n",
    "\n",
    "Определить для пользователя каждого региона (NA, EU, JP):\n",
    "* Самые популярные платформы (топ-5). Описать различия в долях продаж.\n",
    "* Самые популярные жанры (топ-5).\n",
    "* Влияет ли рейтинг ESRB на продажи в отдельном регионе?\n",
    "\n",
    "*Проверить гипотезы*\n",
    "\n",
    "* Средние пользовательские рейтинги платформ Xbox One и PC одинаковые;\n",
    "* Средние пользовательские рейтинги жанров Action (англ. «действие», экшен-игры) и Sports (англ. «спортивные соревнования») разные.\n",
    "\n",
    "*Общий вывод*"
   ]
  },
  {
   "cell_type": "markdown",
   "metadata": {},
   "source": [
    "## Открытие файла с данными и изучение общей информации"
   ]
  },
  {
   "cell_type": "code",
   "execution_count": 1,
   "metadata": {},
   "outputs": [],
   "source": [
    "import pandas as pd\n",
    "import matplotlib.pyplot as plt\n",
    "import numpy as np\n",
    "import seaborn as sns\n",
    "from scipy import stats as st"
   ]
  },
  {
   "cell_type": "code",
   "execution_count": 2,
   "metadata": {},
   "outputs": [],
   "source": [
    "data = pd.read_csv('/datasets/games.csv')"
   ]
  },
  {
   "cell_type": "code",
   "execution_count": 3,
   "metadata": {},
   "outputs": [
    {
     "data": {
      "text/html": [
       "<div>\n",
       "<style scoped>\n",
       "    .dataframe tbody tr th:only-of-type {\n",
       "        vertical-align: middle;\n",
       "    }\n",
       "\n",
       "    .dataframe tbody tr th {\n",
       "        vertical-align: top;\n",
       "    }\n",
       "\n",
       "    .dataframe thead th {\n",
       "        text-align: right;\n",
       "    }\n",
       "</style>\n",
       "<table border=\"1\" class=\"dataframe\">\n",
       "  <thead>\n",
       "    <tr style=\"text-align: right;\">\n",
       "      <th></th>\n",
       "      <th>Name</th>\n",
       "      <th>Platform</th>\n",
       "      <th>Year_of_Release</th>\n",
       "      <th>Genre</th>\n",
       "      <th>NA_sales</th>\n",
       "      <th>EU_sales</th>\n",
       "      <th>JP_sales</th>\n",
       "      <th>Other_sales</th>\n",
       "      <th>Critic_Score</th>\n",
       "      <th>User_Score</th>\n",
       "      <th>Rating</th>\n",
       "    </tr>\n",
       "  </thead>\n",
       "  <tbody>\n",
       "    <tr>\n",
       "      <th>0</th>\n",
       "      <td>Wii Sports</td>\n",
       "      <td>Wii</td>\n",
       "      <td>2006.0</td>\n",
       "      <td>Sports</td>\n",
       "      <td>41.36</td>\n",
       "      <td>28.96</td>\n",
       "      <td>3.77</td>\n",
       "      <td>8.45</td>\n",
       "      <td>76.0</td>\n",
       "      <td>8</td>\n",
       "      <td>E</td>\n",
       "    </tr>\n",
       "    <tr>\n",
       "      <th>1</th>\n",
       "      <td>Super Mario Bros.</td>\n",
       "      <td>NES</td>\n",
       "      <td>1985.0</td>\n",
       "      <td>Platform</td>\n",
       "      <td>29.08</td>\n",
       "      <td>3.58</td>\n",
       "      <td>6.81</td>\n",
       "      <td>0.77</td>\n",
       "      <td>NaN</td>\n",
       "      <td>NaN</td>\n",
       "      <td>NaN</td>\n",
       "    </tr>\n",
       "    <tr>\n",
       "      <th>2</th>\n",
       "      <td>Mario Kart Wii</td>\n",
       "      <td>Wii</td>\n",
       "      <td>2008.0</td>\n",
       "      <td>Racing</td>\n",
       "      <td>15.68</td>\n",
       "      <td>12.76</td>\n",
       "      <td>3.79</td>\n",
       "      <td>3.29</td>\n",
       "      <td>82.0</td>\n",
       "      <td>8.3</td>\n",
       "      <td>E</td>\n",
       "    </tr>\n",
       "    <tr>\n",
       "      <th>3</th>\n",
       "      <td>Wii Sports Resort</td>\n",
       "      <td>Wii</td>\n",
       "      <td>2009.0</td>\n",
       "      <td>Sports</td>\n",
       "      <td>15.61</td>\n",
       "      <td>10.93</td>\n",
       "      <td>3.28</td>\n",
       "      <td>2.95</td>\n",
       "      <td>80.0</td>\n",
       "      <td>8</td>\n",
       "      <td>E</td>\n",
       "    </tr>\n",
       "    <tr>\n",
       "      <th>4</th>\n",
       "      <td>Pokemon Red/Pokemon Blue</td>\n",
       "      <td>GB</td>\n",
       "      <td>1996.0</td>\n",
       "      <td>Role-Playing</td>\n",
       "      <td>11.27</td>\n",
       "      <td>8.89</td>\n",
       "      <td>10.22</td>\n",
       "      <td>1.00</td>\n",
       "      <td>NaN</td>\n",
       "      <td>NaN</td>\n",
       "      <td>NaN</td>\n",
       "    </tr>\n",
       "  </tbody>\n",
       "</table>\n",
       "</div>"
      ],
      "text/plain": [
       "                       Name Platform  Year_of_Release         Genre  NA_sales  \\\n",
       "0                Wii Sports      Wii           2006.0        Sports     41.36   \n",
       "1         Super Mario Bros.      NES           1985.0      Platform     29.08   \n",
       "2            Mario Kart Wii      Wii           2008.0        Racing     15.68   \n",
       "3         Wii Sports Resort      Wii           2009.0        Sports     15.61   \n",
       "4  Pokemon Red/Pokemon Blue       GB           1996.0  Role-Playing     11.27   \n",
       "\n",
       "   EU_sales  JP_sales  Other_sales  Critic_Score User_Score Rating  \n",
       "0     28.96      3.77         8.45          76.0          8      E  \n",
       "1      3.58      6.81         0.77           NaN        NaN    NaN  \n",
       "2     12.76      3.79         3.29          82.0        8.3      E  \n",
       "3     10.93      3.28         2.95          80.0          8      E  \n",
       "4      8.89     10.22         1.00           NaN        NaN    NaN  "
      ]
     },
     "execution_count": 3,
     "metadata": {},
     "output_type": "execute_result"
    }
   ],
   "source": [
    "data.head()"
   ]
  },
  {
   "cell_type": "code",
   "execution_count": 4,
   "metadata": {},
   "outputs": [
    {
     "name": "stdout",
     "output_type": "stream",
     "text": [
      "<class 'pandas.core.frame.DataFrame'>\n",
      "RangeIndex: 16715 entries, 0 to 16714\n",
      "Data columns (total 11 columns):\n",
      " #   Column           Non-Null Count  Dtype  \n",
      "---  ------           --------------  -----  \n",
      " 0   Name             16713 non-null  object \n",
      " 1   Platform         16715 non-null  object \n",
      " 2   Year_of_Release  16446 non-null  float64\n",
      " 3   Genre            16713 non-null  object \n",
      " 4   NA_sales         16715 non-null  float64\n",
      " 5   EU_sales         16715 non-null  float64\n",
      " 6   JP_sales         16715 non-null  float64\n",
      " 7   Other_sales      16715 non-null  float64\n",
      " 8   Critic_Score     8137 non-null   float64\n",
      " 9   User_Score       10014 non-null  object \n",
      " 10  Rating           9949 non-null   object \n",
      "dtypes: float64(6), object(5)\n",
      "memory usage: 1.4+ MB\n"
     ]
    }
   ],
   "source": [
    "data.info()"
   ]
  },
  {
   "cell_type": "code",
   "execution_count": 5,
   "metadata": {},
   "outputs": [
    {
     "data": {
      "text/plain": [
       "Platform              0\n",
       "NA_sales              0\n",
       "EU_sales              0\n",
       "JP_sales              0\n",
       "Other_sales           0\n",
       "Name                  2\n",
       "Genre                 2\n",
       "Year_of_Release     269\n",
       "User_Score         6701\n",
       "Rating             6766\n",
       "Critic_Score       8578\n",
       "dtype: int64"
      ]
     },
     "execution_count": 5,
     "metadata": {},
     "output_type": "execute_result"
    }
   ],
   "source": [
    "data.isnull().sum().sort_values()"
   ]
  },
  {
   "cell_type": "code",
   "execution_count": 6,
   "metadata": {},
   "outputs": [
    {
     "data": {
      "text/plain": [
       "True"
      ]
     },
     "execution_count": 6,
     "metadata": {},
     "output_type": "execute_result"
    }
   ],
   "source": [
    "data.duplicated().sum() == 0 "
   ]
  },
  {
   "cell_type": "code",
   "execution_count": 7,
   "metadata": {},
   "outputs": [
    {
     "data": {
      "text/plain": [
       "5"
      ]
     },
     "execution_count": 7,
     "metadata": {},
     "output_type": "execute_result"
    }
   ],
   "source": [
    "data.duplicated(subset=['Name','Platform']).sum()"
   ]
  },
  {
   "cell_type": "code",
   "execution_count": 8,
   "metadata": {},
   "outputs": [],
   "source": [
    "data = data.drop_duplicates(subset=['Name','Platform'], keep='first')"
   ]
  },
  {
   "cell_type": "markdown",
   "metadata": {},
   "source": [
    "### Вывод по обзору данных\n",
    "* Названия колонок необходимо привести к одному регистру.\n",
    "* Пропуски в данных заполнить если необходимо\n",
    "* Явных дубликатов в данных нет\n",
    "* Дубликаты для пары \"Имя-Игровая консоль\" найдены в количестве 5, удалены, так как если игра переиздавалась на той же консоли к ней добавляется или приписка Deluxe Edition(если добавлены дополнения) или Remastered ( при улучшении качества графики)\n",
    "* Данные колонок даты и оценок критиков и пользователей не в подходящих форматах"
   ]
  },
  {
   "cell_type": "markdown",
   "metadata": {},
   "source": [
    "## Подготовка данных"
   ]
  },
  {
   "cell_type": "markdown",
   "metadata": {},
   "source": [
    "### Замена названия столбцов (приведение к нижнему регистру)"
   ]
  },
  {
   "cell_type": "code",
   "execution_count": 9,
   "metadata": {},
   "outputs": [],
   "source": [
    "data.columns = data.columns.str.lower()"
   ]
  },
  {
   "cell_type": "markdown",
   "metadata": {},
   "source": [
    "### Преобразование данных и обработка пропусков"
   ]
  },
  {
   "cell_type": "markdown",
   "metadata": {},
   "source": [
    "Данные для года выпуска приведены к правильному формату даты с последующим иднесированием по году (если вдруг в каких то из вариантов записи был указан не только год(так как данные были в типе float) и в последующем приведены к типу Integer, так как о годах говорят как о целых числах. Оставлять в формате даты смысло не было так как есть только год."
   ]
  },
  {
   "cell_type": "code",
   "execution_count": 10,
   "metadata": {},
   "outputs": [],
   "source": [
    "data['year_of_release'] = pd.to_datetime(data['year_of_release'], format='%Y').dt.year\n",
    "data['year_of_release'] = data['year_of_release'].round(0).astype('Int64')"
   ]
  },
  {
   "cell_type": "code",
   "execution_count": 11,
   "metadata": {},
   "outputs": [],
   "source": [
    "data = data.dropna(subset=['year_of_release'])"
   ]
  },
  {
   "cell_type": "markdown",
   "metadata": {},
   "source": [
    "Пропуски в данных года удалены ,так как составляют меньше 2% от общего числа и не повлияют на анализ данных.\n",
    "\n",
    "Пропуски в стобце имени совпадают с стобцом жанра - замене не подлежат-удалены. Появление их могло быть связано с ошибкой при внесении данных."
   ]
  },
  {
   "cell_type": "code",
   "execution_count": 12,
   "metadata": {},
   "outputs": [],
   "source": [
    "data = data.dropna(subset=['name'])"
   ]
  },
  {
   "cell_type": "markdown",
   "metadata": {},
   "source": [
    "Так как показатель оценки критиков является качественной переменной( порядковой), то пропущенные значения в ячейке будут заменены на -1 (группа для пропущенных значений).\n",
    "Значения могли быть пропущены по ошибке сбора и внесения данных или по причине не существования на момент выхода игры оценивающего издания , или игра просто не оценивалась в связи с тем что была неинтересна изданию из-за малого спроса. Так как все оценки целочисленные то данные приведены к типу Integer."
   ]
  },
  {
   "cell_type": "code",
   "execution_count": 13,
   "metadata": {},
   "outputs": [],
   "source": [
    "data['critic_score'] = data['critic_score'].fillna(-1)\n",
    "data['critic_score'] = data['critic_score'].round(0).astype('Int64')"
   ]
  },
  {
   "cell_type": "markdown",
   "metadata": {},
   "source": [
    "Так как показатель оценки пользователей является качественной переменной( порядковой), то пропущенные значения в ячейке \"оценка пользователей\" будут заменены на -1 (группа для пропущенных значений).\n",
    "Значения могли быть пропущенны по технологическим причинам , или просто не была представлена на сайте агригаторе по типу metacritic где пользователи могли поставить оценки(так же чтобы оценка могла отображаться,количество отзывов должно пройти определенный порог, и если игра не популярна,то даже при наличии отзывов оценка могла быть не сформирована из-за их малочисленности).\n",
    "Знаечение TBD(to be discussed) -подлежит обсуждению, означает что страница игры на сайте есть,но опять же количество оценок для формирования средней слишком мало. Данные значения тоже переводим как -1 ,что позволит нам всю колонку привести из типа object в float(так как значения не целочисленны)."
   ]
  },
  {
   "cell_type": "code",
   "execution_count": 14,
   "metadata": {},
   "outputs": [],
   "source": [
    "data['user_score'] = data['user_score'].replace('tbd', -1)\n",
    "data['user_score'] = data['user_score'].fillna(-1)\n",
    "data['user_score'] = data['user_score'].astype('float', errors='ignore')"
   ]
  },
  {
   "cell_type": "markdown",
   "metadata": {},
   "source": [
    "Пропуски в рейтинги игр заменены на аббревиатуру RP - rating pending ,которая используется ESRB (Entertainment Software Rating Board). Данная абревиатура означет ,что рейтинга для игры на данный момент нет,что является логичной заглушкой для пропусков, так как срединные значения даже в разбивке по жанрам не отражают возможных различий в играх и исказят дальнейшие результаты."
   ]
  },
  {
   "cell_type": "code",
   "execution_count": 15,
   "metadata": {},
   "outputs": [
    {
     "name": "stdout",
     "output_type": "stream",
     "text": [
      "<class 'pandas.core.frame.DataFrame'>\n",
      "Int64Index: 16441 entries, 0 to 16714\n",
      "Data columns (total 11 columns):\n",
      " #   Column           Non-Null Count  Dtype  \n",
      "---  ------           --------------  -----  \n",
      " 0   name             16441 non-null  object \n",
      " 1   platform         16441 non-null  object \n",
      " 2   year_of_release  16441 non-null  Int64  \n",
      " 3   genre            16441 non-null  object \n",
      " 4   na_sales         16441 non-null  float64\n",
      " 5   eu_sales         16441 non-null  float64\n",
      " 6   jp_sales         16441 non-null  float64\n",
      " 7   other_sales      16441 non-null  float64\n",
      " 8   critic_score     16441 non-null  Int64  \n",
      " 9   user_score       16441 non-null  float64\n",
      " 10  rating           16441 non-null  object \n",
      "dtypes: Int64(2), float64(5), object(4)\n",
      "memory usage: 1.5+ MB\n"
     ]
    }
   ],
   "source": [
    "data['rating'] = data['rating'].fillna('RP')\n",
    "data.info()"
   ]
  },
  {
   "cell_type": "code",
   "execution_count": 16,
   "metadata": {},
   "outputs": [
    {
     "data": {
      "text/plain": [
       "name               0\n",
       "platform           0\n",
       "year_of_release    0\n",
       "genre              0\n",
       "na_sales           0\n",
       "eu_sales           0\n",
       "jp_sales           0\n",
       "other_sales        0\n",
       "critic_score       0\n",
       "user_score         0\n",
       "rating             0\n",
       "dtype: int64"
      ]
     },
     "execution_count": 16,
     "metadata": {},
     "output_type": "execute_result"
    }
   ],
   "source": [
    "data.isna().sum().sort_values()"
   ]
  },
  {
   "cell_type": "markdown",
   "metadata": {},
   "source": [
    "### Подсчёт суммарных продаж по всем регионам "
   ]
  },
  {
   "cell_type": "code",
   "execution_count": 17,
   "metadata": {},
   "outputs": [],
   "source": [
    "data['summary_sales'] = data['jp_sales']+data['na_sales']+data['eu_sales']+data['other_sales']"
   ]
  },
  {
   "cell_type": "markdown",
   "metadata": {},
   "source": [
    "### Вывод\n",
    "* Все названия столбцов приведены к нижнему регистру\n",
    "* Пропуски в столбцах названия и жанра удалены,так как не подлежат заполнению\n",
    "* Пропуски в оценке критиков заменены на значение -1 ,чтобы в последующем данные можно было привести к типу `Integer`  и отделить от остальных данных игры без оценки критиков.\n",
    "* Аналогичная замена проведена для столбца оценки пользоваетелей  с заменой и значений `TBD(to be discussed)`. Так как данные по оценкам пользоватлей не целые числа,после замены пропусков все данные данного столбца приведены к типу `float`.\n",
    "* Данные колонки с годом выпуска игры переведены в тип данных date  с последующим индексированием года. Пропуски в данных удалены из-за немногочисленности(менее 2%) и невозможности адекватного заполнения.\n",
    "* Пропуски в рейтинги игр заменены на аббревиатуру `RP` - rating pending ,которая используется ESRB (Entertainment Software Rating Board).\n",
    "* Добавлена колонка `summary_sales` с суммарными продажами для каждой игры по всем регионам"
   ]
  },
  {
   "cell_type": "markdown",
   "metadata": {},
   "source": [
    "## Исследовательский анализ данных\n",
    "### Посмотрим сколько игр выпускалось в каждом году"
   ]
  },
  {
   "cell_type": "code",
   "execution_count": 18,
   "metadata": {
    "scrolled": false
   },
   "outputs": [
    {
     "data": {
      "text/plain": [
       "Text(0.5, 0, 'Год выхода')"
      ]
     },
     "execution_count": 18,
     "metadata": {},
     "output_type": "execute_result"
    },
    {
     "data": {
      "image/png": "[encoded data removed]",
      "text/plain": [
       "<Figure size 1440x720 with 1 Axes>"
      ]
     },
     "metadata": {
      "needs_background": "light"
     },
     "output_type": "display_data"
    }
   ],
   "source": [
    "plt.figure(figsize=(20, 10))\n",
    "data['year_of_release'].hist(bins=37)\n",
    "plt.suptitle('Распределение количества вышедших игр по году', fontsize=20)\n",
    "plt.ylabel('Количество выпущенных игр(единиц)', fontsize=20)\n",
    "plt.xlabel('Год выхода', fontsize=20)"
   ]
  },
  {
   "cell_type": "markdown",
   "metadata": {},
   "source": [
    "### Вывод \n",
    "До начала 90х. количество игр минимально и держится примерно на одном уровне ,когда к 95 начинается подъем. Максимальное количество игр выпускалось в промежутке от 2001 до 2012.Пик в 2007-2008 годах с последующим спадом. В 90х количество возможностей \"железа\" было значительно меньше, пос равнению с теми же 00, не говоря про 10ые. Поэтому после 00 идет большой рост по количеству выпускаемых игр влоть до 2008-КРИЗИС. Людям и компаниям не до покупки и не производства-показатели падают постепенно,то что должно было выйти в 2008-2010 и было уже в активном производстве выходит,а вот потом стагнация,из которой рынок начинает выходить только после 2013."
   ]
  },
  {
   "cell_type": "markdown",
   "metadata": {},
   "source": [
    "### Посмотрим, как менялись продажи по платформам. Выберим платформы с наибольшими суммарными продажами и построим распределение по годам. "
   ]
  },
  {
   "cell_type": "code",
   "execution_count": 19,
   "metadata": {},
   "outputs": [
    {
     "data": {
      "text/html": [
       "<div>\n",
       "<style scoped>\n",
       "    .dataframe tbody tr th:only-of-type {\n",
       "        vertical-align: middle;\n",
       "    }\n",
       "\n",
       "    .dataframe tbody tr th {\n",
       "        vertical-align: top;\n",
       "    }\n",
       "\n",
       "    .dataframe thead th {\n",
       "        text-align: right;\n",
       "    }\n",
       "</style>\n",
       "<table border=\"1\" class=\"dataframe\">\n",
       "  <thead>\n",
       "    <tr style=\"text-align: right;\">\n",
       "      <th></th>\n",
       "      <th>summary_sales</th>\n",
       "    </tr>\n",
       "    <tr>\n",
       "      <th>platform</th>\n",
       "      <th></th>\n",
       "    </tr>\n",
       "  </thead>\n",
       "  <tbody>\n",
       "    <tr>\n",
       "      <th>PS2</th>\n",
       "      <td>1233.56</td>\n",
       "    </tr>\n",
       "    <tr>\n",
       "      <th>X360</th>\n",
       "      <td>959.99</td>\n",
       "    </tr>\n",
       "    <tr>\n",
       "      <th>PS3</th>\n",
       "      <td>931.33</td>\n",
       "    </tr>\n",
       "    <tr>\n",
       "      <th>Wii</th>\n",
       "      <td>891.18</td>\n",
       "    </tr>\n",
       "    <tr>\n",
       "      <th>DS</th>\n",
       "      <td>802.78</td>\n",
       "    </tr>\n",
       "    <tr>\n",
       "      <th>PS</th>\n",
       "      <td>727.58</td>\n",
       "    </tr>\n",
       "    <tr>\n",
       "      <th>PS4</th>\n",
       "      <td>314.14</td>\n",
       "    </tr>\n",
       "    <tr>\n",
       "      <th>GBA</th>\n",
       "      <td>312.88</td>\n",
       "    </tr>\n",
       "    <tr>\n",
       "      <th>PSP</th>\n",
       "      <td>289.53</td>\n",
       "    </tr>\n",
       "    <tr>\n",
       "      <th>3DS</th>\n",
       "      <td>257.81</td>\n",
       "    </tr>\n",
       "  </tbody>\n",
       "</table>\n",
       "</div>"
      ],
      "text/plain": [
       "          summary_sales\n",
       "platform               \n",
       "PS2             1233.56\n",
       "X360             959.99\n",
       "PS3              931.33\n",
       "Wii              891.18\n",
       "DS               802.78\n",
       "PS               727.58\n",
       "PS4              314.14\n",
       "GBA              312.88\n",
       "PSP              289.53\n",
       "3DS              257.81"
      ]
     },
     "execution_count": 19,
     "metadata": {},
     "output_type": "execute_result"
    }
   ],
   "source": [
    "data_consoles_sales = data.pivot_table(index=['platform'],values = ['summary_sales'],aggfunc = 'sum')\n",
    "data_consoles_sales.sort_values('summary_sales', ascending=False).head(10)"
   ]
  },
  {
   "cell_type": "code",
   "execution_count": 20,
   "metadata": {},
   "outputs": [
    {
     "data": {
      "text/html": [
       "<div>\n",
       "<style scoped>\n",
       "    .dataframe tbody tr th:only-of-type {\n",
       "        vertical-align: middle;\n",
       "    }\n",
       "\n",
       "    .dataframe tbody tr th {\n",
       "        vertical-align: top;\n",
       "    }\n",
       "\n",
       "    .dataframe thead th {\n",
       "        text-align: right;\n",
       "    }\n",
       "</style>\n",
       "<table border=\"1\" class=\"dataframe\">\n",
       "  <thead>\n",
       "    <tr style=\"text-align: right;\">\n",
       "      <th></th>\n",
       "      <th>summary_sales</th>\n",
       "    </tr>\n",
       "    <tr>\n",
       "      <th>year_of_release</th>\n",
       "      <th></th>\n",
       "    </tr>\n",
       "  </thead>\n",
       "  <tbody>\n",
       "    <tr>\n",
       "      <th>2000</th>\n",
       "      <td>39.17</td>\n",
       "    </tr>\n",
       "    <tr>\n",
       "      <th>2001</th>\n",
       "      <td>166.43</td>\n",
       "    </tr>\n",
       "    <tr>\n",
       "      <th>2002</th>\n",
       "      <td>205.38</td>\n",
       "    </tr>\n",
       "    <tr>\n",
       "      <th>2003</th>\n",
       "      <td>184.31</td>\n",
       "    </tr>\n",
       "    <tr>\n",
       "      <th>2004</th>\n",
       "      <td>211.81</td>\n",
       "    </tr>\n",
       "    <tr>\n",
       "      <th>2005</th>\n",
       "      <td>160.66</td>\n",
       "    </tr>\n",
       "    <tr>\n",
       "      <th>2006</th>\n",
       "      <td>103.42</td>\n",
       "    </tr>\n",
       "    <tr>\n",
       "      <th>2007</th>\n",
       "      <td>75.99</td>\n",
       "    </tr>\n",
       "    <tr>\n",
       "      <th>2008</th>\n",
       "      <td>53.90</td>\n",
       "    </tr>\n",
       "    <tr>\n",
       "      <th>2009</th>\n",
       "      <td>26.40</td>\n",
       "    </tr>\n",
       "    <tr>\n",
       "      <th>2010</th>\n",
       "      <td>5.64</td>\n",
       "    </tr>\n",
       "    <tr>\n",
       "      <th>2011</th>\n",
       "      <td>0.45</td>\n",
       "    </tr>\n",
       "  </tbody>\n",
       "</table>\n",
       "</div>"
      ],
      "text/plain": [
       "                 summary_sales\n",
       "year_of_release               \n",
       "2000                     39.17\n",
       "2001                    166.43\n",
       "2002                    205.38\n",
       "2003                    184.31\n",
       "2004                    211.81\n",
       "2005                    160.66\n",
       "2006                    103.42\n",
       "2007                     75.99\n",
       "2008                     53.90\n",
       "2009                     26.40\n",
       "2010                      5.64\n",
       "2011                      0.45"
      ]
     },
     "execution_count": 20,
     "metadata": {},
     "output_type": "execute_result"
    }
   ],
   "source": [
    "ps2_sales = data.loc[data['platform'] == 'PS2'].pivot_table(index=['year_of_release'],\n",
    "                                                            values = ['summary_sales'],aggfunc = 'sum')\n",
    "ps2_sales"
   ]
  },
  {
   "cell_type": "code",
   "execution_count": 21,
   "metadata": {},
   "outputs": [
    {
     "data": {
      "text/html": [
       "<div>\n",
       "<style scoped>\n",
       "    .dataframe tbody tr th:only-of-type {\n",
       "        vertical-align: middle;\n",
       "    }\n",
       "\n",
       "    .dataframe tbody tr th {\n",
       "        vertical-align: top;\n",
       "    }\n",
       "\n",
       "    .dataframe thead th {\n",
       "        text-align: right;\n",
       "    }\n",
       "</style>\n",
       "<table border=\"1\" class=\"dataframe\">\n",
       "  <thead>\n",
       "    <tr style=\"text-align: right;\">\n",
       "      <th></th>\n",
       "      <th>summary_sales</th>\n",
       "    </tr>\n",
       "    <tr>\n",
       "      <th>year_of_release</th>\n",
       "      <th></th>\n",
       "    </tr>\n",
       "  </thead>\n",
       "  <tbody>\n",
       "    <tr>\n",
       "      <th>2005</th>\n",
       "      <td>7.00</td>\n",
       "    </tr>\n",
       "    <tr>\n",
       "      <th>2006</th>\n",
       "      <td>51.62</td>\n",
       "    </tr>\n",
       "    <tr>\n",
       "      <th>2007</th>\n",
       "      <td>95.41</td>\n",
       "    </tr>\n",
       "    <tr>\n",
       "      <th>2008</th>\n",
       "      <td>135.26</td>\n",
       "    </tr>\n",
       "    <tr>\n",
       "      <th>2009</th>\n",
       "      <td>120.29</td>\n",
       "    </tr>\n",
       "    <tr>\n",
       "      <th>2010</th>\n",
       "      <td>170.03</td>\n",
       "    </tr>\n",
       "    <tr>\n",
       "      <th>2011</th>\n",
       "      <td>143.84</td>\n",
       "    </tr>\n",
       "    <tr>\n",
       "      <th>2012</th>\n",
       "      <td>99.74</td>\n",
       "    </tr>\n",
       "    <tr>\n",
       "      <th>2013</th>\n",
       "      <td>88.58</td>\n",
       "    </tr>\n",
       "    <tr>\n",
       "      <th>2014</th>\n",
       "      <td>34.74</td>\n",
       "    </tr>\n",
       "    <tr>\n",
       "      <th>2015</th>\n",
       "      <td>11.96</td>\n",
       "    </tr>\n",
       "    <tr>\n",
       "      <th>2016</th>\n",
       "      <td>1.52</td>\n",
       "    </tr>\n",
       "  </tbody>\n",
       "</table>\n",
       "</div>"
      ],
      "text/plain": [
       "                 summary_sales\n",
       "year_of_release               \n",
       "2005                      7.00\n",
       "2006                     51.62\n",
       "2007                     95.41\n",
       "2008                    135.26\n",
       "2009                    120.29\n",
       "2010                    170.03\n",
       "2011                    143.84\n",
       "2012                     99.74\n",
       "2013                     88.58\n",
       "2014                     34.74\n",
       "2015                     11.96\n",
       "2016                      1.52"
      ]
     },
     "execution_count": 21,
     "metadata": {},
     "output_type": "execute_result"
    }
   ],
   "source": [
    "x360_sales = data.loc[data['platform'] == 'X360'].pivot_table(index=['year_of_release'],\n",
    "                                                              values = ['summary_sales'],aggfunc = 'sum')\n",
    "x360_sales"
   ]
  },
  {
   "cell_type": "code",
   "execution_count": 22,
   "metadata": {},
   "outputs": [
    {
     "data": {
      "text/html": [
       "<div>\n",
       "<style scoped>\n",
       "    .dataframe tbody tr th:only-of-type {\n",
       "        vertical-align: middle;\n",
       "    }\n",
       "\n",
       "    .dataframe tbody tr th {\n",
       "        vertical-align: top;\n",
       "    }\n",
       "\n",
       "    .dataframe thead th {\n",
       "        text-align: right;\n",
       "    }\n",
       "</style>\n",
       "<table border=\"1\" class=\"dataframe\">\n",
       "  <thead>\n",
       "    <tr style=\"text-align: right;\">\n",
       "      <th></th>\n",
       "      <th>summary_sales</th>\n",
       "    </tr>\n",
       "    <tr>\n",
       "      <th>year_of_release</th>\n",
       "      <th></th>\n",
       "    </tr>\n",
       "  </thead>\n",
       "  <tbody>\n",
       "    <tr>\n",
       "      <th>2006</th>\n",
       "      <td>20.96</td>\n",
       "    </tr>\n",
       "    <tr>\n",
       "      <th>2007</th>\n",
       "      <td>73.19</td>\n",
       "    </tr>\n",
       "    <tr>\n",
       "      <th>2008</th>\n",
       "      <td>118.52</td>\n",
       "    </tr>\n",
       "    <tr>\n",
       "      <th>2009</th>\n",
       "      <td>130.93</td>\n",
       "    </tr>\n",
       "    <tr>\n",
       "      <th>2010</th>\n",
       "      <td>142.17</td>\n",
       "    </tr>\n",
       "    <tr>\n",
       "      <th>2011</th>\n",
       "      <td>156.78</td>\n",
       "    </tr>\n",
       "    <tr>\n",
       "      <th>2012</th>\n",
       "      <td>107.35</td>\n",
       "    </tr>\n",
       "    <tr>\n",
       "      <th>2013</th>\n",
       "      <td>113.25</td>\n",
       "    </tr>\n",
       "    <tr>\n",
       "      <th>2014</th>\n",
       "      <td>47.76</td>\n",
       "    </tr>\n",
       "    <tr>\n",
       "      <th>2015</th>\n",
       "      <td>16.82</td>\n",
       "    </tr>\n",
       "    <tr>\n",
       "      <th>2016</th>\n",
       "      <td>3.60</td>\n",
       "    </tr>\n",
       "  </tbody>\n",
       "</table>\n",
       "</div>"
      ],
      "text/plain": [
       "                 summary_sales\n",
       "year_of_release               \n",
       "2006                     20.96\n",
       "2007                     73.19\n",
       "2008                    118.52\n",
       "2009                    130.93\n",
       "2010                    142.17\n",
       "2011                    156.78\n",
       "2012                    107.35\n",
       "2013                    113.25\n",
       "2014                     47.76\n",
       "2015                     16.82\n",
       "2016                      3.60"
      ]
     },
     "execution_count": 22,
     "metadata": {},
     "output_type": "execute_result"
    }
   ],
   "source": [
    "ps3_sales = data.loc[data['platform'] == 'PS3'].pivot_table(index=['year_of_release'],\n",
    "                                                            values = ['summary_sales'],aggfunc = 'sum')\n",
    "ps3_sales"
   ]
  },
  {
   "cell_type": "code",
   "execution_count": 23,
   "metadata": {},
   "outputs": [
    {
     "data": {
      "text/html": [
       "<div>\n",
       "<style scoped>\n",
       "    .dataframe tbody tr th:only-of-type {\n",
       "        vertical-align: middle;\n",
       "    }\n",
       "\n",
       "    .dataframe tbody tr th {\n",
       "        vertical-align: top;\n",
       "    }\n",
       "\n",
       "    .dataframe thead th {\n",
       "        text-align: right;\n",
       "    }\n",
       "</style>\n",
       "<table border=\"1\" class=\"dataframe\">\n",
       "  <thead>\n",
       "    <tr style=\"text-align: right;\">\n",
       "      <th></th>\n",
       "      <th>summary_sales</th>\n",
       "    </tr>\n",
       "    <tr>\n",
       "      <th>year_of_release</th>\n",
       "      <th></th>\n",
       "    </tr>\n",
       "  </thead>\n",
       "  <tbody>\n",
       "    <tr>\n",
       "      <th>2006</th>\n",
       "      <td>137.15</td>\n",
       "    </tr>\n",
       "    <tr>\n",
       "      <th>2007</th>\n",
       "      <td>152.77</td>\n",
       "    </tr>\n",
       "    <tr>\n",
       "      <th>2008</th>\n",
       "      <td>171.32</td>\n",
       "    </tr>\n",
       "    <tr>\n",
       "      <th>2009</th>\n",
       "      <td>206.97</td>\n",
       "    </tr>\n",
       "    <tr>\n",
       "      <th>2010</th>\n",
       "      <td>127.95</td>\n",
       "    </tr>\n",
       "    <tr>\n",
       "      <th>2011</th>\n",
       "      <td>59.65</td>\n",
       "    </tr>\n",
       "    <tr>\n",
       "      <th>2012</th>\n",
       "      <td>21.71</td>\n",
       "    </tr>\n",
       "    <tr>\n",
       "      <th>2013</th>\n",
       "      <td>8.59</td>\n",
       "    </tr>\n",
       "    <tr>\n",
       "      <th>2014</th>\n",
       "      <td>3.75</td>\n",
       "    </tr>\n",
       "    <tr>\n",
       "      <th>2015</th>\n",
       "      <td>1.14</td>\n",
       "    </tr>\n",
       "    <tr>\n",
       "      <th>2016</th>\n",
       "      <td>0.18</td>\n",
       "    </tr>\n",
       "  </tbody>\n",
       "</table>\n",
       "</div>"
      ],
      "text/plain": [
       "                 summary_sales\n",
       "year_of_release               \n",
       "2006                    137.15\n",
       "2007                    152.77\n",
       "2008                    171.32\n",
       "2009                    206.97\n",
       "2010                    127.95\n",
       "2011                     59.65\n",
       "2012                     21.71\n",
       "2013                      8.59\n",
       "2014                      3.75\n",
       "2015                      1.14\n",
       "2016                      0.18"
      ]
     },
     "execution_count": 23,
     "metadata": {},
     "output_type": "execute_result"
    }
   ],
   "source": [
    "wii_sales = data.loc[data['platform'] == 'Wii'].pivot_table(index=['year_of_release'],\n",
    "                                                            values = ['summary_sales'],aggfunc = 'sum')\n",
    "wii_sales"
   ]
  },
  {
   "cell_type": "code",
   "execution_count": 24,
   "metadata": {},
   "outputs": [
    {
     "data": {
      "text/html": [
       "<div>\n",
       "<style scoped>\n",
       "    .dataframe tbody tr th:only-of-type {\n",
       "        vertical-align: middle;\n",
       "    }\n",
       "\n",
       "    .dataframe tbody tr th {\n",
       "        vertical-align: top;\n",
       "    }\n",
       "\n",
       "    .dataframe thead th {\n",
       "        text-align: right;\n",
       "    }\n",
       "</style>\n",
       "<table border=\"1\" class=\"dataframe\">\n",
       "  <thead>\n",
       "    <tr style=\"text-align: right;\">\n",
       "      <th></th>\n",
       "      <th>summary_sales</th>\n",
       "    </tr>\n",
       "    <tr>\n",
       "      <th>year_of_release</th>\n",
       "      <th></th>\n",
       "    </tr>\n",
       "  </thead>\n",
       "  <tbody>\n",
       "    <tr>\n",
       "      <th>1985</th>\n",
       "      <td>0.02</td>\n",
       "    </tr>\n",
       "    <tr>\n",
       "      <th>2004</th>\n",
       "      <td>17.27</td>\n",
       "    </tr>\n",
       "    <tr>\n",
       "      <th>2005</th>\n",
       "      <td>130.14</td>\n",
       "    </tr>\n",
       "    <tr>\n",
       "      <th>2006</th>\n",
       "      <td>119.81</td>\n",
       "    </tr>\n",
       "    <tr>\n",
       "      <th>2007</th>\n",
       "      <td>146.94</td>\n",
       "    </tr>\n",
       "    <tr>\n",
       "      <th>2008</th>\n",
       "      <td>145.31</td>\n",
       "    </tr>\n",
       "    <tr>\n",
       "      <th>2009</th>\n",
       "      <td>119.54</td>\n",
       "    </tr>\n",
       "    <tr>\n",
       "      <th>2010</th>\n",
       "      <td>85.02</td>\n",
       "    </tr>\n",
       "    <tr>\n",
       "      <th>2011</th>\n",
       "      <td>26.18</td>\n",
       "    </tr>\n",
       "    <tr>\n",
       "      <th>2012</th>\n",
       "      <td>11.01</td>\n",
       "    </tr>\n",
       "    <tr>\n",
       "      <th>2013</th>\n",
       "      <td>1.54</td>\n",
       "    </tr>\n",
       "  </tbody>\n",
       "</table>\n",
       "</div>"
      ],
      "text/plain": [
       "                 summary_sales\n",
       "year_of_release               \n",
       "1985                      0.02\n",
       "2004                     17.27\n",
       "2005                    130.14\n",
       "2006                    119.81\n",
       "2007                    146.94\n",
       "2008                    145.31\n",
       "2009                    119.54\n",
       "2010                     85.02\n",
       "2011                     26.18\n",
       "2012                     11.01\n",
       "2013                      1.54"
      ]
     },
     "execution_count": 24,
     "metadata": {},
     "output_type": "execute_result"
    }
   ],
   "source": [
    "ds_sales = data.loc[data['platform'] == 'DS'].pivot_table(index=['year_of_release'],\n",
    "                                                          values = ['summary_sales'],aggfunc = 'sum')\n",
    "ds_sales"
   ]
  },
  {
   "cell_type": "markdown",
   "metadata": {},
   "source": [
    "### Вывод\n",
    "Средний срок жизни консоли 11 лет,с максимальными продажами в течение 5-7 лет от момента релиза."
   ]
  },
  {
   "cell_type": "markdown",
   "metadata": {},
   "source": [
    "### Возьмём данные за соответствующий актуальный период.  \n",
    "Так как основные тенденции в продаже игр на консолях варьируются от 5 до 7 лет,возьмём промежуток времени прошедшей пятилетки,тем самым захватив консоли которые будут в 2017 в конце и в середине своего жизненного цикла. Данные перевдём в новую переменную `data_new_consoles`"
   ]
  },
  {
   "cell_type": "code",
   "execution_count": 25,
   "metadata": {},
   "outputs": [
    {
     "data": {
      "text/html": [
       "<div>\n",
       "<style scoped>\n",
       "    .dataframe tbody tr th:only-of-type {\n",
       "        vertical-align: middle;\n",
       "    }\n",
       "\n",
       "    .dataframe tbody tr th {\n",
       "        vertical-align: top;\n",
       "    }\n",
       "\n",
       "    .dataframe thead th {\n",
       "        text-align: right;\n",
       "    }\n",
       "</style>\n",
       "<table border=\"1\" class=\"dataframe\">\n",
       "  <thead>\n",
       "    <tr style=\"text-align: right;\">\n",
       "      <th></th>\n",
       "      <th></th>\n",
       "      <th>summary_sales</th>\n",
       "    </tr>\n",
       "    <tr>\n",
       "      <th>platform</th>\n",
       "      <th>year_of_release</th>\n",
       "      <th></th>\n",
       "    </tr>\n",
       "  </thead>\n",
       "  <tbody>\n",
       "    <tr>\n",
       "      <th rowspan=\"5\" valign=\"top\">3DS</th>\n",
       "      <th>2012</th>\n",
       "      <td>51.36</td>\n",
       "    </tr>\n",
       "    <tr>\n",
       "      <th>2013</th>\n",
       "      <td>56.57</td>\n",
       "    </tr>\n",
       "    <tr>\n",
       "      <th>2014</th>\n",
       "      <td>43.76</td>\n",
       "    </tr>\n",
       "    <tr>\n",
       "      <th>2015</th>\n",
       "      <td>27.78</td>\n",
       "    </tr>\n",
       "    <tr>\n",
       "      <th>2016</th>\n",
       "      <td>15.14</td>\n",
       "    </tr>\n",
       "    <tr>\n",
       "      <th rowspan=\"2\" valign=\"top\">DS</th>\n",
       "      <th>2012</th>\n",
       "      <td>11.01</td>\n",
       "    </tr>\n",
       "    <tr>\n",
       "      <th>2013</th>\n",
       "      <td>1.54</td>\n",
       "    </tr>\n",
       "    <tr>\n",
       "      <th rowspan=\"5\" valign=\"top\">PC</th>\n",
       "      <th>2016</th>\n",
       "      <td>5.25</td>\n",
       "    </tr>\n",
       "    <tr>\n",
       "      <th>2014</th>\n",
       "      <td>13.28</td>\n",
       "    </tr>\n",
       "    <tr>\n",
       "      <th>2015</th>\n",
       "      <td>8.52</td>\n",
       "    </tr>\n",
       "    <tr>\n",
       "      <th>2012</th>\n",
       "      <td>23.14</td>\n",
       "    </tr>\n",
       "    <tr>\n",
       "      <th>2013</th>\n",
       "      <td>12.38</td>\n",
       "    </tr>\n",
       "    <tr>\n",
       "      <th rowspan=\"5\" valign=\"top\">PS3</th>\n",
       "      <th>2012</th>\n",
       "      <td>107.35</td>\n",
       "    </tr>\n",
       "    <tr>\n",
       "      <th>2013</th>\n",
       "      <td>113.25</td>\n",
       "    </tr>\n",
       "    <tr>\n",
       "      <th>2014</th>\n",
       "      <td>47.76</td>\n",
       "    </tr>\n",
       "    <tr>\n",
       "      <th>2015</th>\n",
       "      <td>16.82</td>\n",
       "    </tr>\n",
       "    <tr>\n",
       "      <th>2016</th>\n",
       "      <td>3.60</td>\n",
       "    </tr>\n",
       "    <tr>\n",
       "      <th rowspan=\"4\" valign=\"top\">PS4</th>\n",
       "      <th>2016</th>\n",
       "      <td>69.25</td>\n",
       "    </tr>\n",
       "    <tr>\n",
       "      <th>2013</th>\n",
       "      <td>25.99</td>\n",
       "    </tr>\n",
       "    <tr>\n",
       "      <th>2014</th>\n",
       "      <td>100.00</td>\n",
       "    </tr>\n",
       "    <tr>\n",
       "      <th>2015</th>\n",
       "      <td>118.90</td>\n",
       "    </tr>\n",
       "    <tr>\n",
       "      <th rowspan=\"4\" valign=\"top\">PSP</th>\n",
       "      <th>2014</th>\n",
       "      <td>0.24</td>\n",
       "    </tr>\n",
       "    <tr>\n",
       "      <th>2015</th>\n",
       "      <td>0.12</td>\n",
       "    </tr>\n",
       "    <tr>\n",
       "      <th>2012</th>\n",
       "      <td>7.69</td>\n",
       "    </tr>\n",
       "    <tr>\n",
       "      <th>2013</th>\n",
       "      <td>3.14</td>\n",
       "    </tr>\n",
       "    <tr>\n",
       "      <th rowspan=\"5\" valign=\"top\">PSV</th>\n",
       "      <th>2012</th>\n",
       "      <td>16.19</td>\n",
       "    </tr>\n",
       "    <tr>\n",
       "      <th>2013</th>\n",
       "      <td>10.59</td>\n",
       "    </tr>\n",
       "    <tr>\n",
       "      <th>2014</th>\n",
       "      <td>11.90</td>\n",
       "    </tr>\n",
       "    <tr>\n",
       "      <th>2015</th>\n",
       "      <td>6.25</td>\n",
       "    </tr>\n",
       "    <tr>\n",
       "      <th>2016</th>\n",
       "      <td>4.25</td>\n",
       "    </tr>\n",
       "    <tr>\n",
       "      <th rowspan=\"5\" valign=\"top\">Wii</th>\n",
       "      <th>2012</th>\n",
       "      <td>21.71</td>\n",
       "    </tr>\n",
       "    <tr>\n",
       "      <th>2013</th>\n",
       "      <td>8.59</td>\n",
       "    </tr>\n",
       "    <tr>\n",
       "      <th>2014</th>\n",
       "      <td>3.75</td>\n",
       "    </tr>\n",
       "    <tr>\n",
       "      <th>2015</th>\n",
       "      <td>1.14</td>\n",
       "    </tr>\n",
       "    <tr>\n",
       "      <th>2016</th>\n",
       "      <td>0.18</td>\n",
       "    </tr>\n",
       "    <tr>\n",
       "      <th rowspan=\"5\" valign=\"top\">WiiU</th>\n",
       "      <th>2016</th>\n",
       "      <td>4.60</td>\n",
       "    </tr>\n",
       "    <tr>\n",
       "      <th>2015</th>\n",
       "      <td>16.35</td>\n",
       "    </tr>\n",
       "    <tr>\n",
       "      <th>2012</th>\n",
       "      <td>17.56</td>\n",
       "    </tr>\n",
       "    <tr>\n",
       "      <th>2013</th>\n",
       "      <td>21.65</td>\n",
       "    </tr>\n",
       "    <tr>\n",
       "      <th>2014</th>\n",
       "      <td>22.03</td>\n",
       "    </tr>\n",
       "    <tr>\n",
       "      <th rowspan=\"5\" valign=\"top\">X360</th>\n",
       "      <th>2012</th>\n",
       "      <td>99.74</td>\n",
       "    </tr>\n",
       "    <tr>\n",
       "      <th>2013</th>\n",
       "      <td>88.58</td>\n",
       "    </tr>\n",
       "    <tr>\n",
       "      <th>2014</th>\n",
       "      <td>34.74</td>\n",
       "    </tr>\n",
       "    <tr>\n",
       "      <th>2015</th>\n",
       "      <td>11.96</td>\n",
       "    </tr>\n",
       "    <tr>\n",
       "      <th>2016</th>\n",
       "      <td>1.52</td>\n",
       "    </tr>\n",
       "    <tr>\n",
       "      <th rowspan=\"4\" valign=\"top\">XOne</th>\n",
       "      <th>2015</th>\n",
       "      <td>60.14</td>\n",
       "    </tr>\n",
       "    <tr>\n",
       "      <th>2013</th>\n",
       "      <td>18.96</td>\n",
       "    </tr>\n",
       "    <tr>\n",
       "      <th>2014</th>\n",
       "      <td>54.07</td>\n",
       "    </tr>\n",
       "    <tr>\n",
       "      <th>2016</th>\n",
       "      <td>26.15</td>\n",
       "    </tr>\n",
       "  </tbody>\n",
       "</table>\n",
       "</div>"
      ],
      "text/plain": [
       "                          summary_sales\n",
       "platform year_of_release               \n",
       "3DS      2012                     51.36\n",
       "         2013                     56.57\n",
       "         2014                     43.76\n",
       "         2015                     27.78\n",
       "         2016                     15.14\n",
       "DS       2012                     11.01\n",
       "         2013                      1.54\n",
       "PC       2016                      5.25\n",
       "         2014                     13.28\n",
       "         2015                      8.52\n",
       "         2012                     23.14\n",
       "         2013                     12.38\n",
       "PS3      2012                    107.35\n",
       "         2013                    113.25\n",
       "         2014                     47.76\n",
       "         2015                     16.82\n",
       "         2016                      3.60\n",
       "PS4      2016                     69.25\n",
       "         2013                     25.99\n",
       "         2014                    100.00\n",
       "         2015                    118.90\n",
       "PSP      2014                      0.24\n",
       "         2015                      0.12\n",
       "         2012                      7.69\n",
       "         2013                      3.14\n",
       "PSV      2012                     16.19\n",
       "         2013                     10.59\n",
       "         2014                     11.90\n",
       "         2015                      6.25\n",
       "         2016                      4.25\n",
       "Wii      2012                     21.71\n",
       "         2013                      8.59\n",
       "         2014                      3.75\n",
       "         2015                      1.14\n",
       "         2016                      0.18\n",
       "WiiU     2016                      4.60\n",
       "         2015                     16.35\n",
       "         2012                     17.56\n",
       "         2013                     21.65\n",
       "         2014                     22.03\n",
       "X360     2012                     99.74\n",
       "         2013                     88.58\n",
       "         2014                     34.74\n",
       "         2015                     11.96\n",
       "         2016                      1.52\n",
       "XOne     2015                     60.14\n",
       "         2013                     18.96\n",
       "         2014                     54.07\n",
       "         2016                     26.15"
      ]
     },
     "execution_count": 25,
     "metadata": {},
     "output_type": "execute_result"
    }
   ],
   "source": [
    "data_new_consoles = data.loc[data['year_of_release'] >= 2012]\n",
    "data_new_consoles_platforms = data_new_consoles.pivot_table(index=['platform','year_of_release'],\n",
    "                                                            values = ['summary_sales'],aggfunc = 'sum')\n",
    "data_new_consoles_platforms.sort_values('platform')"
   ]
  },
  {
   "cell_type": "markdown",
   "metadata": {},
   "source": [
    "### Вывод\n",
    "Потенциально прибыльными будут консоли нового поколения PS4,XOne так как они находятся в середине своего \"жизненного цикла\", так как прожади по остальным консолям падают. Так же в расчёт стоит брать персональные компьютеры,так как за последнию пятилетку продажи игр для них держатся на среднем уровне с небольшими отклонениями(но стабильно)."
   ]
  },
  {
   "cell_type": "markdown",
   "metadata": {},
   "source": [
    "### График «ящик с усами» по глобальным продажам игр в разбивке по перспективным платформам"
   ]
  },
  {
   "cell_type": "code",
   "execution_count": 26,
   "metadata": {},
   "outputs": [
    {
     "data": {
      "image/png": "[encoded data removed]",
      "text/plain": [
       "<Figure size 1440x360 with 1 Axes>"
      ]
     },
     "metadata": {
      "needs_background": "light"
     },
     "output_type": "display_data"
    }
   ],
   "source": [
    "\n",
    "platforms = ['PS4', 'XOne', 'PC']\n",
    "top_three = data_new_consoles[data_new_consoles['platform'].isin(platforms)]\n",
    "\n",
    "plt.figure(figsize=(20, 5))\n",
    "plt.xlim(-0.1, 2)\n",
    "plt.title('Глобальные продажы по перспективным платформам', fontsize=20)\n",
    "sns.boxplot(x='summary_sales', y='platform', data=top_three)\n",
    "plt.ylabel('Платформа', fontsize=20)\n",
    "plt.xlabel('Суммарные продажи', fontsize=20)\n",
    "plt.grid(True);"
   ]
  },
  {
   "cell_type": "code",
   "execution_count": 27,
   "metadata": {},
   "outputs": [
    {
     "data": {
      "image/png": "[encoded data removed]",
      "text/plain": [
       "<Figure size 1440x360 with 1 Axes>"
      ]
     },
     "metadata": {
      "needs_background": "light"
     },
     "output_type": "display_data"
    }
   ],
   "source": [
    "plt.figure(figsize=(20, 5))\n",
    "plt.title('Глобальные продажы по перспективным платформам без ограничений показателей', fontsize=20)\n",
    "sns.boxplot(x='summary_sales', y='platform', data=top_three)\n",
    "plt.ylabel('Платформа', fontsize=20)\n",
    "plt.xlabel('Суммарные продажи', fontsize=20)\n",
    "plt.grid(True);"
   ]
  },
  {
   "cell_type": "markdown",
   "metadata": {},
   "source": [
    "### Вывод\n",
    "Продажи для PS4 и XOne в целом схожи с небольшим отрывом по количеству для PS4 и более высоким медианным значением для консоли компании майкрософт. Игры на компьютеры значительно остают от двух главных конкурирующих платформ."
   ]
  },
  {
   "cell_type": "markdown",
   "metadata": {},
   "source": [
    "### Посмотрим, как влияют на продажи внутри одной популярной платформы отзывы пользователей и критиков. \n",
    "Построим диаграмму рассеяния и посчитаем корреляцию между отзывами и продажами для консоли с самым большим количеством выпущенных игр из тройки лидеров на 2017 год- PS4, не беря в расчёт игры без рейтинга критиков и пользователей. Сформулируем выводы."
   ]
  },
  {
   "cell_type": "code",
   "execution_count": 28,
   "metadata": {},
   "outputs": [],
   "source": [
    "top_one = top_three.loc[(top_three['platform'] == 'PS4')&\n",
    "                        (top_three['user_score'] != -1)&\n",
    "                        (top_three['critic_score'] != -1)]"
   ]
  },
  {
   "cell_type": "code",
   "execution_count": 29,
   "metadata": {},
   "outputs": [
    {
     "data": {
      "image/png": "[encoded data removed]",
      "text/plain": [
       "<Figure size 720x360 with 1 Axes>"
      ]
     },
     "metadata": {
      "needs_background": "light"
     },
     "output_type": "display_data"
    }
   ],
   "source": [
    "plt.figure(figsize=(10, 5))\n",
    "plt.title('Диаграмма рассеяния оценки пользователей и суммарных продаж PS4', fontsize=10)\n",
    "sns.scatterplot(x='user_score', y='summary_sales', data=top_one)\n",
    "plt.ylabel('Суммарные продажи')\n",
    "plt.xlabel('Оценка пользователей')\n",
    "plt.grid(True)\n"
   ]
  },
  {
   "cell_type": "code",
   "execution_count": 30,
   "metadata": {},
   "outputs": [
    {
     "data": {
      "image/png": "[encoded data removed]",
      "text/plain": [
       "<Figure size 720x360 with 1 Axes>"
      ]
     },
     "metadata": {
      "needs_background": "light"
     },
     "output_type": "display_data"
    }
   ],
   "source": [
    "plt.figure(figsize=(10, 5))\n",
    "plt.title('Диаграмма рассеяния оценки критиков и суммарных продаж PS4', fontsize=10)\n",
    "sns.scatterplot(x='critic_score', y='summary_sales', data=top_one)\n",
    "plt.ylabel('Суммарные продажи')\n",
    "plt.xlabel('Оценка критиков')\n",
    "plt.grid(True);"
   ]
  },
  {
   "cell_type": "code",
   "execution_count": 31,
   "metadata": {},
   "outputs": [
    {
     "name": "stdout",
     "output_type": "stream",
     "text": [
      "PS4: Коэффицент корреляции для отзывов критиков -  0.40589480145836687\n",
      "PS4: Коэффицент корреляции для отзывов пользователей -  -0.03362497596528878\n"
     ]
    }
   ],
   "source": [
    "cor_critic = top_one['summary_sales'].corr(top_one['critic_score'].astype('float'))\n",
    "cor_user = top_one['summary_sales'].corr(top_one['user_score'])\n",
    "print('PS4: Коэффицент корреляции для отзывов критиков - ', cor_critic)\n",
    "print('PS4: Коэффицент корреляции для отзывов пользователей - ', cor_user )"
   ]
  },
  {
   "cell_type": "markdown",
   "metadata": {},
   "source": [
    "### Вывод\n",
    "* Диаграмма рассеяния для пользовательских оценок более разнообразна чем критиков, что свидельствует что высокие оценки критиков соотносятся с высоки продажами игр ,в отличие от пользовательских шде такой прямой связи нет.\n",
    "* Данное наблюдение нам похволяет подтвердить положительный ( в отличие от пользовательского) коэффициент корреляции суммарных продаж и оценки критиков."
   ]
  },
  {
   "cell_type": "markdown",
   "metadata": {},
   "source": [
    "### Соотнесём выводы с другими платформами"
   ]
  },
  {
   "cell_type": "code",
   "execution_count": 32,
   "metadata": {},
   "outputs": [
    {
     "name": "stdout",
     "output_type": "stream",
     "text": [
      "XboxOne: Коэффицент корреляции для отзывов критиков -  0.4104220356129637\n",
      "XboxOne: Коэффицент корреляции для отзывов пользователей -  -0.09400318326920852\n"
     ]
    }
   ],
   "source": [
    "second_one = top_three.loc[(top_three['platform'] == 'XOne')&\n",
    "                           (top_three['user_score'] != -1)&\n",
    "                           (top_three['critic_score'] != -1)]\n",
    "cor_critic_xone = second_one['summary_sales'].corr(second_one['critic_score'].astype('float'))\n",
    "cor_user_xone = second_one['summary_sales'].corr(second_one['user_score'])\n",
    "print('XboxOne: Коэффицент корреляции для отзывов критиков - ', cor_critic_xone)\n",
    "print('XboxOne: Коэффицент корреляции для отзывов пользователей - ', cor_user_xone )"
   ]
  },
  {
   "cell_type": "code",
   "execution_count": 33,
   "metadata": {},
   "outputs": [
    {
     "name": "stdout",
     "output_type": "stream",
     "text": [
      "PC: Коэффицент корреляции для отзывов критиков -  0.23747488112576556\n",
      "PC: Коэффицент корреляции для отзывов пользователей -  -0.13505469037844284\n"
     ]
    }
   ],
   "source": [
    "third_one = top_three.loc[(top_three['platform'] == 'PC')&\n",
    "                          (top_three['user_score'] != -1)&\n",
    "                          (top_three['critic_score'] != -1)]\n",
    "cor_critic_pc = third_one['summary_sales'].corr(third_one['critic_score'].astype('float'))\n",
    "cor_user_pc = third_one['summary_sales'].corr(third_one['user_score'])\n",
    "print('PC: Коэффицент корреляции для отзывов критиков - ', cor_critic_pc)\n",
    "print('PC: Коэффицент корреляции для отзывов пользователей - ', cor_user_pc )"
   ]
  },
  {
   "cell_type": "markdown",
   "metadata": {},
   "source": [
    "### Вывод\n",
    "Корреляция для оценок пользователей и критиков с прожадами для XboX  в целом такая же как и для PS4,а вот для пользователей компютеров влияние оценок критиков уже слабее,как и оценки пользователей."
   ]
  },
  {
   "cell_type": "markdown",
   "metadata": {},
   "source": [
    "### Посмотрим на общее распределение игр по жанрам. "
   ]
  },
  {
   "cell_type": "code",
   "execution_count": 34,
   "metadata": {},
   "outputs": [
    {
     "data": {
      "image/png": "[encoded data removed]",
      "text/plain": [
       "<Figure size 1440x360 with 1 Axes>"
      ]
     },
     "metadata": {
      "needs_background": "light"
     },
     "output_type": "display_data"
    }
   ],
   "source": [
    "genres = top_three.pivot_table(index='genre', \n",
    "                               values='summary_sales', \n",
    "                               aggfunc='median').sort_values(by='summary_sales', ascending=False).reset_index()\n",
    "plt.figure(figsize=(20, 5))\n",
    "plt.title('Соотношение жанров и медианного количества продаж по ним', fontsize=20)\n",
    "sns.barplot(x='genre', y='summary_sales', data=genres)\n",
    "plt.ylabel('Суммарные продажи')\n",
    "plt.xlabel('Жанры')\n",
    "plt.grid(True);"
   ]
  },
  {
   "cell_type": "markdown",
   "metadata": {},
   "source": [
    "### Вывод\n",
    "Лидирующими по продажам являются игры жанра шутер, на втором месте спортивные игры и закрывает тройку лидеров ролевые игры. Паззлы в последнюю пятилетку успезом не пользуются как и стратегические игры и игры жанра adventure (пик популярности данных игр прошёл)."
   ]
  },
  {
   "cell_type": "markdown",
   "metadata": {},
   "source": [
    "## Составим портрет пользователя каждого региона"
   ]
  },
  {
   "cell_type": "markdown",
   "metadata": {},
   "source": [
    "### Самые популярные платформы (топ-5). "
   ]
  },
  {
   "cell_type": "code",
   "execution_count": 35,
   "metadata": {},
   "outputs": [
    {
     "data": {
      "text/html": [
       "<div>\n",
       "<style scoped>\n",
       "    .dataframe tbody tr th:only-of-type {\n",
       "        vertical-align: middle;\n",
       "    }\n",
       "\n",
       "    .dataframe tbody tr th {\n",
       "        vertical-align: top;\n",
       "    }\n",
       "\n",
       "    .dataframe thead th {\n",
       "        text-align: right;\n",
       "    }\n",
       "</style>\n",
       "<table border=\"1\" class=\"dataframe\">\n",
       "  <thead>\n",
       "    <tr style=\"text-align: right;\">\n",
       "      <th></th>\n",
       "      <th>jp_sales</th>\n",
       "      <th>percent</th>\n",
       "    </tr>\n",
       "    <tr>\n",
       "      <th>platform</th>\n",
       "      <th></th>\n",
       "      <th></th>\n",
       "    </tr>\n",
       "  </thead>\n",
       "  <tbody>\n",
       "    <tr>\n",
       "      <th>3DS</th>\n",
       "      <td>87.79</td>\n",
       "      <td>45.6</td>\n",
       "    </tr>\n",
       "    <tr>\n",
       "      <th>PS3</th>\n",
       "      <td>35.29</td>\n",
       "      <td>18.3</td>\n",
       "    </tr>\n",
       "    <tr>\n",
       "      <th>PSV</th>\n",
       "      <td>21.04</td>\n",
       "      <td>10.9</td>\n",
       "    </tr>\n",
       "    <tr>\n",
       "      <th>PS4</th>\n",
       "      <td>15.96</td>\n",
       "      <td>8.3</td>\n",
       "    </tr>\n",
       "    <tr>\n",
       "      <th>WiiU</th>\n",
       "      <td>13.01</td>\n",
       "      <td>6.8</td>\n",
       "    </tr>\n",
       "    <tr>\n",
       "      <th>PSP</th>\n",
       "      <td>10.47</td>\n",
       "      <td>5.4</td>\n",
       "    </tr>\n",
       "    <tr>\n",
       "      <th>DS</th>\n",
       "      <td>3.72</td>\n",
       "      <td>1.9</td>\n",
       "    </tr>\n",
       "    <tr>\n",
       "      <th>Wii</th>\n",
       "      <td>3.39</td>\n",
       "      <td>1.8</td>\n",
       "    </tr>\n",
       "    <tr>\n",
       "      <th>X360</th>\n",
       "      <td>1.57</td>\n",
       "      <td>0.8</td>\n",
       "    </tr>\n",
       "    <tr>\n",
       "      <th>XOne</th>\n",
       "      <td>0.34</td>\n",
       "      <td>0.2</td>\n",
       "    </tr>\n",
       "    <tr>\n",
       "      <th>PC</th>\n",
       "      <td>0.00</td>\n",
       "      <td>0.0</td>\n",
       "    </tr>\n",
       "  </tbody>\n",
       "</table>\n",
       "</div>"
      ],
      "text/plain": [
       "          jp_sales  percent\n",
       "platform                   \n",
       "3DS          87.79     45.6\n",
       "PS3          35.29     18.3\n",
       "PSV          21.04     10.9\n",
       "PS4          15.96      8.3\n",
       "WiiU         13.01      6.8\n",
       "PSP          10.47      5.4\n",
       "DS            3.72      1.9\n",
       "Wii           3.39      1.8\n",
       "X360          1.57      0.8\n",
       "XOne          0.34      0.2\n",
       "PC            0.00      0.0"
      ]
     },
     "execution_count": 35,
     "metadata": {},
     "output_type": "execute_result"
    }
   ],
   "source": [
    "jp_top_platform = data_new_consoles.pivot_table(index = 'platform', \n",
    "                                                values = 'jp_sales' , \n",
    "                                                aggfunc='sum').sort_values('jp_sales', ascending = False)\n",
    "jp_top_platform['percent'] = ((jp_top_platform['jp_sales'] / jp_top_platform['jp_sales'].sum())* 100).round(1)\n",
    "jp_top_platform"
   ]
  },
  {
   "cell_type": "code",
   "execution_count": 36,
   "metadata": {},
   "outputs": [
    {
     "data": {
      "text/html": [
       "<div>\n",
       "<style scoped>\n",
       "    .dataframe tbody tr th:only-of-type {\n",
       "        vertical-align: middle;\n",
       "    }\n",
       "\n",
       "    .dataframe tbody tr th {\n",
       "        vertical-align: top;\n",
       "    }\n",
       "\n",
       "    .dataframe thead th {\n",
       "        text-align: right;\n",
       "    }\n",
       "</style>\n",
       "<table border=\"1\" class=\"dataframe\">\n",
       "  <thead>\n",
       "    <tr style=\"text-align: right;\">\n",
       "      <th></th>\n",
       "      <th>eu_sales</th>\n",
       "      <th>percent</th>\n",
       "    </tr>\n",
       "    <tr>\n",
       "      <th>platform</th>\n",
       "      <th></th>\n",
       "      <th></th>\n",
       "    </tr>\n",
       "  </thead>\n",
       "  <tbody>\n",
       "    <tr>\n",
       "      <th>PS4</th>\n",
       "      <td>141.09</td>\n",
       "      <td>27.8</td>\n",
       "    </tr>\n",
       "    <tr>\n",
       "      <th>PS3</th>\n",
       "      <td>106.85</td>\n",
       "      <td>21.1</td>\n",
       "    </tr>\n",
       "    <tr>\n",
       "      <th>X360</th>\n",
       "      <td>74.52</td>\n",
       "      <td>14.7</td>\n",
       "    </tr>\n",
       "    <tr>\n",
       "      <th>XOne</th>\n",
       "      <td>51.59</td>\n",
       "      <td>10.2</td>\n",
       "    </tr>\n",
       "    <tr>\n",
       "      <th>3DS</th>\n",
       "      <td>42.64</td>\n",
       "      <td>8.4</td>\n",
       "    </tr>\n",
       "    <tr>\n",
       "      <th>PC</th>\n",
       "      <td>37.70</td>\n",
       "      <td>7.4</td>\n",
       "    </tr>\n",
       "    <tr>\n",
       "      <th>WiiU</th>\n",
       "      <td>25.13</td>\n",
       "      <td>5.0</td>\n",
       "    </tr>\n",
       "    <tr>\n",
       "      <th>Wii</th>\n",
       "      <td>11.92</td>\n",
       "      <td>2.4</td>\n",
       "    </tr>\n",
       "    <tr>\n",
       "      <th>PSV</th>\n",
       "      <td>11.36</td>\n",
       "      <td>2.2</td>\n",
       "    </tr>\n",
       "    <tr>\n",
       "      <th>DS</th>\n",
       "      <td>3.53</td>\n",
       "      <td>0.7</td>\n",
       "    </tr>\n",
       "    <tr>\n",
       "      <th>PSP</th>\n",
       "      <td>0.42</td>\n",
       "      <td>0.1</td>\n",
       "    </tr>\n",
       "  </tbody>\n",
       "</table>\n",
       "</div>"
      ],
      "text/plain": [
       "          eu_sales  percent\n",
       "platform                   \n",
       "PS4         141.09     27.8\n",
       "PS3         106.85     21.1\n",
       "X360         74.52     14.7\n",
       "XOne         51.59     10.2\n",
       "3DS          42.64      8.4\n",
       "PC           37.70      7.4\n",
       "WiiU         25.13      5.0\n",
       "Wii          11.92      2.4\n",
       "PSV          11.36      2.2\n",
       "DS            3.53      0.7\n",
       "PSP           0.42      0.1"
      ]
     },
     "execution_count": 36,
     "metadata": {},
     "output_type": "execute_result"
    }
   ],
   "source": [
    "eu_top_platform = data_new_consoles.pivot_table(index = 'platform', \n",
    "                                                values = 'eu_sales' , \n",
    "                                                aggfunc='sum').sort_values('eu_sales', ascending = False)\n",
    "eu_top_platform['percent'] = ((eu_top_platform['eu_sales'] / eu_top_platform['eu_sales'].sum())* 100).round(1)\n",
    "eu_top_platform"
   ]
  },
  {
   "cell_type": "code",
   "execution_count": 37,
   "metadata": {},
   "outputs": [
    {
     "data": {
      "text/html": [
       "<div>\n",
       "<style scoped>\n",
       "    .dataframe tbody tr th:only-of-type {\n",
       "        vertical-align: middle;\n",
       "    }\n",
       "\n",
       "    .dataframe tbody tr th {\n",
       "        vertical-align: top;\n",
       "    }\n",
       "\n",
       "    .dataframe thead th {\n",
       "        text-align: right;\n",
       "    }\n",
       "</style>\n",
       "<table border=\"1\" class=\"dataframe\">\n",
       "  <thead>\n",
       "    <tr style=\"text-align: right;\">\n",
       "      <th></th>\n",
       "      <th>na_sales</th>\n",
       "      <th>percent</th>\n",
       "    </tr>\n",
       "    <tr>\n",
       "      <th>platform</th>\n",
       "      <th></th>\n",
       "      <th></th>\n",
       "    </tr>\n",
       "  </thead>\n",
       "  <tbody>\n",
       "    <tr>\n",
       "      <th>X360</th>\n",
       "      <td>140.05</td>\n",
       "      <td>23.7</td>\n",
       "    </tr>\n",
       "    <tr>\n",
       "      <th>PS4</th>\n",
       "      <td>108.74</td>\n",
       "      <td>18.4</td>\n",
       "    </tr>\n",
       "    <tr>\n",
       "      <th>PS3</th>\n",
       "      <td>103.38</td>\n",
       "      <td>17.5</td>\n",
       "    </tr>\n",
       "    <tr>\n",
       "      <th>XOne</th>\n",
       "      <td>93.12</td>\n",
       "      <td>15.8</td>\n",
       "    </tr>\n",
       "    <tr>\n",
       "      <th>3DS</th>\n",
       "      <td>55.31</td>\n",
       "      <td>9.4</td>\n",
       "    </tr>\n",
       "    <tr>\n",
       "      <th>WiiU</th>\n",
       "      <td>38.10</td>\n",
       "      <td>6.4</td>\n",
       "    </tr>\n",
       "    <tr>\n",
       "      <th>PC</th>\n",
       "      <td>19.12</td>\n",
       "      <td>3.2</td>\n",
       "    </tr>\n",
       "    <tr>\n",
       "      <th>Wii</th>\n",
       "      <td>17.45</td>\n",
       "      <td>3.0</td>\n",
       "    </tr>\n",
       "    <tr>\n",
       "      <th>PSV</th>\n",
       "      <td>10.98</td>\n",
       "      <td>1.9</td>\n",
       "    </tr>\n",
       "    <tr>\n",
       "      <th>DS</th>\n",
       "      <td>4.59</td>\n",
       "      <td>0.8</td>\n",
       "    </tr>\n",
       "    <tr>\n",
       "      <th>PSP</th>\n",
       "      <td>0.13</td>\n",
       "      <td>0.0</td>\n",
       "    </tr>\n",
       "  </tbody>\n",
       "</table>\n",
       "</div>"
      ],
      "text/plain": [
       "          na_sales  percent\n",
       "platform                   \n",
       "X360        140.05     23.7\n",
       "PS4         108.74     18.4\n",
       "PS3         103.38     17.5\n",
       "XOne         93.12     15.8\n",
       "3DS          55.31      9.4\n",
       "WiiU         38.10      6.4\n",
       "PC           19.12      3.2\n",
       "Wii          17.45      3.0\n",
       "PSV          10.98      1.9\n",
       "DS            4.59      0.8\n",
       "PSP           0.13      0.0"
      ]
     },
     "execution_count": 37,
     "metadata": {},
     "output_type": "execute_result"
    }
   ],
   "source": [
    "na_top_platform = data_new_consoles.pivot_table(index = 'platform', \n",
    "                                                values = 'na_sales' , \n",
    "                                                aggfunc='sum').sort_values('na_sales', ascending = False)\n",
    "na_top_platform['percent'] = ((na_top_platform['na_sales'] / na_top_platform['na_sales'].sum())* 100).round(1)\n",
    "na_top_platform"
   ]
  },
  {
   "cell_type": "markdown",
   "metadata": {},
   "source": [
    "### Вывод\n",
    "\n",
    "*Для Японии самыми популярными платформами являются с процентом продаж в регионе:*\n",
    "* 3DS - 45.5%\n",
    "* PS3 - 18.3%\n",
    "* PSV - 10.9% \n",
    "* PS4 - 8.3% \n",
    "* WIIU - 6.7% \n",
    "\n",
    "*Для Европейского региона самыми популярными платформами являются с процентом продаж в регионе:*\n",
    "\n",
    "* PS4 - 27.7% \n",
    "* PS3 - 21.1% \n",
    "* XBOX360 - 14.7%\n",
    "* XONE - 10.1%\n",
    "* 3DS - 8.4% \n",
    "\n",
    "*Для Северной Америки самыми популярными платформами являются с процентом продаж в регионе:*\n",
    "\n",
    "* XBOX360 - 23.7%\n",
    "* PS4 - 18.3%\n",
    "* PS3 - 17.5%\n",
    "* XONE - 15.7%\n",
    "* 3DS - 9.4%"
   ]
  },
  {
   "cell_type": "markdown",
   "metadata": {},
   "source": [
    "### Самые популярные жанры (топ-5). "
   ]
  },
  {
   "cell_type": "code",
   "execution_count": 38,
   "metadata": {},
   "outputs": [
    {
     "data": {
      "image/png": "[encoded data removed]",
      "text/plain": [
       "<Figure size 1440x360 with 1 Axes>"
      ]
     },
     "metadata": {
      "needs_background": "light"
     },
     "output_type": "display_data"
    }
   ],
   "source": [
    "genres_jp = data_new_consoles.pivot_table(index='genre', \n",
    "                                          values='jp_sales', \n",
    "                                          aggfunc='median').sort_values(by='jp_sales', ascending=False).reset_index()\n",
    "plt.figure(figsize=(20, 5))\n",
    "plt.title('Соотношение жанров и медианного количества продаж по ним для Японского региона', fontsize=20)\n",
    "sns.barplot(x='genre', y='jp_sales', data=genres_jp)\n",
    "plt.ylabel('Суммарные продажи')\n",
    "plt.xlabel('Жанры')\n",
    "plt.grid(True);"
   ]
  },
  {
   "cell_type": "code",
   "execution_count": 39,
   "metadata": {},
   "outputs": [
    {
     "data": {
      "image/png": "[encoded data removed]",
      "text/plain": [
       "<Figure size 1440x360 with 1 Axes>"
      ]
     },
     "metadata": {
      "needs_background": "light"
     },
     "output_type": "display_data"
    }
   ],
   "source": [
    "genres_eu = data_new_consoles.pivot_table(index='genre', \n",
    "                                          values='eu_sales', \n",
    "                                          aggfunc='median').sort_values(by='eu_sales', ascending=False).reset_index()\n",
    "plt.figure(figsize=(20, 5))\n",
    "plt.title('Соотношение жанров и медианного количества продаж по ним для Европейского региона', fontsize=20)\n",
    "sns.barplot(x='genre', y='eu_sales', data=genres_eu)\n",
    "plt.ylabel('Суммарные продажи')\n",
    "plt.xlabel('Жанры')\n",
    "plt.grid(True);"
   ]
  },
  {
   "cell_type": "code",
   "execution_count": 40,
   "metadata": {},
   "outputs": [
    {
     "data": {
      "image/png": "[encoded data removed]",
      "text/plain": [
       "<Figure size 1440x360 with 1 Axes>"
      ]
     },
     "metadata": {
      "needs_background": "light"
     },
     "output_type": "display_data"
    }
   ],
   "source": [
    "genres_na = data_new_consoles.pivot_table(index='genre', \n",
    "                                          values='na_sales', \n",
    "                                          aggfunc='median').sort_values(by='na_sales', ascending=False).reset_index()\n",
    "plt.figure(figsize=(20, 5))\n",
    "plt.title('Соотношение жанров и медианного количества продаж по ним для Северо-Американского региона', fontsize=20)\n",
    "sns.barplot(x='genre', y='na_sales', data=genres_na)\n",
    "plt.ylabel('Суммарные продажи')\n",
    "plt.xlabel('Жанры')\n",
    "plt.grid(True);"
   ]
  },
  {
   "cell_type": "markdown",
   "metadata": {},
   "source": [
    "### Вывод\n",
    "* Для Японии самыми популярными жанрами являются:`role-playing`, `fighting`, `misc`, `action`, `adventure`\n",
    "* Для Европейского региона самыми популярными жанрами являются: `shooter`,`racing`,`platform`,`sports`,`simulation`\n",
    "* Для Северной Америки самыми популярными платформами являются:`shooter`,`platform`,`sports`,`fighting`,`racing`"
   ]
  },
  {
   "cell_type": "markdown",
   "metadata": {},
   "source": [
    "### Влияет ли рейтинг ESRB на продажи в отдельном регионе?"
   ]
  },
  {
   "cell_type": "code",
   "execution_count": 41,
   "metadata": {},
   "outputs": [
    {
     "data": {
      "image/png": "[encoded data removed]",
      "text/plain": [
       "<Figure size 1440x360 with 1 Axes>"
      ]
     },
     "metadata": {
      "needs_background": "light"
     },
     "output_type": "display_data"
    }
   ],
   "source": [
    "rating_jp = data_new_consoles.pivot_table(index='rating', \n",
    "                                          values='jp_sales', \n",
    "                                          aggfunc='sum').sort_values(by='jp_sales', ascending=False).reset_index()\n",
    "plt.figure(figsize=(20, 5))\n",
    "plt.title('Соотношение рейтинга и количества продаж по ним для Японского региона', fontsize=20)\n",
    "sns.barplot(x='rating', y='jp_sales', data=rating_jp)\n",
    "plt.ylabel('Суммарные продажи',fontsize=20)\n",
    "plt.xlabel('Рейтинг',fontsize=20)\n",
    "plt.grid(True);"
   ]
  },
  {
   "cell_type": "code",
   "execution_count": 42,
   "metadata": {},
   "outputs": [
    {
     "data": {
      "image/png": "[encoded data removed]",
      "text/plain": [
       "<Figure size 1440x360 with 1 Axes>"
      ]
     },
     "metadata": {
      "needs_background": "light"
     },
     "output_type": "display_data"
    }
   ],
   "source": [
    "rating_eu = data_new_consoles.pivot_table(index='rating', \n",
    "                                          values='eu_sales', \n",
    "                                          aggfunc='sum').sort_values(by='eu_sales', ascending=False).reset_index()\n",
    "plt.figure(figsize=(20, 5))\n",
    "plt.title('Соотношение рейтинга и количества продаж по ним для Европейского региона', fontsize=20)\n",
    "sns.barplot(x='rating', y='eu_sales', data=rating_eu)\n",
    "plt.ylabel('Суммарные продажи',fontsize=20)\n",
    "plt.xlabel('Рейтинг',fontsize=20)\n",
    "plt.grid(True);"
   ]
  },
  {
   "cell_type": "code",
   "execution_count": 43,
   "metadata": {},
   "outputs": [
    {
     "data": {
      "image/png": "[encoded data removed]",
      "text/plain": [
       "<Figure size 1440x360 with 1 Axes>"
      ]
     },
     "metadata": {
      "needs_background": "light"
     },
     "output_type": "display_data"
    }
   ],
   "source": [
    "rating_na = data_new_consoles.pivot_table(index='rating', \n",
    "                                          values='na_sales', \n",
    "                                          aggfunc='sum').sort_values(by='na_sales', ascending=False).reset_index()\n",
    "plt.figure(figsize=(20, 5))\n",
    "plt.title('Соотношение рейтинга и количества продаж по ним для Северо-Американского региона', fontsize=20)\n",
    "sns.barplot(x='rating', y='na_sales', data=rating_na)\n",
    "plt.ylabel('Суммарные продажи',fontsize=20)\n",
    "plt.xlabel('Рейтинг',fontsize=20)\n",
    "plt.grid(True);"
   ]
  },
  {
   "cell_type": "markdown",
   "metadata": {},
   "source": [
    "### Вывод\n",
    "Список аббревиатур для рейтинга:\n",
    "- «T» («Teen») — «Подросткам»\n",
    "- «E10+» («Everyone 10 and older») — «Для всех от 10 лет и старше»\n",
    "- «E» («Everyone») — «Для всех»\n",
    "- «EC» («Early childhood») — «Для детей младшего возраста»\n",
    "- «M» («Mature») — «Для взрослых»\n",
    "- «AO» («Adults Only 18+») — «Только для взрослых»\n",
    "- «RP» («Rating Pending») — «Рейтинг ожидается»\n",
    "\n",
    "\n",
    "- Для Японии самыми популярными являются игры с возрастным ограничением: RP, E, T, M, E10+\n",
    "- Для Европейского региона самыми популярными являются игры с возрастным ограничением: M, E, RP,E10+,T\n",
    "- Для Северной Америки самыми популярными являются игры с возрастным ограничением: M, E, RP, E10+, T"
   ]
  },
  {
   "cell_type": "markdown",
   "metadata": {},
   "source": [
    "## Проверим гипотезы"
   ]
  },
  {
   "cell_type": "code",
   "execution_count": 44,
   "metadata": {},
   "outputs": [],
   "source": [
    "alpha = 0.05\n",
    "data_user_scores = data_new_consoles.loc[data_new_consoles['user_score'] != -1]"
   ]
  },
  {
   "cell_type": "markdown",
   "metadata": {},
   "source": [
    "### Средние пользовательские рейтинги платформ Xbox One и PC одинаковые"
   ]
  },
  {
   "cell_type": "markdown",
   "metadata": {},
   "source": [
    "- H₀: Средние пользовательские рейтинги платформ Xbox One и PC одинаковые.\n",
    "- H₁: Средние пользовательские рейтинги платформ Xbox One и PC не равны. "
   ]
  },
  {
   "cell_type": "code",
   "execution_count": 45,
   "metadata": {},
   "outputs": [
    {
     "name": "stdout",
     "output_type": "stream",
     "text": [
      "Значение p-value:  0.5065901030514671\n",
      "Не отвергаем нулевую гипотезу\n"
     ]
    }
   ],
   "source": [
    "result = st.ttest_ind(data_user_scores.query('platform == \"XOne\"')['user_score'],\n",
    "                      data_user_scores.query('platform == \"PC\"')['user_score'],\n",
    "                      equal_var=False)\n",
    "\n",
    "print('Значение p-value: ', result.pvalue)\n",
    "\n",
    "if result.pvalue < alpha:\n",
    "    print('Отвергаем нулевую гипотезу')\n",
    "else:\n",
    "    print('Не отвергаем нулевую гипотезу')"
   ]
  },
  {
   "cell_type": "markdown",
   "metadata": {},
   "source": [
    "Средние пользовательские рейтинги платформ Xbox One и PC не отличаются."
   ]
  },
  {
   "cell_type": "markdown",
   "metadata": {},
   "source": [
    "### Средние пользовательские рейтинги жанров Action (англ. «действие», экшен-игры) и Sports (англ. «спортивные соревнования») разные."
   ]
  },
  {
   "cell_type": "markdown",
   "metadata": {},
   "source": [
    "* H₀: Средние пользовательские рейтинги жанра Action равны cредним пользовательским рейтингам жанра Sports.\n",
    "* H₁: Средние пользовательские рейтинги жанров Action и Sports разные."
   ]
  },
  {
   "cell_type": "code",
   "execution_count": 46,
   "metadata": {},
   "outputs": [
    {
     "name": "stdout",
     "output_type": "stream",
     "text": [
      "Значение p-value:  5.989458066467418e-20\n",
      "Отвергаем нулевую гипотезу\n"
     ]
    }
   ],
   "source": [
    "result_2 = st.ttest_ind(data_user_scores.query('genre == \"Action\"')['user_score'],\n",
    "                        data_user_scores.query('genre == \"Sports\"')['user_score'],\n",
    "                        equal_var=False)\n",
    "\n",
    "print('Значение p-value: ', result_2.pvalue)\n",
    "\n",
    "if result_2.pvalue < alpha:\n",
    "    print('Отвергаем нулевую гипотезу')\n",
    "else:\n",
    "    print('Не отвергаем нулевую гипотезу')"
   ]
  },
  {
   "cell_type": "markdown",
   "metadata": {},
   "source": [
    "Средние пользовательские рейтинги жанров Action и Sports разные."
   ]
  },
  {
   "cell_type": "markdown",
   "metadata": {},
   "source": [
    "# ОБЩИЙ ВЫВОД\n"
   ]
  },
  {
   "cell_type": "markdown",
   "metadata": {},
   "source": [
    "Потенциально прибыльными для 2017 года будут консоли нового поколения PS4,XOne так как они находятся в середине своего \"жизненного цикла\", так как прожади по остальным консолям падают. Так же в расчёт стоит брать персональные компьютеры,так как за последнию пятилетку продажи игр для них держатся на среднем уровне с небольшими отклонениями.\n",
    "Оценки критиков несут большое влияние на продажи чем оценки пользователей- поэтому стоит в закупках игр рассматривать преимущественно игры с уже \"выставленным\" высоким рейтингом критиков(для интересующих консолей указанных ниже) ,а на рейтинг пользователей ориентироваться в значительно меньшей степени.\n",
    "\n",
    "*Для Японии самой популярной платформой является с процентом продаж в регионе:3DS - 45.5%*\n",
    "\n",
    "*Для Европейского региона самой популярной платформой является с процентом продаж в регионе:PS4 - 27.7%* \n",
    "\n",
    "*Для Северной Америки самыми популярными платформами являются с процентом продаж в регионе:*\n",
    "\n",
    "* XBOX360 - 23.7%\n",
    "* PS4 - 18.3%\n",
    "\n",
    "Поэтому в следующем году закупки игр и их реклама должна проводится преимущественно для этих платформ ,за исклбчение XBOX 360 ,так как более перспективным является новый XboxOne который и будет его преемником для американским пользователей. Для японского рынка имеет смысл вкладываться в игры на платформе 3DS в сявзи с болщим количествам продаж и отсутсвия консоли-преемника для платформы.\n",
    "\n",
    "Перспективные направления для региона:\n",
    "* Япония\n",
    "Платформа: PS4, 3DS\n",
    "Жанр: Role-playing, Fighting\n",
    "Рейтинг: RP, E (Основной упор на внутренний рынок без рейтинга)\n",
    "\n",
    "* Европейский регион\n",
    "Платформа: PS4, XONE\n",
    "Жанр: Shooter, Racing\n",
    "Рейтинг: M, E\n",
    "\n",
    "* Северная Америка\n",
    "Платформа: PS4, XONE\n",
    "Жанр: Shooter, Platform\n",
    "Рейтинг: M, E"
   ]
  }
 ],
 "metadata": {
  "ExecuteTimeLog": [
   {
    "duration": 379,
    "start_time": "2024-02-19T08:49:41.040Z"
   },
   {
    "duration": 93,
    "start_time": "2024-02-19T08:50:06.922Z"
   },
   {
    "duration": 10,
    "start_time": "2024-02-19T08:50:21.212Z"
   },
   {
    "duration": 14,
    "start_time": "2024-02-19T08:50:33.755Z"
   },
   {
    "duration": 4,
    "start_time": "2024-02-19T08:59:27.123Z"
   },
   {
    "duration": 14,
    "start_time": "2024-02-19T08:59:37.744Z"
   },
   {
    "duration": 69,
    "start_time": "2024-02-19T09:59:15.916Z"
   },
   {
    "duration": 388,
    "start_time": "2024-02-19T10:01:26.429Z"
   },
   {
    "duration": 54,
    "start_time": "2024-02-19T10:01:26.819Z"
   },
   {
    "duration": 9,
    "start_time": "2024-02-19T10:01:26.874Z"
   },
   {
    "duration": 18,
    "start_time": "2024-02-19T10:01:26.885Z"
   },
   {
    "duration": 4,
    "start_time": "2024-02-19T10:01:26.904Z"
   },
   {
    "duration": 16,
    "start_time": "2024-02-19T10:01:26.909Z"
   },
   {
    "duration": 5,
    "start_time": "2024-02-19T10:01:26.926Z"
   },
   {
    "duration": 7,
    "start_time": "2024-02-19T10:01:40.500Z"
   },
   {
    "duration": 14,
    "start_time": "2024-02-19T10:03:16.675Z"
   },
   {
    "duration": 9,
    "start_time": "2024-02-19T10:03:18.046Z"
   },
   {
    "duration": 14,
    "start_time": "2024-02-19T10:03:28.799Z"
   },
   {
    "duration": 388,
    "start_time": "2024-02-19T10:04:17.841Z"
   },
   {
    "duration": 53,
    "start_time": "2024-02-19T10:04:18.231Z"
   },
   {
    "duration": 11,
    "start_time": "2024-02-19T10:04:18.286Z"
   },
   {
    "duration": 17,
    "start_time": "2024-02-19T10:04:18.299Z"
   },
   {
    "duration": 3,
    "start_time": "2024-02-19T10:04:18.318Z"
   },
   {
    "duration": 20,
    "start_time": "2024-02-19T10:04:18.322Z"
   },
   {
    "duration": 6,
    "start_time": "2024-02-19T10:04:18.344Z"
   },
   {
    "duration": 13,
    "start_time": "2024-02-19T10:04:18.352Z"
   },
   {
    "duration": 5,
    "start_time": "2024-02-19T10:04:24.313Z"
   },
   {
    "duration": 14,
    "start_time": "2024-02-19T10:04:25.377Z"
   },
   {
    "duration": 15,
    "start_time": "2024-02-19T10:05:54.062Z"
   },
   {
    "duration": 13,
    "start_time": "2024-02-19T10:05:59.388Z"
   },
   {
    "duration": 50,
    "start_time": "2024-02-19T10:06:06.938Z"
   },
   {
    "duration": 14,
    "start_time": "2024-02-19T10:06:08.381Z"
   },
   {
    "duration": 66,
    "start_time": "2024-02-19T10:07:42.753Z"
   },
   {
    "duration": 10,
    "start_time": "2024-02-19T10:08:22.165Z"
   },
   {
    "duration": 7,
    "start_time": "2024-02-19T10:09:04.506Z"
   },
   {
    "duration": 12,
    "start_time": "2024-02-19T10:10:57.340Z"
   },
   {
    "duration": 9,
    "start_time": "2024-02-19T10:11:11.328Z"
   },
   {
    "duration": 375,
    "start_time": "2024-02-19T10:11:24.146Z"
   },
   {
    "duration": 52,
    "start_time": "2024-02-19T10:11:24.523Z"
   },
   {
    "duration": 9,
    "start_time": "2024-02-19T10:11:24.576Z"
   },
   {
    "duration": 16,
    "start_time": "2024-02-19T10:11:24.587Z"
   },
   {
    "duration": 3,
    "start_time": "2024-02-19T10:11:24.604Z"
   },
   {
    "duration": 27,
    "start_time": "2024-02-19T10:11:24.609Z"
   },
   {
    "duration": 5,
    "start_time": "2024-02-19T10:11:24.638Z"
   },
   {
    "duration": 16,
    "start_time": "2024-02-19T10:11:24.644Z"
   },
   {
    "duration": 14,
    "start_time": "2024-02-19T10:11:24.662Z"
   },
   {
    "duration": 11,
    "start_time": "2024-02-19T10:14:27.946Z"
   },
   {
    "duration": 15,
    "start_time": "2024-02-19T10:14:37.840Z"
   },
   {
    "duration": 17,
    "start_time": "2024-02-19T10:15:07.663Z"
   },
   {
    "duration": 19,
    "start_time": "2024-02-19T10:18:35.958Z"
   },
   {
    "duration": 17,
    "start_time": "2024-02-19T10:18:41.138Z"
   },
   {
    "duration": 14,
    "start_time": "2024-02-19T10:18:56.452Z"
   },
   {
    "duration": 13,
    "start_time": "2024-02-19T10:21:30.237Z"
   },
   {
    "duration": 62,
    "start_time": "2024-02-19T10:21:38.365Z"
   },
   {
    "duration": 13,
    "start_time": "2024-02-19T10:21:44.655Z"
   },
   {
    "duration": 13,
    "start_time": "2024-02-19T10:22:05.591Z"
   },
   {
    "duration": 11,
    "start_time": "2024-02-19T10:22:11.233Z"
   },
   {
    "duration": 12,
    "start_time": "2024-02-19T10:22:20.952Z"
   },
   {
    "duration": 385,
    "start_time": "2024-02-19T10:23:38.981Z"
   },
   {
    "duration": 54,
    "start_time": "2024-02-19T10:23:39.368Z"
   },
   {
    "duration": 9,
    "start_time": "2024-02-19T10:23:39.424Z"
   },
   {
    "duration": 14,
    "start_time": "2024-02-19T10:23:39.435Z"
   },
   {
    "duration": 10,
    "start_time": "2024-02-19T10:23:39.450Z"
   },
   {
    "duration": 34,
    "start_time": "2024-02-19T10:23:39.462Z"
   },
   {
    "duration": 27,
    "start_time": "2024-02-19T10:23:39.497Z"
   },
   {
    "duration": 31,
    "start_time": "2024-02-19T10:23:39.526Z"
   },
   {
    "duration": 29,
    "start_time": "2024-02-19T10:23:39.559Z"
   },
   {
    "duration": 29928,
    "start_time": "2024-02-19T10:23:39.590Z"
   },
   {
    "duration": 21303,
    "start_time": "2024-02-19T10:24:52.136Z"
   },
   {
    "duration": 21195,
    "start_time": "2024-02-19T10:25:28.326Z"
   },
   {
    "duration": 7,
    "start_time": "2024-02-19T10:28:23.783Z"
   },
   {
    "duration": 8,
    "start_time": "2024-02-19T10:28:28.553Z"
   },
   {
    "duration": 7,
    "start_time": "2024-02-19T10:28:36.850Z"
   },
   {
    "duration": 9,
    "start_time": "2024-02-19T10:29:16.321Z"
   },
   {
    "duration": 367,
    "start_time": "2024-02-19T10:29:33.055Z"
   },
   {
    "duration": 53,
    "start_time": "2024-02-19T10:29:33.423Z"
   },
   {
    "duration": 10,
    "start_time": "2024-02-19T10:29:33.477Z"
   },
   {
    "duration": 16,
    "start_time": "2024-02-19T10:29:33.489Z"
   },
   {
    "duration": 3,
    "start_time": "2024-02-19T10:29:33.506Z"
   },
   {
    "duration": 18,
    "start_time": "2024-02-19T10:29:33.511Z"
   },
   {
    "duration": 5,
    "start_time": "2024-02-19T10:29:33.530Z"
   },
   {
    "duration": 11,
    "start_time": "2024-02-19T10:29:33.536Z"
   },
   {
    "duration": 19,
    "start_time": "2024-02-19T10:29:33.548Z"
   },
   {
    "duration": 29883,
    "start_time": "2024-02-19T10:29:33.569Z"
   },
   {
    "duration": 29706,
    "start_time": "2024-02-19T10:30:03.454Z"
   },
   {
    "duration": 30135,
    "start_time": "2024-02-19T10:30:33.162Z"
   },
   {
    "duration": 50705,
    "start_time": "2024-02-19T10:31:03.298Z"
   },
   {
    "duration": 7,
    "start_time": "2024-02-19T10:31:54.005Z"
   },
   {
    "duration": 8,
    "start_time": "2024-02-19T10:31:54.017Z"
   },
   {
    "duration": 44,
    "start_time": "2024-02-19T10:33:26.352Z"
   },
   {
    "duration": 41,
    "start_time": "2024-02-19T10:33:33.319Z"
   },
   {
    "duration": 68,
    "start_time": "2024-02-19T10:35:41.625Z"
   },
   {
    "duration": 354,
    "start_time": "2024-02-19T10:36:47.760Z"
   },
   {
    "duration": 53,
    "start_time": "2024-02-19T10:36:48.116Z"
   },
   {
    "duration": 9,
    "start_time": "2024-02-19T10:36:48.170Z"
   },
   {
    "duration": 15,
    "start_time": "2024-02-19T10:36:48.181Z"
   },
   {
    "duration": 3,
    "start_time": "2024-02-19T10:36:48.197Z"
   },
   {
    "duration": 22,
    "start_time": "2024-02-19T10:36:48.202Z"
   },
   {
    "duration": 11,
    "start_time": "2024-02-19T10:36:48.226Z"
   },
   {
    "duration": 18,
    "start_time": "2024-02-19T10:36:48.238Z"
   },
   {
    "duration": 29971,
    "start_time": "2024-02-19T10:36:48.258Z"
   },
   {
    "duration": 29496,
    "start_time": "2024-02-19T10:37:18.231Z"
   },
   {
    "duration": 29954,
    "start_time": "2024-02-19T10:37:47.729Z"
   },
   {
    "duration": 70,
    "start_time": "2024-02-19T10:38:17.684Z"
   },
   {
    "duration": 0,
    "start_time": "2024-02-19T10:38:17.756Z"
   },
   {
    "duration": 13,
    "start_time": "2024-02-19T10:38:53.223Z"
   },
   {
    "duration": 10,
    "start_time": "2024-02-19T10:39:20.869Z"
   },
   {
    "duration": 10,
    "start_time": "2024-02-19T10:39:34.744Z"
   },
   {
    "duration": 212,
    "start_time": "2024-02-19T10:40:27.574Z"
   },
   {
    "duration": 10,
    "start_time": "2024-02-19T10:40:30.484Z"
   },
   {
    "duration": 192,
    "start_time": "2024-02-19T10:40:39.265Z"
   },
   {
    "duration": 24,
    "start_time": "2024-02-19T10:40:45.374Z"
   },
   {
    "duration": 10,
    "start_time": "2024-02-19T10:40:47.136Z"
   },
   {
    "duration": 24839,
    "start_time": "2024-02-19T10:41:34.496Z"
   },
   {
    "duration": 25008,
    "start_time": "2024-02-19T10:41:59.337Z"
   },
   {
    "duration": 24795,
    "start_time": "2024-02-19T10:42:24.346Z"
   },
   {
    "duration": 9,
    "start_time": "2024-02-19T10:42:49.143Z"
   },
   {
    "duration": 4,
    "start_time": "2024-02-19T10:43:49.121Z"
   },
   {
    "duration": 24512,
    "start_time": "2024-02-19T10:43:50.161Z"
   },
   {
    "duration": 25650,
    "start_time": "2024-02-19T10:44:14.674Z"
   },
   {
    "duration": 24821,
    "start_time": "2024-02-19T10:44:40.326Z"
   },
   {
    "duration": 11,
    "start_time": "2024-02-19T10:45:05.148Z"
   },
   {
    "duration": 7,
    "start_time": "2024-02-19T10:45:21.218Z"
   },
   {
    "duration": 19,
    "start_time": "2024-02-19T10:45:27.647Z"
   },
   {
    "duration": 16,
    "start_time": "2024-02-19T10:45:59.157Z"
   },
   {
    "duration": 24,
    "start_time": "2024-02-19T10:46:13.937Z"
   },
   {
    "duration": 13,
    "start_time": "2024-02-19T10:46:57.613Z"
   },
   {
    "duration": 31,
    "start_time": "2024-02-19T10:47:08.499Z"
   },
   {
    "duration": 24,
    "start_time": "2024-02-19T10:47:22.865Z"
   },
   {
    "duration": 9,
    "start_time": "2024-02-19T10:47:42.901Z"
   },
   {
    "duration": 6,
    "start_time": "2024-02-19T10:48:00.925Z"
   },
   {
    "duration": 26,
    "start_time": "2024-02-19T10:48:08.084Z"
   },
   {
    "duration": 25,
    "start_time": "2024-02-19T10:48:56.479Z"
   },
   {
    "duration": 5,
    "start_time": "2024-02-19T10:50:58.003Z"
   },
   {
    "duration": 19,
    "start_time": "2024-02-19T10:51:53.145Z"
   },
   {
    "duration": 26,
    "start_time": "2024-02-19T10:51:59.443Z"
   },
   {
    "duration": 348,
    "start_time": "2024-02-19T10:53:00.671Z"
   },
   {
    "duration": 53,
    "start_time": "2024-02-19T10:53:01.021Z"
   },
   {
    "duration": 10,
    "start_time": "2024-02-19T10:53:01.075Z"
   },
   {
    "duration": 40,
    "start_time": "2024-02-19T10:53:01.087Z"
   },
   {
    "duration": 48,
    "start_time": "2024-02-19T10:53:01.128Z"
   },
   {
    "duration": 52,
    "start_time": "2024-02-19T10:53:01.177Z"
   },
   {
    "duration": 39,
    "start_time": "2024-02-19T10:53:01.230Z"
   },
   {
    "duration": 59,
    "start_time": "2024-02-19T10:53:01.271Z"
   },
   {
    "duration": 41,
    "start_time": "2024-02-19T10:53:01.331Z"
   },
   {
    "duration": 44,
    "start_time": "2024-02-19T10:53:01.375Z"
   },
   {
    "duration": 48,
    "start_time": "2024-02-19T10:53:01.421Z"
   },
   {
    "duration": 47,
    "start_time": "2024-02-19T10:53:01.471Z"
   },
   {
    "duration": 39,
    "start_time": "2024-02-19T10:53:01.520Z"
   },
   {
    "duration": 42,
    "start_time": "2024-02-19T10:53:01.561Z"
   },
   {
    "duration": 48,
    "start_time": "2024-02-19T10:53:01.604Z"
   },
   {
    "duration": 24,
    "start_time": "2024-02-19T10:53:32.617Z"
   },
   {
    "duration": 399,
    "start_time": "2024-02-19T10:55:49.619Z"
   },
   {
    "duration": 51,
    "start_time": "2024-02-19T10:55:50.020Z"
   },
   {
    "duration": 9,
    "start_time": "2024-02-19T10:55:50.073Z"
   },
   {
    "duration": 14,
    "start_time": "2024-02-19T10:55:50.084Z"
   },
   {
    "duration": 4,
    "start_time": "2024-02-19T10:55:50.099Z"
   },
   {
    "duration": 20,
    "start_time": "2024-02-19T10:55:50.104Z"
   },
   {
    "duration": 11,
    "start_time": "2024-02-19T10:55:50.125Z"
   },
   {
    "duration": 14,
    "start_time": "2024-02-19T10:55:50.138Z"
   },
   {
    "duration": 5,
    "start_time": "2024-02-19T10:55:50.154Z"
   },
   {
    "duration": 4,
    "start_time": "2024-02-19T10:55:50.161Z"
   },
   {
    "duration": 9,
    "start_time": "2024-02-19T10:55:50.166Z"
   },
   {
    "duration": 5,
    "start_time": "2024-02-19T10:59:50.403Z"
   },
   {
    "duration": 16,
    "start_time": "2024-02-19T10:59:59.456Z"
   },
   {
    "duration": 556,
    "start_time": "2024-02-19T11:00:57.676Z"
   },
   {
    "duration": 148,
    "start_time": "2024-02-19T11:01:29.642Z"
   },
   {
    "duration": 150,
    "start_time": "2024-02-19T11:01:40.252Z"
   },
   {
    "duration": 1268,
    "start_time": "2024-02-19T11:02:37.746Z"
   },
   {
    "duration": 260,
    "start_time": "2024-02-19T11:02:44.648Z"
   },
   {
    "duration": 223,
    "start_time": "2024-02-19T11:02:54.287Z"
   },
   {
    "duration": 10,
    "start_time": "2024-02-19T11:04:31.937Z"
   },
   {
    "duration": 424,
    "start_time": "2024-02-19T11:04:40.399Z"
   },
   {
    "duration": 513,
    "start_time": "2024-02-19T11:04:51.648Z"
   },
   {
    "duration": 3,
    "start_time": "2024-02-19T11:06:06.296Z"
   },
   {
    "duration": 188,
    "start_time": "2024-02-19T11:06:28.459Z"
   },
   {
    "duration": 497,
    "start_time": "2024-02-19T11:06:31.483Z"
   },
   {
    "duration": 14,
    "start_time": "2024-02-19T11:11:56.619Z"
   },
   {
    "duration": 11,
    "start_time": "2024-02-19T11:12:07.656Z"
   },
   {
    "duration": 20,
    "start_time": "2024-02-19T11:12:17.557Z"
   },
   {
    "duration": 16,
    "start_time": "2024-02-19T11:13:24.099Z"
   },
   {
    "duration": 485,
    "start_time": "2024-02-19T11:15:47.296Z"
   },
   {
    "duration": 7,
    "start_time": "2024-02-19T11:16:13.221Z"
   },
   {
    "duration": 7,
    "start_time": "2024-02-19T11:16:57.229Z"
   },
   {
    "duration": 6,
    "start_time": "2024-02-19T11:17:19.245Z"
   },
   {
    "duration": 8,
    "start_time": "2024-02-19T11:18:15.317Z"
   },
   {
    "duration": 632,
    "start_time": "2024-02-19T11:18:36.664Z"
   },
   {
    "duration": 1309,
    "start_time": "2024-02-19T11:18:52.195Z"
   },
   {
    "duration": 1159,
    "start_time": "2024-02-19T11:18:57.027Z"
   },
   {
    "duration": 16,
    "start_time": "2024-02-19T11:19:11.715Z"
   },
   {
    "duration": 13,
    "start_time": "2024-02-19T11:19:26.164Z"
   },
   {
    "duration": 15,
    "start_time": "2024-02-19T11:20:00.997Z"
   },
   {
    "duration": 15,
    "start_time": "2024-02-19T11:20:09.550Z"
   },
   {
    "duration": 491,
    "start_time": "2024-02-19T11:20:38.492Z"
   },
   {
    "duration": 26,
    "start_time": "2024-02-19T11:21:03.678Z"
   },
   {
    "duration": 16,
    "start_time": "2024-02-19T11:21:38.856Z"
   },
   {
    "duration": 15,
    "start_time": "2024-02-19T11:22:14.640Z"
   },
   {
    "duration": 728,
    "start_time": "2024-02-19T11:22:23.412Z"
   },
   {
    "duration": 23,
    "start_time": "2024-02-19T11:22:51.572Z"
   },
   {
    "duration": 15,
    "start_time": "2024-02-19T11:23:15.180Z"
   },
   {
    "duration": 713,
    "start_time": "2024-02-19T11:23:22.922Z"
   },
   {
    "duration": 138,
    "start_time": "2024-02-19T11:23:38.661Z"
   },
   {
    "duration": 15,
    "start_time": "2024-02-19T11:23:45.004Z"
   },
   {
    "duration": 16,
    "start_time": "2024-02-19T11:25:34.265Z"
   },
   {
    "duration": 15,
    "start_time": "2024-02-19T11:26:16.416Z"
   },
   {
    "duration": 16,
    "start_time": "2024-02-19T11:26:48.860Z"
   },
   {
    "duration": 16,
    "start_time": "2024-02-19T11:27:14.658Z"
   },
   {
    "duration": 137,
    "start_time": "2024-02-19T11:27:45.663Z"
   },
   {
    "duration": 23,
    "start_time": "2024-02-19T11:28:49.260Z"
   },
   {
    "duration": 10,
    "start_time": "2024-02-19T11:29:05.875Z"
   },
   {
    "duration": 146,
    "start_time": "2024-02-19T11:29:20.464Z"
   },
   {
    "duration": 220,
    "start_time": "2024-02-19T11:29:30.562Z"
   },
   {
    "duration": 15,
    "start_time": "2024-02-19T11:29:46.171Z"
   },
   {
    "duration": 14,
    "start_time": "2024-02-19T11:29:51.127Z"
   },
   {
    "duration": 18,
    "start_time": "2024-02-19T11:34:58.932Z"
   },
   {
    "duration": 14,
    "start_time": "2024-02-19T11:41:31.067Z"
   },
   {
    "duration": 14,
    "start_time": "2024-02-19T11:41:49.754Z"
   },
   {
    "duration": 15,
    "start_time": "2024-02-19T11:42:00.665Z"
   },
   {
    "duration": 14,
    "start_time": "2024-02-19T11:42:18.368Z"
   },
   {
    "duration": 15,
    "start_time": "2024-02-19T11:42:35.045Z"
   },
   {
    "duration": 17,
    "start_time": "2024-02-19T11:45:58.190Z"
   },
   {
    "duration": 15,
    "start_time": "2024-02-19T11:46:13.805Z"
   },
   {
    "duration": 14,
    "start_time": "2024-02-19T11:47:22.303Z"
   },
   {
    "duration": 122,
    "start_time": "2024-02-19T11:48:06.413Z"
   },
   {
    "duration": 8,
    "start_time": "2024-02-19T11:50:27.701Z"
   },
   {
    "duration": 18,
    "start_time": "2024-02-19T11:50:42.143Z"
   },
   {
    "duration": 648,
    "start_time": "2024-02-19T11:56:41.959Z"
   },
   {
    "duration": 54,
    "start_time": "2024-02-19T11:56:42.609Z"
   },
   {
    "duration": 10,
    "start_time": "2024-02-19T11:56:42.664Z"
   },
   {
    "duration": 22,
    "start_time": "2024-02-19T11:56:42.675Z"
   },
   {
    "duration": 4,
    "start_time": "2024-02-19T11:56:42.698Z"
   },
   {
    "duration": 18,
    "start_time": "2024-02-19T11:56:42.703Z"
   },
   {
    "duration": 5,
    "start_time": "2024-02-19T11:56:42.723Z"
   },
   {
    "duration": 9,
    "start_time": "2024-02-19T11:56:42.729Z"
   },
   {
    "duration": 6,
    "start_time": "2024-02-19T11:56:42.740Z"
   },
   {
    "duration": 9,
    "start_time": "2024-02-19T11:56:42.748Z"
   },
   {
    "duration": 9,
    "start_time": "2024-02-19T11:56:42.758Z"
   },
   {
    "duration": 5,
    "start_time": "2024-02-19T11:56:42.769Z"
   },
   {
    "duration": 259,
    "start_time": "2024-02-19T11:56:42.775Z"
   },
   {
    "duration": 508,
    "start_time": "2024-02-19T11:56:43.035Z"
   },
   {
    "duration": 14,
    "start_time": "2024-02-19T11:56:43.544Z"
   },
   {
    "duration": 60,
    "start_time": "2024-02-19T11:56:43.559Z"
   },
   {
    "duration": 17,
    "start_time": "2024-02-19T11:56:43.620Z"
   },
   {
    "duration": 17,
    "start_time": "2024-02-19T11:56:43.639Z"
   },
   {
    "duration": 13,
    "start_time": "2024-02-19T11:56:43.657Z"
   },
   {
    "duration": 13,
    "start_time": "2024-02-19T11:56:43.672Z"
   },
   {
    "duration": 99,
    "start_time": "2024-02-19T11:56:43.687Z"
   },
   {
    "duration": 606,
    "start_time": "2024-02-19T11:57:13.083Z"
   },
   {
    "duration": 53,
    "start_time": "2024-02-19T11:57:13.690Z"
   },
   {
    "duration": 10,
    "start_time": "2024-02-19T11:57:13.744Z"
   },
   {
    "duration": 13,
    "start_time": "2024-02-19T11:57:13.756Z"
   },
   {
    "duration": 4,
    "start_time": "2024-02-19T11:57:13.770Z"
   },
   {
    "duration": 22,
    "start_time": "2024-02-19T11:57:13.775Z"
   },
   {
    "duration": 21,
    "start_time": "2024-02-19T11:57:13.799Z"
   },
   {
    "duration": 9,
    "start_time": "2024-02-19T11:57:13.822Z"
   },
   {
    "duration": 11,
    "start_time": "2024-02-19T11:57:13.832Z"
   },
   {
    "duration": 3,
    "start_time": "2024-02-19T11:57:13.846Z"
   },
   {
    "duration": 13,
    "start_time": "2024-02-19T11:57:13.851Z"
   },
   {
    "duration": 5,
    "start_time": "2024-02-19T11:57:13.866Z"
   },
   {
    "duration": 295,
    "start_time": "2024-02-19T11:57:13.872Z"
   },
   {
    "duration": 510,
    "start_time": "2024-02-19T11:57:14.169Z"
   },
   {
    "duration": 15,
    "start_time": "2024-02-19T11:57:14.680Z"
   },
   {
    "duration": 62,
    "start_time": "2024-02-19T11:57:14.697Z"
   },
   {
    "duration": 43,
    "start_time": "2024-02-19T11:57:14.760Z"
   },
   {
    "duration": 17,
    "start_time": "2024-02-19T11:57:14.805Z"
   },
   {
    "duration": 30,
    "start_time": "2024-02-19T11:57:14.823Z"
   },
   {
    "duration": 18,
    "start_time": "2024-02-19T11:57:14.854Z"
   },
   {
    "duration": 76,
    "start_time": "2024-02-19T11:57:14.874Z"
   },
   {
    "duration": 594,
    "start_time": "2024-02-19T11:58:10.643Z"
   },
   {
    "duration": 52,
    "start_time": "2024-02-19T11:58:11.239Z"
   },
   {
    "duration": 10,
    "start_time": "2024-02-19T11:58:11.292Z"
   },
   {
    "duration": 15,
    "start_time": "2024-02-19T11:58:11.303Z"
   },
   {
    "duration": 4,
    "start_time": "2024-02-19T11:58:11.319Z"
   },
   {
    "duration": 22,
    "start_time": "2024-02-19T11:58:11.324Z"
   },
   {
    "duration": 7,
    "start_time": "2024-02-19T11:58:11.347Z"
   },
   {
    "duration": 29,
    "start_time": "2024-02-19T11:58:11.356Z"
   },
   {
    "duration": 6,
    "start_time": "2024-02-19T11:58:11.386Z"
   },
   {
    "duration": 16,
    "start_time": "2024-02-19T11:58:11.394Z"
   },
   {
    "duration": 10,
    "start_time": "2024-02-19T11:58:11.412Z"
   },
   {
    "duration": 7,
    "start_time": "2024-02-19T11:58:11.424Z"
   },
   {
    "duration": 179,
    "start_time": "2024-02-19T11:58:11.432Z"
   },
   {
    "duration": 547,
    "start_time": "2024-02-19T11:58:11.612Z"
   },
   {
    "duration": 16,
    "start_time": "2024-02-19T11:58:12.160Z"
   },
   {
    "duration": 14,
    "start_time": "2024-02-19T11:58:12.177Z"
   },
   {
    "duration": 16,
    "start_time": "2024-02-19T11:58:12.192Z"
   },
   {
    "duration": 18,
    "start_time": "2024-02-19T11:58:12.209Z"
   },
   {
    "duration": 26,
    "start_time": "2024-02-19T11:58:12.228Z"
   },
   {
    "duration": 15,
    "start_time": "2024-02-19T11:58:12.255Z"
   },
   {
    "duration": 13,
    "start_time": "2024-02-19T11:58:12.271Z"
   },
   {
    "duration": 568,
    "start_time": "2024-02-19T11:58:50.168Z"
   },
   {
    "duration": 52,
    "start_time": "2024-02-19T11:58:50.737Z"
   },
   {
    "duration": 9,
    "start_time": "2024-02-19T11:58:50.790Z"
   },
   {
    "duration": 16,
    "start_time": "2024-02-19T11:58:50.801Z"
   },
   {
    "duration": 4,
    "start_time": "2024-02-19T11:58:50.818Z"
   },
   {
    "duration": 27,
    "start_time": "2024-02-19T11:58:50.823Z"
   },
   {
    "duration": 6,
    "start_time": "2024-02-19T11:58:50.852Z"
   },
   {
    "duration": 18,
    "start_time": "2024-02-19T11:58:50.859Z"
   },
   {
    "duration": 6,
    "start_time": "2024-02-19T11:58:50.879Z"
   },
   {
    "duration": 4,
    "start_time": "2024-02-19T11:58:50.887Z"
   },
   {
    "duration": 13,
    "start_time": "2024-02-19T11:58:50.892Z"
   },
   {
    "duration": 13,
    "start_time": "2024-02-19T11:58:50.907Z"
   },
   {
    "duration": 174,
    "start_time": "2024-02-19T11:58:50.921Z"
   },
   {
    "duration": 523,
    "start_time": "2024-02-19T11:58:51.096Z"
   },
   {
    "duration": 21,
    "start_time": "2024-02-19T11:58:51.621Z"
   },
   {
    "duration": 14,
    "start_time": "2024-02-19T11:58:51.644Z"
   },
   {
    "duration": 14,
    "start_time": "2024-02-19T11:58:51.659Z"
   },
   {
    "duration": 21,
    "start_time": "2024-02-19T11:58:51.675Z"
   },
   {
    "duration": 13,
    "start_time": "2024-02-19T11:58:51.718Z"
   },
   {
    "duration": 26,
    "start_time": "2024-02-19T11:58:51.732Z"
   },
   {
    "duration": 86,
    "start_time": "2024-02-19T11:58:51.760Z"
   },
   {
    "duration": 592,
    "start_time": "2024-02-19T11:59:28.828Z"
   },
   {
    "duration": 52,
    "start_time": "2024-02-19T11:59:29.422Z"
   },
   {
    "duration": 9,
    "start_time": "2024-02-19T11:59:29.476Z"
   },
   {
    "duration": 14,
    "start_time": "2024-02-19T11:59:29.487Z"
   },
   {
    "duration": 4,
    "start_time": "2024-02-19T11:59:29.503Z"
   },
   {
    "duration": 20,
    "start_time": "2024-02-19T11:59:29.509Z"
   },
   {
    "duration": 7,
    "start_time": "2024-02-19T11:59:29.531Z"
   },
   {
    "duration": 10,
    "start_time": "2024-02-19T11:59:29.539Z"
   },
   {
    "duration": 5,
    "start_time": "2024-02-19T11:59:29.551Z"
   },
   {
    "duration": 6,
    "start_time": "2024-02-19T11:59:29.558Z"
   },
   {
    "duration": 11,
    "start_time": "2024-02-19T11:59:29.565Z"
   },
   {
    "duration": 11,
    "start_time": "2024-02-19T11:59:29.578Z"
   },
   {
    "duration": 207,
    "start_time": "2024-02-19T11:59:29.591Z"
   },
   {
    "duration": 527,
    "start_time": "2024-02-19T11:59:29.800Z"
   },
   {
    "duration": 15,
    "start_time": "2024-02-19T11:59:30.328Z"
   },
   {
    "duration": 14,
    "start_time": "2024-02-19T11:59:30.344Z"
   },
   {
    "duration": 29,
    "start_time": "2024-02-19T11:59:30.359Z"
   },
   {
    "duration": 41,
    "start_time": "2024-02-19T11:59:30.389Z"
   },
   {
    "duration": 23,
    "start_time": "2024-02-19T11:59:30.431Z"
   },
   {
    "duration": 24,
    "start_time": "2024-02-19T11:59:30.455Z"
   },
   {
    "duration": 34,
    "start_time": "2024-02-19T11:59:30.480Z"
   },
   {
    "duration": 77,
    "start_time": "2024-02-19T12:04:49.822Z"
   },
   {
    "duration": 6,
    "start_time": "2024-02-19T12:06:15.747Z"
   },
   {
    "duration": 16,
    "start_time": "2024-02-19T12:08:26.742Z"
   },
   {
    "duration": 20,
    "start_time": "2024-02-19T12:08:40.485Z"
   },
   {
    "duration": 15,
    "start_time": "2024-02-19T12:09:35.127Z"
   },
   {
    "duration": 18,
    "start_time": "2024-02-19T12:09:42.989Z"
   },
   {
    "duration": 1250,
    "start_time": "2024-02-19T12:13:49.863Z"
   },
   {
    "duration": 28,
    "start_time": "2024-02-19T12:14:01.270Z"
   },
   {
    "duration": 17,
    "start_time": "2024-02-19T12:14:59.047Z"
   },
   {
    "duration": 17,
    "start_time": "2024-02-19T12:15:26.440Z"
   },
   {
    "duration": 20,
    "start_time": "2024-02-19T12:15:31.296Z"
   },
   {
    "duration": 20,
    "start_time": "2024-02-19T12:15:40.642Z"
   },
   {
    "duration": 18,
    "start_time": "2024-02-19T12:16:29.663Z"
   },
   {
    "duration": 20,
    "start_time": "2024-02-19T12:17:17.036Z"
   },
   {
    "duration": 23,
    "start_time": "2024-02-19T12:35:29.821Z"
   },
   {
    "duration": 22,
    "start_time": "2024-02-19T12:40:08.187Z"
   },
   {
    "duration": 601,
    "start_time": "2024-02-19T13:27:11.040Z"
   },
   {
    "duration": 54,
    "start_time": "2024-02-19T13:27:11.643Z"
   },
   {
    "duration": 10,
    "start_time": "2024-02-19T13:27:11.698Z"
   },
   {
    "duration": 15,
    "start_time": "2024-02-19T13:27:11.710Z"
   },
   {
    "duration": 3,
    "start_time": "2024-02-19T13:27:11.726Z"
   },
   {
    "duration": 19,
    "start_time": "2024-02-19T13:27:11.731Z"
   },
   {
    "duration": 7,
    "start_time": "2024-02-19T13:27:11.751Z"
   },
   {
    "duration": 13,
    "start_time": "2024-02-19T13:27:11.760Z"
   },
   {
    "duration": 5,
    "start_time": "2024-02-19T13:27:11.775Z"
   },
   {
    "duration": 6,
    "start_time": "2024-02-19T13:27:11.782Z"
   },
   {
    "duration": 34,
    "start_time": "2024-02-19T13:27:11.790Z"
   },
   {
    "duration": 12,
    "start_time": "2024-02-19T13:27:11.826Z"
   },
   {
    "duration": 185,
    "start_time": "2024-02-19T13:27:11.840Z"
   },
   {
    "duration": 516,
    "start_time": "2024-02-19T13:27:12.027Z"
   },
   {
    "duration": 15,
    "start_time": "2024-02-19T13:27:12.545Z"
   },
   {
    "duration": 15,
    "start_time": "2024-02-19T13:27:12.562Z"
   },
   {
    "duration": 14,
    "start_time": "2024-02-19T13:27:12.579Z"
   },
   {
    "duration": 15,
    "start_time": "2024-02-19T13:27:12.594Z"
   },
   {
    "duration": 18,
    "start_time": "2024-02-19T13:27:12.610Z"
   },
   {
    "duration": 13,
    "start_time": "2024-02-19T13:27:12.630Z"
   },
   {
    "duration": 20,
    "start_time": "2024-02-19T13:27:12.644Z"
   },
   {
    "duration": 19,
    "start_time": "2024-02-19T13:27:12.666Z"
   },
   {
    "duration": 42,
    "start_time": "2024-02-19T14:45:25.876Z"
   },
   {
    "duration": 823,
    "start_time": "2024-02-19T14:45:36.544Z"
   },
   {
    "duration": 98,
    "start_time": "2024-02-19T14:45:37.369Z"
   },
   {
    "duration": 12,
    "start_time": "2024-02-19T14:45:37.469Z"
   },
   {
    "duration": 16,
    "start_time": "2024-02-19T14:45:37.483Z"
   },
   {
    "duration": 5,
    "start_time": "2024-02-19T14:45:37.500Z"
   },
   {
    "duration": 23,
    "start_time": "2024-02-19T14:45:37.507Z"
   },
   {
    "duration": 16,
    "start_time": "2024-02-19T14:45:37.532Z"
   },
   {
    "duration": 25,
    "start_time": "2024-02-19T14:45:37.550Z"
   },
   {
    "duration": 7,
    "start_time": "2024-02-19T14:45:37.577Z"
   },
   {
    "duration": 6,
    "start_time": "2024-02-19T14:45:37.586Z"
   },
   {
    "duration": 10,
    "start_time": "2024-02-19T14:45:37.594Z"
   },
   {
    "duration": 21,
    "start_time": "2024-02-19T14:45:37.605Z"
   },
   {
    "duration": 199,
    "start_time": "2024-02-19T14:45:37.628Z"
   },
   {
    "duration": 517,
    "start_time": "2024-02-19T14:45:37.829Z"
   },
   {
    "duration": 15,
    "start_time": "2024-02-19T14:45:38.348Z"
   },
   {
    "duration": 15,
    "start_time": "2024-02-19T14:45:38.364Z"
   },
   {
    "duration": 14,
    "start_time": "2024-02-19T14:45:38.380Z"
   },
   {
    "duration": 17,
    "start_time": "2024-02-19T14:45:38.395Z"
   },
   {
    "duration": 37,
    "start_time": "2024-02-19T14:45:38.414Z"
   },
   {
    "duration": 13,
    "start_time": "2024-02-19T14:45:38.453Z"
   },
   {
    "duration": 26,
    "start_time": "2024-02-19T14:45:38.467Z"
   },
   {
    "duration": 251,
    "start_time": "2024-02-19T14:45:38.495Z"
   },
   {
    "duration": 66,
    "start_time": "2024-02-19T14:46:05.352Z"
   },
   {
    "duration": 101,
    "start_time": "2024-02-19T14:46:53.246Z"
   },
   {
    "duration": 95,
    "start_time": "2024-02-19T14:47:49.978Z"
   },
   {
    "duration": 1394,
    "start_time": "2024-02-19T15:05:09.735Z"
   },
   {
    "duration": 159,
    "start_time": "2024-02-19T15:05:57.156Z"
   },
   {
    "duration": 163,
    "start_time": "2024-02-19T15:06:23.127Z"
   },
   {
    "duration": 697,
    "start_time": "2024-02-19T15:06:47.718Z"
   },
   {
    "duration": 192,
    "start_time": "2024-02-19T15:07:10.321Z"
   },
   {
    "duration": 199,
    "start_time": "2024-02-19T15:09:09.671Z"
   },
   {
    "duration": 153,
    "start_time": "2024-02-19T15:09:20.768Z"
   },
   {
    "duration": 156,
    "start_time": "2024-02-19T15:09:42.984Z"
   },
   {
    "duration": 159,
    "start_time": "2024-02-19T15:10:14.934Z"
   },
   {
    "duration": 175,
    "start_time": "2024-02-19T15:10:36.313Z"
   },
   {
    "duration": 166,
    "start_time": "2024-02-19T15:11:42.232Z"
   },
   {
    "duration": 165,
    "start_time": "2024-02-19T15:12:06.456Z"
   },
   {
    "duration": 645,
    "start_time": "2024-02-19T15:13:14.722Z"
   },
   {
    "duration": 53,
    "start_time": "2024-02-19T15:13:15.369Z"
   },
   {
    "duration": 9,
    "start_time": "2024-02-19T15:13:15.423Z"
   },
   {
    "duration": 27,
    "start_time": "2024-02-19T15:13:15.434Z"
   },
   {
    "duration": 5,
    "start_time": "2024-02-19T15:13:15.462Z"
   },
   {
    "duration": 26,
    "start_time": "2024-02-19T15:13:15.468Z"
   },
   {
    "duration": 6,
    "start_time": "2024-02-19T15:13:15.495Z"
   },
   {
    "duration": 8,
    "start_time": "2024-02-19T15:13:15.503Z"
   },
   {
    "duration": 10,
    "start_time": "2024-02-19T15:13:15.513Z"
   },
   {
    "duration": 5,
    "start_time": "2024-02-19T15:13:15.526Z"
   },
   {
    "duration": 5,
    "start_time": "2024-02-19T15:13:15.544Z"
   },
   {
    "duration": 17,
    "start_time": "2024-02-19T15:13:15.550Z"
   },
   {
    "duration": 5,
    "start_time": "2024-02-19T15:13:15.568Z"
   },
   {
    "duration": 171,
    "start_time": "2024-02-19T15:13:15.574Z"
   },
   {
    "duration": 472,
    "start_time": "2024-02-19T15:13:15.746Z"
   },
   {
    "duration": 14,
    "start_time": "2024-02-19T15:13:16.220Z"
   },
   {
    "duration": 17,
    "start_time": "2024-02-19T15:13:16.235Z"
   },
   {
    "duration": 14,
    "start_time": "2024-02-19T15:13:16.253Z"
   },
   {
    "duration": 18,
    "start_time": "2024-02-19T15:13:16.268Z"
   },
   {
    "duration": 23,
    "start_time": "2024-02-19T15:13:16.287Z"
   },
   {
    "duration": 30,
    "start_time": "2024-02-19T15:13:16.312Z"
   },
   {
    "duration": 24,
    "start_time": "2024-02-19T15:13:16.343Z"
   },
   {
    "duration": 664,
    "start_time": "2024-02-19T15:13:16.368Z"
   },
   {
    "duration": 105,
    "start_time": "2024-02-19T15:21:04.991Z"
   },
   {
    "duration": 8,
    "start_time": "2024-02-19T15:21:31.080Z"
   },
   {
    "duration": 2,
    "start_time": "2024-02-19T15:21:51.107Z"
   },
   {
    "duration": 8,
    "start_time": "2024-02-19T15:21:56.527Z"
   },
   {
    "duration": 624,
    "start_time": "2024-02-19T15:22:40.718Z"
   },
   {
    "duration": 52,
    "start_time": "2024-02-19T15:22:41.344Z"
   },
   {
    "duration": 10,
    "start_time": "2024-02-19T15:22:41.397Z"
   },
   {
    "duration": 28,
    "start_time": "2024-02-19T15:22:41.409Z"
   },
   {
    "duration": 15,
    "start_time": "2024-02-19T15:22:41.438Z"
   },
   {
    "duration": 38,
    "start_time": "2024-02-19T15:22:41.454Z"
   },
   {
    "duration": 35,
    "start_time": "2024-02-19T15:22:41.494Z"
   },
   {
    "duration": 20,
    "start_time": "2024-02-19T15:22:41.531Z"
   },
   {
    "duration": 17,
    "start_time": "2024-02-19T15:22:41.553Z"
   },
   {
    "duration": 21,
    "start_time": "2024-02-19T15:22:41.573Z"
   },
   {
    "duration": 4,
    "start_time": "2024-02-19T15:22:41.596Z"
   },
   {
    "duration": 86,
    "start_time": "2024-02-19T15:22:41.601Z"
   },
   {
    "duration": 0,
    "start_time": "2024-02-19T15:22:41.688Z"
   },
   {
    "duration": 0,
    "start_time": "2024-02-19T15:22:41.690Z"
   },
   {
    "duration": 0,
    "start_time": "2024-02-19T15:22:41.691Z"
   },
   {
    "duration": 0,
    "start_time": "2024-02-19T15:22:41.692Z"
   },
   {
    "duration": 0,
    "start_time": "2024-02-19T15:22:41.694Z"
   },
   {
    "duration": 0,
    "start_time": "2024-02-19T15:22:41.695Z"
   },
   {
    "duration": 0,
    "start_time": "2024-02-19T15:22:41.696Z"
   },
   {
    "duration": 0,
    "start_time": "2024-02-19T15:22:41.698Z"
   },
   {
    "duration": 0,
    "start_time": "2024-02-19T15:22:41.699Z"
   },
   {
    "duration": 0,
    "start_time": "2024-02-19T15:22:41.700Z"
   },
   {
    "duration": 0,
    "start_time": "2024-02-19T15:22:41.701Z"
   },
   {
    "duration": 0,
    "start_time": "2024-02-19T15:22:41.703Z"
   },
   {
    "duration": 0,
    "start_time": "2024-02-19T15:22:41.704Z"
   },
   {
    "duration": 0,
    "start_time": "2024-02-19T15:22:41.705Z"
   },
   {
    "duration": 6,
    "start_time": "2024-02-19T15:22:52.070Z"
   },
   {
    "duration": 11,
    "start_time": "2024-02-19T15:22:54.923Z"
   },
   {
    "duration": 611,
    "start_time": "2024-02-19T15:23:00.401Z"
   },
   {
    "duration": 56,
    "start_time": "2024-02-19T15:23:01.014Z"
   },
   {
    "duration": 11,
    "start_time": "2024-02-19T15:23:01.071Z"
   },
   {
    "duration": 51,
    "start_time": "2024-02-19T15:23:01.084Z"
   },
   {
    "duration": 56,
    "start_time": "2024-02-19T15:23:01.137Z"
   },
   {
    "duration": 66,
    "start_time": "2024-02-19T15:23:01.194Z"
   },
   {
    "duration": 30,
    "start_time": "2024-02-19T15:23:01.261Z"
   },
   {
    "duration": 71,
    "start_time": "2024-02-19T15:23:01.292Z"
   },
   {
    "duration": 47,
    "start_time": "2024-02-19T15:23:01.365Z"
   },
   {
    "duration": 89,
    "start_time": "2024-02-19T15:23:01.414Z"
   },
   {
    "duration": 69,
    "start_time": "2024-02-19T15:23:01.505Z"
   },
   {
    "duration": 86,
    "start_time": "2024-02-19T15:23:01.575Z"
   },
   {
    "duration": 86,
    "start_time": "2024-02-19T15:23:01.663Z"
   },
   {
    "duration": 92,
    "start_time": "2024-02-19T15:23:01.751Z"
   },
   {
    "duration": 117,
    "start_time": "2024-02-19T15:23:01.845Z"
   },
   {
    "duration": 235,
    "start_time": "2024-02-19T15:23:01.963Z"
   },
   {
    "duration": 546,
    "start_time": "2024-02-19T15:23:02.200Z"
   },
   {
    "duration": 571,
    "start_time": "2024-02-19T15:23:02.747Z"
   },
   {
    "duration": 14,
    "start_time": "2024-02-19T15:23:03.320Z"
   },
   {
    "duration": 115,
    "start_time": "2024-02-19T15:23:03.335Z"
   },
   {
    "duration": 355,
    "start_time": "2024-02-19T15:23:03.452Z"
   },
   {
    "duration": 204,
    "start_time": "2024-02-19T15:23:03.808Z"
   },
   {
    "duration": 490,
    "start_time": "2024-02-19T15:23:04.013Z"
   },
   {
    "duration": 181,
    "start_time": "2024-02-19T15:23:04.504Z"
   },
   {
    "duration": 83,
    "start_time": "2024-02-19T15:23:04.687Z"
   },
   {
    "duration": 648,
    "start_time": "2024-02-19T15:23:04.772Z"
   },
   {
    "duration": 15,
    "start_time": "2024-02-19T15:23:24.953Z"
   },
   {
    "duration": 152,
    "start_time": "2024-02-19T15:24:48.071Z"
   },
   {
    "duration": 147,
    "start_time": "2024-02-19T15:24:56.834Z"
   },
   {
    "duration": 853,
    "start_time": "2024-02-21T15:56:29.812Z"
   },
   {
    "duration": 95,
    "start_time": "2024-02-21T15:56:30.667Z"
   },
   {
    "duration": 10,
    "start_time": "2024-02-21T15:56:30.764Z"
   },
   {
    "duration": 45,
    "start_time": "2024-02-21T15:56:30.776Z"
   },
   {
    "duration": 28,
    "start_time": "2024-02-21T15:56:30.824Z"
   },
   {
    "duration": 43,
    "start_time": "2024-02-21T15:56:30.853Z"
   },
   {
    "duration": 17,
    "start_time": "2024-02-21T15:56:30.898Z"
   },
   {
    "duration": 32,
    "start_time": "2024-02-21T15:56:30.917Z"
   },
   {
    "duration": 145,
    "start_time": "2024-02-21T15:56:30.951Z"
   },
   {
    "duration": 61,
    "start_time": "2024-02-21T15:56:31.102Z"
   },
   {
    "duration": 59,
    "start_time": "2024-02-21T15:56:31.165Z"
   },
   {
    "duration": 26,
    "start_time": "2024-02-21T15:56:31.225Z"
   },
   {
    "duration": 29,
    "start_time": "2024-02-21T15:56:31.252Z"
   },
   {
    "duration": 48,
    "start_time": "2024-02-21T15:56:31.286Z"
   },
   {
    "duration": 33,
    "start_time": "2024-02-21T15:56:31.335Z"
   },
   {
    "duration": 44,
    "start_time": "2024-02-21T15:56:31.370Z"
   },
   {
    "duration": 359,
    "start_time": "2024-02-21T15:56:31.416Z"
   },
   {
    "duration": 23,
    "start_time": "2024-02-21T15:56:31.777Z"
   },
   {
    "duration": 25,
    "start_time": "2024-02-21T15:56:31.802Z"
   },
   {
    "duration": 15,
    "start_time": "2024-02-21T15:56:31.829Z"
   },
   {
    "duration": 21,
    "start_time": "2024-02-21T15:56:31.845Z"
   },
   {
    "duration": 30,
    "start_time": "2024-02-21T15:56:31.868Z"
   },
   {
    "duration": 35,
    "start_time": "2024-02-21T15:56:31.899Z"
   },
   {
    "duration": 33,
    "start_time": "2024-02-21T15:56:31.936Z"
   },
   {
    "duration": 836,
    "start_time": "2024-02-21T15:56:31.970Z"
   },
   {
    "duration": 638,
    "start_time": "2024-02-21T16:33:28.120Z"
   },
   {
    "duration": 57,
    "start_time": "2024-02-21T16:33:28.759Z"
   },
   {
    "duration": 10,
    "start_time": "2024-02-21T16:33:28.818Z"
   },
   {
    "duration": 15,
    "start_time": "2024-02-21T16:33:28.830Z"
   },
   {
    "duration": 11,
    "start_time": "2024-02-21T16:33:28.847Z"
   },
   {
    "duration": 38,
    "start_time": "2024-02-21T16:33:28.859Z"
   },
   {
    "duration": 4,
    "start_time": "2024-02-21T16:33:28.898Z"
   },
   {
    "duration": 8,
    "start_time": "2024-02-21T16:33:28.903Z"
   },
   {
    "duration": 8,
    "start_time": "2024-02-21T16:33:28.913Z"
   },
   {
    "duration": 20,
    "start_time": "2024-02-21T16:33:28.923Z"
   },
   {
    "duration": 5,
    "start_time": "2024-02-21T16:33:28.944Z"
   },
   {
    "duration": 37,
    "start_time": "2024-02-21T16:33:28.950Z"
   },
   {
    "duration": 15,
    "start_time": "2024-02-21T16:33:28.989Z"
   },
   {
    "duration": 9,
    "start_time": "2024-02-21T16:33:29.005Z"
   },
   {
    "duration": 5,
    "start_time": "2024-02-21T16:33:29.016Z"
   },
   {
    "duration": 215,
    "start_time": "2024-02-21T16:33:29.023Z"
   },
   {
    "duration": 18,
    "start_time": "2024-02-21T16:33:29.239Z"
   },
   {
    "duration": 30,
    "start_time": "2024-02-21T16:33:29.259Z"
   },
   {
    "duration": 16,
    "start_time": "2024-02-21T16:33:29.291Z"
   },
   {
    "duration": 20,
    "start_time": "2024-02-21T16:33:29.308Z"
   },
   {
    "duration": 19,
    "start_time": "2024-02-21T16:33:29.330Z"
   },
   {
    "duration": 44,
    "start_time": "2024-02-21T16:33:29.350Z"
   },
   {
    "duration": 27,
    "start_time": "2024-02-21T16:33:29.396Z"
   },
   {
    "duration": 736,
    "start_time": "2024-02-21T16:33:29.426Z"
   },
   {
    "duration": 225,
    "start_time": "2024-02-21T16:43:03.766Z"
   },
   {
    "duration": 234,
    "start_time": "2024-02-21T16:43:12.971Z"
   },
   {
    "duration": 198,
    "start_time": "2024-02-21T16:43:20.631Z"
   },
   {
    "duration": 200,
    "start_time": "2024-02-21T16:43:25.838Z"
   },
   {
    "duration": 198,
    "start_time": "2024-02-21T16:57:18.028Z"
   },
   {
    "duration": 6,
    "start_time": "2024-02-21T17:07:49.087Z"
   },
   {
    "duration": 321,
    "start_time": "2024-02-21T17:11:01.203Z"
   },
   {
    "duration": 336,
    "start_time": "2024-02-21T17:11:19.571Z"
   },
   {
    "duration": 212,
    "start_time": "2024-02-21T17:11:28.096Z"
   },
   {
    "duration": 186,
    "start_time": "2024-02-21T17:12:28.890Z"
   },
   {
    "duration": 179,
    "start_time": "2024-02-21T17:12:33.986Z"
   },
   {
    "duration": 197,
    "start_time": "2024-02-21T17:13:42.843Z"
   },
   {
    "duration": 182,
    "start_time": "2024-02-21T17:13:49.994Z"
   },
   {
    "duration": 194,
    "start_time": "2024-02-21T17:13:56.190Z"
   },
   {
    "duration": 192,
    "start_time": "2024-02-21T17:14:27.843Z"
   },
   {
    "duration": 191,
    "start_time": "2024-02-21T17:14:33.457Z"
   },
   {
    "duration": 236,
    "start_time": "2024-02-21T17:17:21.244Z"
   },
   {
    "duration": 63,
    "start_time": "2024-02-21T17:17:58.356Z"
   },
   {
    "duration": 5,
    "start_time": "2024-02-21T17:18:03.510Z"
   },
   {
    "duration": 6,
    "start_time": "2024-02-21T17:24:35.590Z"
   },
   {
    "duration": 8,
    "start_time": "2024-02-21T17:25:21.665Z"
   },
   {
    "duration": 9,
    "start_time": "2024-02-21T17:26:36.110Z"
   },
   {
    "duration": 9,
    "start_time": "2024-02-21T17:28:50.068Z"
   },
   {
    "duration": 242,
    "start_time": "2024-02-21T17:33:16.805Z"
   },
   {
    "duration": 100,
    "start_time": "2024-02-21T17:42:25.775Z"
   },
   {
    "duration": 10,
    "start_time": "2024-02-21T17:43:44.126Z"
   },
   {
    "duration": 14,
    "start_time": "2024-02-21T17:43:51.460Z"
   },
   {
    "duration": 15,
    "start_time": "2024-02-21T17:44:05.805Z"
   },
   {
    "duration": 14,
    "start_time": "2024-02-21T17:45:29.010Z"
   },
   {
    "duration": 127,
    "start_time": "2024-02-21T17:45:36.808Z"
   },
   {
    "duration": 13,
    "start_time": "2024-02-21T17:45:42.952Z"
   },
   {
    "duration": 10,
    "start_time": "2024-02-21T17:46:03.686Z"
   },
   {
    "duration": 14,
    "start_time": "2024-02-21T17:46:09.536Z"
   },
   {
    "duration": 15,
    "start_time": "2024-02-21T17:46:32.179Z"
   },
   {
    "duration": 17,
    "start_time": "2024-02-21T17:51:24.657Z"
   },
   {
    "duration": 1313,
    "start_time": "2024-02-21T17:51:50.989Z"
   },
   {
    "duration": 28455,
    "start_time": "2024-02-21T17:53:19.290Z"
   },
   {
    "duration": 26045,
    "start_time": "2024-02-21T17:54:14.028Z"
   },
   {
    "duration": 10,
    "start_time": "2024-02-21T17:55:44.208Z"
   },
   {
    "duration": 14,
    "start_time": "2024-02-21T17:55:54.231Z"
   },
   {
    "duration": 11,
    "start_time": "2024-02-21T17:58:44.330Z"
   },
   {
    "duration": 16,
    "start_time": "2024-02-21T17:58:52.558Z"
   },
   {
    "duration": 19,
    "start_time": "2024-02-21T17:59:53.857Z"
   },
   {
    "duration": 16,
    "start_time": "2024-02-21T18:00:42.141Z"
   },
   {
    "duration": 17,
    "start_time": "2024-02-21T18:00:53.885Z"
   },
   {
    "duration": 17,
    "start_time": "2024-02-21T18:01:27.220Z"
   },
   {
    "duration": 16,
    "start_time": "2024-02-21T18:01:41.634Z"
   },
   {
    "duration": 17,
    "start_time": "2024-02-21T18:01:48.732Z"
   },
   {
    "duration": 17,
    "start_time": "2024-02-21T18:01:55.084Z"
   },
   {
    "duration": 17,
    "start_time": "2024-02-21T18:02:01.545Z"
   },
   {
    "duration": 17,
    "start_time": "2024-02-21T18:02:06.220Z"
   },
   {
    "duration": 18,
    "start_time": "2024-02-21T18:02:34.847Z"
   },
   {
    "duration": 22,
    "start_time": "2024-02-21T18:02:41.895Z"
   },
   {
    "duration": 17,
    "start_time": "2024-02-21T18:02:58.112Z"
   },
   {
    "duration": 16,
    "start_time": "2024-02-21T18:03:01.588Z"
   },
   {
    "duration": 17,
    "start_time": "2024-02-21T18:03:05.395Z"
   },
   {
    "duration": 241,
    "start_time": "2024-02-21T18:09:16.508Z"
   },
   {
    "duration": 254,
    "start_time": "2024-02-21T18:09:41.524Z"
   },
   {
    "duration": 249,
    "start_time": "2024-02-21T18:10:15.588Z"
   },
   {
    "duration": 233,
    "start_time": "2024-02-21T18:10:56.548Z"
   },
   {
    "duration": 269,
    "start_time": "2024-02-21T18:11:30.198Z"
   },
   {
    "duration": 189,
    "start_time": "2024-02-21T18:51:27.969Z"
   },
   {
    "duration": 191,
    "start_time": "2024-02-21T18:53:06.253Z"
   },
   {
    "duration": 201,
    "start_time": "2024-02-21T18:53:30.816Z"
   },
   {
    "duration": 206,
    "start_time": "2024-02-21T18:53:57.049Z"
   },
   {
    "duration": 195,
    "start_time": "2024-02-21T18:54:51.822Z"
   },
   {
    "duration": 624,
    "start_time": "2024-02-21T18:59:35.932Z"
   },
   {
    "duration": 55,
    "start_time": "2024-02-21T18:59:36.558Z"
   },
   {
    "duration": 9,
    "start_time": "2024-02-21T18:59:36.615Z"
   },
   {
    "duration": 14,
    "start_time": "2024-02-21T18:59:36.626Z"
   },
   {
    "duration": 11,
    "start_time": "2024-02-21T18:59:36.641Z"
   },
   {
    "duration": 39,
    "start_time": "2024-02-21T18:59:36.654Z"
   },
   {
    "duration": 3,
    "start_time": "2024-02-21T18:59:36.695Z"
   },
   {
    "duration": 8,
    "start_time": "2024-02-21T18:59:36.700Z"
   },
   {
    "duration": 8,
    "start_time": "2024-02-21T18:59:36.709Z"
   },
   {
    "duration": 19,
    "start_time": "2024-02-21T18:59:36.719Z"
   },
   {
    "duration": 5,
    "start_time": "2024-02-21T18:59:36.739Z"
   },
   {
    "duration": 45,
    "start_time": "2024-02-21T18:59:36.745Z"
   },
   {
    "duration": 15,
    "start_time": "2024-02-21T18:59:36.792Z"
   },
   {
    "duration": 12,
    "start_time": "2024-02-21T18:59:36.809Z"
   },
   {
    "duration": 4,
    "start_time": "2024-02-21T18:59:36.822Z"
   },
   {
    "duration": 228,
    "start_time": "2024-02-21T18:59:36.828Z"
   },
   {
    "duration": 28,
    "start_time": "2024-02-21T18:59:37.058Z"
   },
   {
    "duration": 16,
    "start_time": "2024-02-21T18:59:37.087Z"
   },
   {
    "duration": 14,
    "start_time": "2024-02-21T18:59:37.105Z"
   },
   {
    "duration": 16,
    "start_time": "2024-02-21T18:59:37.120Z"
   },
   {
    "duration": 14,
    "start_time": "2024-02-21T18:59:37.137Z"
   },
   {
    "duration": 16,
    "start_time": "2024-02-21T18:59:37.181Z"
   },
   {
    "duration": 21,
    "start_time": "2024-02-21T18:59:37.199Z"
   },
   {
    "duration": 738,
    "start_time": "2024-02-21T18:59:37.222Z"
   },
   {
    "duration": 5,
    "start_time": "2024-02-21T18:59:37.962Z"
   },
   {
    "duration": 193,
    "start_time": "2024-02-21T18:59:37.968Z"
   },
   {
    "duration": 185,
    "start_time": "2024-02-21T18:59:38.163Z"
   },
   {
    "duration": 5,
    "start_time": "2024-02-21T18:59:38.352Z"
   },
   {
    "duration": 13,
    "start_time": "2024-02-21T18:59:38.359Z"
   },
   {
    "duration": 7,
    "start_time": "2024-02-21T18:59:38.382Z"
   },
   {
    "duration": 248,
    "start_time": "2024-02-21T18:59:38.390Z"
   },
   {
    "duration": 17,
    "start_time": "2024-02-21T18:59:38.640Z"
   },
   {
    "duration": 31,
    "start_time": "2024-02-21T18:59:38.658Z"
   },
   {
    "duration": 16,
    "start_time": "2024-02-21T18:59:38.690Z"
   },
   {
    "duration": 252,
    "start_time": "2024-02-21T18:59:38.707Z"
   },
   {
    "duration": 263,
    "start_time": "2024-02-21T18:59:38.961Z"
   },
   {
    "duration": 271,
    "start_time": "2024-02-21T18:59:39.226Z"
   },
   {
    "duration": 273,
    "start_time": "2024-02-21T18:59:39.498Z"
   },
   {
    "duration": 185,
    "start_time": "2024-02-21T18:59:39.772Z"
   },
   {
    "duration": 196,
    "start_time": "2024-02-21T18:59:39.959Z"
   },
   {
    "duration": 6,
    "start_time": "2024-02-21T19:02:02.468Z"
   },
   {
    "duration": 14,
    "start_time": "2024-02-21T19:02:12.633Z"
   },
   {
    "duration": 22,
    "start_time": "2024-02-21T19:02:19.955Z"
   },
   {
    "duration": 105,
    "start_time": "2024-02-21T19:02:28.701Z"
   },
   {
    "duration": 9,
    "start_time": "2024-02-21T19:02:41.154Z"
   },
   {
    "duration": 656,
    "start_time": "2024-02-21T19:03:16.787Z"
   },
   {
    "duration": 56,
    "start_time": "2024-02-21T19:03:17.919Z"
   },
   {
    "duration": 10,
    "start_time": "2024-02-21T19:03:18.806Z"
   },
   {
    "duration": 17,
    "start_time": "2024-02-21T19:03:19.649Z"
   },
   {
    "duration": 12,
    "start_time": "2024-02-21T19:03:20.651Z"
   },
   {
    "duration": 16,
    "start_time": "2024-02-21T19:03:22.169Z"
   },
   {
    "duration": 4,
    "start_time": "2024-02-21T19:03:25.055Z"
   },
   {
    "duration": 7,
    "start_time": "2024-02-21T19:03:26.515Z"
   },
   {
    "duration": 7,
    "start_time": "2024-02-21T19:03:28.123Z"
   },
   {
    "duration": 5,
    "start_time": "2024-02-21T19:03:46.596Z"
   },
   {
    "duration": 689,
    "start_time": "2024-02-21T19:04:32.053Z"
   },
   {
    "duration": 55,
    "start_time": "2024-02-21T19:04:32.744Z"
   },
   {
    "duration": 10,
    "start_time": "2024-02-21T19:04:32.801Z"
   },
   {
    "duration": 18,
    "start_time": "2024-02-21T19:04:32.812Z"
   },
   {
    "duration": 15,
    "start_time": "2024-02-21T19:04:32.831Z"
   },
   {
    "duration": 35,
    "start_time": "2024-02-21T19:04:32.848Z"
   },
   {
    "duration": 4,
    "start_time": "2024-02-21T19:04:32.885Z"
   },
   {
    "duration": 9,
    "start_time": "2024-02-21T19:04:32.890Z"
   },
   {
    "duration": 9,
    "start_time": "2024-02-21T19:04:32.901Z"
   },
   {
    "duration": 21,
    "start_time": "2024-02-21T19:04:32.913Z"
   },
   {
    "duration": 5,
    "start_time": "2024-02-21T19:04:32.936Z"
   },
   {
    "duration": 44,
    "start_time": "2024-02-21T19:04:32.944Z"
   },
   {
    "duration": 18,
    "start_time": "2024-02-21T19:04:32.989Z"
   },
   {
    "duration": 10,
    "start_time": "2024-02-21T19:04:33.009Z"
   },
   {
    "duration": 5,
    "start_time": "2024-02-21T19:04:33.021Z"
   },
   {
    "duration": 266,
    "start_time": "2024-02-21T19:04:33.028Z"
   },
   {
    "duration": 17,
    "start_time": "2024-02-21T19:04:33.295Z"
   },
   {
    "duration": 16,
    "start_time": "2024-02-21T19:04:33.313Z"
   },
   {
    "duration": 17,
    "start_time": "2024-02-21T19:04:33.331Z"
   },
   {
    "duration": 37,
    "start_time": "2024-02-21T19:04:33.350Z"
   },
   {
    "duration": 15,
    "start_time": "2024-02-21T19:04:33.388Z"
   },
   {
    "duration": 14,
    "start_time": "2024-02-21T19:04:33.405Z"
   },
   {
    "duration": 21,
    "start_time": "2024-02-21T19:04:33.420Z"
   },
   {
    "duration": 753,
    "start_time": "2024-02-21T19:04:33.443Z"
   },
   {
    "duration": 5,
    "start_time": "2024-02-21T19:04:34.198Z"
   },
   {
    "duration": 189,
    "start_time": "2024-02-21T19:04:34.205Z"
   },
   {
    "duration": 198,
    "start_time": "2024-02-21T19:04:34.395Z"
   },
   {
    "duration": 6,
    "start_time": "2024-02-21T19:04:34.596Z"
   },
   {
    "duration": 7,
    "start_time": "2024-02-21T19:04:34.604Z"
   },
   {
    "duration": 11,
    "start_time": "2024-02-21T19:04:34.612Z"
   },
   {
    "duration": 254,
    "start_time": "2024-02-21T19:04:34.624Z"
   },
   {
    "duration": 17,
    "start_time": "2024-02-21T19:04:34.880Z"
   },
   {
    "duration": 16,
    "start_time": "2024-02-21T19:04:34.898Z"
   },
   {
    "duration": 15,
    "start_time": "2024-02-21T19:04:34.916Z"
   },
   {
    "duration": 265,
    "start_time": "2024-02-21T19:04:34.933Z"
   },
   {
    "duration": 261,
    "start_time": "2024-02-21T19:04:35.200Z"
   },
   {
    "duration": 266,
    "start_time": "2024-02-21T19:04:35.462Z"
   },
   {
    "duration": 270,
    "start_time": "2024-02-21T19:04:35.730Z"
   },
   {
    "duration": 187,
    "start_time": "2024-02-21T19:04:36.002Z"
   },
   {
    "duration": 196,
    "start_time": "2024-02-21T19:04:36.190Z"
   },
   {
    "duration": 683,
    "start_time": "2024-02-21T19:05:16.749Z"
   },
   {
    "duration": 56,
    "start_time": "2024-02-21T19:05:17.433Z"
   },
   {
    "duration": 10,
    "start_time": "2024-02-21T19:05:17.491Z"
   },
   {
    "duration": 24,
    "start_time": "2024-02-21T19:05:17.504Z"
   },
   {
    "duration": 12,
    "start_time": "2024-02-21T19:05:17.530Z"
   },
   {
    "duration": 21,
    "start_time": "2024-02-21T19:05:17.543Z"
   },
   {
    "duration": 19,
    "start_time": "2024-02-21T19:05:17.566Z"
   },
   {
    "duration": 8,
    "start_time": "2024-02-21T19:05:17.587Z"
   },
   {
    "duration": 11,
    "start_time": "2024-02-21T19:05:17.597Z"
   },
   {
    "duration": 21,
    "start_time": "2024-02-21T19:05:17.612Z"
   },
   {
    "duration": 6,
    "start_time": "2024-02-21T19:05:17.635Z"
   },
   {
    "duration": 45,
    "start_time": "2024-02-21T19:05:17.643Z"
   },
   {
    "duration": 16,
    "start_time": "2024-02-21T19:05:17.690Z"
   },
   {
    "duration": 19,
    "start_time": "2024-02-21T19:05:17.708Z"
   },
   {
    "duration": 5,
    "start_time": "2024-02-21T19:05:17.729Z"
   },
   {
    "duration": 242,
    "start_time": "2024-02-21T19:05:17.735Z"
   },
   {
    "duration": 17,
    "start_time": "2024-02-21T19:05:17.979Z"
   },
   {
    "duration": 15,
    "start_time": "2024-02-21T19:05:17.997Z"
   },
   {
    "duration": 15,
    "start_time": "2024-02-21T19:05:18.014Z"
   },
   {
    "duration": 19,
    "start_time": "2024-02-21T19:05:18.030Z"
   },
   {
    "duration": 43,
    "start_time": "2024-02-21T19:05:18.050Z"
   },
   {
    "duration": 14,
    "start_time": "2024-02-21T19:05:18.095Z"
   },
   {
    "duration": 33,
    "start_time": "2024-02-21T19:05:18.111Z"
   },
   {
    "duration": 756,
    "start_time": "2024-02-21T19:05:18.145Z"
   },
   {
    "duration": 6,
    "start_time": "2024-02-21T19:05:18.902Z"
   },
   {
    "duration": 195,
    "start_time": "2024-02-21T19:05:18.910Z"
   },
   {
    "duration": 184,
    "start_time": "2024-02-21T19:05:19.107Z"
   },
   {
    "duration": 6,
    "start_time": "2024-02-21T19:05:19.294Z"
   },
   {
    "duration": 9,
    "start_time": "2024-02-21T19:05:19.302Z"
   },
   {
    "duration": 8,
    "start_time": "2024-02-21T19:05:19.312Z"
   },
   {
    "duration": 261,
    "start_time": "2024-02-21T19:05:19.321Z"
   },
   {
    "duration": 17,
    "start_time": "2024-02-21T19:05:19.583Z"
   },
   {
    "duration": 14,
    "start_time": "2024-02-21T19:05:19.602Z"
   },
   {
    "duration": 16,
    "start_time": "2024-02-21T19:05:19.618Z"
   },
   {
    "duration": 272,
    "start_time": "2024-02-21T19:05:19.635Z"
   },
   {
    "duration": 257,
    "start_time": "2024-02-21T19:05:19.909Z"
   },
   {
    "duration": 258,
    "start_time": "2024-02-21T19:05:20.169Z"
   },
   {
    "duration": 268,
    "start_time": "2024-02-21T19:05:20.428Z"
   },
   {
    "duration": 190,
    "start_time": "2024-02-21T19:05:20.697Z"
   },
   {
    "duration": 194,
    "start_time": "2024-02-21T19:05:20.888Z"
   },
   {
    "duration": 170,
    "start_time": "2024-02-21T19:06:47.115Z"
   },
   {
    "duration": 191,
    "start_time": "2024-02-21T19:06:57.616Z"
   },
   {
    "duration": 170,
    "start_time": "2024-02-21T19:07:06.727Z"
   },
   {
    "duration": 5,
    "start_time": "2024-02-21T19:19:11.364Z"
   },
   {
    "duration": 127,
    "start_time": "2024-02-21T19:21:27.841Z"
   },
   {
    "duration": 19,
    "start_time": "2024-02-21T19:21:52.656Z"
   },
   {
    "duration": 11,
    "start_time": "2024-02-21T19:22:06.754Z"
   },
   {
    "duration": 2,
    "start_time": "2024-02-21T19:23:42.756Z"
   },
   {
    "duration": 5,
    "start_time": "2024-02-21T19:24:10.770Z"
   },
   {
    "duration": 11,
    "start_time": "2024-02-21T19:27:42.965Z"
   },
   {
    "duration": 4,
    "start_time": "2024-02-21T19:28:08.189Z"
   },
   {
    "duration": 17,
    "start_time": "2024-02-21T19:28:16.387Z"
   },
   {
    "duration": 9,
    "start_time": "2024-02-21T19:28:22.673Z"
   },
   {
    "duration": 10,
    "start_time": "2024-02-21T19:33:49.279Z"
   },
   {
    "duration": 9,
    "start_time": "2024-02-21T19:33:57.684Z"
   },
   {
    "duration": 9,
    "start_time": "2024-02-21T19:34:27.056Z"
   },
   {
    "duration": 9,
    "start_time": "2024-02-21T19:34:40.283Z"
   },
   {
    "duration": 9,
    "start_time": "2024-02-21T19:34:46.636Z"
   },
   {
    "duration": 676,
    "start_time": "2024-02-21T19:45:58.554Z"
   },
   {
    "duration": 55,
    "start_time": "2024-02-21T19:45:59.232Z"
   },
   {
    "duration": 10,
    "start_time": "2024-02-21T19:45:59.288Z"
   },
   {
    "duration": 15,
    "start_time": "2024-02-21T19:45:59.301Z"
   },
   {
    "duration": 11,
    "start_time": "2024-02-21T19:45:59.318Z"
   },
   {
    "duration": 16,
    "start_time": "2024-02-21T19:45:59.331Z"
   },
   {
    "duration": 4,
    "start_time": "2024-02-21T19:45:59.349Z"
   },
   {
    "duration": 14,
    "start_time": "2024-02-21T19:45:59.382Z"
   },
   {
    "duration": 9,
    "start_time": "2024-02-21T19:45:59.398Z"
   },
   {
    "duration": 19,
    "start_time": "2024-02-21T19:45:59.410Z"
   },
   {
    "duration": 6,
    "start_time": "2024-02-21T19:45:59.431Z"
   },
   {
    "duration": 10,
    "start_time": "2024-02-21T19:45:59.438Z"
   },
   {
    "duration": 45,
    "start_time": "2024-02-21T19:45:59.450Z"
   },
   {
    "duration": 9,
    "start_time": "2024-02-21T19:45:59.497Z"
   },
   {
    "duration": 4,
    "start_time": "2024-02-21T19:45:59.508Z"
   },
   {
    "duration": 221,
    "start_time": "2024-02-21T19:45:59.513Z"
   },
   {
    "duration": 17,
    "start_time": "2024-02-21T19:45:59.735Z"
   },
   {
    "duration": 31,
    "start_time": "2024-02-21T19:45:59.753Z"
   },
   {
    "duration": 22,
    "start_time": "2024-02-21T19:45:59.785Z"
   },
   {
    "duration": 17,
    "start_time": "2024-02-21T19:45:59.814Z"
   },
   {
    "duration": 16,
    "start_time": "2024-02-21T19:45:59.833Z"
   },
   {
    "duration": 39,
    "start_time": "2024-02-21T19:45:59.851Z"
   },
   {
    "duration": 29,
    "start_time": "2024-02-21T19:45:59.891Z"
   },
   {
    "duration": 825,
    "start_time": "2024-02-21T19:45:59.922Z"
   },
   {
    "duration": 5,
    "start_time": "2024-02-21T19:46:00.749Z"
   },
   {
    "duration": 234,
    "start_time": "2024-02-21T19:46:00.756Z"
   },
   {
    "duration": 214,
    "start_time": "2024-02-21T19:46:00.992Z"
   },
   {
    "duration": 6,
    "start_time": "2024-02-21T19:46:01.211Z"
   },
   {
    "duration": 55,
    "start_time": "2024-02-21T19:46:01.219Z"
   },
   {
    "duration": 33,
    "start_time": "2024-02-21T19:46:01.276Z"
   },
   {
    "duration": 263,
    "start_time": "2024-02-21T19:46:01.311Z"
   },
   {
    "duration": 16,
    "start_time": "2024-02-21T19:46:01.582Z"
   },
   {
    "duration": 37,
    "start_time": "2024-02-21T19:46:01.599Z"
   },
   {
    "duration": 39,
    "start_time": "2024-02-21T19:46:01.638Z"
   },
   {
    "duration": 297,
    "start_time": "2024-02-21T19:46:01.678Z"
   },
   {
    "duration": 250,
    "start_time": "2024-02-21T19:46:01.976Z"
   },
   {
    "duration": 268,
    "start_time": "2024-02-21T19:46:02.228Z"
   },
   {
    "duration": 283,
    "start_time": "2024-02-21T19:46:02.499Z"
   },
   {
    "duration": 210,
    "start_time": "2024-02-21T19:46:02.783Z"
   },
   {
    "duration": 196,
    "start_time": "2024-02-21T19:46:02.994Z"
   },
   {
    "duration": 5,
    "start_time": "2024-02-21T19:46:03.192Z"
   },
   {
    "duration": 29,
    "start_time": "2024-02-21T19:46:03.198Z"
   },
   {
    "duration": 21,
    "start_time": "2024-02-21T19:46:03.229Z"
   },
   {
    "duration": 47,
    "start_time": "2024-02-22T13:36:59.112Z"
   },
   {
    "duration": 824,
    "start_time": "2024-02-22T13:37:06.512Z"
   },
   {
    "duration": 97,
    "start_time": "2024-02-22T13:37:07.338Z"
   },
   {
    "duration": 18,
    "start_time": "2024-02-22T13:37:07.436Z"
   },
   {
    "duration": 15,
    "start_time": "2024-02-22T13:37:07.456Z"
   },
   {
    "duration": 9,
    "start_time": "2024-02-22T13:37:07.472Z"
   },
   {
    "duration": 21,
    "start_time": "2024-02-22T13:37:07.483Z"
   },
   {
    "duration": 12,
    "start_time": "2024-02-22T13:37:07.505Z"
   },
   {
    "duration": 8,
    "start_time": "2024-02-22T13:37:07.519Z"
   },
   {
    "duration": 8,
    "start_time": "2024-02-22T13:37:07.529Z"
   },
   {
    "duration": 19,
    "start_time": "2024-02-22T13:37:07.541Z"
   },
   {
    "duration": 6,
    "start_time": "2024-02-22T13:37:07.561Z"
   },
   {
    "duration": 9,
    "start_time": "2024-02-22T13:37:07.568Z"
   },
   {
    "duration": 49,
    "start_time": "2024-02-22T13:37:07.578Z"
   },
   {
    "duration": 10,
    "start_time": "2024-02-22T13:37:07.629Z"
   },
   {
    "duration": 5,
    "start_time": "2024-02-22T13:37:07.641Z"
   },
   {
    "duration": 220,
    "start_time": "2024-02-22T13:37:07.648Z"
   },
   {
    "duration": 15,
    "start_time": "2024-02-22T13:37:07.870Z"
   },
   {
    "duration": 32,
    "start_time": "2024-02-22T13:37:07.887Z"
   },
   {
    "duration": 16,
    "start_time": "2024-02-22T13:37:07.921Z"
   },
   {
    "duration": 16,
    "start_time": "2024-02-22T13:37:07.938Z"
   },
   {
    "duration": 15,
    "start_time": "2024-02-22T13:37:07.956Z"
   },
   {
    "duration": 43,
    "start_time": "2024-02-22T13:37:07.973Z"
   },
   {
    "duration": 22,
    "start_time": "2024-02-22T13:37:08.018Z"
   },
   {
    "duration": 663,
    "start_time": "2024-02-22T13:37:08.042Z"
   },
   {
    "duration": 5,
    "start_time": "2024-02-22T13:37:08.707Z"
   },
   {
    "duration": 174,
    "start_time": "2024-02-22T13:37:08.715Z"
   },
   {
    "duration": 179,
    "start_time": "2024-02-22T13:37:08.890Z"
   },
   {
    "duration": 5,
    "start_time": "2024-02-22T13:37:09.072Z"
   },
   {
    "duration": 18,
    "start_time": "2024-02-22T13:37:09.078Z"
   },
   {
    "duration": 18,
    "start_time": "2024-02-22T13:37:09.098Z"
   },
   {
    "duration": 230,
    "start_time": "2024-02-22T13:37:09.117Z"
   },
   {
    "duration": 15,
    "start_time": "2024-02-22T13:37:09.349Z"
   },
   {
    "duration": 16,
    "start_time": "2024-02-22T13:37:09.365Z"
   },
   {
    "duration": 36,
    "start_time": "2024-02-22T13:37:09.382Z"
   },
   {
    "duration": 236,
    "start_time": "2024-02-22T13:37:09.420Z"
   },
   {
    "duration": 237,
    "start_time": "2024-02-22T13:37:09.657Z"
   },
   {
    "duration": 234,
    "start_time": "2024-02-22T13:37:09.896Z"
   },
   {
    "duration": 238,
    "start_time": "2024-02-22T13:37:10.132Z"
   },
   {
    "duration": 186,
    "start_time": "2024-02-22T13:37:10.371Z"
   },
   {
    "duration": 168,
    "start_time": "2024-02-22T13:37:10.559Z"
   },
   {
    "duration": 5,
    "start_time": "2024-02-22T13:37:10.728Z"
   },
   {
    "duration": 22,
    "start_time": "2024-02-22T13:37:10.735Z"
   },
   {
    "duration": 26,
    "start_time": "2024-02-22T13:37:10.758Z"
   },
   {
    "duration": 20,
    "start_time": "2024-02-22T13:38:36.733Z"
   },
   {
    "duration": 109,
    "start_time": "2024-02-22T14:28:30.040Z"
   },
   {
    "duration": 67,
    "start_time": "2024-02-22T14:28:44.322Z"
   },
   {
    "duration": 73,
    "start_time": "2024-02-22T14:28:50.189Z"
   },
   {
    "duration": 19,
    "start_time": "2024-02-22T14:28:55.728Z"
   },
   {
    "duration": 609,
    "start_time": "2024-02-22T14:30:39.180Z"
   },
   {
    "duration": 54,
    "start_time": "2024-02-22T14:30:39.791Z"
   },
   {
    "duration": 17,
    "start_time": "2024-02-22T14:30:39.846Z"
   },
   {
    "duration": 13,
    "start_time": "2024-02-22T14:30:39.865Z"
   },
   {
    "duration": 9,
    "start_time": "2024-02-22T14:30:39.880Z"
   },
   {
    "duration": 39,
    "start_time": "2024-02-22T14:30:39.891Z"
   },
   {
    "duration": 3,
    "start_time": "2024-02-22T14:30:39.932Z"
   },
   {
    "duration": 10,
    "start_time": "2024-02-22T14:30:39.936Z"
   },
   {
    "duration": 17,
    "start_time": "2024-02-22T14:30:39.947Z"
   },
   {
    "duration": 19,
    "start_time": "2024-02-22T14:30:39.967Z"
   },
   {
    "duration": 5,
    "start_time": "2024-02-22T14:30:39.988Z"
   },
   {
    "duration": 29,
    "start_time": "2024-02-22T14:30:39.995Z"
   },
   {
    "duration": 21,
    "start_time": "2024-02-22T14:30:40.025Z"
   },
   {
    "duration": 13,
    "start_time": "2024-02-22T14:30:40.048Z"
   },
   {
    "duration": 3,
    "start_time": "2024-02-22T14:30:40.063Z"
   },
   {
    "duration": 195,
    "start_time": "2024-02-22T14:30:40.068Z"
   },
   {
    "duration": 16,
    "start_time": "2024-02-22T14:30:40.264Z"
   },
   {
    "duration": 37,
    "start_time": "2024-02-22T14:30:40.282Z"
   },
   {
    "duration": 14,
    "start_time": "2024-02-22T14:30:40.321Z"
   },
   {
    "duration": 17,
    "start_time": "2024-02-22T14:30:40.336Z"
   },
   {
    "duration": 17,
    "start_time": "2024-02-22T14:30:40.354Z"
   },
   {
    "duration": 15,
    "start_time": "2024-02-22T14:30:40.372Z"
   },
   {
    "duration": 46,
    "start_time": "2024-02-22T14:30:40.389Z"
   },
   {
    "duration": 667,
    "start_time": "2024-02-22T14:30:40.436Z"
   },
   {
    "duration": 4,
    "start_time": "2024-02-22T14:30:41.105Z"
   },
   {
    "duration": 167,
    "start_time": "2024-02-22T14:30:41.114Z"
   },
   {
    "duration": 171,
    "start_time": "2024-02-22T14:30:41.282Z"
   },
   {
    "duration": 9,
    "start_time": "2024-02-22T14:30:41.457Z"
   },
   {
    "duration": 9,
    "start_time": "2024-02-22T14:30:41.470Z"
   },
   {
    "duration": 8,
    "start_time": "2024-02-22T14:30:41.481Z"
   },
   {
    "duration": 254,
    "start_time": "2024-02-22T14:30:41.490Z"
   },
   {
    "duration": 16,
    "start_time": "2024-02-22T14:30:41.745Z"
   },
   {
    "duration": 27,
    "start_time": "2024-02-22T14:30:41.763Z"
   },
   {
    "duration": 25,
    "start_time": "2024-02-22T14:30:41.791Z"
   },
   {
    "duration": 234,
    "start_time": "2024-02-22T14:30:41.818Z"
   },
   {
    "duration": 245,
    "start_time": "2024-02-22T14:30:42.053Z"
   },
   {
    "duration": 246,
    "start_time": "2024-02-22T14:30:42.300Z"
   },
   {
    "duration": 280,
    "start_time": "2024-02-22T14:30:42.547Z"
   },
   {
    "duration": 188,
    "start_time": "2024-02-22T14:30:42.828Z"
   },
   {
    "duration": 177,
    "start_time": "2024-02-22T14:30:43.018Z"
   },
   {
    "duration": 6,
    "start_time": "2024-02-22T14:30:43.196Z"
   },
   {
    "duration": 14,
    "start_time": "2024-02-22T14:30:43.214Z"
   },
   {
    "duration": 37,
    "start_time": "2024-02-22T14:30:43.230Z"
   },
   {
    "duration": 642,
    "start_time": "2024-02-22T14:31:20.917Z"
   },
   {
    "duration": 55,
    "start_time": "2024-02-22T14:31:21.560Z"
   },
   {
    "duration": 17,
    "start_time": "2024-02-22T14:31:21.617Z"
   },
   {
    "duration": 23,
    "start_time": "2024-02-22T14:31:21.637Z"
   },
   {
    "duration": 22,
    "start_time": "2024-02-22T14:31:21.662Z"
   },
   {
    "duration": 35,
    "start_time": "2024-02-22T14:31:21.686Z"
   },
   {
    "duration": 15,
    "start_time": "2024-02-22T14:31:21.723Z"
   },
   {
    "duration": 31,
    "start_time": "2024-02-22T14:31:21.739Z"
   },
   {
    "duration": 27,
    "start_time": "2024-02-22T14:31:21.771Z"
   },
   {
    "duration": 30,
    "start_time": "2024-02-22T14:31:21.800Z"
   },
   {
    "duration": 11,
    "start_time": "2024-02-22T14:31:21.832Z"
   },
   {
    "duration": 40,
    "start_time": "2024-02-22T14:31:21.844Z"
   },
   {
    "duration": 17,
    "start_time": "2024-02-22T14:31:21.886Z"
   },
   {
    "duration": 9,
    "start_time": "2024-02-22T14:31:21.904Z"
   },
   {
    "duration": 9,
    "start_time": "2024-02-22T14:31:21.914Z"
   },
   {
    "duration": 201,
    "start_time": "2024-02-22T14:31:21.924Z"
   },
   {
    "duration": 14,
    "start_time": "2024-02-22T14:31:22.127Z"
   },
   {
    "duration": 15,
    "start_time": "2024-02-22T14:31:22.142Z"
   },
   {
    "duration": 13,
    "start_time": "2024-02-22T14:31:22.158Z"
   },
   {
    "duration": 14,
    "start_time": "2024-02-22T14:31:22.173Z"
   },
   {
    "duration": 15,
    "start_time": "2024-02-22T14:31:22.215Z"
   },
   {
    "duration": 24,
    "start_time": "2024-02-22T14:31:22.231Z"
   },
   {
    "duration": 23,
    "start_time": "2024-02-22T14:31:22.257Z"
   },
   {
    "duration": 745,
    "start_time": "2024-02-22T14:31:22.282Z"
   },
   {
    "duration": 4,
    "start_time": "2024-02-22T14:31:23.029Z"
   },
   {
    "duration": 180,
    "start_time": "2024-02-22T14:31:23.035Z"
   },
   {
    "duration": 172,
    "start_time": "2024-02-22T14:31:23.216Z"
   },
   {
    "duration": 5,
    "start_time": "2024-02-22T14:31:23.391Z"
   },
   {
    "duration": 21,
    "start_time": "2024-02-22T14:31:23.397Z"
   },
   {
    "duration": 10,
    "start_time": "2024-02-22T14:31:23.419Z"
   },
   {
    "duration": 217,
    "start_time": "2024-02-22T14:31:23.431Z"
   },
   {
    "duration": 15,
    "start_time": "2024-02-22T14:31:23.649Z"
   },
   {
    "duration": 19,
    "start_time": "2024-02-22T14:31:23.666Z"
   },
   {
    "duration": 41,
    "start_time": "2024-02-22T14:31:23.686Z"
   },
   {
    "duration": 501,
    "start_time": "2024-02-22T14:31:23.729Z"
   },
   {
    "duration": 488,
    "start_time": "2024-02-22T14:31:24.232Z"
   },
   {
    "duration": 448,
    "start_time": "2024-02-22T14:31:24.722Z"
   },
   {
    "duration": 247,
    "start_time": "2024-02-22T14:31:25.172Z"
   },
   {
    "duration": 185,
    "start_time": "2024-02-22T14:31:25.421Z"
   },
   {
    "duration": 184,
    "start_time": "2024-02-22T14:31:25.607Z"
   },
   {
    "duration": 5,
    "start_time": "2024-02-22T14:31:25.793Z"
   },
   {
    "duration": 34,
    "start_time": "2024-02-22T14:31:25.799Z"
   },
   {
    "duration": 41,
    "start_time": "2024-02-22T14:31:25.835Z"
   },
   {
    "duration": 624,
    "start_time": "2024-02-22T14:31:37.835Z"
   },
   {
    "duration": 55,
    "start_time": "2024-02-22T14:31:38.462Z"
   },
   {
    "duration": 18,
    "start_time": "2024-02-22T14:31:38.518Z"
   },
   {
    "duration": 15,
    "start_time": "2024-02-22T14:31:38.538Z"
   },
   {
    "duration": 11,
    "start_time": "2024-02-22T14:31:38.554Z"
   },
   {
    "duration": 22,
    "start_time": "2024-02-22T14:31:38.566Z"
   },
   {
    "duration": 26,
    "start_time": "2024-02-22T14:31:38.589Z"
   },
   {
    "duration": 9,
    "start_time": "2024-02-22T14:31:38.617Z"
   },
   {
    "duration": 7,
    "start_time": "2024-02-22T14:31:38.627Z"
   },
   {
    "duration": 13,
    "start_time": "2024-02-22T14:31:38.636Z"
   },
   {
    "duration": 8,
    "start_time": "2024-02-22T14:31:38.651Z"
   },
   {
    "duration": 55,
    "start_time": "2024-02-22T14:31:38.660Z"
   },
   {
    "duration": 15,
    "start_time": "2024-02-22T14:31:38.716Z"
   },
   {
    "duration": 9,
    "start_time": "2024-02-22T14:31:38.732Z"
   },
   {
    "duration": 4,
    "start_time": "2024-02-22T14:31:38.743Z"
   },
   {
    "duration": 410,
    "start_time": "2024-02-22T14:31:38.748Z"
   },
   {
    "duration": 69,
    "start_time": "2024-02-22T14:31:39.159Z"
   },
   {
    "duration": 18,
    "start_time": "2024-02-22T14:31:39.230Z"
   },
   {
    "duration": 75,
    "start_time": "2024-02-22T14:31:39.249Z"
   },
   {
    "duration": 21,
    "start_time": "2024-02-22T14:31:39.326Z"
   },
   {
    "duration": 78,
    "start_time": "2024-02-22T14:31:39.349Z"
   },
   {
    "duration": 21,
    "start_time": "2024-02-22T14:31:39.429Z"
   },
   {
    "duration": 76,
    "start_time": "2024-02-22T14:31:39.452Z"
   },
   {
    "duration": 1037,
    "start_time": "2024-02-22T14:31:39.529Z"
   },
   {
    "duration": 5,
    "start_time": "2024-02-22T14:31:40.568Z"
   },
   {
    "duration": 173,
    "start_time": "2024-02-22T14:31:40.574Z"
   },
   {
    "duration": 197,
    "start_time": "2024-02-22T14:31:40.748Z"
   },
   {
    "duration": 5,
    "start_time": "2024-02-22T14:31:40.948Z"
   },
   {
    "duration": 7,
    "start_time": "2024-02-22T14:31:40.955Z"
   },
   {
    "duration": 7,
    "start_time": "2024-02-22T14:31:40.963Z"
   },
   {
    "duration": 242,
    "start_time": "2024-02-22T14:31:40.972Z"
   },
   {
    "duration": 17,
    "start_time": "2024-02-22T14:31:41.216Z"
   },
   {
    "duration": 15,
    "start_time": "2024-02-22T14:31:41.234Z"
   },
   {
    "duration": 15,
    "start_time": "2024-02-22T14:31:41.251Z"
   },
   {
    "duration": 243,
    "start_time": "2024-02-22T14:31:41.267Z"
   },
   {
    "duration": 242,
    "start_time": "2024-02-22T14:31:41.515Z"
   },
   {
    "duration": 258,
    "start_time": "2024-02-22T14:31:41.758Z"
   },
   {
    "duration": 253,
    "start_time": "2024-02-22T14:31:42.018Z"
   },
   {
    "duration": 199,
    "start_time": "2024-02-22T14:31:42.272Z"
   },
   {
    "duration": 174,
    "start_time": "2024-02-22T14:31:42.472Z"
   },
   {
    "duration": 5,
    "start_time": "2024-02-22T14:31:42.648Z"
   },
   {
    "duration": 10,
    "start_time": "2024-02-22T14:31:42.654Z"
   },
   {
    "duration": 10,
    "start_time": "2024-02-22T14:31:42.665Z"
   },
   {
    "duration": 595,
    "start_time": "2024-02-22T14:34:43.246Z"
   },
   {
    "duration": 54,
    "start_time": "2024-02-22T14:34:43.843Z"
   },
   {
    "duration": 17,
    "start_time": "2024-02-22T14:34:43.898Z"
   },
   {
    "duration": 25,
    "start_time": "2024-02-22T14:34:43.916Z"
   },
   {
    "duration": 9,
    "start_time": "2024-02-22T14:34:43.942Z"
   },
   {
    "duration": 14,
    "start_time": "2024-02-22T14:34:43.953Z"
   },
   {
    "duration": 7,
    "start_time": "2024-02-22T14:34:43.968Z"
   },
   {
    "duration": 61,
    "start_time": "2024-02-22T14:34:43.976Z"
   },
   {
    "duration": 8,
    "start_time": "2024-02-22T14:34:44.039Z"
   },
   {
    "duration": 5,
    "start_time": "2024-02-22T14:34:44.049Z"
   },
   {
    "duration": 12,
    "start_time": "2024-02-22T14:34:44.055Z"
   },
   {
    "duration": 6,
    "start_time": "2024-02-22T14:34:44.069Z"
   },
   {
    "duration": 6,
    "start_time": "2024-02-22T14:34:44.077Z"
   },
   {
    "duration": 5,
    "start_time": "2024-02-22T14:34:44.084Z"
   },
   {
    "duration": 29,
    "start_time": "2024-02-22T14:34:44.090Z"
   },
   {
    "duration": 14,
    "start_time": "2024-02-22T14:34:44.120Z"
   },
   {
    "duration": 8,
    "start_time": "2024-02-22T14:34:44.136Z"
   },
   {
    "duration": 3,
    "start_time": "2024-02-22T14:34:44.146Z"
   },
   {
    "duration": 215,
    "start_time": "2024-02-22T14:34:44.150Z"
   },
   {
    "duration": 15,
    "start_time": "2024-02-22T14:34:44.366Z"
   },
   {
    "duration": 14,
    "start_time": "2024-02-22T14:34:44.383Z"
   },
   {
    "duration": 29,
    "start_time": "2024-02-22T14:34:44.399Z"
   },
   {
    "duration": 15,
    "start_time": "2024-02-22T14:34:44.429Z"
   },
   {
    "duration": 14,
    "start_time": "2024-02-22T14:34:44.446Z"
   },
   {
    "duration": 14,
    "start_time": "2024-02-22T14:34:44.461Z"
   },
   {
    "duration": 53,
    "start_time": "2024-02-22T14:34:44.476Z"
   },
   {
    "duration": 677,
    "start_time": "2024-02-22T14:34:44.531Z"
   },
   {
    "duration": 4,
    "start_time": "2024-02-22T14:34:45.214Z"
   },
   {
    "duration": 207,
    "start_time": "2024-02-22T14:34:45.220Z"
   },
   {
    "duration": 172,
    "start_time": "2024-02-22T14:34:45.429Z"
   },
   {
    "duration": 5,
    "start_time": "2024-02-22T14:34:45.603Z"
   },
   {
    "duration": 12,
    "start_time": "2024-02-22T14:34:45.615Z"
   },
   {
    "duration": 8,
    "start_time": "2024-02-22T14:34:45.628Z"
   },
   {
    "duration": 237,
    "start_time": "2024-02-22T14:34:45.637Z"
   },
   {
    "duration": 16,
    "start_time": "2024-02-22T14:34:45.876Z"
   },
   {
    "duration": 30,
    "start_time": "2024-02-22T14:34:45.894Z"
   },
   {
    "duration": 15,
    "start_time": "2024-02-22T14:34:45.926Z"
   },
   {
    "duration": 241,
    "start_time": "2024-02-22T14:34:45.942Z"
   },
   {
    "duration": 236,
    "start_time": "2024-02-22T14:34:46.185Z"
   },
   {
    "duration": 394,
    "start_time": "2024-02-22T14:34:46.423Z"
   },
   {
    "duration": 499,
    "start_time": "2024-02-22T14:34:46.819Z"
   },
   {
    "duration": 333,
    "start_time": "2024-02-22T14:34:47.320Z"
   },
   {
    "duration": 293,
    "start_time": "2024-02-22T14:34:47.655Z"
   },
   {
    "duration": 4,
    "start_time": "2024-02-22T14:34:47.950Z"
   },
   {
    "duration": 26,
    "start_time": "2024-02-22T14:34:47.955Z"
   },
   {
    "duration": 7,
    "start_time": "2024-02-22T14:34:47.983Z"
   },
   {
    "duration": 648,
    "start_time": "2024-02-22T14:36:35.902Z"
   },
   {
    "duration": 53,
    "start_time": "2024-02-22T14:36:36.552Z"
   },
   {
    "duration": 17,
    "start_time": "2024-02-22T14:36:36.606Z"
   },
   {
    "duration": 13,
    "start_time": "2024-02-22T14:36:36.625Z"
   },
   {
    "duration": 9,
    "start_time": "2024-02-22T14:36:36.639Z"
   },
   {
    "duration": 23,
    "start_time": "2024-02-22T14:36:36.650Z"
   },
   {
    "duration": 14,
    "start_time": "2024-02-22T14:36:36.674Z"
   },
   {
    "duration": 12,
    "start_time": "2024-02-22T14:36:36.690Z"
   },
   {
    "duration": 14,
    "start_time": "2024-02-22T14:36:36.704Z"
   },
   {
    "duration": 3,
    "start_time": "2024-02-22T14:36:36.720Z"
   },
   {
    "duration": 7,
    "start_time": "2024-02-22T14:36:36.724Z"
   },
   {
    "duration": 6,
    "start_time": "2024-02-22T14:36:36.733Z"
   },
   {
    "duration": 5,
    "start_time": "2024-02-22T14:36:36.741Z"
   },
   {
    "duration": 5,
    "start_time": "2024-02-22T14:36:36.747Z"
   },
   {
    "duration": 14,
    "start_time": "2024-02-22T14:36:36.754Z"
   },
   {
    "duration": 19,
    "start_time": "2024-02-22T14:36:36.769Z"
   },
   {
    "duration": 36,
    "start_time": "2024-02-22T14:36:36.789Z"
   },
   {
    "duration": 5,
    "start_time": "2024-02-22T14:36:36.827Z"
   },
   {
    "duration": 206,
    "start_time": "2024-02-22T14:36:36.834Z"
   },
   {
    "duration": 14,
    "start_time": "2024-02-22T14:36:37.042Z"
   },
   {
    "duration": 15,
    "start_time": "2024-02-22T14:36:37.057Z"
   },
   {
    "duration": 14,
    "start_time": "2024-02-22T14:36:37.073Z"
   },
   {
    "duration": 35,
    "start_time": "2024-02-22T14:36:37.088Z"
   },
   {
    "duration": 13,
    "start_time": "2024-02-22T14:36:37.125Z"
   },
   {
    "duration": 14,
    "start_time": "2024-02-22T14:36:37.140Z"
   },
   {
    "duration": 71,
    "start_time": "2024-02-22T14:36:37.156Z"
   },
   {
    "duration": 1300,
    "start_time": "2024-02-22T14:36:37.229Z"
   },
   {
    "duration": 5,
    "start_time": "2024-02-22T14:36:38.532Z"
   },
   {
    "duration": 316,
    "start_time": "2024-02-22T14:36:38.539Z"
   },
   {
    "duration": 226,
    "start_time": "2024-02-22T14:36:38.857Z"
   },
   {
    "duration": 5,
    "start_time": "2024-02-22T14:36:39.085Z"
   },
   {
    "duration": 17,
    "start_time": "2024-02-22T14:36:39.091Z"
   },
   {
    "duration": 13,
    "start_time": "2024-02-22T14:36:39.110Z"
   },
   {
    "duration": 222,
    "start_time": "2024-02-22T14:36:39.125Z"
   },
   {
    "duration": 17,
    "start_time": "2024-02-22T14:36:39.348Z"
   },
   {
    "duration": 15,
    "start_time": "2024-02-22T14:36:39.367Z"
   },
   {
    "duration": 37,
    "start_time": "2024-02-22T14:36:39.384Z"
   },
   {
    "duration": 233,
    "start_time": "2024-02-22T14:36:39.422Z"
   },
   {
    "duration": 258,
    "start_time": "2024-02-22T14:36:39.656Z"
   },
   {
    "duration": 236,
    "start_time": "2024-02-22T14:36:39.916Z"
   },
   {
    "duration": 248,
    "start_time": "2024-02-22T14:36:40.153Z"
   },
   {
    "duration": 187,
    "start_time": "2024-02-22T14:36:40.403Z"
   },
   {
    "duration": 162,
    "start_time": "2024-02-22T14:36:40.593Z"
   },
   {
    "duration": 4,
    "start_time": "2024-02-22T14:36:40.757Z"
   },
   {
    "duration": 11,
    "start_time": "2024-02-22T14:36:40.762Z"
   },
   {
    "duration": 9,
    "start_time": "2024-02-22T14:36:40.774Z"
   },
   {
    "duration": 8,
    "start_time": "2024-02-22T14:44:16.175Z"
   },
   {
    "duration": 194,
    "start_time": "2024-02-22T15:10:58.154Z"
   },
   {
    "duration": 275,
    "start_time": "2024-02-22T15:11:28.059Z"
   },
   {
    "duration": 274,
    "start_time": "2024-02-22T15:12:22.292Z"
   },
   {
    "duration": 261,
    "start_time": "2024-02-22T15:12:33.146Z"
   },
   {
    "duration": 262,
    "start_time": "2024-02-22T15:16:57.065Z"
   },
   {
    "duration": 176,
    "start_time": "2024-02-22T15:29:50.606Z"
   },
   {
    "duration": 1117,
    "start_time": "2024-02-22T15:34:39.300Z"
   },
   {
    "duration": 54,
    "start_time": "2024-02-22T15:34:40.419Z"
   },
   {
    "duration": 18,
    "start_time": "2024-02-22T15:34:40.474Z"
   },
   {
    "duration": 19,
    "start_time": "2024-02-22T15:34:40.494Z"
   },
   {
    "duration": 11,
    "start_time": "2024-02-22T15:34:40.515Z"
   },
   {
    "duration": 16,
    "start_time": "2024-02-22T15:34:40.527Z"
   },
   {
    "duration": 7,
    "start_time": "2024-02-22T15:34:40.545Z"
   },
   {
    "duration": 8,
    "start_time": "2024-02-22T15:34:40.554Z"
   },
   {
    "duration": 4,
    "start_time": "2024-02-22T15:34:40.563Z"
   },
   {
    "duration": 12,
    "start_time": "2024-02-22T15:34:40.569Z"
   },
   {
    "duration": 33,
    "start_time": "2024-02-22T15:34:40.582Z"
   },
   {
    "duration": 8,
    "start_time": "2024-02-22T15:34:40.616Z"
   },
   {
    "duration": 18,
    "start_time": "2024-02-22T15:34:40.625Z"
   },
   {
    "duration": 27,
    "start_time": "2024-02-22T15:34:40.644Z"
   },
   {
    "duration": 17,
    "start_time": "2024-02-22T15:34:40.673Z"
   },
   {
    "duration": 8,
    "start_time": "2024-02-22T15:34:40.692Z"
   },
   {
    "duration": 4,
    "start_time": "2024-02-22T15:34:40.702Z"
   },
   {
    "duration": 301,
    "start_time": "2024-02-22T15:34:40.707Z"
   },
   {
    "duration": 14,
    "start_time": "2024-02-22T15:34:41.014Z"
   },
   {
    "duration": 13,
    "start_time": "2024-02-22T15:34:41.030Z"
   },
   {
    "duration": 22,
    "start_time": "2024-02-22T15:34:41.045Z"
   },
   {
    "duration": 14,
    "start_time": "2024-02-22T15:34:41.068Z"
   },
   {
    "duration": 33,
    "start_time": "2024-02-22T15:34:41.083Z"
   },
   {
    "duration": 15,
    "start_time": "2024-02-22T15:34:41.117Z"
   },
   {
    "duration": 19,
    "start_time": "2024-02-22T15:34:41.134Z"
   },
   {
    "duration": 201,
    "start_time": "2024-02-22T15:34:41.154Z"
   },
   {
    "duration": 181,
    "start_time": "2024-02-22T15:34:41.356Z"
   },
   {
    "duration": 5,
    "start_time": "2024-02-22T15:34:41.540Z"
   },
   {
    "duration": 185,
    "start_time": "2024-02-22T15:34:41.546Z"
   },
   {
    "duration": 180,
    "start_time": "2024-02-22T15:34:41.732Z"
   },
   {
    "duration": 6,
    "start_time": "2024-02-22T15:34:41.914Z"
   },
   {
    "duration": 8,
    "start_time": "2024-02-22T15:34:41.921Z"
   },
   {
    "duration": 18,
    "start_time": "2024-02-22T15:34:41.930Z"
   },
   {
    "duration": 244,
    "start_time": "2024-02-22T15:34:41.951Z"
   },
   {
    "duration": 26,
    "start_time": "2024-02-22T15:34:42.197Z"
   },
   {
    "duration": 49,
    "start_time": "2024-02-22T15:34:42.224Z"
   },
   {
    "duration": 34,
    "start_time": "2024-02-22T15:34:42.274Z"
   },
   {
    "duration": 232,
    "start_time": "2024-02-22T15:34:42.309Z"
   },
   {
    "duration": 240,
    "start_time": "2024-02-22T15:34:42.543Z"
   },
   {
    "duration": 327,
    "start_time": "2024-02-22T15:34:42.785Z"
   },
   {
    "duration": 189,
    "start_time": "2024-02-22T15:34:43.115Z"
   },
   {
    "duration": 200,
    "start_time": "2024-02-22T15:34:43.306Z"
   },
   {
    "duration": 159,
    "start_time": "2024-02-22T15:34:43.507Z"
   },
   {
    "duration": 4,
    "start_time": "2024-02-22T15:34:43.667Z"
   },
   {
    "duration": 28,
    "start_time": "2024-02-22T15:34:43.673Z"
   },
   {
    "duration": 29,
    "start_time": "2024-02-22T15:34:43.702Z"
   },
   {
    "duration": 1073,
    "start_time": "2024-02-22T15:48:35.644Z"
   },
   {
    "duration": 54,
    "start_time": "2024-02-22T15:48:36.718Z"
   },
   {
    "duration": 16,
    "start_time": "2024-02-22T15:48:36.773Z"
   },
   {
    "duration": 14,
    "start_time": "2024-02-22T15:48:36.792Z"
   },
   {
    "duration": 13,
    "start_time": "2024-02-22T15:48:36.807Z"
   },
   {
    "duration": 16,
    "start_time": "2024-02-22T15:48:36.821Z"
   },
   {
    "duration": 8,
    "start_time": "2024-02-22T15:48:36.839Z"
   },
   {
    "duration": 8,
    "start_time": "2024-02-22T15:48:36.848Z"
   },
   {
    "duration": 3,
    "start_time": "2024-02-22T15:48:36.858Z"
   },
   {
    "duration": 9,
    "start_time": "2024-02-22T15:48:36.863Z"
   },
   {
    "duration": 6,
    "start_time": "2024-02-22T15:48:36.873Z"
   },
   {
    "duration": 38,
    "start_time": "2024-02-22T15:48:36.880Z"
   },
   {
    "duration": 5,
    "start_time": "2024-02-22T15:48:36.920Z"
   },
   {
    "duration": 8,
    "start_time": "2024-02-22T15:48:36.927Z"
   },
   {
    "duration": 15,
    "start_time": "2024-02-22T15:48:36.936Z"
   },
   {
    "duration": 9,
    "start_time": "2024-02-22T15:48:36.952Z"
   },
   {
    "duration": 26,
    "start_time": "2024-02-22T15:48:36.962Z"
   },
   {
    "duration": 289,
    "start_time": "2024-02-22T15:48:36.990Z"
   },
   {
    "duration": 15,
    "start_time": "2024-02-22T15:48:37.281Z"
   },
   {
    "duration": 25,
    "start_time": "2024-02-22T15:48:37.297Z"
   },
   {
    "duration": 13,
    "start_time": "2024-02-22T15:48:37.324Z"
   },
   {
    "duration": 13,
    "start_time": "2024-02-22T15:48:37.339Z"
   },
   {
    "duration": 13,
    "start_time": "2024-02-22T15:48:37.353Z"
   },
   {
    "duration": 13,
    "start_time": "2024-02-22T15:48:37.367Z"
   },
   {
    "duration": 19,
    "start_time": "2024-02-22T15:48:37.414Z"
   },
   {
    "duration": 191,
    "start_time": "2024-02-22T15:48:37.434Z"
   },
   {
    "duration": 186,
    "start_time": "2024-02-22T15:48:37.626Z"
   },
   {
    "duration": 5,
    "start_time": "2024-02-22T15:48:37.815Z"
   },
   {
    "duration": 171,
    "start_time": "2024-02-22T15:48:37.822Z"
   },
   {
    "duration": 225,
    "start_time": "2024-02-22T15:48:37.995Z"
   },
   {
    "duration": 7,
    "start_time": "2024-02-22T15:48:38.222Z"
   },
   {
    "duration": 14,
    "start_time": "2024-02-22T15:48:38.231Z"
   },
   {
    "duration": 13,
    "start_time": "2024-02-22T15:48:38.247Z"
   },
   {
    "duration": 262,
    "start_time": "2024-02-22T15:48:38.262Z"
   },
   {
    "duration": 16,
    "start_time": "2024-02-22T15:48:38.526Z"
   },
   {
    "duration": 18,
    "start_time": "2024-02-22T15:48:38.544Z"
   },
   {
    "duration": 35,
    "start_time": "2024-02-22T15:48:38.563Z"
   },
   {
    "duration": 218,
    "start_time": "2024-02-22T15:48:38.599Z"
   },
   {
    "duration": 249,
    "start_time": "2024-02-22T15:48:38.819Z"
   },
   {
    "duration": 308,
    "start_time": "2024-02-22T15:48:39.070Z"
   },
   {
    "duration": 184,
    "start_time": "2024-02-22T15:48:39.379Z"
   },
   {
    "duration": 189,
    "start_time": "2024-02-22T15:48:39.564Z"
   },
   {
    "duration": 168,
    "start_time": "2024-02-22T15:48:39.755Z"
   },
   {
    "duration": 4,
    "start_time": "2024-02-22T15:48:39.925Z"
   },
   {
    "duration": 9,
    "start_time": "2024-02-22T15:48:39.930Z"
   },
   {
    "duration": 8,
    "start_time": "2024-02-22T15:48:39.940Z"
   }
  ],
  "kernelspec": {
   "display_name": "Python 3 (ipykernel)",
   "language": "python",
   "name": "python3"
  },
  "language_info": {
   "codemirror_mode": {
    "name": "ipython",
    "version": 3
   },
   "file_extension": ".py",
   "mimetype": "text/x-python",
   "name": "python",
   "nbconvert_exporter": "python",
   "pygments_lexer": "ipython3",
   "version": "3.9.5"
  },
  "toc": {
   "base_numbering": 1,
   "nav_menu": {},
   "number_sections": true,
   "sideBar": true,
   "skip_h1_title": true,
   "title_cell": "Table of Contents",
   "title_sidebar": "Contents",
   "toc_cell": false,
   "toc_position": {
    "height": "calc(100% - 180px)",
    "left": "10px",
    "top": "150px",
    "width": "165px"
   },
   "toc_section_display": true,
   "toc_window_display": true
  }
 },
 "nbformat": 4,
 "nbformat_minor": 2
}
